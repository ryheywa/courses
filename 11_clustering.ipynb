{
  "nbformat": 4,
  "nbformat_minor": 0,
  "metadata": {
    "colab": {
      "name": "11_clustering.ipynb",
      "provenance": [],
      "collapsed_sections": [],
      "authorship_tag": "ABX9TyOHLMGY0bf0NNsNAyaE2+6s",
      "include_colab_link": true
    },
    "kernelspec": {
      "name": "python3",
      "display_name": "Python 3"
    }
  },
  "cells": [
    {
      "cell_type": "markdown",
      "metadata": {
        "id": "view-in-github",
        "colab_type": "text"
      },
      "source": [
        "<a href=\"https://colab.research.google.com/github/tomonari-masada/courses/blob/master/11_clustering.ipynb\" target=\"_parent\"><img src=\"https://colab.research.google.com/assets/colab-badge.svg\" alt=\"Open In Colab\"/></a>"
      ]
    },
    {
      "cell_type": "markdown",
      "metadata": {
        "id": "dhzrBYzaPTv1",
        "colab_type": "text"
      },
      "source": [
        "# word2vecを使って日本語の単語ベクトルをクラスタリングする\n",
        "\n",
        "\n",
        "* 使用するデータは下記の場所にあるもの\n",
        "\n",
        "https://github.com/shiroyagicorp/japanese-word2vec-model-builder\n",
        "\n",
        "  * word2vecの技術を使って、日本語の単語が50次元のベクトルで表現されている。\n",
        "\n",
        " \n",
        "  * 今回はこの単語ベクトルをクラスタリングして、意味の近い単語が同じクラスタに属しているかをチェックする。"
      ]
    },
    {
      "cell_type": "markdown",
      "metadata": {
        "id": "QXcnxM2sPzZB",
        "colab_type": "text"
      },
      "source": [
        "### 1) wgetコマンドでダウンロードし、unzipで解凍する"
      ]
    },
    {
      "cell_type": "code",
      "metadata": {
        "id": "C9PMQrmsKEi7",
        "colab_type": "code",
        "colab": {
          "base_uri": "https://localhost:8080/",
          "height": 222
        },
        "outputId": "de909171-ae17-48af-f00b-273319ec591b"
      },
      "source": [
        "!wget http://public.shiroyagi.s3.amazonaws.com/latest-ja-word2vec-gensim-model.zip"
      ],
      "execution_count": 1,
      "outputs": [
        {
          "output_type": "stream",
          "text": [
            "--2020-06-24 08:05:21--  http://public.shiroyagi.s3.amazonaws.com/latest-ja-word2vec-gensim-model.zip\n",
            "Resolving public.shiroyagi.s3.amazonaws.com (public.shiroyagi.s3.amazonaws.com)... 52.219.4.81\n",
            "Connecting to public.shiroyagi.s3.amazonaws.com (public.shiroyagi.s3.amazonaws.com)|52.219.4.81|:80... connected.\n",
            "HTTP request sent, awaiting response... 200 OK\n",
            "Length: 132936751 (127M) [application/zip]\n",
            "Saving to: ‘latest-ja-word2vec-gensim-model.zip.1’\n",
            "\n",
            "latest-ja-word2vec- 100%[===================>] 126.78M  14.9MB/s    in 9.6s    \n",
            "\n",
            "2020-06-24 08:05:31 (13.2 MB/s) - ‘latest-ja-word2vec-gensim-model.zip.1’ saved [132936751/132936751]\n",
            "\n"
          ],
          "name": "stdout"
        }
      ]
    },
    {
      "cell_type": "code",
      "metadata": {
        "id": "TdWbOwZ0KLwQ",
        "colab_type": "code",
        "colab": {
          "base_uri": "https://localhost:8080/",
          "height": 134
        },
        "outputId": "bc09bc9d-4c7e-4402-dab3-b8200d1253ea"
      },
      "source": [
        "! unzip latest-ja-word2vec-gensim-model.zip"
      ],
      "execution_count": 2,
      "outputs": [
        {
          "output_type": "stream",
          "text": [
            "Archive:  latest-ja-word2vec-gensim-model.zip\n",
            "replace word2vec.gensim.model? [y]es, [n]o, [A]ll, [N]one, [r]ename: y\n",
            "  inflating: word2vec.gensim.model   \n",
            "replace word2vec.gensim.model.syn1neg.npy? [y]es, [n]o, [A]ll, [N]one, [r]ename: y\n",
            "  inflating: word2vec.gensim.model.syn1neg.npy  \n",
            "replace word2vec.gensim.model.wv.syn0.npy? [y]es, [n]o, [A]ll, [N]one, [r]ename: y\n",
            "  inflating: word2vec.gensim.model.wv.syn0.npy  \n"
          ],
          "name": "stdout"
        }
      ]
    },
    {
      "cell_type": "markdown",
      "metadata": {
        "id": "i7DmmXlGP62K",
        "colab_type": "text"
      },
      "source": [
        "### 2) ライブラリgensimを使ってデータを読み込む"
      ]
    },
    {
      "cell_type": "code",
      "metadata": {
        "id": "SBkJJtuHKXib",
        "colab_type": "code",
        "colab": {
          "base_uri": "https://localhost:8080/",
          "height": 70
        },
        "outputId": "53d76b89-6f1d-44e4-9db0-58f167b30acd"
      },
      "source": [
        "from gensim.models.word2vec import Word2Vec\n",
        "\n",
        "model_path = 'word2vec.gensim.model'\n",
        "model = Word2Vec.load(model_path)"
      ],
      "execution_count": 3,
      "outputs": [
        {
          "output_type": "stream",
          "text": [
            "/usr/local/lib/python3.6/dist-packages/smart_open/smart_open_lib.py:253: UserWarning: This function is deprecated, use smart_open.open instead. See the migration notes for details: https://github.com/RaRe-Technologies/smart_open/blob/master/README.rst#migrating-to-the-new-open-function\n",
            "  'See the migration notes for details: %s' % _MIGRATION_NOTES_URL\n"
          ],
          "name": "stderr"
        }
      ]
    },
    {
      "cell_type": "code",
      "metadata": {
        "id": "uPXj_9TBKi25",
        "colab_type": "code",
        "colab": {
          "base_uri": "https://localhost:8080/",
          "height": 34
        },
        "outputId": "3142feb7-614f-474e-c773-fd784a280650"
      },
      "source": [
        "model.vector_size"
      ],
      "execution_count": 4,
      "outputs": [
        {
          "output_type": "execute_result",
          "data": {
            "text/plain": [
              "50"
            ]
          },
          "metadata": {
            "tags": []
          },
          "execution_count": 4
        }
      ]
    },
    {
      "cell_type": "code",
      "metadata": {
        "id": "k-QWGhKlKkfO",
        "colab_type": "code",
        "colab": {}
      },
      "source": [
        "wv = model.wv"
      ],
      "execution_count": 5,
      "outputs": []
    },
    {
      "cell_type": "code",
      "metadata": {
        "id": "xkWjpO5BKyBC",
        "colab_type": "code",
        "colab": {}
      },
      "source": [
        "words = list()\n",
        "vectors = list()\n",
        "for word in wv.vocab:\n",
        "  words.append(word)\n",
        "  vectors.append(wv.word_vec(word))"
      ],
      "execution_count": 6,
      "outputs": []
    },
    {
      "cell_type": "code",
      "metadata": {
        "id": "AqlIpxN8LiV8",
        "colab_type": "code",
        "colab": {
          "base_uri": "https://localhost:8080/",
          "height": 34
        },
        "outputId": "e14af842-2563-4082-a71a-22aa7e8c10bc"
      },
      "source": [
        "len(words)"
      ],
      "execution_count": 7,
      "outputs": [
        {
          "output_type": "execute_result",
          "data": {
            "text/plain": [
              "335476"
            ]
          },
          "metadata": {
            "tags": []
          },
          "execution_count": 7
        }
      ]
    },
    {
      "cell_type": "code",
      "metadata": {
        "id": "wv_ccTtLOBQW",
        "colab_type": "code",
        "colab": {
          "base_uri": "https://localhost:8080/",
          "height": 202
        },
        "outputId": "5b8f36c7-db5e-4eb8-a412-af1940e2ecee"
      },
      "source": [
        "vectors[0]"
      ],
      "execution_count": 8,
      "outputs": [
        {
          "output_type": "execute_result",
          "data": {
            "text/plain": [
              "array([-0.16400108, -0.17862815,  0.0580783 , -0.24007608,  0.17230852,\n",
              "       -0.07751795, -0.11018773, -0.08525417, -0.01558867, -0.14766072,\n",
              "       -0.00633486, -0.01630188,  0.00647159, -0.17860252, -0.01816674,\n",
              "       -0.05038163,  0.08417128,  0.04350499, -0.19731551, -0.09599385,\n",
              "        0.2745512 , -0.22891845,  0.142788  , -0.08023094, -0.23000377,\n",
              "        0.00842183,  0.15071994,  0.25936294,  0.10318379,  0.17875645,\n",
              "       -0.31201744, -0.03366571, -0.08143289,  0.02155716, -0.02921231,\n",
              "        0.0362477 , -0.18767731, -0.10514667, -0.012625  , -0.03388035,\n",
              "        0.10886643, -0.1074557 , -0.03668041, -0.03183161, -0.14188181,\n",
              "       -0.27481845, -0.12782158, -0.02111848, -0.14041357,  0.23952545],\n",
              "      dtype=float32)"
            ]
          },
          "metadata": {
            "tags": []
          },
          "execution_count": 8
        }
      ]
    },
    {
      "cell_type": "markdown",
      "metadata": {
        "id": "XbEQDE39QC7E",
        "colab_type": "text"
      },
      "source": [
        "### 3) NumPyの配列に変換する\n",
        "\n",
        "* 試みに、「日本」という単語に最も近い10個の単語を表示させてみる。"
      ]
    },
    {
      "cell_type": "code",
      "metadata": {
        "id": "Hp313-J_LuQy",
        "colab_type": "code",
        "colab": {}
      },
      "source": [
        "import numpy as np\n",
        "\n",
        "words = np.array(words)\n",
        "vectors = np.array(vectors)"
      ],
      "execution_count": 9,
      "outputs": []
    },
    {
      "cell_type": "code",
      "metadata": {
        "id": "fS19pj1UM5_V",
        "colab_type": "code",
        "colab": {
          "base_uri": "https://localhost:8080/",
          "height": 34
        },
        "outputId": "1c7d27d4-ecd0-4d37-d310-1b9b80437241"
      },
      "source": [
        "print(words)"
      ],
      "execution_count": 10,
      "outputs": [
        {
          "output_type": "stream",
          "text": [
            "['『' 'GO' '!' ... 'スケクシス' 'ｼﾞﾑ' 'パヴリチェンコ']\n"
          ],
          "name": "stdout"
        }
      ]
    },
    {
      "cell_type": "code",
      "metadata": {
        "id": "msZAgGJPOQLb",
        "colab_type": "code",
        "colab": {
          "base_uri": "https://localhost:8080/",
          "height": 235
        },
        "outputId": "b9aa5ac5-6aeb-4a0d-de13-4cc036d5aa15"
      },
      "source": [
        "print(vectors)"
      ],
      "execution_count": 11,
      "outputs": [
        {
          "output_type": "stream",
          "text": [
            "[[-0.16400108 -0.17862815  0.0580783  ... -0.02111848 -0.14041357\n",
            "   0.23952545]\n",
            " [ 0.01737987 -0.32058007 -0.23378702 ...  0.13550399  0.0736375\n",
            "  -0.14032933]\n",
            " [ 0.08531253 -0.31538385 -0.09230007 ...  0.17875628  0.11313058\n",
            "  -0.24140361]\n",
            " ...\n",
            " [ 0.00092179 -0.07699777  0.14290373 ...  0.09500334 -0.06761228\n",
            "   0.24790283]\n",
            " [ 0.04340099 -0.0260367   0.09188872 ...  0.16940522  0.00322533\n",
            "  -0.20196445]\n",
            " [ 0.07351335  0.15455413  0.08450193 ... -0.26947773  0.04289696\n",
            "  -0.09446784]]\n"
          ],
          "name": "stdout"
        }
      ]
    },
    {
      "cell_type": "code",
      "metadata": {
        "id": "eYp7lItAM7b5",
        "colab_type": "code",
        "colab": {
          "base_uri": "https://localhost:8080/",
          "height": 168
        },
        "outputId": "d26978e2-7502-4b07-a7a9-c0f7c33c28cb"
      },
      "source": [
        "vec_jpn = np.array(wv.word_vec('日本'))\n",
        "print(vec_jpn)"
      ],
      "execution_count": 12,
      "outputs": [
        {
          "output_type": "stream",
          "text": [
            "[-0.08019581 -0.10632093  0.14115061  0.08310905 -0.00913872  0.04414612\n",
            " -0.11600631 -0.35167393  0.04924094  0.07659911  0.07906264  0.02693196\n",
            "  0.03977293  0.19168071 -0.16376053 -0.01040754 -0.13442372  0.20567688\n",
            " -0.04850557 -0.22208223  0.03354846 -0.18884456 -0.00623878 -0.12064678\n",
            " -0.01325125  0.02779626  0.02936541  0.06843039  0.11489733  0.07094222\n",
            "  0.14459857 -0.12487161  0.03558656  0.41905314 -0.15021588 -0.12890314\n",
            "  0.04594489 -0.28921965  0.15588439 -0.01789199 -0.2866291  -0.1415011\n",
            "  0.057166   -0.19496612  0.09121747  0.01317389 -0.0359673   0.16124834\n",
            " -0.03846167 -0.06273678]\n"
          ],
          "name": "stdout"
        }
      ]
    },
    {
      "cell_type": "code",
      "metadata": {
        "id": "2uaMKUlANufb",
        "colab_type": "code",
        "colab": {}
      },
      "source": [
        "indices = np.argsort(np.linalg.norm(vectors - vec_jpn, axis=1))"
      ],
      "execution_count": 13,
      "outputs": []
    },
    {
      "cell_type": "code",
      "metadata": {
        "id": "FgUfoA7wN5hq",
        "colab_type": "code",
        "colab": {
          "base_uri": "https://localhost:8080/",
          "height": 50
        },
        "outputId": "400ba6c8-d3ec-44e2-a17e-3101a65d7418"
      },
      "source": [
        "words[indices[1:11]]"
      ],
      "execution_count": 14,
      "outputs": [
        {
          "output_type": "execute_result",
          "data": {
            "text/plain": [
              "array(['韓国', '台湾', '日本国内', '欧米', '日本国外', '台湾出身', '中華圏', '日本の経済', '日本の歴史',\n",
              "       '韓国国内'], dtype='<U42')"
            ]
          },
          "metadata": {
            "tags": []
          },
          "execution_count": 14
        }
      ]
    },
    {
      "cell_type": "markdown",
      "metadata": {
        "id": "-o2yZ06-QQN4",
        "colab_type": "text"
      },
      "source": [
        "### 4) k-meansで単語ベクトルをクラスタリングする\n",
        "\n",
        "* かなり時間がかかるので、待つ。\n",
        "* 得られたクラスタの重心はCSVファイルとして念のため保存しておく。"
      ]
    },
    {
      "cell_type": "code",
      "metadata": {
        "id": "zyXb2eRFOo3i",
        "colab_type": "code",
        "colab": {
          "base_uri": "https://localhost:8080/",
          "height": 67
        },
        "outputId": "5d2c2b7c-f005-4fdc-d574-0cb9f3d7e4c5"
      },
      "source": [
        "from sklearn.cluster import KMeans\n",
        "\n",
        "kmeans = KMeans(n_clusters=100, random_state=123)\n",
        "kmeans.fit(vectors)"
      ],
      "execution_count": 15,
      "outputs": [
        {
          "output_type": "execute_result",
          "data": {
            "text/plain": [
              "KMeans(algorithm='auto', copy_x=True, init='k-means++', max_iter=300,\n",
              "       n_clusters=100, n_init=10, n_jobs=None, precompute_distances='auto',\n",
              "       random_state=123, tol=0.0001, verbose=0)"
            ]
          },
          "metadata": {
            "tags": []
          },
          "execution_count": 15
        }
      ]
    },
    {
      "cell_type": "code",
      "metadata": {
        "id": "9AzNSATqPBIz",
        "colab_type": "code",
        "colab": {}
      },
      "source": [
        "np.savetxt('cluster_centers_100.csv', kmeans.cluster_centers_, delimiter=',')"
      ],
      "execution_count": 16,
      "outputs": []
    },
    {
      "cell_type": "code",
      "metadata": {
        "id": "FKZu_PGxVHeW",
        "colab_type": "code",
        "colab": {}
      },
      "source": [
        "# クラスタの重心をファイルから読み込むときは以下をコメントアウトし、centersという配列を使う。\n",
        "# centers = np.loadtext('cluster_centers_100.csv', delimiter=',')"
      ],
      "execution_count": 17,
      "outputs": []
    },
    {
      "cell_type": "code",
      "metadata": {
        "id": "819Ne08pUk5C",
        "colab_type": "code",
        "colab": {
          "base_uri": "https://localhost:8080/",
          "height": 50
        },
        "outputId": "8a64192a-0f6a-44f6-cd88-92977a60a6c7"
      },
      "source": [
        "center = kmeans.cluster_centers_[10]\n",
        "indices = np.argsort(np.linalg.norm(vectors - center, axis=1))\n",
        "words[indices[:10]]"
      ],
      "execution_count": 18,
      "outputs": [
        {
          "output_type": "execute_result",
          "data": {
            "text/plain": [
              "array(['コムネノス', 'ジギスムント', 'アフォンソ', 'ナポリ王国', 'ロレーヌ公国', 'シャープール', 'アルギルダス',\n",
              "       'テオドロス2世', 'カスティーリャ王', 'フランドル伯'], dtype='<U42')"
            ]
          },
          "metadata": {
            "tags": []
          },
          "execution_count": 18
        }
      ]
    },
    {
      "cell_type": "code",
      "metadata": {
        "id": "fyNS05uVU1XZ",
        "colab_type": "code",
        "colab": {}
      },
      "source": [
        ""
      ],
      "execution_count": 18,
      "outputs": []
    },
    {
      "cell_type": "markdown",
      "metadata": {
        "id": "XoZMOTBGWQP2",
        "colab_type": "text"
      },
      "source": [
        "# 課題11\n",
        "\n",
        "* k-means法で単語ベクトルをクラスタリングする。\n",
        "* いくつかのクラスタについて、クラスタの重心に近い単語どうしの意味が似ているかどうか、チェックする。\n",
        "* いくつかのクラスタについて、クラスタの重心から遠い単語がどのような単語になっているかをチェックする。\n",
        "* 極端にサイズの大きなクラスタや、逆に、極端にサイズの小さなクラスタができていないか、チェックする。そして、そういった極端なサイズのクラスタに属する単語がどのようになっているかを調べる。\n",
        "* k-means法以外のクラスタリング手法でも、同じような調査をおこなってみる。\n"
      ]
    }
  ]
}