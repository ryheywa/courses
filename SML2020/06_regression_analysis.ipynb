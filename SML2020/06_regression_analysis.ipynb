{
  "nbformat": 4,
  "nbformat_minor": 0,
  "metadata": {
    "kernelspec": {
      "name": "python3",
      "display_name": "Python 3"
    },
    "colab": {
      "name": "06_regression_analysis.ipynb",
      "provenance": [],
      "collapsed_sections": [],
      "include_colab_link": true
    }
  },
  "cells": [
    {
      "cell_type": "markdown",
      "metadata": {
        "id": "view-in-github",
        "colab_type": "text"
      },
      "source": [
        "<a href=\"https://colab.research.google.com/github/tomonari-masada/courses/blob/master/SML2020/06_regression_analysis.ipynb\" target=\"_parent\"><img src=\"https://colab.research.google.com/assets/colab-badge.svg\" alt=\"Open In Colab\"/></a>"
      ]
    },
    {
      "cell_type": "markdown",
      "metadata": {
        "id": "xAZtqbYidcwS",
        "colab_type": "text"
      },
      "source": [
        "# 実データの単回帰分析\n",
        "\n",
        "## description vs prediction \n",
        "\n",
        "今回は、単回帰をpredictionにではなくdescriptionに使う。\n",
        "\n",
        "* description＝与えられたデータを理解する\n",
        "\n",
        "* prediction＝未知の入力について出力を求めたい（機械学習の主戦場）\n",
        "\n",
        "* explanation＝因果関係の理解まで含む\n",
        "\n",
        "https://www.slideshare.net/gshmueli/to-explain-to-predict-or-to-describe\n"
      ]
    },
    {
      "cell_type": "markdown",
      "metadata": {
        "id": "MOFTt8Bde5CG",
        "colab_type": "text"
      },
      "source": [
        "# 今回参考にした本\n",
        "\n",
        "Laura Igual, Santi Seguí.<br/>\n",
        "Introduction to Data Science: A Python Approach to Concepts, Techniques and Applications. Springer. 2017.\n",
        "\n",
        "https://link.springer.com/book/10.1007%2F978-3-319-50017-1"
      ]
    },
    {
      "cell_type": "markdown",
      "metadata": {
        "id": "CpsF79N_dcwT",
        "colab_type": "text"
      },
      "source": [
        "# 海氷域面積と気候変動\n",
        "北半球と南半球の海氷域面積を分析し、面積が減少傾向にあるのかどうかを調べてみる。（上の本の6.2.1節より。）\n",
        "\n",
        "データは、下記の場所から取得。\n",
        "\n",
        "https://nsidc.org/data/seaice_index/archives\n",
        "\n",
        "\n",
        "「data」タブをクリックし、以下の2つのファイルをダウンロードしておく。\n",
        "*   [北極域の海氷域面積データ](ftp://sidads.colorado.edu/DATASETS/NOAA/G02135/north/daily/data/N_seaice_extent_daily_v3.0.csv)\n",
        "*   [南極域の海氷域面積データ](ftp://sidads.colorado.edu/DATASETS/NOAA/G02135/south/daily/data/S_seaice_extent_daily_v3.0.csv)\n",
        "\n",
        "<br/>\n",
        "参考：半旬ごとにまとめたデータなら、気象庁の下記のページにある。\n",
        "\n",
        "https://www.data.jma.go.jp/gmd/kaiyou/db/seaice/global/globe_area.html\n"
      ]
    },
    {
      "cell_type": "markdown",
      "metadata": {
        "id": "Wq1oKTGSqdje",
        "colab_type": "text"
      },
      "source": [
        "### 1) データファイルを読み込んで前処理をする"
      ]
    },
    {
      "cell_type": "code",
      "metadata": {
        "id": "EHET3FOhrgGu",
        "colab_type": "code",
        "colab": {}
      },
      "source": [
        "import pandas as pd"
      ],
      "execution_count": 0,
      "outputs": []
    },
    {
      "cell_type": "code",
      "metadata": {
        "scrolled": false,
        "id": "U-NuVczedcwm",
        "colab_type": "code",
        "outputId": "bc589732-9fea-4cbf-d26e-658f17be355a",
        "colab": {
          "base_uri": "https://localhost:8080/",
          "height": 229
        }
      },
      "source": [
        "# 北半球のデータを扱う（南半球のデータは自習）\n",
        "n_ice = pd.read_csv('S_seaice_extent_daily_v3.0.csv')\n",
        "print('shape:', n_ice.shape)\n",
        "n_ice.head() "
      ],
      "execution_count": 0,
      "outputs": [
        {
          "output_type": "stream",
          "text": [
            "shape: (13491, 6)\n"
          ],
          "name": "stdout"
        },
        {
          "output_type": "execute_result",
          "data": {
            "text/html": [
              "<div>\n",
              "<style scoped>\n",
              "    .dataframe tbody tr th:only-of-type {\n",
              "        vertical-align: middle;\n",
              "    }\n",
              "\n",
              "    .dataframe tbody tr th {\n",
              "        vertical-align: top;\n",
              "    }\n",
              "\n",
              "    .dataframe thead th {\n",
              "        text-align: right;\n",
              "    }\n",
              "</style>\n",
              "<table border=\"1\" class=\"dataframe\">\n",
              "  <thead>\n",
              "    <tr style=\"text-align: right;\">\n",
              "      <th></th>\n",
              "      <th>Year</th>\n",
              "      <th>Month</th>\n",
              "      <th>Day</th>\n",
              "      <th>Extent</th>\n",
              "      <th>Missing</th>\n",
              "      <th>Source Data</th>\n",
              "    </tr>\n",
              "  </thead>\n",
              "  <tbody>\n",
              "    <tr>\n",
              "      <th>0</th>\n",
              "      <td>YYYY</td>\n",
              "      <td>MM</td>\n",
              "      <td>DD</td>\n",
              "      <td>10^6 sq km</td>\n",
              "      <td>10^6 sq km</td>\n",
              "      <td>Source data product web sites: http://nsidc.o...</td>\n",
              "    </tr>\n",
              "    <tr>\n",
              "      <th>1</th>\n",
              "      <td>1978</td>\n",
              "      <td>10</td>\n",
              "      <td>26</td>\n",
              "      <td>17.624</td>\n",
              "      <td>0.000</td>\n",
              "      <td>['ftp://sidads.colorado.edu/pub/DATASETS/nsid...</td>\n",
              "    </tr>\n",
              "    <tr>\n",
              "      <th>2</th>\n",
              "      <td>1978</td>\n",
              "      <td>10</td>\n",
              "      <td>28</td>\n",
              "      <td>17.803</td>\n",
              "      <td>0.000</td>\n",
              "      <td>['ftp://sidads.colorado.edu/pub/DATASETS/nsid...</td>\n",
              "    </tr>\n",
              "    <tr>\n",
              "      <th>3</th>\n",
              "      <td>1978</td>\n",
              "      <td>10</td>\n",
              "      <td>30</td>\n",
              "      <td>17.670</td>\n",
              "      <td>0.000</td>\n",
              "      <td>['ftp://sidads.colorado.edu/pub/DATASETS/nsid...</td>\n",
              "    </tr>\n",
              "    <tr>\n",
              "      <th>4</th>\n",
              "      <td>1978</td>\n",
              "      <td>11</td>\n",
              "      <td>01</td>\n",
              "      <td>17.527</td>\n",
              "      <td>0.000</td>\n",
              "      <td>['ftp://sidads.colorado.edu/pub/DATASETS/nsid...</td>\n",
              "    </tr>\n",
              "  </tbody>\n",
              "</table>\n",
              "</div>"
            ],
            "text/plain": [
              "   Year   Month  ...      Missing                                        Source Data\n",
              "0  YYYY      MM  ...   10^6 sq km   Source data product web sites: http://nsidc.o...\n",
              "1  1978      10  ...        0.000   ['ftp://sidads.colorado.edu/pub/DATASETS/nsid...\n",
              "2  1978      10  ...        0.000   ['ftp://sidads.colorado.edu/pub/DATASETS/nsid...\n",
              "3  1978      10  ...        0.000   ['ftp://sidads.colorado.edu/pub/DATASETS/nsid...\n",
              "4  1978      11  ...        0.000   ['ftp://sidads.colorado.edu/pub/DATASETS/nsid...\n",
              "\n",
              "[5 rows x 6 columns]"
            ]
          },
          "metadata": {
            "tags": []
          },
          "execution_count": 2
        }
      ]
    },
    {
      "cell_type": "markdown",
      "metadata": {
        "id": "xpoz6-ZuUF5E",
        "colab_type": "text"
      },
      "source": [
        "毎日のデータがあるわけではないことが分かる。\n",
        "\n",
        "（例：1978年10月27日のデータはない。）"
      ]
    },
    {
      "cell_type": "code",
      "metadata": {
        "id": "xz93p9CYrjXW",
        "colab_type": "code",
        "outputId": "7fc905de-23e6-4246-d1f7-24a2218b5a7b",
        "colab": {
          "base_uri": "https://localhost:8080/",
          "height": 34
        }
      },
      "source": [
        "# 列名の文字列に空白がある\n",
        "n_ice.columns"
      ],
      "execution_count": 0,
      "outputs": [
        {
          "output_type": "execute_result",
          "data": {
            "text/plain": [
              "Index(['Year', ' Month', ' Day', '     Extent', '    Missing', ' Source Data'], dtype='object')"
            ]
          },
          "metadata": {
            "tags": []
          },
          "execution_count": 3
        }
      ]
    },
    {
      "cell_type": "code",
      "metadata": {
        "id": "6kdo_Ah6tTQs",
        "colab_type": "code",
        "outputId": "30342732-9c28-4fd5-d122-95df5eaa42e6",
        "colab": {
          "base_uri": "https://localhost:8080/",
          "height": 34
        }
      },
      "source": [
        "# 列名の空白を除去する\n",
        "n_ice.columns = n_ice.columns.str.strip()\n",
        "n_ice.columns"
      ],
      "execution_count": 0,
      "outputs": [
        {
          "output_type": "execute_result",
          "data": {
            "text/plain": [
              "Index(['Year', 'Month', 'Day', 'Extent', 'Missing', 'Source Data'], dtype='object')"
            ]
          },
          "metadata": {
            "tags": []
          },
          "execution_count": 4
        }
      ]
    },
    {
      "cell_type": "code",
      "metadata": {
        "id": "vKsNNDtXtdQ4",
        "colab_type": "code",
        "colab": {}
      },
      "source": [
        "# 必要な列だけ残す\n",
        "n_ice2 = n_ice[['Year', 'Month', 'Day', 'Extent']]"
      ],
      "execution_count": 0,
      "outputs": []
    },
    {
      "cell_type": "code",
      "metadata": {
        "id": "rRRd1_wltlte",
        "colab_type": "code",
        "outputId": "ead2a75a-eb99-4a49-f744-8dadb9cf7aad",
        "colab": {
          "base_uri": "https://localhost:8080/",
          "height": 195
        }
      },
      "source": [
        "# 最初の行はデータのフォーマットの説明のようだ\n",
        "n_ice2.head()"
      ],
      "execution_count": 0,
      "outputs": [
        {
          "output_type": "execute_result",
          "data": {
            "text/html": [
              "<div>\n",
              "<style scoped>\n",
              "    .dataframe tbody tr th:only-of-type {\n",
              "        vertical-align: middle;\n",
              "    }\n",
              "\n",
              "    .dataframe tbody tr th {\n",
              "        vertical-align: top;\n",
              "    }\n",
              "\n",
              "    .dataframe thead th {\n",
              "        text-align: right;\n",
              "    }\n",
              "</style>\n",
              "<table border=\"1\" class=\"dataframe\">\n",
              "  <thead>\n",
              "    <tr style=\"text-align: right;\">\n",
              "      <th></th>\n",
              "      <th>Year</th>\n",
              "      <th>Month</th>\n",
              "      <th>Day</th>\n",
              "      <th>Extent</th>\n",
              "    </tr>\n",
              "  </thead>\n",
              "  <tbody>\n",
              "    <tr>\n",
              "      <th>0</th>\n",
              "      <td>YYYY</td>\n",
              "      <td>MM</td>\n",
              "      <td>DD</td>\n",
              "      <td>10^6 sq km</td>\n",
              "    </tr>\n",
              "    <tr>\n",
              "      <th>1</th>\n",
              "      <td>1978</td>\n",
              "      <td>10</td>\n",
              "      <td>26</td>\n",
              "      <td>17.624</td>\n",
              "    </tr>\n",
              "    <tr>\n",
              "      <th>2</th>\n",
              "      <td>1978</td>\n",
              "      <td>10</td>\n",
              "      <td>28</td>\n",
              "      <td>17.803</td>\n",
              "    </tr>\n",
              "    <tr>\n",
              "      <th>3</th>\n",
              "      <td>1978</td>\n",
              "      <td>10</td>\n",
              "      <td>30</td>\n",
              "      <td>17.670</td>\n",
              "    </tr>\n",
              "    <tr>\n",
              "      <th>4</th>\n",
              "      <td>1978</td>\n",
              "      <td>11</td>\n",
              "      <td>01</td>\n",
              "      <td>17.527</td>\n",
              "    </tr>\n",
              "  </tbody>\n",
              "</table>\n",
              "</div>"
            ],
            "text/plain": [
              "   Year   Month   Day       Extent\n",
              "0  YYYY      MM    DD   10^6 sq km\n",
              "1  1978      10    26       17.624\n",
              "2  1978      10    28       17.803\n",
              "3  1978      10    30       17.670\n",
              "4  1978      11    01       17.527"
            ]
          },
          "metadata": {
            "tags": []
          },
          "execution_count": 6
        }
      ]
    },
    {
      "cell_type": "code",
      "metadata": {
        "id": "DKFMb8N2tytT",
        "colab_type": "code",
        "outputId": "b769ef3f-19f3-41df-ed8f-6a0974759849",
        "colab": {
          "base_uri": "https://localhost:8080/",
          "height": 195
        }
      },
      "source": [
        "# だから、最初の行は削除する\n",
        "n_ice3 = n_ice2.iloc[1:,]\n",
        "n_ice3.head()"
      ],
      "execution_count": 0,
      "outputs": [
        {
          "output_type": "execute_result",
          "data": {
            "text/html": [
              "<div>\n",
              "<style scoped>\n",
              "    .dataframe tbody tr th:only-of-type {\n",
              "        vertical-align: middle;\n",
              "    }\n",
              "\n",
              "    .dataframe tbody tr th {\n",
              "        vertical-align: top;\n",
              "    }\n",
              "\n",
              "    .dataframe thead th {\n",
              "        text-align: right;\n",
              "    }\n",
              "</style>\n",
              "<table border=\"1\" class=\"dataframe\">\n",
              "  <thead>\n",
              "    <tr style=\"text-align: right;\">\n",
              "      <th></th>\n",
              "      <th>Year</th>\n",
              "      <th>Month</th>\n",
              "      <th>Day</th>\n",
              "      <th>Extent</th>\n",
              "    </tr>\n",
              "  </thead>\n",
              "  <tbody>\n",
              "    <tr>\n",
              "      <th>1</th>\n",
              "      <td>1978</td>\n",
              "      <td>10</td>\n",
              "      <td>26</td>\n",
              "      <td>17.624</td>\n",
              "    </tr>\n",
              "    <tr>\n",
              "      <th>2</th>\n",
              "      <td>1978</td>\n",
              "      <td>10</td>\n",
              "      <td>28</td>\n",
              "      <td>17.803</td>\n",
              "    </tr>\n",
              "    <tr>\n",
              "      <th>3</th>\n",
              "      <td>1978</td>\n",
              "      <td>10</td>\n",
              "      <td>30</td>\n",
              "      <td>17.670</td>\n",
              "    </tr>\n",
              "    <tr>\n",
              "      <th>4</th>\n",
              "      <td>1978</td>\n",
              "      <td>11</td>\n",
              "      <td>01</td>\n",
              "      <td>17.527</td>\n",
              "    </tr>\n",
              "    <tr>\n",
              "      <th>5</th>\n",
              "      <td>1978</td>\n",
              "      <td>11</td>\n",
              "      <td>03</td>\n",
              "      <td>17.486</td>\n",
              "    </tr>\n",
              "  </tbody>\n",
              "</table>\n",
              "</div>"
            ],
            "text/plain": [
              "   Year   Month   Day       Extent\n",
              "1  1978      10    26       17.624\n",
              "2  1978      10    28       17.803\n",
              "3  1978      10    30       17.670\n",
              "4  1978      11    01       17.527\n",
              "5  1978      11    03       17.486"
            ]
          },
          "metadata": {
            "tags": []
          },
          "execution_count": 7
        }
      ]
    },
    {
      "cell_type": "code",
      "metadata": {
        "id": "EPdoLupeuERU",
        "colab_type": "code",
        "outputId": "c9cba71a-96ae-4707-f617-0e6619bef90a",
        "colab": {
          "base_uri": "https://localhost:8080/",
          "height": 195
        }
      },
      "source": [
        "# 1978年と2020年はデータが完全でないので、削除する\n",
        "n_ice4 = n_ice3.loc[(n_ice3['Year'] != '1978') & (n_ice3['Year'] != '2020'),]\n",
        "n_ice4.head()"
      ],
      "execution_count": 0,
      "outputs": [
        {
          "output_type": "execute_result",
          "data": {
            "text/html": [
              "<div>\n",
              "<style scoped>\n",
              "    .dataframe tbody tr th:only-of-type {\n",
              "        vertical-align: middle;\n",
              "    }\n",
              "\n",
              "    .dataframe tbody tr th {\n",
              "        vertical-align: top;\n",
              "    }\n",
              "\n",
              "    .dataframe thead th {\n",
              "        text-align: right;\n",
              "    }\n",
              "</style>\n",
              "<table border=\"1\" class=\"dataframe\">\n",
              "  <thead>\n",
              "    <tr style=\"text-align: right;\">\n",
              "      <th></th>\n",
              "      <th>Year</th>\n",
              "      <th>Month</th>\n",
              "      <th>Day</th>\n",
              "      <th>Extent</th>\n",
              "    </tr>\n",
              "  </thead>\n",
              "  <tbody>\n",
              "    <tr>\n",
              "      <th>35</th>\n",
              "      <td>1979</td>\n",
              "      <td>01</td>\n",
              "      <td>02</td>\n",
              "      <td>6.945</td>\n",
              "    </tr>\n",
              "    <tr>\n",
              "      <th>36</th>\n",
              "      <td>1979</td>\n",
              "      <td>01</td>\n",
              "      <td>04</td>\n",
              "      <td>6.838</td>\n",
              "    </tr>\n",
              "    <tr>\n",
              "      <th>37</th>\n",
              "      <td>1979</td>\n",
              "      <td>01</td>\n",
              "      <td>06</td>\n",
              "      <td>6.638</td>\n",
              "    </tr>\n",
              "    <tr>\n",
              "      <th>38</th>\n",
              "      <td>1979</td>\n",
              "      <td>01</td>\n",
              "      <td>08</td>\n",
              "      <td>6.270</td>\n",
              "    </tr>\n",
              "    <tr>\n",
              "      <th>39</th>\n",
              "      <td>1979</td>\n",
              "      <td>01</td>\n",
              "      <td>10</td>\n",
              "      <td>6.138</td>\n",
              "    </tr>\n",
              "  </tbody>\n",
              "</table>\n",
              "</div>"
            ],
            "text/plain": [
              "    Year   Month   Day       Extent\n",
              "35  1979      01    02        6.945\n",
              "36  1979      01    04        6.838\n",
              "37  1979      01    06        6.638\n",
              "38  1979      01    08        6.270\n",
              "39  1979      01    10        6.138"
            ]
          },
          "metadata": {
            "tags": []
          },
          "execution_count": 8
        }
      ]
    },
    {
      "cell_type": "code",
      "metadata": {
        "id": "8SUELlSjvXKa",
        "colab_type": "code",
        "outputId": "4f20a6fe-d974-4a55-d485-b070de3f4bfc",
        "colab": {
          "base_uri": "https://localhost:8080/",
          "height": 195
        }
      },
      "source": [
        "n_ice4.tail()"
      ],
      "execution_count": 0,
      "outputs": [
        {
          "output_type": "execute_result",
          "data": {
            "text/html": [
              "<div>\n",
              "<style scoped>\n",
              "    .dataframe tbody tr th:only-of-type {\n",
              "        vertical-align: middle;\n",
              "    }\n",
              "\n",
              "    .dataframe tbody tr th {\n",
              "        vertical-align: top;\n",
              "    }\n",
              "\n",
              "    .dataframe thead th {\n",
              "        text-align: right;\n",
              "    }\n",
              "</style>\n",
              "<table border=\"1\" class=\"dataframe\">\n",
              "  <thead>\n",
              "    <tr style=\"text-align: right;\">\n",
              "      <th></th>\n",
              "      <th>Year</th>\n",
              "      <th>Month</th>\n",
              "      <th>Day</th>\n",
              "      <th>Extent</th>\n",
              "    </tr>\n",
              "  </thead>\n",
              "  <tbody>\n",
              "    <tr>\n",
              "      <th>13387</th>\n",
              "      <td>2019</td>\n",
              "      <td>12</td>\n",
              "      <td>27</td>\n",
              "      <td>6.904</td>\n",
              "    </tr>\n",
              "    <tr>\n",
              "      <th>13388</th>\n",
              "      <td>2019</td>\n",
              "      <td>12</td>\n",
              "      <td>28</td>\n",
              "      <td>6.804</td>\n",
              "    </tr>\n",
              "    <tr>\n",
              "      <th>13389</th>\n",
              "      <td>2019</td>\n",
              "      <td>12</td>\n",
              "      <td>29</td>\n",
              "      <td>6.659</td>\n",
              "    </tr>\n",
              "    <tr>\n",
              "      <th>13390</th>\n",
              "      <td>2019</td>\n",
              "      <td>12</td>\n",
              "      <td>30</td>\n",
              "      <td>6.499</td>\n",
              "    </tr>\n",
              "    <tr>\n",
              "      <th>13391</th>\n",
              "      <td>2019</td>\n",
              "      <td>12</td>\n",
              "      <td>31</td>\n",
              "      <td>6.338</td>\n",
              "    </tr>\n",
              "  </tbody>\n",
              "</table>\n",
              "</div>"
            ],
            "text/plain": [
              "       Year   Month   Day       Extent\n",
              "13387  2019      12    27        6.904\n",
              "13388  2019      12    28        6.804\n",
              "13389  2019      12    29        6.659\n",
              "13390  2019      12    30        6.499\n",
              "13391  2019      12    31        6.338"
            ]
          },
          "metadata": {
            "tags": []
          },
          "execution_count": 9
        }
      ]
    },
    {
      "cell_type": "code",
      "metadata": {
        "id": "6jX7kMeMKrRD",
        "colab_type": "code",
        "outputId": "d1684ce5-0c44-4dad-f848-f2696b120b6b",
        "colab": {
          "base_uri": "https://localhost:8080/",
          "height": 195
        }
      },
      "source": [
        "# 数値化する（年月日は整数に。海氷域面積は浮動小数点数に。）\n",
        "int_cols = ['Year', 'Month', 'Day']\n",
        "cols_as_int = n_ice4[int_cols].astype(int)\n",
        "col_as_float = n_ice4['Extent'].astype(float)\n",
        "n_ice = pd.concat([cols_as_int, col_as_float], axis=1)\n",
        "n_ice.head()"
      ],
      "execution_count": 0,
      "outputs": [
        {
          "output_type": "execute_result",
          "data": {
            "text/html": [
              "<div>\n",
              "<style scoped>\n",
              "    .dataframe tbody tr th:only-of-type {\n",
              "        vertical-align: middle;\n",
              "    }\n",
              "\n",
              "    .dataframe tbody tr th {\n",
              "        vertical-align: top;\n",
              "    }\n",
              "\n",
              "    .dataframe thead th {\n",
              "        text-align: right;\n",
              "    }\n",
              "</style>\n",
              "<table border=\"1\" class=\"dataframe\">\n",
              "  <thead>\n",
              "    <tr style=\"text-align: right;\">\n",
              "      <th></th>\n",
              "      <th>Year</th>\n",
              "      <th>Month</th>\n",
              "      <th>Day</th>\n",
              "      <th>Extent</th>\n",
              "    </tr>\n",
              "  </thead>\n",
              "  <tbody>\n",
              "    <tr>\n",
              "      <th>35</th>\n",
              "      <td>1979</td>\n",
              "      <td>1</td>\n",
              "      <td>2</td>\n",
              "      <td>6.945</td>\n",
              "    </tr>\n",
              "    <tr>\n",
              "      <th>36</th>\n",
              "      <td>1979</td>\n",
              "      <td>1</td>\n",
              "      <td>4</td>\n",
              "      <td>6.838</td>\n",
              "    </tr>\n",
              "    <tr>\n",
              "      <th>37</th>\n",
              "      <td>1979</td>\n",
              "      <td>1</td>\n",
              "      <td>6</td>\n",
              "      <td>6.638</td>\n",
              "    </tr>\n",
              "    <tr>\n",
              "      <th>38</th>\n",
              "      <td>1979</td>\n",
              "      <td>1</td>\n",
              "      <td>8</td>\n",
              "      <td>6.270</td>\n",
              "    </tr>\n",
              "    <tr>\n",
              "      <th>39</th>\n",
              "      <td>1979</td>\n",
              "      <td>1</td>\n",
              "      <td>10</td>\n",
              "      <td>6.138</td>\n",
              "    </tr>\n",
              "  </tbody>\n",
              "</table>\n",
              "</div>"
            ],
            "text/plain": [
              "    Year  Month  Day  Extent\n",
              "35  1979      1    2   6.945\n",
              "36  1979      1    4   6.838\n",
              "37  1979      1    6   6.638\n",
              "38  1979      1    8   6.270\n",
              "39  1979      1   10   6.138"
            ]
          },
          "metadata": {
            "tags": []
          },
          "execution_count": 10
        }
      ]
    },
    {
      "cell_type": "code",
      "metadata": {
        "id": "ZuPOkOTSyOsn",
        "colab_type": "code",
        "outputId": "94068f2c-f7ca-414e-e8c3-2eed6651d1ee",
        "colab": {
          "base_uri": "https://localhost:8080/",
          "height": 195
        }
      },
      "source": [
        "# 行のindexを打ち直す\n",
        "n_ice.reset_index(drop=True, inplace=True)\n",
        "n_ice.head()"
      ],
      "execution_count": 0,
      "outputs": [
        {
          "output_type": "execute_result",
          "data": {
            "text/html": [
              "<div>\n",
              "<style scoped>\n",
              "    .dataframe tbody tr th:only-of-type {\n",
              "        vertical-align: middle;\n",
              "    }\n",
              "\n",
              "    .dataframe tbody tr th {\n",
              "        vertical-align: top;\n",
              "    }\n",
              "\n",
              "    .dataframe thead th {\n",
              "        text-align: right;\n",
              "    }\n",
              "</style>\n",
              "<table border=\"1\" class=\"dataframe\">\n",
              "  <thead>\n",
              "    <tr style=\"text-align: right;\">\n",
              "      <th></th>\n",
              "      <th>Year</th>\n",
              "      <th>Month</th>\n",
              "      <th>Day</th>\n",
              "      <th>Extent</th>\n",
              "    </tr>\n",
              "  </thead>\n",
              "  <tbody>\n",
              "    <tr>\n",
              "      <th>0</th>\n",
              "      <td>1979</td>\n",
              "      <td>1</td>\n",
              "      <td>2</td>\n",
              "      <td>6.945</td>\n",
              "    </tr>\n",
              "    <tr>\n",
              "      <th>1</th>\n",
              "      <td>1979</td>\n",
              "      <td>1</td>\n",
              "      <td>4</td>\n",
              "      <td>6.838</td>\n",
              "    </tr>\n",
              "    <tr>\n",
              "      <th>2</th>\n",
              "      <td>1979</td>\n",
              "      <td>1</td>\n",
              "      <td>6</td>\n",
              "      <td>6.638</td>\n",
              "    </tr>\n",
              "    <tr>\n",
              "      <th>3</th>\n",
              "      <td>1979</td>\n",
              "      <td>1</td>\n",
              "      <td>8</td>\n",
              "      <td>6.270</td>\n",
              "    </tr>\n",
              "    <tr>\n",
              "      <th>4</th>\n",
              "      <td>1979</td>\n",
              "      <td>1</td>\n",
              "      <td>10</td>\n",
              "      <td>6.138</td>\n",
              "    </tr>\n",
              "  </tbody>\n",
              "</table>\n",
              "</div>"
            ],
            "text/plain": [
              "   Year  Month  Day  Extent\n",
              "0  1979      1    2   6.945\n",
              "1  1979      1    4   6.838\n",
              "2  1979      1    6   6.638\n",
              "3  1979      1    8   6.270\n",
              "4  1979      1   10   6.138"
            ]
          },
          "metadata": {
            "tags": []
          },
          "execution_count": 11
        }
      ]
    },
    {
      "cell_type": "code",
      "metadata": {
        "id": "vZy_GFIbNVBI",
        "colab_type": "code",
        "outputId": "7524e31e-b8ba-4f3c-a90d-a48b15690bb5",
        "colab": {
          "base_uri": "https://localhost:8080/",
          "height": 168
        }
      },
      "source": [
        "# おかしな値がないかチェックする\n",
        "# （欠測値が特殊な値で表されていたりするデータもあるため。）\n",
        "n_ice.describe()['Extent']"
      ],
      "execution_count": 0,
      "outputs": [
        {
          "output_type": "execute_result",
          "data": {
            "text/plain": [
              "count    13357.000000\n",
              "mean        11.678608\n",
              "std          5.635553\n",
              "min          2.080000\n",
              "25%          6.084000\n",
              "50%         12.634000\n",
              "75%         17.237000\n",
              "max         20.201000\n",
              "Name: Extent, dtype: float64"
            ]
          },
          "metadata": {
            "tags": []
          },
          "execution_count": 12
        }
      ]
    },
    {
      "cell_type": "markdown",
      "metadata": {
        "id": "K48euX5VvpFZ",
        "colab_type": "text"
      },
      "source": [
        "### 2) 一ヶ月ごとにデータをまとめて、平均をとる\n",
        "これは、「同じ月の中での値の変動は、ノイズにすぎない」と、仮定していることに相当する。\n",
        "\n",
        "もちろん、このように仮定するのが正しいかどうかは、分からない。"
      ]
    },
    {
      "cell_type": "code",
      "metadata": {
        "id": "s0JnhCeXvtB6",
        "colab_type": "code",
        "outputId": "fc79c7ac-0860-415e-d615-327136560802",
        "colab": {
          "base_uri": "https://localhost:8080/",
          "height": 195
        }
      },
      "source": [
        "n_ice_grouped = n_ice.groupby(['Year', 'Month'], as_index=False)\n",
        "n_ice_monthly = n_ice_grouped.mean()[['Year', 'Month', 'Extent']]\n",
        "n_ice_monthly.head()"
      ],
      "execution_count": 0,
      "outputs": [
        {
          "output_type": "execute_result",
          "data": {
            "text/html": [
              "<div>\n",
              "<style scoped>\n",
              "    .dataframe tbody tr th:only-of-type {\n",
              "        vertical-align: middle;\n",
              "    }\n",
              "\n",
              "    .dataframe tbody tr th {\n",
              "        vertical-align: top;\n",
              "    }\n",
              "\n",
              "    .dataframe thead th {\n",
              "        text-align: right;\n",
              "    }\n",
              "</style>\n",
              "<table border=\"1\" class=\"dataframe\">\n",
              "  <thead>\n",
              "    <tr style=\"text-align: right;\">\n",
              "      <th></th>\n",
              "      <th>Year</th>\n",
              "      <th>Month</th>\n",
              "      <th>Extent</th>\n",
              "    </tr>\n",
              "  </thead>\n",
              "  <tbody>\n",
              "    <tr>\n",
              "      <th>0</th>\n",
              "      <td>1979</td>\n",
              "      <td>1</td>\n",
              "      <td>5.402200</td>\n",
              "    </tr>\n",
              "    <tr>\n",
              "      <th>1</th>\n",
              "      <td>1979</td>\n",
              "      <td>2</td>\n",
              "      <td>3.141071</td>\n",
              "    </tr>\n",
              "    <tr>\n",
              "      <th>2</th>\n",
              "      <td>1979</td>\n",
              "      <td>3</td>\n",
              "      <td>3.999312</td>\n",
              "    </tr>\n",
              "    <tr>\n",
              "      <th>3</th>\n",
              "      <td>1979</td>\n",
              "      <td>4</td>\n",
              "      <td>7.485533</td>\n",
              "    </tr>\n",
              "    <tr>\n",
              "      <th>4</th>\n",
              "      <td>1979</td>\n",
              "      <td>5</td>\n",
              "      <td>10.826667</td>\n",
              "    </tr>\n",
              "  </tbody>\n",
              "</table>\n",
              "</div>"
            ],
            "text/plain": [
              "   Year  Month     Extent\n",
              "0  1979      1   5.402200\n",
              "1  1979      2   3.141071\n",
              "2  1979      3   3.999312\n",
              "3  1979      4   7.485533\n",
              "4  1979      5  10.826667"
            ]
          },
          "metadata": {
            "tags": []
          },
          "execution_count": 13
        }
      ]
    },
    {
      "cell_type": "code",
      "metadata": {
        "id": "8nkMEyDyE52n",
        "colab_type": "code",
        "colab": {}
      },
      "source": [
        "# 変数名を付け直す\n",
        "n_ice = n_ice_monthly"
      ],
      "execution_count": 0,
      "outputs": []
    },
    {
      "cell_type": "code",
      "metadata": {
        "scrolled": false,
        "id": "vA7kd6opdcwT",
        "colab_type": "code",
        "colab": {}
      },
      "source": [
        "# 可視化の準備\n",
        "import numpy as np\n",
        "import matplotlib.pylab as plt"
      ],
      "execution_count": 0,
      "outputs": []
    },
    {
      "cell_type": "markdown",
      "metadata": {
        "id": "2idcjSW42TE5",
        "colab_type": "text"
      },
      "source": [
        "横軸は年にし、同じ年のデータは縦方向にまとめてプロットしてみる。"
      ]
    },
    {
      "cell_type": "code",
      "metadata": {
        "scrolled": false,
        "id": "1ZYOL6jKdcws",
        "colab_type": "code",
        "outputId": "6c134f36-644a-43ed-a6f8-d7ee2c03e387",
        "colab": {
          "base_uri": "https://localhost:8080/",
          "height": 349
        }
      },
      "source": [
        "plt.style.use('seaborn-whitegrid')\n",
        "plt.rc('xtick', labelsize = 10) \n",
        "plt.rc('ytick', labelsize = 10) \n",
        "plt.rc('font', size = 12) \n",
        "plt.rc('figure', figsize = (12, 5))\n",
        "\n",
        "x = n_ice.Year\n",
        "y = n_ice.Extent\n",
        "plt.scatter(x, y, color = 'red')\n",
        "plt.xlabel('Year')\n",
        "plt.ylabel('Extent')"
      ],
      "execution_count": 0,
      "outputs": [
        {
          "output_type": "execute_result",
          "data": {
            "text/plain": [
              "Text(0, 0.5, 'Extent')"
            ]
          },
          "metadata": {
            "tags": []
          },
          "execution_count": 16
        },
        {
          "output_type": "display_data",
          "data": {
            "image/png": "[encoded data removed]",
            "text/plain": [
              "<Figure size 864x360 with 1 Axes>"
            ]
          },
          "metadata": {
            "tags": []
          }
        }
      ]
    },
    {
      "cell_type": "markdown",
      "metadata": {
        "id": "lCOLo1CxxJcy",
        "colab_type": "text"
      },
      "source": [
        "どうやら、一年の間に、かなり値が変動するらしい。\n",
        "\n",
        "このままだと、一年の間の変化が目立ち過ぎて、全体的な変化が分かりにくい。"
      ]
    },
    {
      "cell_type": "markdown",
      "metadata": {
        "id": "diXb3BI3ON0J",
        "colab_type": "text"
      },
      "source": [
        "### 3) 一年間の範囲内での変化のパターンを可視化する"
      ]
    },
    {
      "cell_type": "code",
      "metadata": {
        "id": "_8efR6YMQAqA",
        "colab_type": "code",
        "outputId": "6fc5584d-37a1-4f59-c668-9aa91c3df9b4",
        "colab": {
          "base_uri": "https://localhost:8080/",
          "height": 70
        }
      },
      "source": [
        "# seabornを使う準備\n",
        "import seaborn as sns\n",
        "sns.set_style(\"whitegrid\")\n",
        "sns.set_context(\"notebook\", font_scale=1, rc={\"lines.linewidth\": 2,'font.family': [u'times']})"
      ],
      "execution_count": 0,
      "outputs": [
        {
          "output_type": "stream",
          "text": [
            "/usr/local/lib/python3.6/dist-packages/statsmodels/tools/_testing.py:19: FutureWarning: pandas.util.testing is deprecated. Use the functions in the public API at pandas.testing instead.\n",
            "  import pandas.util.testing as tm\n"
          ],
          "name": "stderr"
        }
      ]
    },
    {
      "cell_type": "code",
      "metadata": {
        "scrolled": false,
        "id": "b_LKBH62dcw2",
        "colab_type": "code",
        "outputId": "89a112d4-d6e9-4c2a-ff22-25c9dcd18bd4",
        "colab": {
          "base_uri": "https://localhost:8080/",
          "height": 339
        }
      },
      "source": [
        "# seabornの散布図で、年の違いを横断して、各月ごとに面積データを可視化する。\n",
        "# つまり、面積データに季節性があるかどうかを確認する。\n",
        "sns.scatterplot(x=\"Month\", y=\"Extent\", hue=\"Year\", data=n_ice)\n",
        "plt.savefig(\"IceExtentByMonth.png\", dpi = 300, bbox_inches = 'tight')"
      ],
      "execution_count": 0,
      "outputs": [
        {
          "output_type": "display_data",
          "data": {
            "image/png": "[encoded data removed]",
            "text/plain": [
              "<Figure size 864x360 with 1 Axes>"
            ]
          },
          "metadata": {
            "tags": []
          }
        }
      ]
    },
    {
      "cell_type": "markdown",
      "metadata": {
        "id": "tsy0nu4aUO1a",
        "colab_type": "text"
      },
      "source": [
        "一年間の間で、はっきりした周期的な変化パターンがあることがわかる。\n",
        "\n",
        "つまり、「この月は、だいたいこのぐらい値」という値があることが分かる。"
      ]
    },
    {
      "cell_type": "markdown",
      "metadata": {
        "id": "Qa-py4A3Uozt",
        "colab_type": "text"
      },
      "source": [
        "### 4) 一年間の範囲内に見られる変化パターンを取り除く"
      ]
    },
    {
      "cell_type": "code",
      "metadata": {
        "scrolled": false,
        "id": "Cw8RXEkNdcw4",
        "colab_type": "code",
        "outputId": "daad2923-8d03-48e9-b401-26a75748b163",
        "colab": {
          "base_uri": "https://localhost:8080/",
          "height": 504
        }
      },
      "source": [
        "# 各月のデータの、すべての年にわたる平均と標準偏差を求める。\n",
        "grouped = n_ice.groupby('Month')\n",
        "month_means = grouped.Extent.mean()\n",
        "month_stds = grouped.Extent.std()\n",
        "print('Means:', month_means)\n",
        "print()\n",
        "print('Standard deviations:',month_stds)"
      ],
      "execution_count": 0,
      "outputs": [
        {
          "output_type": "stream",
          "text": [
            "Means: Month\n",
            "1      4.980793\n",
            "2      3.062832\n",
            "3      4.011036\n",
            "4      6.840807\n",
            "5     10.159689\n",
            "6     13.369739\n",
            "7     15.998330\n",
            "8     17.765957\n",
            "9     18.522389\n",
            "10    18.130314\n",
            "11    15.828975\n",
            "12    10.414484\n",
            "Name: Extent, dtype: float64\n",
            "\n",
            "Standard deviations: Month\n",
            "1     0.701799\n",
            "2     0.423104\n",
            "3     0.555361\n",
            "4     0.721256\n",
            "5     0.681477\n",
            "6     0.588914\n",
            "7     0.438749\n",
            "8     0.383831\n",
            "9     0.430028\n",
            "10    0.402546\n",
            "11    0.500676\n",
            "12    0.928812\n",
            "Name: Extent, dtype: float64\n"
          ],
          "name": "stdout"
        }
      ]
    },
    {
      "cell_type": "code",
      "metadata": {
        "id": "LaxsILgx2uP_",
        "colab_type": "code",
        "outputId": "28159c7e-f8cc-4a7d-a290-817f06ae7851",
        "colab": {
          "base_uri": "https://localhost:8080/",
          "height": 570
        }
      },
      "source": [
        "# 試みに、ヒストグラムを月別に描いてみる。\n",
        "n_ice.Extent.hist(by=n_ice_monthly.Month)"
      ],
      "execution_count": 0,
      "outputs": [
        {
          "output_type": "execute_result",
          "data": {
            "text/plain": [
              "array([[<matplotlib.axes._subplots.AxesSubplot object at 0x7f099d5140f0>,\n",
              "        <matplotlib.axes._subplots.AxesSubplot object at 0x7f099d4ea128>,\n",
              "        <matplotlib.axes._subplots.AxesSubplot object at 0x7f099d49b780>],\n",
              "       [<matplotlib.axes._subplots.AxesSubplot object at 0x7f099d44bdd8>,\n",
              "        <matplotlib.axes._subplots.AxesSubplot object at 0x7f099d408470>,\n",
              "        <matplotlib.axes._subplots.AxesSubplot object at 0x7f099d437ac8>],\n",
              "       [<matplotlib.axes._subplots.AxesSubplot object at 0x7f099d3f5160>,\n",
              "        <matplotlib.axes._subplots.AxesSubplot object at 0x7f099d3a5780>,\n",
              "        <matplotlib.axes._subplots.AxesSubplot object at 0x7f099d3a57f0>],\n",
              "       [<matplotlib.axes._subplots.AxesSubplot object at 0x7f099d3124a8>,\n",
              "        <matplotlib.axes._subplots.AxesSubplot object at 0x7f099d2c3b00>,\n",
              "        <matplotlib.axes._subplots.AxesSubplot object at 0x7f099d280198>]],\n",
              "      dtype=object)"
            ]
          },
          "metadata": {
            "tags": []
          },
          "execution_count": 20
        },
        {
          "output_type": "display_data",
          "data": {
            "image/png": "[encoded data removed]",
            "text/plain": [
              "<Figure size 864x360 with 12 Axes>"
            ]
          },
          "metadata": {
            "tags": []
          }
        }
      ]
    },
    {
      "cell_type": "code",
      "metadata": {
        "scrolled": false,
        "id": "3b99WEk7dcw7",
        "colab_type": "code",
        "colab": {}
      },
      "source": [
        "# 月ごとにz値へ変換する。（よく使うデータ標準化の手法。）\n",
        "for i in range(1, 13):\n",
        "  idx = n_ice.Month == i\n",
        "  z_values = (n_ice.loc[idx, 'Extent'] - month_means[i]) / month_stds[i]\n",
        "  n_ice.loc[idx, 'Extent'] = z_values"
      ],
      "execution_count": 0,
      "outputs": []
    },
    {
      "cell_type": "code",
      "metadata": {
        "id": "MXgppXOaVols",
        "colab_type": "code",
        "outputId": "ad089576-1164-4d26-b199-d5c6dce3be74",
        "colab": {
          "base_uri": "https://localhost:8080/",
          "height": 339
        }
      },
      "source": [
        "# z値に変換したので、改めて、年の違いを横断して、各月ごとに面積データを可視化する。\n",
        "sns.scatterplot(x=\"Month\", y=\"Extent\", hue=\"Year\", data=n_ice)\n",
        "plt.savefig(\"IceExtentZscoreByMonth.png\", dpi = 300, bbox_inches = 'tight')"
      ],
      "execution_count": 0,
      "outputs": [
        {
          "output_type": "display_data",
          "data": {
            "image/png": "[encoded data removed]",
            "text/plain": [
              "<Figure size 864x360 with 1 Axes>"
            ]
          },
          "metadata": {
            "tags": []
          }
        }
      ]
    },
    {
      "cell_type": "markdown",
      "metadata": {
        "id": "cc7n-ZkVdcxD",
        "colab_type": "text"
      },
      "source": [
        "### 5) 1979年〜2019年の全範囲での変化の様子を見る"
      ]
    },
    {
      "cell_type": "markdown",
      "metadata": {
        "id": "Z-Ogbfo6dcxD",
        "colab_type": "text"
      },
      "source": [
        "各月の個性は、すでに消した。\n",
        "\n",
        "その上で、1979年から2019年まで、全範囲での面積の変化の傾向を見る。"
      ]
    },
    {
      "cell_type": "code",
      "metadata": {
        "scrolled": false,
        "id": "vCYQvOmZdcxE",
        "colab_type": "code",
        "outputId": "51d6d5c7-226a-43ac-f1c5-6aa0b8cfa29c",
        "colab": {
          "base_uri": "https://localhost:8080/",
          "height": 433
        }
      },
      "source": [
        "# seabornの単回帰のプロットを利用する。\n",
        "sns.lmplot(\"Year\", \"Extent\", n_ice, size = 5.2, aspect = 2);\n",
        "plt.savefig(\"IceExtentAllMonthsByYearlmplot.png\", dpi = 300, bbox_inches = 'tight')"
      ],
      "execution_count": 0,
      "outputs": [
        {
          "output_type": "stream",
          "text": [
            "/usr/local/lib/python3.6/dist-packages/seaborn/regression.py:573: UserWarning: The `size` parameter has been renamed to `height`; please update your code.\n",
            "  warnings.warn(msg, UserWarning)\n"
          ],
          "name": "stderr"
        },
        {
          "output_type": "display_data",
          "data": {
            "image/png": "[encoded data removed]",
            "text/plain": [
              "<Figure size 748.8x374.4 with 1 Axes>"
            ]
          },
          "metadata": {
            "tags": []
          }
        }
      ]
    },
    {
      "cell_type": "markdown",
      "metadata": {
        "id": "jb86oQc87Mvj",
        "colab_type": "text"
      },
      "source": [
        "*   直線でfittingしても、悪くなさそう。\n",
        "*   そして、面積減少の傾向が見て取れる。\n",
        "\n"
      ]
    },
    {
      "cell_type": "code",
      "metadata": {
        "scrolled": false,
        "id": "P00n3tA6dcxM",
        "colab_type": "code",
        "outputId": "855a8688-29d1-4a6e-e09c-05410f3449f1",
        "colab": {
          "base_uri": "https://localhost:8080/",
          "height": 34
        }
      },
      "source": [
        "# ピアソンの相関係数と、無相関の検定のp値を求める。\n",
        "import scipy.stats\n",
        "scipy.stats.pearsonr(n_ice.Year.values, n_ice.Extent.values)"
      ],
      "execution_count": 0,
      "outputs": [
        {
          "output_type": "execute_result",
          "data": {
            "text/plain": [
              "(0.16790343556303775, 0.00018299883603281746)"
            ]
          },
          "metadata": {
            "tags": []
          },
          "execution_count": 24
        }
      ]
    },
    {
      "cell_type": "markdown",
      "metadata": {
        "id": "ie0fEcENyQ0G",
        "colab_type": "text"
      },
      "source": [
        "\n",
        "\n",
        "---\n",
        "\n"
      ]
    },
    {
      "cell_type": "markdown",
      "metadata": {
        "id": "CwsCM6sDdcxO",
        "colab_type": "text"
      },
      "source": [
        "### 6) sklearnの線形回帰を使った分析"
      ]
    },
    {
      "cell_type": "code",
      "metadata": {
        "scrolled": false,
        "id": "ZMGQ48XsdcxP",
        "colab_type": "code",
        "outputId": "5d62c7cd-c552-4832-a56c-105b50271384",
        "colab": {
          "base_uri": "https://localhost:8080/",
          "height": 50
        }
      },
      "source": [
        "from sklearn.linear_model import LinearRegression\n",
        "\n",
        "reg = LinearRegression()\n",
        "\n",
        "x = n_ice[['Year']]\n",
        "y = n_ice[['Extent']]\n",
        "\n",
        "reg.fit(x, y)\n",
        "\n",
        "print('Coefficients:', reg.coef_)\n",
        "print('Intercept:', reg.intercept_)"
      ],
      "execution_count": 0,
      "outputs": [
        {
          "output_type": "stream",
          "text": [
            "Coefficients: [[0.01401631]]\n",
            "Intercept: [-28.01859968]\n"
          ],
          "name": "stdout"
        }
      ]
    },
    {
      "cell_type": "markdown",
      "metadata": {
        "id": "15sT0HTTdcxX",
        "colab_type": "text"
      },
      "source": [
        "フィッティングの評価\n",
        "\n",
        "*   mean squared error ($MSE$)\n",
        "*   the coefficient of determination ($R^2$)\n",
        "\n",
        "$R^2$は$(1 - \\textbf{u}/\\textbf{v})$と定義される。\n",
        "\n",
        "$\\textbf{u}$ は残差の二乗和 $\\sum (\\textbf{y} - \\hat{\\textbf{y}})^2$。（$\\hat{\\textbf{y}}$が回帰による予測値。）\n",
        "\n",
        "$\\textbf{v}$ は、真値の平均$\\bar{\\textbf{y}}$ からの個々の真値$\\textbf{y}$のズレの二乗の和$\\sum (\\textbf{y} - \\bar{\\textbf{y}})^2$。\n",
        "\n",
        "$R^2$の最も良い値は1.0。これより小さくなるほど悪くなる。"
      ]
    },
    {
      "cell_type": "code",
      "metadata": {
        "scrolled": false,
        "id": "okZvwbDIdcxX",
        "colab_type": "code",
        "outputId": "edca293c-dda8-4073-fa35-b269c0ddb415",
        "colab": {
          "base_uri": "https://localhost:8080/",
          "height": 373
        }
      },
      "source": [
        "from sklearn import metrics\n",
        "\n",
        "# Analysis for all months together.\n",
        "x = n_ice[['Year']]\n",
        "y = n_ice[['Extent']]\n",
        "model = LinearRegression()\n",
        "model.fit(x, y)\n",
        "y_hat = model.predict(x)\n",
        "plt.plot(x, y,'o', alpha = 0.5)\n",
        "plt.plot(x, y_hat, 'r', alpha = 0.5)\n",
        "plt.xlabel('year')\n",
        "plt.ylabel('extent (All months)')\n",
        "print(\"MSE:\", metrics.mean_squared_error(y, y_hat))\n",
        "print(\"R^2:\", metrics.r2_score(y, y_hat))\n",
        "plt.savefig(\"IceExtentLinearRegressionAllMonthsByYearPrediction.png\", dpi = 300, bbox_inches = 'tight')"
      ],
      "execution_count": 0,
      "outputs": [
        {
          "output_type": "stream",
          "text": [
            "MSE: 0.9481057915376864\n",
            "R^2: 0.028191563673871656\n"
          ],
          "name": "stdout"
        },
        {
          "output_type": "display_data",
          "data": {
            "image/png": "[encoded data removed]",
            "text/plain": [
              "<Figure size 864x360 with 1 Axes>"
            ]
          },
          "metadata": {
            "tags": []
          }
        }
      ]
    },
    {
      "cell_type": "code",
      "metadata": {
        "id": "SaFf_prQVQCk",
        "colab_type": "code",
        "outputId": "c719bbd3-f2c9-4e76-b3ea-6168664015de",
        "colab": {
          "base_uri": "https://localhost:8080/",
          "height": 50
        }
      },
      "source": [
        "((y - y.mean()) ** 2).sum()"
      ],
      "execution_count": 0,
      "outputs": [
        {
          "output_type": "execute_result",
          "data": {
            "text/plain": [
              "Extent    480.0\n",
              "dtype: float64"
            ]
          },
          "metadata": {
            "tags": []
          },
          "execution_count": 34
        }
      ]
    },
    {
      "cell_type": "code",
      "metadata": {
        "id": "BuDvJ1LqVXln",
        "colab_type": "code",
        "outputId": "0c643548-08a5-4f0a-91c6-f32c369f1f72",
        "colab": {
          "base_uri": "https://localhost:8080/",
          "height": 50
        }
      },
      "source": [
        "((y - y_hat) ** 2).sum()"
      ],
      "execution_count": 0,
      "outputs": [
        {
          "output_type": "execute_result",
          "data": {
            "text/plain": [
              "Extent    466.468049\n",
              "dtype: float64"
            ]
          },
          "metadata": {
            "tags": []
          },
          "execution_count": 35
        }
      ]
    },
    {
      "cell_type": "code",
      "metadata": {
        "id": "PyHT5axTVbvj",
        "colab_type": "code",
        "colab": {}
      },
      "source": [
        ""
      ],
      "execution_count": 0,
      "outputs": []
    },
    {
      "cell_type": "markdown",
      "metadata": {
        "id": "ydQJELgVdcxa",
        "colab_type": "text"
      },
      "source": [
        "どうやら、データは長期的なnegative trendを示している、と言ってもよさそう。\n"
      ]
    },
    {
      "cell_type": "markdown",
      "metadata": {
        "id": "HHMDi3uifc6a",
        "colab_type": "text"
      },
      "source": [
        "\n",
        "\n",
        "---\n",
        "\n"
      ]
    },
    {
      "cell_type": "markdown",
      "metadata": {
        "id": "q-b8qCAIffpD",
        "colab_type": "text"
      },
      "source": [
        "### 7) statsmodelsの線形回帰を使った分析\n",
        "\n",
        "こちらのほうが、統計学的な観点からの分析に向いている。\n"
      ]
    },
    {
      "cell_type": "code",
      "metadata": {
        "id": "IRfeTpLhfbe0",
        "colab_type": "code",
        "colab": {}
      },
      "source": [
        "import statsmodels.api as sm"
      ],
      "execution_count": 0,
      "outputs": []
    },
    {
      "cell_type": "code",
      "metadata": {
        "id": "JiF9OPEBfzy3",
        "colab_type": "code",
        "colab": {}
      },
      "source": [
        "x_ = sm.add_constant(x) # 切片の項を追加"
      ],
      "execution_count": 0,
      "outputs": []
    },
    {
      "cell_type": "code",
      "metadata": {
        "id": "yOTPMWj_gA1j",
        "colab_type": "code",
        "colab": {}
      },
      "source": [
        "model = sm.OLS(y, x_)"
      ],
      "execution_count": 0,
      "outputs": []
    },
    {
      "cell_type": "code",
      "metadata": {
        "id": "1mnHNe1igNI4",
        "colab_type": "code",
        "colab": {}
      },
      "source": [
        "results = model.fit()"
      ],
      "execution_count": 0,
      "outputs": []
    },
    {
      "cell_type": "code",
      "metadata": {
        "id": "yN4wd-xugQuy",
        "colab_type": "code",
        "outputId": "9f0b57af-f86b-4d6c-d9e2-6c862360a10f",
        "colab": {
          "base_uri": "https://localhost:8080/",
          "height": 67
        }
      },
      "source": [
        "results.params"
      ],
      "execution_count": 0,
      "outputs": [
        {
          "output_type": "execute_result",
          "data": {
            "text/plain": [
              "const   -28.018600\n",
              "Year      0.014016\n",
              "dtype: float64"
            ]
          },
          "metadata": {
            "tags": []
          },
          "execution_count": 31
        }
      ]
    },
    {
      "cell_type": "code",
      "metadata": {
        "id": "tTKlEzDdgVbB",
        "colab_type": "code",
        "outputId": "4a0d285a-7962-4659-92aa-b28afd0cb48a",
        "colab": {
          "base_uri": "https://localhost:8080/",
          "height": 459
        }
      },
      "source": [
        "# statsmodelsはこのsummaryが強力。\n",
        "results.summary()"
      ],
      "execution_count": 0,
      "outputs": [
        {
          "output_type": "execute_result",
          "data": {
            "text/html": [
              "<table class=\"simpletable\">\n",
              "<caption>OLS Regression Results</caption>\n",
              "<tr>\n",
              "  <th>Dep. Variable:</th>         <td>Extent</td>      <th>  R-squared:         </th> <td>   0.028</td>\n",
              "</tr>\n",
              "<tr>\n",
              "  <th>Model:</th>                   <td>OLS</td>       <th>  Adj. R-squared:    </th> <td>   0.026</td>\n",
              "</tr>\n",
              "<tr>\n",
              "  <th>Method:</th>             <td>Least Squares</td>  <th>  F-statistic:       </th> <td>   14.21</td>\n",
              "</tr>\n",
              "<tr>\n",
              "  <th>Date:</th>             <td>Wed, 03 Jun 2020</td> <th>  Prob (F-statistic):</th> <td>0.000183</td>\n",
              "</tr>\n",
              "<tr>\n",
              "  <th>Time:</th>                 <td>03:41:41</td>     <th>  Log-Likelihood:    </th> <td> -685.01</td>\n",
              "</tr>\n",
              "<tr>\n",
              "  <th>No. Observations:</th>      <td>   492</td>      <th>  AIC:               </th> <td>   1374.</td>\n",
              "</tr>\n",
              "<tr>\n",
              "  <th>Df Residuals:</th>          <td>   490</td>      <th>  BIC:               </th> <td>   1382.</td>\n",
              "</tr>\n",
              "<tr>\n",
              "  <th>Df Model:</th>              <td>     1</td>      <th>                     </th>     <td> </td>   \n",
              "</tr>\n",
              "<tr>\n",
              "  <th>Covariance Type:</th>      <td>nonrobust</td>    <th>                     </th>     <td> </td>   \n",
              "</tr>\n",
              "</table>\n",
              "<table class=\"simpletable\">\n",
              "<tr>\n",
              "    <td></td>       <th>coef</th>     <th>std err</th>      <th>t</th>      <th>P>|t|</th>  <th>[0.025</th>    <th>0.975]</th>  \n",
              "</tr>\n",
              "<tr>\n",
              "  <th>const</th> <td>  -28.0186</td> <td>    7.432</td> <td>   -3.770</td> <td> 0.000</td> <td>  -42.620</td> <td>  -13.417</td>\n",
              "</tr>\n",
              "<tr>\n",
              "  <th>Year</th>  <td>    0.0140</td> <td>    0.004</td> <td>    3.770</td> <td> 0.000</td> <td>    0.007</td> <td>    0.021</td>\n",
              "</tr>\n",
              "</table>\n",
              "<table class=\"simpletable\">\n",
              "<tr>\n",
              "  <th>Omnibus:</th>       <td> 2.055</td> <th>  Durbin-Watson:     </th> <td>   0.396</td>\n",
              "</tr>\n",
              "<tr>\n",
              "  <th>Prob(Omnibus):</th> <td> 0.358</td> <th>  Jarque-Bera (JB):  </th> <td>   2.048</td>\n",
              "</tr>\n",
              "<tr>\n",
              "  <th>Skew:</th>          <td> 0.015</td> <th>  Prob(JB):          </th> <td>   0.359</td>\n",
              "</tr>\n",
              "<tr>\n",
              "  <th>Kurtosis:</th>      <td> 3.315</td> <th>  Cond. No.          </th> <td>3.38e+05</td>\n",
              "</tr>\n",
              "</table><br/><br/>Warnings:<br/>[1] Standard Errors assume that the covariance matrix of the errors is correctly specified.<br/>[2] The condition number is large, 3.38e+05. This might indicate that there are<br/>strong multicollinearity or other numerical problems."
            ],
            "text/plain": [
              "<class 'statsmodels.iolib.summary.Summary'>\n",
              "\"\"\"\n",
              "                            OLS Regression Results                            \n",
              "==============================================================================\n",
              "Dep. Variable:                 Extent   R-squared:                       0.028\n",
              "Model:                            OLS   Adj. R-squared:                  0.026\n",
              "Method:                 Least Squares   F-statistic:                     14.21\n",
              "Date:                Wed, 03 Jun 2020   Prob (F-statistic):           0.000183\n",
              "Time:                        03:41:41   Log-Likelihood:                -685.01\n",
              "No. Observations:                 492   AIC:                             1374.\n",
              "Df Residuals:                     490   BIC:                             1382.\n",
              "Df Model:                           1                                         \n",
              "Covariance Type:            nonrobust                                         \n",
              "==============================================================================\n",
              "                 coef    std err          t      P>|t|      [0.025      0.975]\n",
              "------------------------------------------------------------------------------\n",
              "const        -28.0186      7.432     -3.770      0.000     -42.620     -13.417\n",
              "Year           0.0140      0.004      3.770      0.000       0.007       0.021\n",
              "==============================================================================\n",
              "Omnibus:                        2.055   Durbin-Watson:                   0.396\n",
              "Prob(Omnibus):                  0.358   Jarque-Bera (JB):                2.048\n",
              "Skew:                           0.015   Prob(JB):                        0.359\n",
              "Kurtosis:                       3.315   Cond. No.                     3.38e+05\n",
              "==============================================================================\n",
              "\n",
              "Warnings:\n",
              "[1] Standard Errors assume that the covariance matrix of the errors is correctly specified.\n",
              "[2] The condition number is large, 3.38e+05. This might indicate that there are\n",
              "strong multicollinearity or other numerical problems.\n",
              "\"\"\""
            ]
          },
          "metadata": {
            "tags": []
          },
          "execution_count": 32
        }
      ]
    },
    {
      "cell_type": "markdown",
      "metadata": {
        "id": "H-dYtAuAri7r",
        "colab_type": "text"
      },
      "source": [
        ""
      ]
    },
    {
      "cell_type": "markdown",
      "metadata": {
        "id": "-ZrJnZ8UG8Xo",
        "colab_type": "text"
      },
      "source": [
        "# 課題6\n",
        "\n",
        "南極海氷域について、全く同様に、分析をしてみよう。\n",
        "\n",
        ".ipynbファイルをBlackboardに提出してください。"
      ]
    },
    {
      "cell_type": "code",
      "metadata": {
        "id": "T8vc-YTlHTj4",
        "colab_type": "code",
        "colab": {}
      },
      "source": [
        ""
      ],
      "execution_count": 0,
      "outputs": []
    }
  ]
}
