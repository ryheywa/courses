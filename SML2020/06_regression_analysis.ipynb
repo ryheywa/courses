{
  "nbformat": 4,
  "nbformat_minor": 0,
  "metadata": {
    "kernelspec": {
      "name": "python3",
      "display_name": "Python 3"
    },
    "colab": {
      "name": "06_regression_analysis.ipynb",
      "provenance": [],
      "collapsed_sections": [],
      "include_colab_link": true
    }
  },
  "cells": [
    {
      "cell_type": "markdown",
      "metadata": {
        "id": "view-in-github",
        "colab_type": "text"
      },
      "source": [
        "<a href=\"https://colab.research.google.com/github/tomonari-masada/courses/blob/master/SML2020/06_regression_analysis.ipynb\" target=\"_parent\"><img src=\"https://colab.research.google.com/assets/colab-badge.svg\" alt=\"Open In Colab\"/></a>"
      ]
    },
    {
      "cell_type": "markdown",
      "metadata": {
        "id": "xAZtqbYidcwS",
        "colab_type": "text"
      },
      "source": [
        "# 実データの単回帰分析\n",
        "\n",
        "## description vs prediction \n",
        "\n",
        "今回は、単回帰をpredictionにではなくdescriptionに使う。\n",
        "\n",
        "* description＝与えられたデータを理解する\n",
        "\n",
        "* prediction＝未知の入力について出力を求めたい（機械学習の主戦場）\n",
        "\n",
        "* explanation＝因果関係の理解まで含む\n",
        "\n",
        "https://www.slideshare.net/gshmueli/to-explain-to-predict-or-to-describe\n"
      ]
    },
    {
      "cell_type": "markdown",
      "metadata": {
        "id": "MOFTt8Bde5CG",
        "colab_type": "text"
      },
      "source": [
        "# 今回参考にした本\n",
        "\n",
        "Laura Igual, Santi Seguí.<br/>\n",
        "Introduction to Data Science: A Python Approach to Concepts, Techniques and Applications. Springer. 2017.\n",
        "\n",
        "https://link.springer.com/book/10.1007%2F978-3-319-50017-1"
      ]
    },
    {
      "cell_type": "markdown",
      "metadata": {
        "id": "CpsF79N_dcwT",
        "colab_type": "text"
      },
      "source": [
        "# 海氷域面積と気候変動\n",
        "北半球と南半球の海氷域面積を分析し、面積が減少傾向にあるのかどうかを調べてみる。（上の本の6.2.1節より。）\n",
        "\n",
        "データは、下記の場所から取得。\n",
        "\n",
        "https://nsidc.org/data/seaice_index/archives\n",
        "\n",
        "\n",
        "「data」タブをクリックし、以下の2つのファイルをダウンロードしておく。\n",
        "*   [北極域の海氷域面積データ](ftp://sidads.colorado.edu/DATASETS/NOAA/G02135/north/daily/data/N_seaice_extent_daily_v3.0.csv)\n",
        "*   [南極域の海氷域面積データ](ftp://sidads.colorado.edu/DATASETS/NOAA/G02135/south/daily/data/S_seaice_extent_daily_v3.0.csv)\n",
        "\n",
        "<br/>\n",
        "参考：半旬ごとにまとめたデータなら、気象庁の下記のページにある。\n",
        "\n",
        "https://www.data.jma.go.jp/gmd/kaiyou/db/seaice/global/globe_area.html\n"
      ]
    },
    {
      "cell_type": "markdown",
      "metadata": {
        "id": "Wq1oKTGSqdje",
        "colab_type": "text"
      },
      "source": [
        "### 1) データファイルを読み込んで前処理をする"
      ]
    },
    {
      "cell_type": "code",
      "metadata": {
        "id": "EHET3FOhrgGu",
        "colab_type": "code",
        "colab": {}
      },
      "source": [
        "import pandas as pd"
      ],
      "execution_count": 0,
      "outputs": []
    },
    {
      "cell_type": "code",
      "metadata": {
        "scrolled": false,
        "id": "U-NuVczedcwm",
        "colab_type": "code",
        "outputId": "3f5e07dc-7690-46b7-f4b6-4f004bfec2bb",
        "colab": {
          "base_uri": "https://localhost:8080/",
          "height": 220
        }
      },
      "source": [
        "# 北半球のデータを扱う（南半球のデータは自習）\n",
        "n_ice = pd.read_csv('N_seaice_extent_daily_v3.0.csv')\n",
        "print('shape:', n_ice.shape)\n",
        "n_ice.head() "
      ],
      "execution_count": 2,
      "outputs": [
        {
          "output_type": "stream",
          "text": [
            "shape: (13491, 6)\n"
          ],
          "name": "stdout"
        },
        {
          "output_type": "execute_result",
          "data": {
            "text/html": [
              "<div>\n",
              "<style scoped>\n",
              "    .dataframe tbody tr th:only-of-type {\n",
              "        vertical-align: middle;\n",
              "    }\n",
              "\n",
              "    .dataframe tbody tr th {\n",
              "        vertical-align: top;\n",
              "    }\n",
              "\n",
              "    .dataframe thead th {\n",
              "        text-align: right;\n",
              "    }\n",
              "</style>\n",
              "<table border=\"1\" class=\"dataframe\">\n",
              "  <thead>\n",
              "    <tr style=\"text-align: right;\">\n",
              "      <th></th>\n",
              "      <th>Year</th>\n",
              "      <th>Month</th>\n",
              "      <th>Day</th>\n",
              "      <th>Extent</th>\n",
              "      <th>Missing</th>\n",
              "      <th>Source Data</th>\n",
              "    </tr>\n",
              "  </thead>\n",
              "  <tbody>\n",
              "    <tr>\n",
              "      <th>0</th>\n",
              "      <td>YYYY</td>\n",
              "      <td>MM</td>\n",
              "      <td>DD</td>\n",
              "      <td>10^6 sq km</td>\n",
              "      <td>10^6 sq km</td>\n",
              "      <td>Source data product web sites: http://nsidc.o...</td>\n",
              "    </tr>\n",
              "    <tr>\n",
              "      <th>1</th>\n",
              "      <td>1978</td>\n",
              "      <td>10</td>\n",
              "      <td>26</td>\n",
              "      <td>10.231</td>\n",
              "      <td>0.000</td>\n",
              "      <td>['ftp://sidads.colorado.edu/pub/DATASETS/nsid...</td>\n",
              "    </tr>\n",
              "    <tr>\n",
              "      <th>2</th>\n",
              "      <td>1978</td>\n",
              "      <td>10</td>\n",
              "      <td>28</td>\n",
              "      <td>10.420</td>\n",
              "      <td>0.000</td>\n",
              "      <td>['ftp://sidads.colorado.edu/pub/DATASETS/nsid...</td>\n",
              "    </tr>\n",
              "    <tr>\n",
              "      <th>3</th>\n",
              "      <td>1978</td>\n",
              "      <td>10</td>\n",
              "      <td>30</td>\n",
              "      <td>10.557</td>\n",
              "      <td>0.000</td>\n",
              "      <td>['ftp://sidads.colorado.edu/pub/DATASETS/nsid...</td>\n",
              "    </tr>\n",
              "    <tr>\n",
              "      <th>4</th>\n",
              "      <td>1978</td>\n",
              "      <td>11</td>\n",
              "      <td>01</td>\n",
              "      <td>10.670</td>\n",
              "      <td>0.000</td>\n",
              "      <td>['ftp://sidads.colorado.edu/pub/DATASETS/nsid...</td>\n",
              "    </tr>\n",
              "  </tbody>\n",
              "</table>\n",
              "</div>"
            ],
            "text/plain": [
              "   Year   Month  ...      Missing                                        Source Data\n",
              "0  YYYY      MM  ...   10^6 sq km   Source data product web sites: http://nsidc.o...\n",
              "1  1978      10  ...        0.000   ['ftp://sidads.colorado.edu/pub/DATASETS/nsid...\n",
              "2  1978      10  ...        0.000   ['ftp://sidads.colorado.edu/pub/DATASETS/nsid...\n",
              "3  1978      10  ...        0.000   ['ftp://sidads.colorado.edu/pub/DATASETS/nsid...\n",
              "4  1978      11  ...        0.000   ['ftp://sidads.colorado.edu/pub/DATASETS/nsid...\n",
              "\n",
              "[5 rows x 6 columns]"
            ]
          },
          "metadata": {
            "tags": []
          },
          "execution_count": 2
        }
      ]
    },
    {
      "cell_type": "markdown",
      "metadata": {
        "id": "xpoz6-ZuUF5E",
        "colab_type": "text"
      },
      "source": [
        "毎日のデータがあるわけではないことが分かる。\n",
        "\n",
        "（例：1978年10月27日のデータはない。）"
      ]
    },
    {
      "cell_type": "code",
      "metadata": {
        "id": "xz93p9CYrjXW",
        "colab_type": "code",
        "outputId": "f77706b1-7f17-4fe4-efff-b9eb4fe72f59",
        "colab": {
          "base_uri": "https://localhost:8080/",
          "height": 35
        }
      },
      "source": [
        "# 列名の文字列に空白がある\n",
        "n_ice.columns"
      ],
      "execution_count": 3,
      "outputs": [
        {
          "output_type": "execute_result",
          "data": {
            "text/plain": [
              "Index(['Year', ' Month', ' Day', '     Extent', '    Missing', ' Source Data'], dtype='object')"
            ]
          },
          "metadata": {
            "tags": []
          },
          "execution_count": 3
        }
      ]
    },
    {
      "cell_type": "code",
      "metadata": {
        "id": "6kdo_Ah6tTQs",
        "colab_type": "code",
        "outputId": "e3b3a4ba-faff-42f3-94ef-1b7d41931c3f",
        "colab": {
          "base_uri": "https://localhost:8080/",
          "height": 35
        }
      },
      "source": [
        "# 列名の空白を除去する\n",
        "n_ice.columns = n_ice.columns.str.strip()\n",
        "n_ice.columns"
      ],
      "execution_count": 4,
      "outputs": [
        {
          "output_type": "execute_result",
          "data": {
            "text/plain": [
              "Index(['Year', 'Month', 'Day', 'Extent', 'Missing', 'Source Data'], dtype='object')"
            ]
          },
          "metadata": {
            "tags": []
          },
          "execution_count": 4
        }
      ]
    },
    {
      "cell_type": "code",
      "metadata": {
        "id": "vKsNNDtXtdQ4",
        "colab_type": "code",
        "colab": {}
      },
      "source": [
        "# 必要な列だけ残す\n",
        "n_ice2 = n_ice[['Year', 'Month', 'Day', 'Extent']]"
      ],
      "execution_count": 0,
      "outputs": []
    },
    {
      "cell_type": "code",
      "metadata": {
        "id": "rRRd1_wltlte",
        "colab_type": "code",
        "outputId": "938e8e27-a91d-4331-e677-e001d5c06d9c",
        "colab": {
          "base_uri": "https://localhost:8080/",
          "height": 202
        }
      },
      "source": [
        "# 最初の行はデータのフォーマットの説明のようだ\n",
        "n_ice2.head()"
      ],
      "execution_count": 6,
      "outputs": [
        {
          "output_type": "execute_result",
          "data": {
            "text/html": [
              "<div>\n",
              "<style scoped>\n",
              "    .dataframe tbody tr th:only-of-type {\n",
              "        vertical-align: middle;\n",
              "    }\n",
              "\n",
              "    .dataframe tbody tr th {\n",
              "        vertical-align: top;\n",
              "    }\n",
              "\n",
              "    .dataframe thead th {\n",
              "        text-align: right;\n",
              "    }\n",
              "</style>\n",
              "<table border=\"1\" class=\"dataframe\">\n",
              "  <thead>\n",
              "    <tr style=\"text-align: right;\">\n",
              "      <th></th>\n",
              "      <th>Year</th>\n",
              "      <th>Month</th>\n",
              "      <th>Day</th>\n",
              "      <th>Extent</th>\n",
              "    </tr>\n",
              "  </thead>\n",
              "  <tbody>\n",
              "    <tr>\n",
              "      <th>0</th>\n",
              "      <td>YYYY</td>\n",
              "      <td>MM</td>\n",
              "      <td>DD</td>\n",
              "      <td>10^6 sq km</td>\n",
              "    </tr>\n",
              "    <tr>\n",
              "      <th>1</th>\n",
              "      <td>1978</td>\n",
              "      <td>10</td>\n",
              "      <td>26</td>\n",
              "      <td>10.231</td>\n",
              "    </tr>\n",
              "    <tr>\n",
              "      <th>2</th>\n",
              "      <td>1978</td>\n",
              "      <td>10</td>\n",
              "      <td>28</td>\n",
              "      <td>10.420</td>\n",
              "    </tr>\n",
              "    <tr>\n",
              "      <th>3</th>\n",
              "      <td>1978</td>\n",
              "      <td>10</td>\n",
              "      <td>30</td>\n",
              "      <td>10.557</td>\n",
              "    </tr>\n",
              "    <tr>\n",
              "      <th>4</th>\n",
              "      <td>1978</td>\n",
              "      <td>11</td>\n",
              "      <td>01</td>\n",
              "      <td>10.670</td>\n",
              "    </tr>\n",
              "  </tbody>\n",
              "</table>\n",
              "</div>"
            ],
            "text/plain": [
              "   Year   Month   Day       Extent\n",
              "0  YYYY      MM    DD   10^6 sq km\n",
              "1  1978      10    26       10.231\n",
              "2  1978      10    28       10.420\n",
              "3  1978      10    30       10.557\n",
              "4  1978      11    01       10.670"
            ]
          },
          "metadata": {
            "tags": []
          },
          "execution_count": 6
        }
      ]
    },
    {
      "cell_type": "code",
      "metadata": {
        "id": "DKFMb8N2tytT",
        "colab_type": "code",
        "outputId": "c981db8a-4cb7-499d-c1f8-1f0c1548f11d",
        "colab": {
          "base_uri": "https://localhost:8080/",
          "height": 202
        }
      },
      "source": [
        "# だから、最初の行は削除する\n",
        "n_ice3 = n_ice2.iloc[1:,]\n",
        "n_ice3.head()"
      ],
      "execution_count": 7,
      "outputs": [
        {
          "output_type": "execute_result",
          "data": {
            "text/html": [
              "<div>\n",
              "<style scoped>\n",
              "    .dataframe tbody tr th:only-of-type {\n",
              "        vertical-align: middle;\n",
              "    }\n",
              "\n",
              "    .dataframe tbody tr th {\n",
              "        vertical-align: top;\n",
              "    }\n",
              "\n",
              "    .dataframe thead th {\n",
              "        text-align: right;\n",
              "    }\n",
              "</style>\n",
              "<table border=\"1\" class=\"dataframe\">\n",
              "  <thead>\n",
              "    <tr style=\"text-align: right;\">\n",
              "      <th></th>\n",
              "      <th>Year</th>\n",
              "      <th>Month</th>\n",
              "      <th>Day</th>\n",
              "      <th>Extent</th>\n",
              "    </tr>\n",
              "  </thead>\n",
              "  <tbody>\n",
              "    <tr>\n",
              "      <th>1</th>\n",
              "      <td>1978</td>\n",
              "      <td>10</td>\n",
              "      <td>26</td>\n",
              "      <td>10.231</td>\n",
              "    </tr>\n",
              "    <tr>\n",
              "      <th>2</th>\n",
              "      <td>1978</td>\n",
              "      <td>10</td>\n",
              "      <td>28</td>\n",
              "      <td>10.420</td>\n",
              "    </tr>\n",
              "    <tr>\n",
              "      <th>3</th>\n",
              "      <td>1978</td>\n",
              "      <td>10</td>\n",
              "      <td>30</td>\n",
              "      <td>10.557</td>\n",
              "    </tr>\n",
              "    <tr>\n",
              "      <th>4</th>\n",
              "      <td>1978</td>\n",
              "      <td>11</td>\n",
              "      <td>01</td>\n",
              "      <td>10.670</td>\n",
              "    </tr>\n",
              "    <tr>\n",
              "      <th>5</th>\n",
              "      <td>1978</td>\n",
              "      <td>11</td>\n",
              "      <td>03</td>\n",
              "      <td>10.777</td>\n",
              "    </tr>\n",
              "  </tbody>\n",
              "</table>\n",
              "</div>"
            ],
            "text/plain": [
              "   Year   Month   Day       Extent\n",
              "1  1978      10    26       10.231\n",
              "2  1978      10    28       10.420\n",
              "3  1978      10    30       10.557\n",
              "4  1978      11    01       10.670\n",
              "5  1978      11    03       10.777"
            ]
          },
          "metadata": {
            "tags": []
          },
          "execution_count": 7
        }
      ]
    },
    {
      "cell_type": "code",
      "metadata": {
        "id": "EPdoLupeuERU",
        "colab_type": "code",
        "outputId": "d868f685-a496-47af-e568-af99d165134f",
        "colab": {
          "base_uri": "https://localhost:8080/",
          "height": 202
        }
      },
      "source": [
        "# 1978年と2020年はデータが完全でないので、削除する\n",
        "n_ice4 = n_ice3.loc[(n_ice3['Year'] != '1978') & (n_ice3['Year'] != '2020'),]\n",
        "n_ice4.head()"
      ],
      "execution_count": 8,
      "outputs": [
        {
          "output_type": "execute_result",
          "data": {
            "text/html": [
              "<div>\n",
              "<style scoped>\n",
              "    .dataframe tbody tr th:only-of-type {\n",
              "        vertical-align: middle;\n",
              "    }\n",
              "\n",
              "    .dataframe tbody tr th {\n",
              "        vertical-align: top;\n",
              "    }\n",
              "\n",
              "    .dataframe thead th {\n",
              "        text-align: right;\n",
              "    }\n",
              "</style>\n",
              "<table border=\"1\" class=\"dataframe\">\n",
              "  <thead>\n",
              "    <tr style=\"text-align: right;\">\n",
              "      <th></th>\n",
              "      <th>Year</th>\n",
              "      <th>Month</th>\n",
              "      <th>Day</th>\n",
              "      <th>Extent</th>\n",
              "    </tr>\n",
              "  </thead>\n",
              "  <tbody>\n",
              "    <tr>\n",
              "      <th>35</th>\n",
              "      <td>1979</td>\n",
              "      <td>01</td>\n",
              "      <td>02</td>\n",
              "      <td>14.997</td>\n",
              "    </tr>\n",
              "    <tr>\n",
              "      <th>36</th>\n",
              "      <td>1979</td>\n",
              "      <td>01</td>\n",
              "      <td>04</td>\n",
              "      <td>14.922</td>\n",
              "    </tr>\n",
              "    <tr>\n",
              "      <th>37</th>\n",
              "      <td>1979</td>\n",
              "      <td>01</td>\n",
              "      <td>06</td>\n",
              "      <td>14.929</td>\n",
              "    </tr>\n",
              "    <tr>\n",
              "      <th>38</th>\n",
              "      <td>1979</td>\n",
              "      <td>01</td>\n",
              "      <td>08</td>\n",
              "      <td>14.968</td>\n",
              "    </tr>\n",
              "    <tr>\n",
              "      <th>39</th>\n",
              "      <td>1979</td>\n",
              "      <td>01</td>\n",
              "      <td>10</td>\n",
              "      <td>15.190</td>\n",
              "    </tr>\n",
              "  </tbody>\n",
              "</table>\n",
              "</div>"
            ],
            "text/plain": [
              "    Year   Month   Day       Extent\n",
              "35  1979      01    02       14.997\n",
              "36  1979      01    04       14.922\n",
              "37  1979      01    06       14.929\n",
              "38  1979      01    08       14.968\n",
              "39  1979      01    10       15.190"
            ]
          },
          "metadata": {
            "tags": []
          },
          "execution_count": 8
        }
      ]
    },
    {
      "cell_type": "code",
      "metadata": {
        "id": "8SUELlSjvXKa",
        "colab_type": "code",
        "outputId": "1d8b19dc-dd7c-49ff-d7bb-182916dad071",
        "colab": {
          "base_uri": "https://localhost:8080/",
          "height": 202
        }
      },
      "source": [
        "n_ice4.tail()"
      ],
      "execution_count": 9,
      "outputs": [
        {
          "output_type": "execute_result",
          "data": {
            "text/html": [
              "<div>\n",
              "<style scoped>\n",
              "    .dataframe tbody tr th:only-of-type {\n",
              "        vertical-align: middle;\n",
              "    }\n",
              "\n",
              "    .dataframe tbody tr th {\n",
              "        vertical-align: top;\n",
              "    }\n",
              "\n",
              "    .dataframe thead th {\n",
              "        text-align: right;\n",
              "    }\n",
              "</style>\n",
              "<table border=\"1\" class=\"dataframe\">\n",
              "  <thead>\n",
              "    <tr style=\"text-align: right;\">\n",
              "      <th></th>\n",
              "      <th>Year</th>\n",
              "      <th>Month</th>\n",
              "      <th>Day</th>\n",
              "      <th>Extent</th>\n",
              "    </tr>\n",
              "  </thead>\n",
              "  <tbody>\n",
              "    <tr>\n",
              "      <th>13387</th>\n",
              "      <td>2019</td>\n",
              "      <td>12</td>\n",
              "      <td>27</td>\n",
              "      <td>12.764</td>\n",
              "    </tr>\n",
              "    <tr>\n",
              "      <th>13388</th>\n",
              "      <td>2019</td>\n",
              "      <td>12</td>\n",
              "      <td>28</td>\n",
              "      <td>12.729</td>\n",
              "    </tr>\n",
              "    <tr>\n",
              "      <th>13389</th>\n",
              "      <td>2019</td>\n",
              "      <td>12</td>\n",
              "      <td>29</td>\n",
              "      <td>12.800</td>\n",
              "    </tr>\n",
              "    <tr>\n",
              "      <th>13390</th>\n",
              "      <td>2019</td>\n",
              "      <td>12</td>\n",
              "      <td>30</td>\n",
              "      <td>12.912</td>\n",
              "    </tr>\n",
              "    <tr>\n",
              "      <th>13391</th>\n",
              "      <td>2019</td>\n",
              "      <td>12</td>\n",
              "      <td>31</td>\n",
              "      <td>12.949</td>\n",
              "    </tr>\n",
              "  </tbody>\n",
              "</table>\n",
              "</div>"
            ],
            "text/plain": [
              "       Year   Month   Day       Extent\n",
              "13387  2019      12    27       12.764\n",
              "13388  2019      12    28       12.729\n",
              "13389  2019      12    29       12.800\n",
              "13390  2019      12    30       12.912\n",
              "13391  2019      12    31       12.949"
            ]
          },
          "metadata": {
            "tags": []
          },
          "execution_count": 9
        }
      ]
    },
    {
      "cell_type": "code",
      "metadata": {
        "id": "6jX7kMeMKrRD",
        "colab_type": "code",
        "outputId": "de6d6a52-c50d-4a07-8d74-2e3ab7273481",
        "colab": {
          "base_uri": "https://localhost:8080/",
          "height": 202
        }
      },
      "source": [
        "# 数値化する（年月日は整数に。海氷域面積は浮動小数点数に。）\n",
        "int_cols = ['Year', 'Month', 'Day']\n",
        "cols_as_int = n_ice4[int_cols].astype(int)\n",
        "col_as_float = n_ice4['Extent'].astype(float)\n",
        "n_ice = pd.concat([cols_as_int, col_as_float], axis=1)\n",
        "n_ice.head()"
      ],
      "execution_count": 10,
      "outputs": [
        {
          "output_type": "execute_result",
          "data": {
            "text/html": [
              "<div>\n",
              "<style scoped>\n",
              "    .dataframe tbody tr th:only-of-type {\n",
              "        vertical-align: middle;\n",
              "    }\n",
              "\n",
              "    .dataframe tbody tr th {\n",
              "        vertical-align: top;\n",
              "    }\n",
              "\n",
              "    .dataframe thead th {\n",
              "        text-align: right;\n",
              "    }\n",
              "</style>\n",
              "<table border=\"1\" class=\"dataframe\">\n",
              "  <thead>\n",
              "    <tr style=\"text-align: right;\">\n",
              "      <th></th>\n",
              "      <th>Year</th>\n",
              "      <th>Month</th>\n",
              "      <th>Day</th>\n",
              "      <th>Extent</th>\n",
              "    </tr>\n",
              "  </thead>\n",
              "  <tbody>\n",
              "    <tr>\n",
              "      <th>35</th>\n",
              "      <td>1979</td>\n",
              "      <td>1</td>\n",
              "      <td>2</td>\n",
              "      <td>14.997</td>\n",
              "    </tr>\n",
              "    <tr>\n",
              "      <th>36</th>\n",
              "      <td>1979</td>\n",
              "      <td>1</td>\n",
              "      <td>4</td>\n",
              "      <td>14.922</td>\n",
              "    </tr>\n",
              "    <tr>\n",
              "      <th>37</th>\n",
              "      <td>1979</td>\n",
              "      <td>1</td>\n",
              "      <td>6</td>\n",
              "      <td>14.929</td>\n",
              "    </tr>\n",
              "    <tr>\n",
              "      <th>38</th>\n",
              "      <td>1979</td>\n",
              "      <td>1</td>\n",
              "      <td>8</td>\n",
              "      <td>14.968</td>\n",
              "    </tr>\n",
              "    <tr>\n",
              "      <th>39</th>\n",
              "      <td>1979</td>\n",
              "      <td>1</td>\n",
              "      <td>10</td>\n",
              "      <td>15.190</td>\n",
              "    </tr>\n",
              "  </tbody>\n",
              "</table>\n",
              "</div>"
            ],
            "text/plain": [
              "    Year  Month  Day  Extent\n",
              "35  1979      1    2  14.997\n",
              "36  1979      1    4  14.922\n",
              "37  1979      1    6  14.929\n",
              "38  1979      1    8  14.968\n",
              "39  1979      1   10  15.190"
            ]
          },
          "metadata": {
            "tags": []
          },
          "execution_count": 10
        }
      ]
    },
    {
      "cell_type": "code",
      "metadata": {
        "id": "ZuPOkOTSyOsn",
        "colab_type": "code",
        "outputId": "fff17d33-95ba-425e-ecf6-54831708eb4d",
        "colab": {
          "base_uri": "https://localhost:8080/",
          "height": 202
        }
      },
      "source": [
        "# 行のindexを打ち直す\n",
        "n_ice.reset_index(drop=True, inplace=True)\n",
        "n_ice.head()"
      ],
      "execution_count": 11,
      "outputs": [
        {
          "output_type": "execute_result",
          "data": {
            "text/html": [
              "<div>\n",
              "<style scoped>\n",
              "    .dataframe tbody tr th:only-of-type {\n",
              "        vertical-align: middle;\n",
              "    }\n",
              "\n",
              "    .dataframe tbody tr th {\n",
              "        vertical-align: top;\n",
              "    }\n",
              "\n",
              "    .dataframe thead th {\n",
              "        text-align: right;\n",
              "    }\n",
              "</style>\n",
              "<table border=\"1\" class=\"dataframe\">\n",
              "  <thead>\n",
              "    <tr style=\"text-align: right;\">\n",
              "      <th></th>\n",
              "      <th>Year</th>\n",
              "      <th>Month</th>\n",
              "      <th>Day</th>\n",
              "      <th>Extent</th>\n",
              "    </tr>\n",
              "  </thead>\n",
              "  <tbody>\n",
              "    <tr>\n",
              "      <th>0</th>\n",
              "      <td>1979</td>\n",
              "      <td>1</td>\n",
              "      <td>2</td>\n",
              "      <td>14.997</td>\n",
              "    </tr>\n",
              "    <tr>\n",
              "      <th>1</th>\n",
              "      <td>1979</td>\n",
              "      <td>1</td>\n",
              "      <td>4</td>\n",
              "      <td>14.922</td>\n",
              "    </tr>\n",
              "    <tr>\n",
              "      <th>2</th>\n",
              "      <td>1979</td>\n",
              "      <td>1</td>\n",
              "      <td>6</td>\n",
              "      <td>14.929</td>\n",
              "    </tr>\n",
              "    <tr>\n",
              "      <th>3</th>\n",
              "      <td>1979</td>\n",
              "      <td>1</td>\n",
              "      <td>8</td>\n",
              "      <td>14.968</td>\n",
              "    </tr>\n",
              "    <tr>\n",
              "      <th>4</th>\n",
              "      <td>1979</td>\n",
              "      <td>1</td>\n",
              "      <td>10</td>\n",
              "      <td>15.190</td>\n",
              "    </tr>\n",
              "  </tbody>\n",
              "</table>\n",
              "</div>"
            ],
            "text/plain": [
              "   Year  Month  Day  Extent\n",
              "0  1979      1    2  14.997\n",
              "1  1979      1    4  14.922\n",
              "2  1979      1    6  14.929\n",
              "3  1979      1    8  14.968\n",
              "4  1979      1   10  15.190"
            ]
          },
          "metadata": {
            "tags": []
          },
          "execution_count": 11
        }
      ]
    },
    {
      "cell_type": "code",
      "metadata": {
        "id": "vZy_GFIbNVBI",
        "colab_type": "code",
        "outputId": "0adeed3c-fc66-4556-bb8b-8ed3218037b9",
        "colab": {
          "base_uri": "https://localhost:8080/",
          "height": 179
        }
      },
      "source": [
        "# おかしな値がないかチェックする\n",
        "# （欠測値が特殊な値で表されていたりするデータもあるため。）\n",
        "n_ice.describe()['Extent']"
      ],
      "execution_count": 12,
      "outputs": [
        {
          "output_type": "execute_result",
          "data": {
            "text/plain": [
              "count    13357.000000\n",
              "mean        11.303127\n",
              "std          3.286177\n",
              "min          3.340000\n",
              "25%          8.566000\n",
              "50%         11.990000\n",
              "75%         14.215000\n",
              "max         16.635000\n",
              "Name: Extent, dtype: float64"
            ]
          },
          "metadata": {
            "tags": []
          },
          "execution_count": 12
        }
      ]
    },
    {
      "cell_type": "markdown",
      "metadata": {
        "id": "K48euX5VvpFZ",
        "colab_type": "text"
      },
      "source": [
        "### 2) 一ヶ月ごとにデータをまとめて、平均をとる\n",
        "これは、「同じ月の中での値の変動は、ノイズにすぎない」と、仮定していることに相当する。\n",
        "\n",
        "もちろん、このように仮定するのが正しいかどうかは、分からない。"
      ]
    },
    {
      "cell_type": "code",
      "metadata": {
        "id": "s0JnhCeXvtB6",
        "colab_type": "code",
        "outputId": "3e979eae-f192-41ac-bb18-de7dd52e07f4",
        "colab": {
          "base_uri": "https://localhost:8080/",
          "height": 202
        }
      },
      "source": [
        "n_ice_grouped = n_ice.groupby(['Year', 'Month'], as_index=False)\n",
        "n_ice_monthly = n_ice_grouped.mean()[['Year', 'Month', 'Extent']]\n",
        "n_ice_monthly.head()"
      ],
      "execution_count": 13,
      "outputs": [
        {
          "output_type": "execute_result",
          "data": {
            "text/html": [
              "<div>\n",
              "<style scoped>\n",
              "    .dataframe tbody tr th:only-of-type {\n",
              "        vertical-align: middle;\n",
              "    }\n",
              "\n",
              "    .dataframe tbody tr th {\n",
              "        vertical-align: top;\n",
              "    }\n",
              "\n",
              "    .dataframe thead th {\n",
              "        text-align: right;\n",
              "    }\n",
              "</style>\n",
              "<table border=\"1\" class=\"dataframe\">\n",
              "  <thead>\n",
              "    <tr style=\"text-align: right;\">\n",
              "      <th></th>\n",
              "      <th>Year</th>\n",
              "      <th>Month</th>\n",
              "      <th>Extent</th>\n",
              "    </tr>\n",
              "  </thead>\n",
              "  <tbody>\n",
              "    <tr>\n",
              "      <th>0</th>\n",
              "      <td>1979</td>\n",
              "      <td>1</td>\n",
              "      <td>15.414000</td>\n",
              "    </tr>\n",
              "    <tr>\n",
              "      <th>1</th>\n",
              "      <td>1979</td>\n",
              "      <td>2</td>\n",
              "      <td>16.175286</td>\n",
              "    </tr>\n",
              "    <tr>\n",
              "      <th>2</th>\n",
              "      <td>1979</td>\n",
              "      <td>3</td>\n",
              "      <td>16.341938</td>\n",
              "    </tr>\n",
              "    <tr>\n",
              "      <th>3</th>\n",
              "      <td>1979</td>\n",
              "      <td>4</td>\n",
              "      <td>15.446800</td>\n",
              "    </tr>\n",
              "    <tr>\n",
              "      <th>4</th>\n",
              "      <td>1979</td>\n",
              "      <td>5</td>\n",
              "      <td>13.856867</td>\n",
              "    </tr>\n",
              "  </tbody>\n",
              "</table>\n",
              "</div>"
            ],
            "text/plain": [
              "   Year  Month     Extent\n",
              "0  1979      1  15.414000\n",
              "1  1979      2  16.175286\n",
              "2  1979      3  16.341938\n",
              "3  1979      4  15.446800\n",
              "4  1979      5  13.856867"
            ]
          },
          "metadata": {
            "tags": []
          },
          "execution_count": 13
        }
      ]
    },
    {
      "cell_type": "code",
      "metadata": {
        "id": "8nkMEyDyE52n",
        "colab_type": "code",
        "colab": {}
      },
      "source": [
        "# 変数名を付け直す\n",
        "n_ice = n_ice_monthly"
      ],
      "execution_count": 0,
      "outputs": []
    },
    {
      "cell_type": "code",
      "metadata": {
        "scrolled": false,
        "id": "vA7kd6opdcwT",
        "colab_type": "code",
        "colab": {}
      },
      "source": [
        "# 可視化の準備\n",
        "import numpy as np\n",
        "import matplotlib.pylab as plt"
      ],
      "execution_count": 0,
      "outputs": []
    },
    {
      "cell_type": "markdown",
      "metadata": {
        "id": "2idcjSW42TE5",
        "colab_type": "text"
      },
      "source": [
        "横軸は年にし、同じ年のデータは縦方向にまとめてプロットしてみる。"
      ]
    },
    {
      "cell_type": "code",
      "metadata": {
        "scrolled": false,
        "id": "1ZYOL6jKdcws",
        "colab_type": "code",
        "outputId": "ae03c44d-a4f0-4d26-a53b-a0daf908a766",
        "colab": {
          "base_uri": "https://localhost:8080/",
          "height": 350
        }
      },
      "source": [
        "plt.style.use('seaborn-whitegrid')\n",
        "plt.rc('xtick', labelsize = 10) \n",
        "plt.rc('ytick', labelsize = 10) \n",
        "plt.rc('font', size = 12) \n",
        "plt.rc('figure', figsize = (12, 5))\n",
        "\n",
        "x = n_ice.Year\n",
        "y = n_ice.Extent\n",
        "plt.scatter(x, y, color = 'red')\n",
        "plt.xlabel('Year')\n",
        "plt.ylabel('Extent')"
      ],
      "execution_count": 16,
      "outputs": [
        {
          "output_type": "execute_result",
          "data": {
            "text/plain": [
              "Text(0, 0.5, 'Extent')"
            ]
          },
          "metadata": {
            "tags": []
          },
          "execution_count": 16
        },
        {
          "output_type": "display_data",
          "data": {
            "image/png": "[encoded data removed]",
            "text/plain": [
              "<Figure size 864x360 with 1 Axes>"
            ]
          },
          "metadata": {
            "tags": []
          }
        }
      ]
    },
    {
      "cell_type": "markdown",
      "metadata": {
        "id": "lCOLo1CxxJcy",
        "colab_type": "text"
      },
      "source": [
        "どうやら、一年の間に、かなり値が変動するらしい。\n",
        "\n",
        "このままだと、一年の間の変化が目立ち過ぎて、全体的な変化が分かりにくい。"
      ]
    },
    {
      "cell_type": "markdown",
      "metadata": {
        "id": "diXb3BI3ON0J",
        "colab_type": "text"
      },
      "source": [
        "### 3) 一年間の範囲内での変化のパターンを可視化する"
      ]
    },
    {
      "cell_type": "code",
      "metadata": {
        "id": "_8efR6YMQAqA",
        "colab_type": "code",
        "outputId": "f11740fe-19ec-41c2-d4ee-2e8059f0cbda",
        "colab": {
          "base_uri": "https://localhost:8080/",
          "height": 73
        }
      },
      "source": [
        "# seabornを使う準備\n",
        "import seaborn as sns\n",
        "sns.set_style(\"whitegrid\")\n",
        "sns.set_context(\"notebook\", font_scale=1, rc={\"lines.linewidth\": 2,'font.family': [u'times']})"
      ],
      "execution_count": 17,
      "outputs": [
        {
          "output_type": "stream",
          "text": [
            "/usr/local/lib/python3.6/dist-packages/statsmodels/tools/_testing.py:19: FutureWarning: pandas.util.testing is deprecated. Use the functions in the public API at pandas.testing instead.\n",
            "  import pandas.util.testing as tm\n"
          ],
          "name": "stderr"
        }
      ]
    },
    {
      "cell_type": "code",
      "metadata": {
        "scrolled": false,
        "id": "b_LKBH62dcw2",
        "colab_type": "code",
        "outputId": "8fe23461-1eb0-4df0-cd34-a686a561f653",
        "colab": {
          "base_uri": "https://localhost:8080/",
          "height": 339
        }
      },
      "source": [
        "# seabornの散布図で、年の違いを横断して、各月ごとに面積データを可視化する。\n",
        "# つまり、面積データに季節性があるかどうかを確認する。\n",
        "sns.scatterplot(x=\"Month\", y=\"Extent\", hue=\"Year\", data=n_ice)\n",
        "plt.savefig(\"IceExtentByMonth.png\", dpi = 300, bbox_inches = 'tight')"
      ],
      "execution_count": 18,
      "outputs": [
        {
          "output_type": "display_data",
          "data": {
            "image/png": "[encoded data removed]",
            "text/plain": [
              "<Figure size 864x360 with 1 Axes>"
            ]
          },
          "metadata": {
            "tags": []
          }
        }
      ]
    },
    {
      "cell_type": "markdown",
      "metadata": {
        "id": "tsy0nu4aUO1a",
        "colab_type": "text"
      },
      "source": [
        "一年間の間で、はっきりした周期的な変化パターンがあることがわかる。\n",
        "\n",
        "つまり、「この月は、だいたいこのぐらい値」という値があることが分かる。"
      ]
    },
    {
      "cell_type": "markdown",
      "metadata": {
        "id": "Qa-py4A3Uozt",
        "colab_type": "text"
      },
      "source": [
        "### 4) 一年間の範囲内に見られる変化パターンを取り除く"
      ]
    },
    {
      "cell_type": "code",
      "metadata": {
        "scrolled": false,
        "id": "Cw8RXEkNdcw4",
        "colab_type": "code",
        "outputId": "40c811b2-5165-4071-cc53-93f8f43697ba",
        "colab": {
          "base_uri": "https://localhost:8080/",
          "height": 539
        }
      },
      "source": [
        "# 各月のデータの、すべての年にわたる平均と標準偏差を求める。\n",
        "grouped = n_ice.groupby('Month')\n",
        "month_means = grouped.Extent.mean()\n",
        "month_stds = grouped.Extent.std()\n",
        "print('Means:', month_means)\n",
        "print()\n",
        "print('Standard deviations:',month_stds)"
      ],
      "execution_count": 19,
      "outputs": [
        {
          "output_type": "stream",
          "text": [
            "Means: Month\n",
            "1     14.268192\n",
            "2     15.129459\n",
            "3     15.284289\n",
            "4     14.564178\n",
            "5     13.147218\n",
            "6     11.581137\n",
            "7      9.176441\n",
            "8      6.857813\n",
            "9      6.066433\n",
            "10     7.976225\n",
            "11    10.480825\n",
            "12    12.672548\n",
            "Name: Extent, dtype: float64\n",
            "\n",
            "Standard deviations: Month\n",
            "1     0.608141\n",
            "2     0.604162\n",
            "3     0.559459\n",
            "4     0.544620\n",
            "5     0.511909\n",
            "6     0.611717\n",
            "7     0.903896\n",
            "8     1.008838\n",
            "9     1.117111\n",
            "10    1.100451\n",
            "11    0.716940\n",
            "12    0.592981\n",
            "Name: Extent, dtype: float64\n"
          ],
          "name": "stdout"
        }
      ]
    },
    {
      "cell_type": "code",
      "metadata": {
        "id": "LaxsILgx2uP_",
        "colab_type": "code",
        "outputId": "92fb4844-ffcf-4e7c-faa2-7f2073714eaa",
        "colab": {
          "base_uri": "https://localhost:8080/",
          "height": 585
        }
      },
      "source": [
        "# 試みに、ヒストグラムを月別に描いてみる。\n",
        "n_ice.Extent.hist(by=n_ice_monthly.Month)"
      ],
      "execution_count": 20,
      "outputs": [
        {
          "output_type": "execute_result",
          "data": {
            "text/plain": [
              "array([[<matplotlib.axes._subplots.AxesSubplot object at 0x7efe4bcb81d0>,\n",
              "        <matplotlib.axes._subplots.AxesSubplot object at 0x7efe4bc14438>,\n",
              "        <matplotlib.axes._subplots.AxesSubplot object at 0x7efe4bbc5a90>],\n",
              "       [<matplotlib.axes._subplots.AxesSubplot object at 0x7efe4bb84128>,\n",
              "        <matplotlib.axes._subplots.AxesSubplot object at 0x7efe4bbb4780>,\n",
              "        <matplotlib.axes._subplots.AxesSubplot object at 0x7efe4bb63dd8>],\n",
              "       [<matplotlib.axes._subplots.AxesSubplot object at 0x7efe4bb1f470>,\n",
              "        <matplotlib.axes._subplots.AxesSubplot object at 0x7efe4bacfa90>,\n",
              "        <matplotlib.axes._subplots.AxesSubplot object at 0x7efe4bacfb00>],\n",
              "       [<matplotlib.axes._subplots.AxesSubplot object at 0x7efe4ba3d7b8>,\n",
              "        <matplotlib.axes._subplots.AxesSubplot object at 0x7efe4ba6ee10>,\n",
              "        <matplotlib.axes._subplots.AxesSubplot object at 0x7efe4ba2d4a8>]],\n",
              "      dtype=object)"
            ]
          },
          "metadata": {
            "tags": []
          },
          "execution_count": 20
        },
        {
          "output_type": "display_data",
          "data": {
            "image/png": "[encoded data removed]",
            "text/plain": [
              "<Figure size 864x360 with 12 Axes>"
            ]
          },
          "metadata": {
            "tags": []
          }
        }
      ]
    },
    {
      "cell_type": "code",
      "metadata": {
        "scrolled": false,
        "id": "3b99WEk7dcw7",
        "colab_type": "code",
        "colab": {}
      },
      "source": [
        "# 月ごとにz値へ変換する。（よく使うデータ標準化の手法。）\n",
        "for i in range(1, 13):\n",
        "  idx = n_ice.Month == i\n",
        "  z_values = (n_ice.loc[idx, 'Extent'] - month_means[i]) / month_stds[i]\n",
        "  n_ice.loc[idx, 'Extent'] = z_values"
      ],
      "execution_count": 0,
      "outputs": []
    },
    {
      "cell_type": "markdown",
      "metadata": {
        "id": "6Wr0i--h0-F6",
        "colab_type": "text"
      },
      "source": [
        "この計算は、\n",
        "\n",
        "「同じ月であれば、年が変わっても、面積データの変動は正規分布で表現できる」\n",
        "\n",
        "と仮定した上で、行っている。もちろん、この仮定が正しいかどうかは、分からない。"
      ]
    },
    {
      "cell_type": "code",
      "metadata": {
        "id": "MXgppXOaVols",
        "colab_type": "code",
        "outputId": "737f90a0-84a9-49ab-cc8d-d08da3f38648",
        "colab": {
          "base_uri": "https://localhost:8080/",
          "height": 339
        }
      },
      "source": [
        "# z値に変換したので、改めて、年の違いを横断して、各月ごとに面積データを可視化する。\n",
        "sns.scatterplot(x=\"Month\", y=\"Extent\", hue=\"Year\", data=n_ice)\n",
        "plt.savefig(\"IceExtentZscoreByMonth.png\", dpi = 300, bbox_inches = 'tight')"
      ],
      "execution_count": 22,
      "outputs": [
        {
          "output_type": "display_data",
          "data": {
            "image/png": "[encoded data removed]",
            "text/plain": [
              "<Figure size 864x360 with 1 Axes>"
            ]
          },
          "metadata": {
            "tags": []
          }
        }
      ]
    },
    {
      "cell_type": "markdown",
      "metadata": {
        "id": "cc7n-ZkVdcxD",
        "colab_type": "text"
      },
      "source": [
        "### 5) 1979年〜2019年の全範囲での変化の様子を見る"
      ]
    },
    {
      "cell_type": "markdown",
      "metadata": {
        "id": "Z-Ogbfo6dcxD",
        "colab_type": "text"
      },
      "source": [
        "各月の個性は、すでに消した。\n",
        "\n",
        "その上で、1979年から2019年まで、全範囲での面積の変化の傾向を見る。"
      ]
    },
    {
      "cell_type": "code",
      "metadata": {
        "scrolled": false,
        "id": "vCYQvOmZdcxE",
        "colab_type": "code",
        "outputId": "c7dab433-b8ee-4bea-cccd-35cb0d82cdc5",
        "colab": {
          "base_uri": "https://localhost:8080/",
          "height": 435
        }
      },
      "source": [
        "# seabornの単回帰のプロットを利用する。\n",
        "sns.lmplot(\"Year\", \"Extent\", n_ice, size = 5.2, aspect = 2);\n",
        "plt.savefig(\"IceExtentAllMonthsByYearlmplot.png\", dpi = 300, bbox_inches = 'tight')"
      ],
      "execution_count": 23,
      "outputs": [
        {
          "output_type": "stream",
          "text": [
            "/usr/local/lib/python3.6/dist-packages/seaborn/regression.py:573: UserWarning: The `size` parameter has been renamed to `height`; please update your code.\n",
            "  warnings.warn(msg, UserWarning)\n"
          ],
          "name": "stderr"
        },
        {
          "output_type": "display_data",
          "data": {
            "image/png": "[encoded data removed]",
            "text/plain": [
              "<Figure size 748.8x374.4 with 1 Axes>"
            ]
          },
          "metadata": {
            "tags": []
          }
        }
      ]
    },
    {
      "cell_type": "markdown",
      "metadata": {
        "id": "jb86oQc87Mvj",
        "colab_type": "text"
      },
      "source": [
        "*   直線でfittingしても、悪くなさそう。\n",
        "*   そして、面積減少の傾向が見て取れる。\n",
        "\n"
      ]
    },
    {
      "cell_type": "code",
      "metadata": {
        "scrolled": false,
        "id": "P00n3tA6dcxM",
        "colab_type": "code",
        "outputId": "f71f676b-42bd-4b43-8c56-384f55872016",
        "colab": {
          "base_uri": "https://localhost:8080/",
          "height": 35
        }
      },
      "source": [
        "# ピアソンの相関係数と、無相関の検定のp値を求める。\n",
        "import scipy.stats\n",
        "scipy.stats.pearsonr(n_ice.Year.values, n_ice.Extent.values)"
      ],
      "execution_count": 24,
      "outputs": [
        {
          "output_type": "execute_result",
          "data": {
            "text/plain": [
              "(-0.8978279138240126, 1.154895205068565e-176)"
            ]
          },
          "metadata": {
            "tags": []
          },
          "execution_count": 24
        }
      ]
    },
    {
      "cell_type": "markdown",
      "metadata": {
        "id": "ie0fEcENyQ0G",
        "colab_type": "text"
      },
      "source": [
        "\n",
        "\n",
        "---\n",
        "\n"
      ]
    },
    {
      "cell_type": "markdown",
      "metadata": {
        "id": "CwsCM6sDdcxO",
        "colab_type": "text"
      },
      "source": [
        "### 6) sklearnの線形回帰を使った分析"
      ]
    },
    {
      "cell_type": "code",
      "metadata": {
        "scrolled": false,
        "id": "ZMGQ48XsdcxP",
        "colab_type": "code",
        "outputId": "fc9f830c-194f-4c1c-ee04-fd8d24686d0e",
        "colab": {
          "base_uri": "https://localhost:8080/",
          "height": 53
        }
      },
      "source": [
        "from sklearn.linear_model import LinearRegression\n",
        "\n",
        "reg = LinearRegression()\n",
        "\n",
        "x = n_ice[['Year']]\n",
        "y = n_ice[['Extent']]\n",
        "\n",
        "reg.fit(x, y)\n",
        "\n",
        "print('Coefficients:', reg.coef_)\n",
        "print('Intercept:', reg.intercept_)"
      ],
      "execution_count": 25,
      "outputs": [
        {
          "output_type": "stream",
          "text": [
            "Coefficients: [[-0.07494923]]\n",
            "Intercept: [149.82350308]\n"
          ],
          "name": "stdout"
        }
      ]
    },
    {
      "cell_type": "markdown",
      "metadata": {
        "id": "15sT0HTTdcxX",
        "colab_type": "text"
      },
      "source": [
        "フィッティングの評価\n",
        "\n",
        "*   mean squared error ($MSE$)\n",
        "*   the coefficient of determination ($R^2$)\n",
        "\n",
        "$R^2$は$(1 - \\textbf{u}/\\textbf{v})$と定義される。\n",
        "\n",
        "$\\textbf{u}$ は残差の二乗和 $\\sum (\\textbf{y} - \\hat{\\textbf{y}})^2$。（$\\hat{\\textbf{y}}$が回帰による予測値。）\n",
        "\n",
        "$\\textbf{v}$ は、真値の平均$\\bar{\\textbf{y}}$ からの個々の真値$\\textbf{y}$のズレの二乗の和$\\sum (\\textbf{y} - \\bar{\\textbf{y}})^2$。\n",
        "\n",
        "$R^2$の最も良い値は1.0。これより小さくなるほど悪くなる。"
      ]
    },
    {
      "cell_type": "code",
      "metadata": {
        "scrolled": false,
        "id": "okZvwbDIdcxX",
        "colab_type": "code",
        "outputId": "b7394899-40d1-4ef8-e0ad-eca2dddf2a66",
        "colab": {
          "base_uri": "https://localhost:8080/",
          "height": 375
        }
      },
      "source": [
        "from sklearn import metrics\n",
        "\n",
        "# Analysis for all months together.\n",
        "x = n_ice[['Year']]\n",
        "y = n_ice[['Extent']]\n",
        "model = LinearRegression()\n",
        "model.fit(x, y)\n",
        "y_hat = model.predict(x)\n",
        "plt.plot(x, y,'o', alpha = 0.5)\n",
        "plt.plot(x, y_hat, 'r', alpha = 0.5)\n",
        "plt.xlabel('year')\n",
        "plt.ylabel('extent (All months)')\n",
        "print(\"MSE:\", metrics.mean_squared_error(y, y_hat))\n",
        "print(\"R^2:\", metrics.r2_score(y, y_hat))\n",
        "plt.savefig(\"IceExtentLinearRegressionAllMonthsByYearPrediction.png\", dpi = 300, bbox_inches = 'tight')"
      ],
      "execution_count": 26,
      "outputs": [
        {
          "output_type": "stream",
          "text": [
            "MSE: 0.18917564600821546\n",
            "R^2: 0.7594513722367365\n"
          ],
          "name": "stdout"
        },
        {
          "output_type": "display_data",
          "data": {
            "image/png": "[encoded data removed]",
            "text/plain": [
              "<Figure size 864x360 with 1 Axes>"
            ]
          },
          "metadata": {
            "tags": []
          }
        }
      ]
    },
    {
      "cell_type": "markdown",
      "metadata": {
        "id": "ydQJELgVdcxa",
        "colab_type": "text"
      },
      "source": [
        "どうやら、データは長期的なnegative trendを示している、と言ってもよさそう。\n"
      ]
    },
    {
      "cell_type": "markdown",
      "metadata": {
        "id": "HHMDi3uifc6a",
        "colab_type": "text"
      },
      "source": [
        "\n",
        "\n",
        "---\n",
        "\n"
      ]
    },
    {
      "cell_type": "markdown",
      "metadata": {
        "id": "q-b8qCAIffpD",
        "colab_type": "text"
      },
      "source": [
        "### 7) statsmodelsの線形回帰を使った分析\n",
        "\n",
        "こちらのほうが、統計学的な観点からの分析に向いている。\n"
      ]
    },
    {
      "cell_type": "code",
      "metadata": {
        "id": "IRfeTpLhfbe0",
        "colab_type": "code",
        "colab": {}
      },
      "source": [
        "import statsmodels.api as sm"
      ],
      "execution_count": 0,
      "outputs": []
    },
    {
      "cell_type": "code",
      "metadata": {
        "id": "JiF9OPEBfzy3",
        "colab_type": "code",
        "colab": {}
      },
      "source": [
        "x_ = sm.add_constant(x) # 切片の項を追加"
      ],
      "execution_count": 0,
      "outputs": []
    },
    {
      "cell_type": "code",
      "metadata": {
        "id": "yOTPMWj_gA1j",
        "colab_type": "code",
        "colab": {}
      },
      "source": [
        "model = sm.OLS(y, x_)"
      ],
      "execution_count": 0,
      "outputs": []
    },
    {
      "cell_type": "code",
      "metadata": {
        "id": "1mnHNe1igNI4",
        "colab_type": "code",
        "colab": {}
      },
      "source": [
        "results = model.fit()"
      ],
      "execution_count": 0,
      "outputs": []
    },
    {
      "cell_type": "code",
      "metadata": {
        "id": "yN4wd-xugQuy",
        "colab_type": "code",
        "colab": {
          "base_uri": "https://localhost:8080/",
          "height": 71
        },
        "outputId": "9e47fbc8-f7b9-4831-a3bd-6ab5cb4d5e43"
      },
      "source": [
        "results.params"
      ],
      "execution_count": 31,
      "outputs": [
        {
          "output_type": "execute_result",
          "data": {
            "text/plain": [
              "const    149.823503\n",
              "Year      -0.074949\n",
              "dtype: float64"
            ]
          },
          "metadata": {
            "tags": []
          },
          "execution_count": 31
        }
      ]
    },
    {
      "cell_type": "code",
      "metadata": {
        "id": "tTKlEzDdgVbB",
        "colab_type": "code",
        "colab": {
          "base_uri": "https://localhost:8080/",
          "height": 475
        },
        "outputId": "a49fe05b-6fe5-465b-b05a-2a6a0298844a"
      },
      "source": [
        "# statsmodelsはこのsummaryが強力。\n",
        "results.summary()"
      ],
      "execution_count": 32,
      "outputs": [
        {
          "output_type": "execute_result",
          "data": {
            "text/html": [
              "<table class=\"simpletable\">\n",
              "<caption>OLS Regression Results</caption>\n",
              "<tr>\n",
              "  <th>Dep. Variable:</th>         <td>Extent</td>      <th>  R-squared:         </th> <td>   0.806</td> \n",
              "</tr>\n",
              "<tr>\n",
              "  <th>Model:</th>                   <td>OLS</td>       <th>  Adj. R-squared:    </th> <td>   0.806</td> \n",
              "</tr>\n",
              "<tr>\n",
              "  <th>Method:</th>             <td>Least Squares</td>  <th>  F-statistic:       </th> <td>   2037.</td> \n",
              "</tr>\n",
              "<tr>\n",
              "  <th>Date:</th>             <td>Wed, 27 May 2020</td> <th>  Prob (F-statistic):</th> <td>1.15e-176</td>\n",
              "</tr>\n",
              "<tr>\n",
              "  <th>Time:</th>                 <td>09:51:04</td>     <th>  Log-Likelihood:    </th> <td> -288.51</td> \n",
              "</tr>\n",
              "<tr>\n",
              "  <th>No. Observations:</th>      <td>   492</td>      <th>  AIC:               </th> <td>   581.0</td> \n",
              "</tr>\n",
              "<tr>\n",
              "  <th>Df Residuals:</th>          <td>   490</td>      <th>  BIC:               </th> <td>   589.4</td> \n",
              "</tr>\n",
              "<tr>\n",
              "  <th>Df Model:</th>              <td>     1</td>      <th>                     </th>     <td> </td>    \n",
              "</tr>\n",
              "<tr>\n",
              "  <th>Covariance Type:</th>      <td>nonrobust</td>    <th>                     </th>     <td> </td>    \n",
              "</tr>\n",
              "</table>\n",
              "<table class=\"simpletable\">\n",
              "<tr>\n",
              "    <td></td>       <th>coef</th>     <th>std err</th>      <th>t</th>      <th>P>|t|</th>  <th>[0.025</th>    <th>0.975]</th>  \n",
              "</tr>\n",
              "<tr>\n",
              "  <th>const</th> <td>  149.8235</td> <td>    3.320</td> <td>   45.132</td> <td> 0.000</td> <td>  143.301</td> <td>  156.346</td>\n",
              "</tr>\n",
              "<tr>\n",
              "  <th>Year</th>  <td>   -0.0749</td> <td>    0.002</td> <td>  -45.133</td> <td> 0.000</td> <td>   -0.078</td> <td>   -0.072</td>\n",
              "</tr>\n",
              "</table>\n",
              "<table class=\"simpletable\">\n",
              "<tr>\n",
              "  <th>Omnibus:</th>       <td> 3.724</td> <th>  Durbin-Watson:     </th> <td>   0.606</td>\n",
              "</tr>\n",
              "<tr>\n",
              "  <th>Prob(Omnibus):</th> <td> 0.155</td> <th>  Jarque-Bera (JB):  </th> <td>   3.715</td>\n",
              "</tr>\n",
              "<tr>\n",
              "  <th>Skew:</th>          <td>-0.212</td> <th>  Prob(JB):          </th> <td>   0.156</td>\n",
              "</tr>\n",
              "<tr>\n",
              "  <th>Kurtosis:</th>      <td> 2.968</td> <th>  Cond. No.          </th> <td>3.38e+05</td>\n",
              "</tr>\n",
              "</table><br/><br/>Warnings:<br/>[1] Standard Errors assume that the covariance matrix of the errors is correctly specified.<br/>[2] The condition number is large, 3.38e+05. This might indicate that there are<br/>strong multicollinearity or other numerical problems."
            ],
            "text/plain": [
              "<class 'statsmodels.iolib.summary.Summary'>\n",
              "\"\"\"\n",
              "                            OLS Regression Results                            \n",
              "==============================================================================\n",
              "Dep. Variable:                 Extent   R-squared:                       0.806\n",
              "Model:                            OLS   Adj. R-squared:                  0.806\n",
              "Method:                 Least Squares   F-statistic:                     2037.\n",
              "Date:                Wed, 27 May 2020   Prob (F-statistic):          1.15e-176\n",
              "Time:                        09:51:04   Log-Likelihood:                -288.51\n",
              "No. Observations:                 492   AIC:                             581.0\n",
              "Df Residuals:                     490   BIC:                             589.4\n",
              "Df Model:                           1                                         \n",
              "Covariance Type:            nonrobust                                         \n",
              "==============================================================================\n",
              "                 coef    std err          t      P>|t|      [0.025      0.975]\n",
              "------------------------------------------------------------------------------\n",
              "const        149.8235      3.320     45.132      0.000     143.301     156.346\n",
              "Year          -0.0749      0.002    -45.133      0.000      -0.078      -0.072\n",
              "==============================================================================\n",
              "Omnibus:                        3.724   Durbin-Watson:                   0.606\n",
              "Prob(Omnibus):                  0.155   Jarque-Bera (JB):                3.715\n",
              "Skew:                          -0.212   Prob(JB):                        0.156\n",
              "Kurtosis:                       2.968   Cond. No.                     3.38e+05\n",
              "==============================================================================\n",
              "\n",
              "Warnings:\n",
              "[1] Standard Errors assume that the covariance matrix of the errors is correctly specified.\n",
              "[2] The condition number is large, 3.38e+05. This might indicate that there are\n",
              "strong multicollinearity or other numerical problems.\n",
              "\"\"\""
            ]
          },
          "metadata": {
            "tags": []
          },
          "execution_count": 32
        }
      ]
    },
    {
      "cell_type": "markdown",
      "metadata": {
        "id": "-ZrJnZ8UG8Xo",
        "colab_type": "text"
      },
      "source": [
        "# 課題6\n",
        "\n",
        "南極海氷域について、全く同様に、分析をしてみよう。\n",
        "\n",
        ".ipynbファイルをBlackboardに提出してください。"
      ]
    },
    {
      "cell_type": "code",
      "metadata": {
        "id": "T8vc-YTlHTj4",
        "colab_type": "code",
        "colab": {}
      },
      "source": [
        ""
      ],
      "execution_count": 0,
      "outputs": []
    }
  ]
}
