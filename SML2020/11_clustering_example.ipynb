{
  "nbformat": 4,
  "nbformat_minor": 0,
  "metadata": {
    "colab": {
      "name": "11_clustering_example.ipynb",
      "provenance": [],
      "collapsed_sections": [],
      "authorship_tag": "ABX9TyNMF5IR8ICQwOc071oRgh3y",
      "include_colab_link": true
    },
    "kernelspec": {
      "name": "python3",
      "display_name": "Python 3"
    }
  },
  "cells": [
    {
      "cell_type": "markdown",
      "metadata": {
        "id": "view-in-github",
        "colab_type": "text"
      },
      "source": [
        "<a href=\"https://colab.research.google.com/github/tomonari-masada/courses/blob/master/SML2020/11_clustering_example.ipynb\" target=\"_parent\"><img src=\"https://colab.research.google.com/assets/colab-badge.svg\" alt=\"Open In Colab\"/></a>"
      ]
    },
    {
      "cell_type": "markdown",
      "metadata": {
        "id": "dhzrBYzaPTv1",
        "colab_type": "text"
      },
      "source": [
        "# 日本語の単語ベクトルをクラスタリングする\n",
        "\n",
        "* 使用するデータは下記の場所にあるもの\n",
        "\n",
        "https://github.com/shiroyagicorp/japanese-word2vec-model-builder\n",
        "\n",
        "  * word2vecの技術を使って、日本語の単語が50次元のベクトルで表現されている。\n",
        " \n",
        "  * 今回はこの単語ベクトルをクラスタリングして、意味の近い単語が同じクラスタに属しているかをチェックする。"
      ]
    },
    {
      "cell_type": "markdown",
      "metadata": {
        "id": "QXcnxM2sPzZB",
        "colab_type": "text"
      },
      "source": [
        "### 1) wgetコマンドでダウンロードし、unzipで解凍する"
      ]
    },
    {
      "cell_type": "code",
      "metadata": {
        "id": "C9PMQrmsKEi7",
        "colab_type": "code",
        "colab": {}
      },
      "source": [
        "! if [ ! -e latest-ja-word2vec-gensim-model.zip ]; then wget http://public.shiroyagi.s3.amazonaws.com/latest-ja-word2vec-gensim-model.zip ; fi"
      ],
      "execution_count": 1,
      "outputs": []
    },
    {
      "cell_type": "code",
      "metadata": {
        "id": "TdWbOwZ0KLwQ",
        "colab_type": "code",
        "colab": {
          "base_uri": "https://localhost:8080/",
          "height": 34
        },
        "outputId": "f62644fa-bc43-471d-eb35-ee4b2ab24bd0"
      },
      "source": [
        "! unzip -u latest-ja-word2vec-gensim-model.zip"
      ],
      "execution_count": 2,
      "outputs": [
        {
          "output_type": "stream",
          "text": [
            "Archive:  latest-ja-word2vec-gensim-model.zip\n"
          ],
          "name": "stdout"
        }
      ]
    },
    {
      "cell_type": "markdown",
      "metadata": {
        "id": "i7DmmXlGP62K",
        "colab_type": "text"
      },
      "source": [
        "### 2) ライブラリgensimを使ってデータを読み込む"
      ]
    },
    {
      "cell_type": "code",
      "metadata": {
        "id": "SBkJJtuHKXib",
        "colab_type": "code",
        "colab": {
          "base_uri": "https://localhost:8080/",
          "height": 70
        },
        "outputId": "1be9258f-bfff-479c-bec8-717aa56603d5"
      },
      "source": [
        "from gensim.models.word2vec import Word2Vec\n",
        "\n",
        "model_path = 'word2vec.gensim.model'\n",
        "model = Word2Vec.load(model_path)"
      ],
      "execution_count": 3,
      "outputs": [
        {
          "output_type": "stream",
          "text": [
            "/usr/local/lib/python3.6/dist-packages/smart_open/smart_open_lib.py:254: UserWarning: This function is deprecated, use smart_open.open instead. See the migration notes for details: https://github.com/RaRe-Technologies/smart_open/blob/master/README.rst#migrating-to-the-new-open-function\n",
            "  'See the migration notes for details: %s' % _MIGRATION_NOTES_URL\n"
          ],
          "name": "stderr"
        }
      ]
    },
    {
      "cell_type": "code",
      "metadata": {
        "id": "uPXj_9TBKi25",
        "colab_type": "code",
        "colab": {
          "base_uri": "https://localhost:8080/",
          "height": 34
        },
        "outputId": "2613e0df-bfe3-41fb-bd00-099873034b46"
      },
      "source": [
        "# 単語ベクトルの次元を確認する\n",
        "\n",
        "print(model.vector_size)"
      ],
      "execution_count": 4,
      "outputs": [
        {
          "output_type": "stream",
          "text": [
            "50\n"
          ],
          "name": "stdout"
        }
      ]
    },
    {
      "cell_type": "code",
      "metadata": {
        "id": "k-QWGhKlKkfO",
        "colab_type": "code",
        "colab": {}
      },
      "source": [
        "# 単語ベクトルデータを変数名wvで参照することにする\n",
        "\n",
        "wv = model.wv"
      ],
      "execution_count": 5,
      "outputs": []
    },
    {
      "cell_type": "code",
      "metadata": {
        "id": "xkWjpO5BKyBC",
        "colab_type": "code",
        "colab": {}
      },
      "source": [
        "# 単語リストと、対応する単語ベクトルのリストを、作成する\n",
        "\n",
        "words = list()\n",
        "vectors = list()\n",
        "for word in wv.vocab:\n",
        "  words.append(word)\n",
        "  vectors.append(wv.word_vec(word))"
      ],
      "execution_count": 6,
      "outputs": []
    },
    {
      "cell_type": "code",
      "metadata": {
        "id": "AqlIpxN8LiV8",
        "colab_type": "code",
        "colab": {
          "base_uri": "https://localhost:8080/",
          "height": 34
        },
        "outputId": "13f0ecae-5755-4c79-d3ba-2986d6ee321d"
      },
      "source": [
        "# 単語数を確認する\n",
        "\n",
        "print(len(words))"
      ],
      "execution_count": 7,
      "outputs": [
        {
          "output_type": "stream",
          "text": [
            "335476\n"
          ],
          "name": "stdout"
        }
      ]
    },
    {
      "cell_type": "code",
      "metadata": {
        "id": "wv_ccTtLOBQW",
        "colab_type": "code",
        "colab": {
          "base_uri": "https://localhost:8080/",
          "height": 185
        },
        "outputId": "006612cf-4187-4c2e-c81b-c74c8a08c792"
      },
      "source": [
        "# 最初の単語とその単語ベクトルを確認する\n",
        "\n",
        "print(words[0])\n",
        "print(vectors[0])"
      ],
      "execution_count": 8,
      "outputs": [
        {
          "output_type": "stream",
          "text": [
            "『\n",
            "[-0.16400108 -0.17862815  0.0580783  -0.24007608  0.17230852 -0.07751795\n",
            " -0.11018773 -0.08525417 -0.01558867 -0.14766072 -0.00633486 -0.01630188\n",
            "  0.00647159 -0.17860252 -0.01816674 -0.05038163  0.08417128  0.04350499\n",
            " -0.19731551 -0.09599385  0.2745512  -0.22891845  0.142788   -0.08023094\n",
            " -0.23000377  0.00842183  0.15071994  0.25936294  0.10318379  0.17875645\n",
            " -0.31201744 -0.03366571 -0.08143289  0.02155716 -0.02921231  0.0362477\n",
            " -0.18767731 -0.10514667 -0.012625   -0.03388035  0.10886643 -0.1074557\n",
            " -0.03668041 -0.03183161 -0.14188181 -0.27481845 -0.12782158 -0.02111848\n",
            " -0.14041357  0.23952545]\n"
          ],
          "name": "stdout"
        }
      ]
    },
    {
      "cell_type": "markdown",
      "metadata": {
        "id": "XbEQDE39QC7E",
        "colab_type": "text"
      },
      "source": [
        "### 3) NumPyの配列に変換する"
      ]
    },
    {
      "cell_type": "code",
      "metadata": {
        "id": "Hp313-J_LuQy",
        "colab_type": "code",
        "colab": {}
      },
      "source": [
        "import numpy as np\n",
        "\n",
        "words = np.array(words)\n",
        "vectors = np.array(vectors)"
      ],
      "execution_count": 9,
      "outputs": []
    },
    {
      "cell_type": "code",
      "metadata": {
        "id": "fS19pj1UM5_V",
        "colab_type": "code",
        "colab": {
          "base_uri": "https://localhost:8080/",
          "height": 34
        },
        "outputId": "67c0330f-5fe5-42a1-9658-1aaa2361805c"
      },
      "source": [
        "print(words)"
      ],
      "execution_count": 10,
      "outputs": [
        {
          "output_type": "stream",
          "text": [
            "['『' 'GO' '!' ... 'スケクシス' 'ｼﾞﾑ' 'パヴリチェンコ']\n"
          ],
          "name": "stdout"
        }
      ]
    },
    {
      "cell_type": "code",
      "metadata": {
        "id": "msZAgGJPOQLb",
        "colab_type": "code",
        "colab": {
          "base_uri": "https://localhost:8080/",
          "height": 235
        },
        "outputId": "62d8ef97-8522-417b-8f87-7269dae5674e"
      },
      "source": [
        "print(vectors)"
      ],
      "execution_count": 11,
      "outputs": [
        {
          "output_type": "stream",
          "text": [
            "[[-0.16400108 -0.17862815  0.0580783  ... -0.02111848 -0.14041357\n",
            "   0.23952545]\n",
            " [ 0.01737987 -0.32058007 -0.23378702 ...  0.13550399  0.0736375\n",
            "  -0.14032933]\n",
            " [ 0.08531253 -0.31538385 -0.09230007 ...  0.17875628  0.11313058\n",
            "  -0.24140361]\n",
            " ...\n",
            " [ 0.00092179 -0.07699777  0.14290373 ...  0.09500334 -0.06761228\n",
            "   0.24790283]\n",
            " [ 0.04340099 -0.0260367   0.09188872 ...  0.16940522  0.00322533\n",
            "  -0.20196445]\n",
            " [ 0.07351335  0.15455413  0.08450193 ... -0.26947773  0.04289696\n",
            "  -0.09446784]]\n"
          ],
          "name": "stdout"
        }
      ]
    },
    {
      "cell_type": "code",
      "metadata": {
        "id": "eYp7lItAM7b5",
        "colab_type": "code",
        "colab": {
          "base_uri": "https://localhost:8080/",
          "height": 185
        },
        "outputId": "28d1b102-0b03-4b4c-c71d-64c7038d0853"
      },
      "source": [
        "# 「日本」という単語に最も近い10個の単語を表示させてみる。\n",
        "vec_jpn = np.array(wv.word_vec('日本'))\n",
        "print(vec_jpn)\n",
        "indices = np.argsort(np.linalg.norm(vectors - vec_jpn, axis=1))\n",
        "print(words[indices[1:11]])"
      ],
      "execution_count": 12,
      "outputs": [
        {
          "output_type": "stream",
          "text": [
            "[-0.08019581 -0.10632093  0.14115061  0.08310905 -0.00913872  0.04414612\n",
            " -0.11600631 -0.35167393  0.04924094  0.07659911  0.07906264  0.02693196\n",
            "  0.03977293  0.19168071 -0.16376053 -0.01040754 -0.13442372  0.20567688\n",
            " -0.04850557 -0.22208223  0.03354846 -0.18884456 -0.00623878 -0.12064678\n",
            " -0.01325125  0.02779626  0.02936541  0.06843039  0.11489733  0.07094222\n",
            "  0.14459857 -0.12487161  0.03558656  0.41905314 -0.15021588 -0.12890314\n",
            "  0.04594489 -0.28921965  0.15588439 -0.01789199 -0.2866291  -0.1415011\n",
            "  0.057166   -0.19496612  0.09121747  0.01317389 -0.0359673   0.16124834\n",
            " -0.03846167 -0.06273678]\n",
            "['韓国' '台湾' '日本国内' '欧米' '日本国外' '台湾出身' '中華圏' '日本の経済' '日本の歴史' '韓国国内']\n"
          ],
          "name": "stdout"
        }
      ]
    },
    {
      "cell_type": "markdown",
      "metadata": {
        "id": "-o2yZ06-QQN4",
        "colab_type": "text"
      },
      "source": [
        "### 4) k-meansで単語ベクトルをクラスタリングする\n",
        "\n",
        "* かなり時間がかかるので、待つ。\n",
        "* 得られたクラスタの重心はCSVファイルとして保存しておく。\n",
        "* クラスタ数は変更してよい。"
      ]
    },
    {
      "cell_type": "code",
      "metadata": {
        "id": "xIgi9fxSaGMq",
        "colab_type": "code",
        "colab": {}
      },
      "source": [
        "# クラスタ数の設定\n",
        "\n",
        "n_clusters = 100"
      ],
      "execution_count": 13,
      "outputs": []
    },
    {
      "cell_type": "code",
      "metadata": {
        "id": "zyXb2eRFOo3i",
        "colab_type": "code",
        "colab": {}
      },
      "source": [
        "# 今回はここから4つのセルは、コメントアウトして、パスします。\n",
        "\n",
        "#from sklearn.cluster import KMeans\n",
        "\n",
        "#kmeans = KMeans(n_clusters=n_clusters, random_state=123)\n",
        "#kmeans.fit(vectors)"
      ],
      "execution_count": 14,
      "outputs": []
    },
    {
      "cell_type": "code",
      "metadata": {
        "id": "9AzNSATqPBIz",
        "colab_type": "code",
        "colab": {}
      },
      "source": [
        "#np.savetxt('cluster_centers_{:d}.csv'.format(n_clusters), kmeans.cluster_centers_, delimiter=',')\n",
        "#centers = kmeans.cluster_centers_"
      ],
      "execution_count": 15,
      "outputs": []
    },
    {
      "cell_type": "code",
      "metadata": {
        "id": "FKZu_PGxVHeW",
        "colab_type": "code",
        "colab": {}
      },
      "source": [
        "# クラスタの重心をファイルから読み込むときは以下をコメントアウトし、centersという配列を使う。\n",
        "#centers = np.loadtxt('cluster_centers_{:d}.csv'.format(n_clusters), delimiter=',')"
      ],
      "execution_count": 16,
      "outputs": []
    },
    {
      "cell_type": "code",
      "metadata": {
        "id": "819Ne08pUk5C",
        "colab_type": "code",
        "colab": {}
      },
      "source": [
        "#center = centers[10]\n",
        "#indices = np.argsort(np.linalg.norm(vectors - center, axis=1))\n",
        "#print(words[indices[:20]])"
      ],
      "execution_count": 17,
      "outputs": []
    },
    {
      "cell_type": "markdown",
      "metadata": {
        "id": "XoZMOTBGWQP2",
        "colab_type": "text"
      },
      "source": [
        "# 課題11\n",
        "\n",
        "* k-means法で単語ベクトルをクラスタリングする。（上にすでにコードは書いてある。）\n",
        "* いくつかのクラスタについて、クラスタの重心に近い単語どうしの意味が似ているかどうか、チェックする。（ここから各自作業する。）\n",
        "* いくつかのクラスタについて、クラスタの重心から遠い単語がどのような単語になっているかをチェックする。\n",
        "* 極端にサイズの大きなクラスタや、逆に、極端にサイズの小さなクラスタができていないか、チェックする。そして、そういった極端なサイズのクラスタに属する単語がどのようになっているかを調べる。\n",
        "* k-means法以外のクラスタリング手法でも、同じような調査をおこなってみる。\n"
      ]
    },
    {
      "cell_type": "markdown",
      "metadata": {
        "id": "41Ox3qWUfcy5",
        "colab_type": "text"
      },
      "source": [
        "\n",
        "\n",
        "---\n",
        "\n"
      ]
    },
    {
      "cell_type": "markdown",
      "metadata": {
        "id": "qV47LfeaQ63o",
        "colab_type": "text"
      },
      "source": [
        "# 階層的クラスタリングの計算量\n",
        "* Wikipediaのエントリにあるとおり、階層的クラスタリングは計算量が大きく、規模の大きなデータには向かない。\n",
        " * https://en.wikipedia.org/wiki/Hierarchical_clustering\n",
        "  * データ数を$n$とすると、何の工夫もしなければ時間計算量$O(n^3)$。"
      ]
    },
    {
      "cell_type": "markdown",
      "metadata": {
        "id": "MFXgPUPxfeWS",
        "colab_type": "text"
      },
      "source": [
        "\n",
        "\n",
        "---\n",
        "\n"
      ]
    },
    {
      "cell_type": "markdown",
      "metadata": {
        "id": "0CPp-N5pNrMq",
        "colab_type": "text"
      },
      "source": [
        "# MiniBatchKMeansを試してみる\n",
        "\n",
        "* 大規模データを扱うためには、ミニバッチ方式で動くアルゴリズムがあれば、それを使うのがよい。\n",
        "* 幸い、KMeansアルゴリズムには、ミニバッチ版がある。\n",
        "* これにより、データをミニバッチとして少しずつ与えて、クラスタリングをすこしずつ進めることができる。\n",
        "* そこで、ミニバッチ式のクラスタリングのについて、途中経過を調べてみる。"
      ]
    },
    {
      "cell_type": "markdown",
      "metadata": {
        "id": "WdIfNHtURvBi",
        "colab_type": "text"
      },
      "source": [
        "### バッチサイズは1000にしてみる。"
      ]
    },
    {
      "cell_type": "code",
      "metadata": {
        "id": "TsKi4iARIq_K",
        "colab_type": "code",
        "colab": {}
      },
      "source": [
        "from sklearn.cluster import MiniBatchKMeans\n",
        "\n",
        "n_clusters = 100\n",
        "kmeans = MiniBatchKMeans(n_clusters=n_clusters, random_state=123, batch_size=1000, max_iter=1)"
      ],
      "execution_count": 18,
      "outputs": []
    },
    {
      "cell_type": "markdown",
      "metadata": {
        "id": "AV1xuHs6Rsgf",
        "colab_type": "text"
      },
      "source": [
        "### まずは1つのミニバッチだけを使う。"
      ]
    },
    {
      "cell_type": "code",
      "metadata": {
        "id": "ivZ4Pf_qJTer",
        "colab_type": "code",
        "colab": {
          "base_uri": "https://localhost:8080/",
          "height": 34
        },
        "outputId": "4b8c9f53-f674-4151-a56f-9672cfeb11ad"
      },
      "source": [
        "kmeans.partial_fit(vectors)"
      ],
      "execution_count": 19,
      "outputs": [
        {
          "output_type": "execute_result",
          "data": {
            "text/plain": [
              "MiniBatchKMeans(batch_size=1000, max_iter=1, n_clusters=100, random_state=123)"
            ]
          },
          "metadata": {
            "tags": []
          },
          "execution_count": 19
        }
      ]
    },
    {
      "cell_type": "markdown",
      "metadata": {
        "id": "G5U12IsHR-NV",
        "colab_type": "text"
      },
      "source": [
        "### 適当なクラスタ（ここではインデックスが30のクラスタ）の、重心に近い順に上位30語を表示させてみる。"
      ]
    },
    {
      "cell_type": "code",
      "metadata": {
        "id": "oYbr1gsUMRkP",
        "colab_type": "code",
        "colab": {
          "base_uri": "https://localhost:8080/",
          "height": 50
        },
        "outputId": "36fba0d0-d280-42ec-8a73-23a620b1867e"
      },
      "source": [
        "center = kmeans.cluster_centers_[30]\n",
        "indices = np.argsort(np.linalg.norm(vectors - center, axis=1))\n",
        "print(words[indices[:20]])"
      ],
      "execution_count": 20,
      "outputs": [
        {
          "output_type": "stream",
          "text": [
            "['楽平' '顧栄' '義公' '戴淵' '頼基' '臼杵鑑速' '萬吉' '丕' '親重' '藤原璋子' '景秀' '小茂田' '三日月藩'\n",
            " '宣光' '基親' '吉里' '盛俊' '高治' '武原' '章生']\n"
          ],
          "name": "stdout"
        }
      ]
    },
    {
      "cell_type": "markdown",
      "metadata": {
        "id": "tJ0ilFYYSGqI",
        "colab_type": "text"
      },
      "source": [
        "### もうひとつ、ミニバッチを使う。"
      ]
    },
    {
      "cell_type": "code",
      "metadata": {
        "id": "Y4GSDkuZMuKf",
        "colab_type": "code",
        "colab": {
          "base_uri": "https://localhost:8080/",
          "height": 50
        },
        "outputId": "2ff7fd2d-27ad-4a1e-9a29-9698cc0f473f"
      },
      "source": [
        "kmeans.partial_fit(vectors)\n",
        "center = kmeans.cluster_centers_[30]\n",
        "indices = np.argsort(np.linalg.norm(vectors - center, axis=1))\n",
        "print(words[indices[:20]])"
      ],
      "execution_count": 21,
      "outputs": [
        {
          "output_type": "stream",
          "text": [
            "['楽平' '頼基' '義公' '顧栄' '戴淵' '臼杵鑑速' '萬吉' '三日月藩' '親重' '盛俊' '吉里' '藤原璋子' '宣光'\n",
            " '丕' '景秀' '小茂田' '木付' '高治' '基親' '長助']\n"
          ],
          "name": "stdout"
        }
      ]
    },
    {
      "cell_type": "markdown",
      "metadata": {
        "id": "959SZygSSL62",
        "colab_type": "text"
      },
      "source": [
        "### 少しクラスタの様子が変わっている。さらにもうひとつ、ミニバッチを使う。"
      ]
    },
    {
      "cell_type": "code",
      "metadata": {
        "id": "uFTDN47IPIam",
        "colab_type": "code",
        "colab": {
          "base_uri": "https://localhost:8080/",
          "height": 50
        },
        "outputId": "74448ab6-27dd-4c3c-84aa-3bef970f1b04"
      },
      "source": [
        "kmeans.partial_fit(vectors)\n",
        "center = kmeans.cluster_centers_[30]\n",
        "indices = np.argsort(np.linalg.norm(vectors - center, axis=1))\n",
        "print(words[indices[:20]])"
      ],
      "execution_count": 22,
      "outputs": [
        {
          "output_type": "stream",
          "text": [
            "['頼基' '楽平' '義公' '三日月藩' '臼杵鑑速' '萬吉' '盛俊' '戴淵' '親重' '吉里' '顧栄' '宣光' '藤原璋子'\n",
            " '木付' '小茂田' '景秀' '丕' '長助' '高治' '元輝']\n"
          ],
          "name": "stdout"
        }
      ]
    },
    {
      "cell_type": "markdown",
      "metadata": {
        "id": "Teo_9kXZSRpY",
        "colab_type": "text"
      },
      "source": [
        "### やはり変化している。10回ループを回してみる。"
      ]
    },
    {
      "cell_type": "code",
      "metadata": {
        "id": "ZlSaP9vtPM1F",
        "colab_type": "code",
        "colab": {
          "base_uri": "https://localhost:8080/",
          "height": 185
        },
        "outputId": "cf3e8f71-59f0-488a-97fc-5cedd9f6f0ec"
      },
      "source": [
        "for i in range(10):\n",
        "  kmeans.partial_fit(vectors)\n",
        "  center = kmeans.cluster_centers_[30]\n",
        "  indices = np.argsort(np.linalg.norm(vectors - center, axis=1))\n",
        "  print(' '.join(words[indices[:20]].tolist()))"
      ],
      "execution_count": 23,
      "outputs": [
        {
          "output_type": "stream",
          "text": [
            "頼基 義公 楽平 三日月藩 盛俊 萬吉 臼杵鑑速 親重 吉里 宣光 戴淵 藤原璋子 顧栄 木付 小茂田 元輝 長助 景秀 七五郎 玉生\n",
            "頼基 義公 三日月藩 盛俊 楽平 萬吉 親重 臼杵鑑速 吉里 宣光 藤原璋子 木付 戴淵 顧栄 元輝 長助 七五郎 安親 小茂田 玉生\n",
            "頼基 義公 三日月藩 盛俊 親重 萬吉 吉里 宣光 臼杵鑑速 木付 楽平 藤原璋子 戴淵 元輝 顧栄 安親 長助 七五郎 玉生 道興\n",
            "頼基 義公 三日月藩 盛俊 親重 萬吉 宣光 吉里 木付 臼杵鑑速 藤原璋子 楽平 戴淵 元輝 安親 七五郎 顧栄 長助 玉生 道興\n",
            "頼基 義公 三日月藩 盛俊 親重 宣光 萬吉 吉里 木付 臼杵鑑速 藤原璋子 元輝 楽平 安親 戴淵 七五郎 長助 道興 玉生 顧栄\n",
            "頼基 義公 三日月藩 盛俊 親重 宣光 木付 萬吉 吉里 臼杵鑑速 藤原璋子 元輝 安親 楽平 七五郎 戴淵 長助 道興 玉生 顧栄\n",
            "頼基 義公 三日月藩 盛俊 親重 宣光 木付 吉里 萬吉 藤原璋子 臼杵鑑速 元輝 安親 七五郎 戴淵 長助 楽平 道興 玉生 顧栄\n",
            "頼基 義公 三日月藩 盛俊 親重 宣光 木付 吉里 萬吉 藤原璋子 臼杵鑑速 元輝 安親 七五郎 長助 道興 戴淵 玉生 楽平 章生\n",
            "頼基 義公 三日月藩 盛俊 木付 親重 宣光 吉里 萬吉 藤原璋子 臼杵鑑速 元輝 安親 七五郎 長助 道興 玉生 戴淵 楽平 章生\n",
            "頼基 義公 三日月藩 盛俊 木付 宣光 親重 吉里 萬吉 藤原璋子 臼杵鑑速 元輝 安親 七五郎 道興 長助 玉生 戴淵 楽平 章生\n"
          ],
          "name": "stdout"
        }
      ]
    },
    {
      "cell_type": "markdown",
      "metadata": {
        "id": "qTOLbql0Sbsg",
        "colab_type": "text"
      },
      "source": [
        "### さらに10回、ループを回す。\n",
        "\n",
        "* ループを回すついでに、所属するクラスタが変化した単語がいくつあったかを、毎回表示させてみる。\n"
      ]
    },
    {
      "cell_type": "code",
      "metadata": {
        "id": "kM-6wqHSPg88",
        "colab_type": "code",
        "colab": {
          "base_uri": "https://localhost:8080/",
          "height": 353
        },
        "outputId": "485247f0-5437-4a7a-f54f-1e0151f91d00"
      },
      "source": [
        "for i in range(10):\n",
        "  prev_labels = kmeans.labels_\n",
        "  kmeans.partial_fit(vectors)\n",
        "  center = kmeans.cluster_centers_[30]\n",
        "  indices = np.argsort(np.linalg.norm(vectors - center, axis=1))\n",
        "  print(' '.join(words[indices[:20]].tolist()))\n",
        "  print(f'{(kmeans.labels_ != prev_labels).sum()}個の単語が別のクラスタへ移った。')"
      ],
      "execution_count": 24,
      "outputs": [
        {
          "output_type": "stream",
          "text": [
            "頼基 義公 三日月藩 盛俊 木付 宣光 親重 吉里 萬吉 藤原璋子 安親 元輝 臼杵鑑速 七五郎 道興 長助 玉生 戴淵 茂太郎 章生\n",
            "1862個の単語が別のクラスタへ移った。\n",
            "頼基 義公 三日月藩 盛俊 木付 宣光 親重 吉里 萬吉 藤原璋子 安親 元輝 臼杵鑑速 七五郎 道興 長助 玉生 戴淵 茂太郎 章生\n",
            "1662個の単語が別のクラスタへ移った。\n",
            "頼基 義公 三日月藩 盛俊 木付 宣光 親重 吉里 萬吉 藤原璋子 安親 元輝 臼杵鑑速 七五郎 道興 長助 玉生 茂太郎 戴淵 章生\n",
            "1583個の単語が別のクラスタへ移った。\n",
            "頼基 義公 三日月藩 盛俊 木付 宣光 親重 吉里 萬吉 安親 藤原璋子 元輝 臼杵鑑速 七五郎 道興 長助 玉生 茂太郎 章生 戴淵\n",
            "1416個の単語が別のクラスタへ移った。\n",
            "頼基 義公 三日月藩 盛俊 木付 宣光 親重 吉里 萬吉 安親 藤原璋子 元輝 臼杵鑑速 七五郎 道興 長助 玉生 茂太郎 章生 戴淵\n",
            "1390個の単語が別のクラスタへ移った。\n",
            "頼基 義公 三日月藩 盛俊 木付 宣光 親重 吉里 萬吉 安親 元輝 藤原璋子 臼杵鑑速 七五郎 道興 長助 玉生 茂太郎 章生 戴淵\n",
            "1224個の単語が別のクラスタへ移った。\n",
            "頼基 義公 三日月藩 盛俊 木付 宣光 親重 吉里 萬吉 安親 元輝 藤原璋子 臼杵鑑速 七五郎 道興 長助 玉生 茂太郎 章生 秀景\n",
            "1186個の単語が別のクラスタへ移った。\n",
            "頼基 義公 三日月藩 盛俊 木付 宣光 親重 吉里 安親 萬吉 元輝 藤原璋子 臼杵鑑速 七五郎 道興 長助 玉生 茂太郎 章生 秀景\n",
            "1008個の単語が別のクラスタへ移った。\n",
            "頼基 義公 三日月藩 盛俊 木付 宣光 親重 吉里 安親 萬吉 元輝 藤原璋子 臼杵鑑速 七五郎 道興 長助 玉生 茂太郎 章生 宗恒\n",
            "998個の単語が別のクラスタへ移った。\n",
            "頼基 義公 三日月藩 盛俊 木付 宣光 親重 安親 吉里 萬吉 元輝 藤原璋子 臼杵鑑速 七五郎 道興 長助 玉生 茂太郎 章生 宗恒\n",
            "966個の単語が別のクラスタへ移った。\n"
          ],
          "name": "stdout"
        }
      ]
    },
    {
      "cell_type": "markdown",
      "metadata": {
        "id": "JXmytZK0SqSh",
        "colab_type": "text"
      },
      "source": [
        "### このあたりで、クラスタの重心を保存しておく。\n",
        "\n",
        "* ちなみに、保存したクラスタの重心は、再度同じデータセット上でKMeansを実行するときに、クラスタリングの初期値として使える。"
      ]
    },
    {
      "cell_type": "code",
      "metadata": {
        "id": "PtkYIlZyMiRN",
        "colab_type": "code",
        "colab": {}
      },
      "source": [
        "np.savetxt('MiniBatchKMeans_cluster_centers_{:d}.csv'.format(n_clusters), kmeans.cluster_centers_, delimiter=',')"
      ],
      "execution_count": 25,
      "outputs": []
    },
    {
      "cell_type": "markdown",
      "metadata": {
        "id": "isGLVucTTL94",
        "colab_type": "text"
      },
      "source": [
        "### さらに30回ほど回してみる。"
      ]
    },
    {
      "cell_type": "code",
      "metadata": {
        "id": "qpkdH2TLM5jC",
        "colab_type": "code",
        "colab": {
          "base_uri": "https://localhost:8080/",
          "height": 1000
        },
        "outputId": "3e96cb08-c324-4d2a-aa11-8617817e172c"
      },
      "source": [
        "for i in range(30):\n",
        "  prev_labels = kmeans.labels_\n",
        "  kmeans.partial_fit(vectors)\n",
        "  center = kmeans.cluster_centers_[30]\n",
        "  indices = np.argsort(np.linalg.norm(vectors - center, axis=1))\n",
        "  print(' '.join(words[indices[:20]].tolist()))\n",
        "  print(f'{(kmeans.labels_ != prev_labels).sum()}個の単語が別のクラスタへ移った。')"
      ],
      "execution_count": 26,
      "outputs": [
        {
          "output_type": "stream",
          "text": [
            "頼基 義公 三日月藩 盛俊 木付 宣光 親重 安親 吉里 萬吉 元輝 藤原璋子 臼杵鑑速 七五郎 道興 長助 玉生 茂太郎 宗恒 章生\n",
            "937個の単語が別のクラスタへ移った。\n",
            "頼基 義公 三日月藩 盛俊 木付 宣光 親重 安親 吉里 萬吉 元輝 藤原璋子 臼杵鑑速 七五郎 道興 長助 玉生 茂太郎 宗恒 章生\n",
            "848個の単語が別のクラスタへ移った。\n",
            "頼基 義公 三日月藩 盛俊 木付 宣光 親重 安親 吉里 萬吉 元輝 藤原璋子 七五郎 臼杵鑑速 道興 長助 玉生 茂太郎 宗恒 秀景\n",
            "820個の単語が別のクラスタへ移った。\n",
            "頼基 義公 三日月藩 盛俊 木付 宣光 親重 安親 吉里 萬吉 元輝 藤原璋子 七五郎 臼杵鑑速 道興 長助 玉生 茂太郎 宗恒 秀景\n",
            "788個の単語が別のクラスタへ移った。\n",
            "頼基 義公 三日月藩 盛俊 木付 宣光 親重 安親 吉里 元輝 萬吉 藤原璋子 七五郎 臼杵鑑速 道興 長助 玉生 茂太郎 宗恒 秀景\n",
            "715個の単語が別のクラスタへ移った。\n",
            "頼基 義公 三日月藩 盛俊 木付 宣光 親重 安親 吉里 元輝 萬吉 藤原璋子 七五郎 臼杵鑑速 道興 長助 玉生 茂太郎 宗恒 秀景\n",
            "695個の単語が別のクラスタへ移った。\n",
            "頼基 義公 三日月藩 盛俊 木付 宣光 親重 安親 吉里 元輝 萬吉 藤原璋子 七五郎 臼杵鑑速 道興 玉生 長助 茂太郎 宗恒 秀景\n",
            "645個の単語が別のクラスタへ移った。\n",
            "頼基 義公 三日月藩 盛俊 木付 宣光 親重 安親 吉里 元輝 萬吉 藤原璋子 七五郎 臼杵鑑速 道興 玉生 長助 茂太郎 宗恒 秀景\n",
            "662個の単語が別のクラスタへ移った。\n",
            "頼基 義公 三日月藩 盛俊 木付 宣光 親重 安親 吉里 元輝 萬吉 藤原璋子 七五郎 臼杵鑑速 道興 玉生 長助 茂太郎 宗恒 秀景\n",
            "618個の単語が別のクラスタへ移った。\n",
            "頼基 義公 三日月藩 盛俊 木付 宣光 親重 安親 吉里 元輝 萬吉 藤原璋子 七五郎 臼杵鑑速 道興 玉生 茂太郎 長助 宗恒 秀景\n",
            "570個の単語が別のクラスタへ移った。\n",
            "頼基 義公 三日月藩 盛俊 木付 宣光 親重 安親 吉里 元輝 萬吉 藤原璋子 七五郎 臼杵鑑速 道興 玉生 茂太郎 長助 宗恒 秀景\n",
            "558個の単語が別のクラスタへ移った。\n",
            "頼基 義公 三日月藩 盛俊 木付 宣光 親重 安親 元輝 吉里 萬吉 藤原璋子 七五郎 臼杵鑑速 道興 茂太郎 玉生 長助 宗恒 秀景\n",
            "561個の単語が別のクラスタへ移った。\n",
            "頼基 義公 三日月藩 盛俊 木付 宣光 親重 安親 元輝 吉里 萬吉 藤原璋子 七五郎 臼杵鑑速 道興 茂太郎 玉生 長助 宗恒 覚禅\n",
            "518個の単語が別のクラスタへ移った。\n",
            "頼基 義公 三日月藩 盛俊 木付 宣光 親重 安親 元輝 吉里 萬吉 藤原璋子 七五郎 臼杵鑑速 道興 茂太郎 玉生 宗恒 長助 覚禅\n",
            "525個の単語が別のクラスタへ移った。\n",
            "頼基 義公 三日月藩 盛俊 木付 宣光 親重 安親 元輝 吉里 萬吉 藤原璋子 七五郎 臼杵鑑速 道興 茂太郎 玉生 宗恒 長助 覚禅\n",
            "503個の単語が別のクラスタへ移った。\n",
            "頼基 義公 三日月藩 盛俊 木付 宣光 親重 安親 元輝 吉里 萬吉 藤原璋子 七五郎 臼杵鑑速 道興 茂太郎 玉生 宗恒 長助 覚禅\n",
            "462個の単語が別のクラスタへ移った。\n",
            "頼基 義公 三日月藩 盛俊 木付 宣光 安親 親重 元輝 吉里 萬吉 藤原璋子 七五郎 臼杵鑑速 道興 茂太郎 宗恒 玉生 長助 覚禅\n",
            "430個の単語が別のクラスタへ移った。\n",
            "頼基 義公 三日月藩 盛俊 木付 宣光 安親 親重 元輝 吉里 萬吉 藤原璋子 七五郎 臼杵鑑速 道興 茂太郎 宗恒 玉生 長助 覚禅\n",
            "441個の単語が別のクラスタへ移った。\n",
            "頼基 義公 三日月藩 盛俊 木付 宣光 安親 親重 元輝 吉里 萬吉 藤原璋子 七五郎 臼杵鑑速 道興 茂太郎 宗恒 玉生 長助 覚禅\n",
            "421個の単語が別のクラスタへ移った。\n",
            "頼基 義公 三日月藩 盛俊 木付 宣光 安親 親重 元輝 吉里 萬吉 藤原璋子 七五郎 臼杵鑑速 道興 宗恒 茂太郎 玉生 長助 覚禅\n",
            "419個の単語が別のクラスタへ移った。\n",
            "頼基 義公 三日月藩 盛俊 木付 宣光 安親 親重 元輝 吉里 萬吉 藤原璋子 七五郎 臼杵鑑速 道興 宗恒 茂太郎 玉生 長助 覚禅\n",
            "422個の単語が別のクラスタへ移った。\n",
            "頼基 義公 三日月藩 盛俊 木付 宣光 安親 親重 元輝 吉里 萬吉 藤原璋子 七五郎 臼杵鑑速 道興 宗恒 茂太郎 玉生 長助 覚禅\n",
            "403個の単語が別のクラスタへ移った。\n",
            "頼基 義公 三日月藩 盛俊 木付 宣光 安親 親重 元輝 吉里 萬吉 藤原璋子 七五郎 臼杵鑑速 道興 宗恒 茂太郎 玉生 長助 覚禅\n",
            "372個の単語が別のクラスタへ移った。\n",
            "頼基 義公 三日月藩 盛俊 木付 宣光 安親 親重 元輝 吉里 萬吉 藤原璋子 七五郎 臼杵鑑速 道興 宗恒 茂太郎 玉生 長助 覚禅\n",
            "313個の単語が別のクラスタへ移った。\n",
            "頼基 義公 三日月藩 盛俊 木付 宣光 安親 親重 元輝 吉里 萬吉 藤原璋子 七五郎 臼杵鑑速 道興 宗恒 茂太郎 玉生 長助 覚禅\n",
            "342個の単語が別のクラスタへ移った。\n",
            "頼基 義公 三日月藩 盛俊 木付 宣光 安親 親重 元輝 吉里 萬吉 藤原璋子 七五郎 臼杵鑑速 道興 宗恒 茂太郎 玉生 長助 覚禅\n",
            "382個の単語が別のクラスタへ移った。\n",
            "頼基 義公 三日月藩 盛俊 木付 宣光 安親 親重 元輝 吉里 萬吉 藤原璋子 七五郎 臼杵鑑速 道興 宗恒 茂太郎 玉生 長助 覚禅\n",
            "351個の単語が別のクラスタへ移った。\n",
            "頼基 義公 三日月藩 盛俊 木付 宣光 安親 親重 元輝 吉里 萬吉 藤原璋子 七五郎 臼杵鑑速 道興 宗恒 茂太郎 玉生 長助 覚禅\n",
            "351個の単語が別のクラスタへ移った。\n",
            "頼基 義公 三日月藩 盛俊 木付 宣光 安親 親重 元輝 吉里 萬吉 藤原璋子 七五郎 臼杵鑑速 道興 宗恒 茂太郎 玉生 長助 覚禅\n",
            "331個の単語が別のクラスタへ移った。\n",
            "頼基 義公 三日月藩 盛俊 木付 宣光 安親 親重 元輝 吉里 萬吉 藤原璋子 七五郎 臼杵鑑速 道興 宗恒 茂太郎 玉生 長助 覚禅\n",
            "337個の単語が別のクラスタへ移った。\n"
          ],
          "name": "stdout"
        }
      ]
    },
    {
      "cell_type": "markdown",
      "metadata": {
        "id": "SgtCM75KYSjZ",
        "colab_type": "text"
      },
      "source": [
        "### クラスタのサイズを調べる。"
      ]
    },
    {
      "cell_type": "markdown",
      "metadata": {
        "id": "AbVxvTJbf9lJ",
        "colab_type": "text"
      },
      "source": [
        "NumPyの配列に、いろいろな値が何回ずつ出てくるかを知るには、unique関数を使うと良い。"
      ]
    },
    {
      "cell_type": "code",
      "metadata": {
        "id": "SEtINadMTpW_",
        "colab_type": "code",
        "colab": {}
      },
      "source": [
        "unique, counts = np.unique(kmeans.labels_, return_counts=True)"
      ],
      "execution_count": 27,
      "outputs": []
    },
    {
      "cell_type": "code",
      "metadata": {
        "id": "A_yVY0pfYjH0",
        "colab_type": "code",
        "colab": {
          "base_uri": "https://localhost:8080/",
          "height": 134
        },
        "outputId": "d6e412f5-5697-43e4-e026-9acb08d420a5"
      },
      "source": [
        "unique"
      ],
      "execution_count": 28,
      "outputs": [
        {
          "output_type": "execute_result",
          "data": {
            "text/plain": [
              "array([ 0,  1,  2,  3,  4,  5,  6,  7,  8,  9, 10, 11, 12, 13, 14, 15, 16,\n",
              "       17, 18, 19, 20, 21, 22, 23, 24, 25, 26, 27, 28, 29, 30, 31, 32, 33,\n",
              "       34, 35, 36, 37, 38, 39, 40, 41, 42, 43, 44, 45, 46, 47, 48, 49, 50,\n",
              "       51, 52, 53, 54, 55, 56, 57, 58, 59, 60, 61, 62, 63, 64, 65, 66, 67,\n",
              "       68, 69, 70, 71, 72, 73, 74, 75, 76, 77, 78, 79, 80, 81, 82, 83, 84,\n",
              "       85, 86, 87, 88, 89, 90, 91, 92, 93, 94, 95, 96, 97, 98, 99],\n",
              "      dtype=int32)"
            ]
          },
          "metadata": {
            "tags": []
          },
          "execution_count": 28
        }
      ]
    },
    {
      "cell_type": "code",
      "metadata": {
        "id": "y4oQ0XjCZG8U",
        "colab_type": "code",
        "colab": {
          "base_uri": "https://localhost:8080/",
          "height": 185
        },
        "outputId": "5fc499ca-92c3-47b8-9397-3c4bd6255267"
      },
      "source": [
        "counts"
      ],
      "execution_count": 29,
      "outputs": [
        {
          "output_type": "execute_result",
          "data": {
            "text/plain": [
              "array([3746, 3622, 1858, 5157, 3959, 2840, 5578, 2415, 3640, 4729, 2950,\n",
              "       3367, 3281, 2516, 3661, 3301, 4445, 2730, 2579, 3683, 3398, 2676,\n",
              "       4850, 2470, 1487, 2660, 3899, 6541, 2977, 2048, 7801, 6247, 2549,\n",
              "       3348, 2902, 2045, 4458, 2087, 2405, 2777, 2881, 9478, 2868, 3129,\n",
              "       2547, 4105, 2123, 3597, 4284, 3401, 3314, 3763, 2537, 1310, 4923,\n",
              "       6287, 2349, 3636, 3838, 6090, 3947, 3699, 2564, 2252, 6040, 3483,\n",
              "       2584, 1949, 2196, 3089, 1351, 2562, 2697, 2304, 3250, 2480, 2699,\n",
              "       4478, 2752, 2975, 4192, 2381, 2943, 4377, 2829, 3627, 3590, 4183,\n",
              "       2908, 2075, 2842, 1767, 1907, 2891, 2007, 3153, 4409, 2417, 2292,\n",
              "       3193])"
            ]
          },
          "metadata": {
            "tags": []
          },
          "execution_count": 29
        }
      ]
    },
    {
      "cell_type": "markdown",
      "metadata": {
        "id": "7GC267ESgFqk",
        "colab_type": "text"
      },
      "source": [
        "### クラスタのインデックスをキーとし、そのサイズを値とする辞書を作る。"
      ]
    },
    {
      "cell_type": "code",
      "metadata": {
        "id": "HdKvO0RWYkO7",
        "colab_type": "code",
        "colab": {}
      },
      "source": [
        "size_dict = dict(zip(unique, counts))"
      ],
      "execution_count": 30,
      "outputs": []
    },
    {
      "cell_type": "markdown",
      "metadata": {
        "id": "ROivZugMgOds",
        "colab_type": "text"
      },
      "source": [
        "### 辞書のエントリを、キーではなく値でソートする。"
      ]
    },
    {
      "cell_type": "code",
      "metadata": {
        "id": "41h3OeM9ZF5d",
        "colab_type": "code",
        "colab": {}
      },
      "source": [
        "sorted_clusters = [k for k, v in sorted(size_dict.items(), key=lambda item: item[1], reverse=True)]"
      ],
      "execution_count": 31,
      "outputs": []
    },
    {
      "cell_type": "code",
      "metadata": {
        "id": "5xZ3Fu1pZc-f",
        "colab_type": "code",
        "colab": {
          "base_uri": "https://localhost:8080/",
          "height": 185
        },
        "outputId": "3135460f-92ea-49ef-8470-c2c2f7391f22"
      },
      "source": [
        "counts[sorted_clusters]"
      ],
      "execution_count": 32,
      "outputs": [
        {
          "output_type": "execute_result",
          "data": {
            "text/plain": [
              "array([9478, 7801, 6541, 6287, 6247, 6090, 6040, 5578, 5157, 4923, 4850,\n",
              "       4729, 4478, 4458, 4445, 4409, 4377, 4284, 4192, 4183, 4105, 3959,\n",
              "       3947, 3899, 3838, 3763, 3746, 3699, 3683, 3661, 3640, 3636, 3627,\n",
              "       3622, 3597, 3590, 3483, 3401, 3398, 3367, 3348, 3314, 3301, 3281,\n",
              "       3250, 3193, 3153, 3129, 3089, 2977, 2975, 2950, 2943, 2908, 2902,\n",
              "       2891, 2881, 2868, 2842, 2840, 2829, 2777, 2752, 2730, 2699, 2697,\n",
              "       2676, 2660, 2584, 2579, 2564, 2562, 2549, 2547, 2537, 2516, 2480,\n",
              "       2470, 2417, 2415, 2405, 2381, 2349, 2304, 2292, 2252, 2196, 2123,\n",
              "       2087, 2075, 2048, 2045, 2007, 1949, 1907, 1858, 1767, 1487, 1351,\n",
              "       1310])"
            ]
          },
          "metadata": {
            "tags": []
          },
          "execution_count": 32
        }
      ]
    },
    {
      "cell_type": "markdown",
      "metadata": {
        "id": "rla5hIZXZtSK",
        "colab_type": "text"
      },
      "source": [
        "### サイズが最大のクラスタを調べる。"
      ]
    },
    {
      "cell_type": "code",
      "metadata": {
        "id": "HP9fzGWJZfql",
        "colab_type": "code",
        "colab": {
          "base_uri": "https://localhost:8080/",
          "height": 54
        },
        "outputId": "47873329-3ae9-421a-d345-2f9c6dae532e"
      },
      "source": [
        "center = kmeans.cluster_centers_[sorted_clusters[0]]\n",
        "indices = np.argsort(np.linalg.norm(vectors - center, axis=1))\n",
        "print(' '.join(words[indices[:100]].tolist()))"
      ],
      "execution_count": 33,
      "outputs": [
        {
          "output_type": "stream",
          "text": [
            "はなればなれに 好夫 中村弘二 carried こいずみまり 愛天使伝説ウェディングピーチ 月刊ジェイ・ノベル 吉岡村 コットンソフト 秋刀魚の味 アイシン・エィ・ダブリュ ウィングス オキソフラン referred 北海道深川市 きよせ 菊地創 ラブ・アクチュアリー まんがタウンオリジナル ピースプロモーション 道哉 俺は用心棒 おじゃまんが山田くん 城北町 ビッグコミックオリジナル増刊 5850 さすらい刑事旅情編 静岡中学校 ドラゴンハート 定州市 慶南地方警察庁 クラウド・ナイン Kiss PLUS 水色時代 てつこ 祐金町 かわみなみ Eleganceイブ 魔法にかけられて エーライツ Maui くちよ ビッグコミック増刊号 パウル・ゲッツ 小高駅 おねがい☆ティーチャー ロード・オブ・ザ・リング/王の帰還 花組芝居 nikkei ワンズファクトリー 谷井田 鈴木義尾 ダックスープ FC鈴鹿ランポーレ 林由美香 オーガスタ・グリーンジャケッツ dihydro 春畑 シニャンガ 臼杵駅 下笹目 浦和高等学校 広島商業高校 Hiroyuki ヤングユー 笛吹童子 ハケンの品格 離婚弁護士 古川学園 道合 JUNO/ジュノ あらまち 404m POSSIBILITY 長野智子 パパドゥ 横戸 ラインフェルス ピアチェンツァ・カルチョ アカスタ ヤロミツァ セクシーコマンドー外伝 すごいよ!!マサルさん 杉浦嘉十 月刊サンデージェネックス ヨジテレビ! 夜歩く 本城村 忍者戦隊カクレンジャー シュレージシェ・オーバーラウジッツ Tsuchiya 寺畑 result スペースコブラ 36.3% volunteers phosphorylating dihydroxy メルツェン むんこ ベストディガー trek\n"
          ],
          "name": "stdout"
        }
      ]
    },
    {
      "cell_type": "markdown",
      "metadata": {
        "id": "TFnG3bSEgZWW",
        "colab_type": "text"
      },
      "source": [
        "あまり統一感がない。クラスタ数100個が少なかった可能性もある。"
      ]
    },
    {
      "cell_type": "markdown",
      "metadata": {
        "id": "SQRqx7ChZwYj",
        "colab_type": "text"
      },
      "source": [
        "### 次に、サイズが最小のクラスタを調べる。"
      ]
    },
    {
      "cell_type": "code",
      "metadata": {
        "id": "HxFa4sGkZqKq",
        "colab_type": "code",
        "colab": {
          "base_uri": "https://localhost:8080/",
          "height": 54
        },
        "outputId": "0a09490a-50a7-49b7-da4f-3ca86c936836"
      },
      "source": [
        "center = kmeans.cluster_centers_[sorted_clusters[99]]\n",
        "indices = np.argsort(np.linalg.norm(vectors - center, axis=1))\n",
        "print(' '.join(words[indices[:100]].tolist()))"
      ],
      "execution_count": 34,
      "outputs": [
        {
          "output_type": "stream",
          "text": [
            "許せ おさまら 呼べ 断れ およば 下せ 役立た 踏み出せ 持ち込め 無くなら 逆らえ 踏め めげ 伸ばせ なくなら 思いがけ たどり着け 落とせ 包み隠さ 変ら 納まら 問え おこら 寄ら 要ら 加われ 迷わ 生き残れ 回せ やむをえ 抗え 握れ 置け 動じ 掴め 望め 違わ かぎら 追いつけ 語れ 作れ 外せ たまら 直ら さも 落ちれ 気がつか 治まら 始まら 上がれ いとわ 近寄れ 係わら 止ま 積め あがら そぐわ 起こせ 堪ら 逆らわ 済ま 座れ 送れ 守れ 入り込め 戻せ 直せ 居ら 纏まら 埋まら 頼れ 流せ 広がら 判ら かまわ 抜け出せ 思いつか 壊せ 消せ 覆せ 弛ま あえ 応ぜ 乗ら 定まら 取り出せ 掛から 足ら つくれ 構わ 染まら 持て 挫け 解ら 見いだせ 踏み切れ 渡せ 絞れ 通せ 気づけ\n"
          ],
          "name": "stdout"
        }
      ]
    },
    {
      "cell_type": "markdown",
      "metadata": {
        "id": "CK5Nk9WSZ9Zt",
        "colab_type": "text"
      },
      "source": [
        "命令的な表現が多いようだ。"
      ]
    },
    {
      "cell_type": "markdown",
      "metadata": {
        "id": "irSbDJwegd-s",
        "colab_type": "text"
      },
      "source": [
        "### サイズが中間的なクラスタはどうだろう。"
      ]
    },
    {
      "cell_type": "code",
      "metadata": {
        "id": "ohQrQEUXZ5Et",
        "colab_type": "code",
        "colab": {
          "base_uri": "https://localhost:8080/",
          "height": 54
        },
        "outputId": "f5a6a46f-4590-4baa-fac2-0319dfeb1371"
      },
      "source": [
        "center = kmeans.cluster_centers_[sorted_clusters[49]]\n",
        "indices = np.argsort(np.linalg.norm(vectors - center, axis=1))\n",
        "print(' '.join(words[indices[:100]].tolist()))"
      ],
      "execution_count": 35,
      "outputs": [
        {
          "output_type": "stream",
          "text": [
            "山田川 七北田川 鮎喰川 京都盆地 有田川 新町川 天塩川 大池 松本盆地 山国川 東麓 大岡川 加茂川 生駒山地 大野川 鈴鹿山脈 吉井川 旧太田川 白石川 大橋川 見沼代用水 巴川 雄物川 旧江戸川 紫川 天神川 青葉山 片貝川 裾花川 古利根川 鳴瀬川 西麓 肱川 松浦川 那珂川 重信川 安威川 元荒川 久慈川 連峰 小渋川 神崎川 庄内川 一条通 山裾 愛知川 六甲山地 宍道湖 竹野川 越後平野 目黒川 米代川 桂川 矢部川 中村川 経ヶ岳 御笠川 葛西用水路 江合川 木曽山脈 伊佐沼 鯉城通り 東横堀川 谷戸 長瀬川 養老山地 美濃市 高野川 仙台湾 錦川 熊野川 沢川 折立 島根半島 吉備高原 弥彦山 榛名山 住吉川 国分寺崖線 阿武隈川 出合 賀茂川 九頭竜川 坪井川 福島川 斐伊川 勝浦川 櫛田川 長野盆地 権現山 天白川 空知川 北浦 讃岐山脈 飯豊山地 伏籠川 境水道 日野川 笛吹川 国見山\n"
          ],
          "name": "stdout"
        }
      ]
    },
    {
      "cell_type": "markdown",
      "metadata": {
        "id": "F9K7GB9SglM0",
        "colab_type": "text"
      },
      "source": [
        "かなり統一感がある。"
      ]
    },
    {
      "cell_type": "markdown",
      "metadata": {
        "id": "t4GDMNItaPgu",
        "colab_type": "text"
      },
      "source": [
        "### 他、適当なクラスターを調べてみる。"
      ]
    },
    {
      "cell_type": "code",
      "metadata": {
        "id": "LBtCOiw1aNvz",
        "colab_type": "code",
        "colab": {
          "base_uri": "https://localhost:8080/",
          "height": 54
        },
        "outputId": "a1232cf1-aadf-424a-87f8-0b5c6fa064ac"
      },
      "source": [
        "center = kmeans.cluster_centers_[sorted_clusters[39]]\n",
        "indices = np.argsort(np.linalg.norm(vectors - center, axis=1))\n",
        "print(' '.join(words[indices[:100]].tolist()))"
      ],
      "execution_count": 36,
      "outputs": [
        {
          "output_type": "stream",
          "text": [
            "春の高校バレー 全日本選抜 オールジャパン 全日本選手権大会 新人戦 全国高等学校ラグビーフットボール大会 選抜大会 東京大会 Jユースカップ 全世界空手道選手権大会 千葉大会 アトランタ五輪 ミス・インターナショナル 世界卓球選手権 ミス・ユニバース 日本陸上競技選手権大会 文部科学大臣杯 皇后杯 石川佳純 日本代表選手 日本選手権水泳競技大会 ニューイヤー駅伝 ウィンターカップ 世界選手権大会 日本オープン 総理大臣杯 天皇杯全日本サッカー選手権大会 全国高校総体 全日本大学バスケットボール選手権大会 ウエイトリフティング 福原愛 全日本剣道選手権大会 高円宮杯 全国高等学校総合体育大会 高校総体 Jリーグユース選手権大会 センバツ アジアジュニア選手権 日本選手権大会 男子ゴルフ ソウル五輪 全日本大学野球選手権大会 日本チーム NHK杯 学生選抜 ライスボウル 春高バレー 全国社会人大会 インカレ ライダーカップ 世界柔術選手権 黒鷲旗 浅田真央 バルセロナ五輪 王将戦 駒大苫小牧 ジュニアオリンピック 出雲駅伝 荒川静香 日本クラブユースサッカー選手権 アジアユース選手権 高橋道雄 プロゴルフ ベスト6 全国学生相撲選手権大会 全国社会人ラグビーフットボール大会 関東学連選抜 日本選手権 ハンマー投 JGTO 王位戦 関東大会 全国高校サッカー選手権大会 明治神宮野球大会 全日本総合バスケットボール選手権大会 ビッグ・イースト・カンファレンス 有森裕子 千葉競輪場 社会人野球日本選手権大会 砲丸投げ 新人王戦 室伏広治 全国社会人サッカー選手権大会 ロサンゼルス五輪 7連覇 全日本少年サッカー大会 東海大 JSBA オープン参加 JX-ENEOS 全日本大学駅伝 全日本スキー連盟 東アジア競技大会 選抜高校野球大会 全日本総合選手権 年間優勝 FISワールドカップ 瀬古利彦 日本女子プロゴルフ協会 全英オープン\n"
          ],
          "name": "stdout"
        }
      ]
    },
    {
      "cell_type": "markdown",
      "metadata": {
        "id": "m2NNjH4laVi5",
        "colab_type": "text"
      },
      "source": [
        "スポーツ関係っぽい。"
      ]
    },
    {
      "cell_type": "markdown",
      "metadata": {
        "id": "sDyetTpLZpij",
        "colab_type": "text"
      },
      "source": [
        "# Daskのspectral clusteringを試してみる\n",
        "\n",
        "* Daskについてはドキュメントを参照（私も詳しくは知りません・・・）\n",
        " * https://docs.dask.org/en/latest/\n",
        "\n",
        "* scalableなspectral clustering（ただし近似が入る）が実装されているので、使ってみる。\n",
        " * https://ml.dask.org/clustering.html"
      ]
    },
    {
      "cell_type": "markdown",
      "metadata": {
        "id": "kIezPNLoZ69P",
        "colab_type": "text"
      },
      "source": [
        "### Daskをインストール"
      ]
    },
    {
      "cell_type": "code",
      "metadata": {
        "id": "IurEBdx_EsEo",
        "colab_type": "code",
        "colab": {
          "base_uri": "https://localhost:8080/",
          "height": 625
        },
        "outputId": "3df3d81b-2909-43f8-9a16-aab7d6bbb671"
      },
      "source": [
        "! pip install dask_ml"
      ],
      "execution_count": 37,
      "outputs": [
        {
          "output_type": "stream",
          "text": [
            "Requirement already satisfied: dask_ml in /usr/local/lib/python3.6/dist-packages (1.6.0)\n",
            "Requirement already satisfied: distributed>=2.4.0 in /usr/local/lib/python3.6/dist-packages (from dask_ml) (2.21.0)\n",
            "Requirement already satisfied: dask-glm>=0.2.0 in /usr/local/lib/python3.6/dist-packages (from dask_ml) (0.2.0)\n",
            "Requirement already satisfied: packaging in /usr/local/lib/python3.6/dist-packages (from dask_ml) (20.4)\n",
            "Requirement already satisfied: scipy in /usr/local/lib/python3.6/dist-packages (from dask_ml) (1.4.1)\n",
            "Requirement already satisfied: multipledispatch>=0.4.9 in /usr/local/lib/python3.6/dist-packages (from dask_ml) (0.6.0)\n",
            "Requirement already satisfied: numpy>=1.17.3 in /usr/local/lib/python3.6/dist-packages (from dask_ml) (1.18.5)\n",
            "Requirement already satisfied: pandas>=0.23.4 in /usr/local/lib/python3.6/dist-packages (from dask_ml) (1.0.5)\n",
            "Requirement already satisfied: numba in /usr/local/lib/python3.6/dist-packages (from dask_ml) (0.48.0)\n",
            "Requirement already satisfied: dask[array,dataframe]>=2.4.0 in /usr/local/lib/python3.6/dist-packages (from dask_ml) (2.12.0)\n",
            "Requirement already satisfied: scikit-learn>=0.23 in /usr/local/lib/python3.6/dist-packages (from dask_ml) (0.23.1)\n",
            "Requirement already satisfied: click>=6.6 in /usr/local/lib/python3.6/dist-packages (from distributed>=2.4.0->dask_ml) (7.1.2)\n",
            "Requirement already satisfied: cloudpickle>=1.5.0 in /usr/local/lib/python3.6/dist-packages (from distributed>=2.4.0->dask_ml) (1.5.0)\n",
            "Requirement already satisfied: zict>=0.1.3 in /usr/local/lib/python3.6/dist-packages (from distributed>=2.4.0->dask_ml) (2.0.0)\n",
            "Requirement already satisfied: msgpack>=0.6.0 in /usr/local/lib/python3.6/dist-packages (from distributed>=2.4.0->dask_ml) (1.0.0)\n",
            "Requirement already satisfied: pyyaml in /usr/local/lib/python3.6/dist-packages (from distributed>=2.4.0->dask_ml) (3.13)\n",
            "Requirement already satisfied: psutil>=5.0 in /usr/local/lib/python3.6/dist-packages (from distributed>=2.4.0->dask_ml) (5.4.8)\n",
            "Requirement already satisfied: tornado>=5; python_version < \"3.8\" in /usr/local/lib/python3.6/dist-packages (from distributed>=2.4.0->dask_ml) (5.1.1)\n",
            "Requirement already satisfied: sortedcontainers!=2.0.0,!=2.0.1 in /usr/local/lib/python3.6/dist-packages (from distributed>=2.4.0->dask_ml) (2.2.2)\n",
            "Requirement already satisfied: tblib>=1.6.0 in /usr/local/lib/python3.6/dist-packages (from distributed>=2.4.0->dask_ml) (1.6.0)\n",
            "Requirement already satisfied: toolz>=0.8.2 in /usr/local/lib/python3.6/dist-packages (from distributed>=2.4.0->dask_ml) (0.10.0)\n",
            "Requirement already satisfied: setuptools in /usr/local/lib/python3.6/dist-packages (from distributed>=2.4.0->dask_ml) (49.1.0)\n",
            "Requirement already satisfied: contextvars; python_version < \"3.7\" in /usr/local/lib/python3.6/dist-packages (from distributed>=2.4.0->dask_ml) (2.4)\n",
            "Requirement already satisfied: pyparsing>=2.0.2 in /usr/local/lib/python3.6/dist-packages (from packaging->dask_ml) (2.4.7)\n",
            "Requirement already satisfied: six in /usr/local/lib/python3.6/dist-packages (from packaging->dask_ml) (1.15.0)\n",
            "Requirement already satisfied: pytz>=2017.2 in /usr/local/lib/python3.6/dist-packages (from pandas>=0.23.4->dask_ml) (2018.9)\n",
            "Requirement already satisfied: python-dateutil>=2.6.1 in /usr/local/lib/python3.6/dist-packages (from pandas>=0.23.4->dask_ml) (2.8.1)\n",
            "Requirement already satisfied: llvmlite<0.32.0,>=0.31.0dev0 in /usr/local/lib/python3.6/dist-packages (from numba->dask_ml) (0.31.0)\n",
            "Requirement already satisfied: fsspec>=0.6.0; extra == \"dataframe\" in /usr/local/lib/python3.6/dist-packages (from dask[array,dataframe]>=2.4.0->dask_ml) (0.7.4)\n",
            "Requirement already satisfied: partd>=0.3.10; extra == \"dataframe\" in /usr/local/lib/python3.6/dist-packages (from dask[array,dataframe]>=2.4.0->dask_ml) (1.1.0)\n",
            "Requirement already satisfied: joblib>=0.11 in /usr/local/lib/python3.6/dist-packages (from scikit-learn>=0.23->dask_ml) (0.16.0)\n",
            "Requirement already satisfied: threadpoolctl>=2.0.0 in /usr/local/lib/python3.6/dist-packages (from scikit-learn>=0.23->dask_ml) (2.1.0)\n",
            "Requirement already satisfied: heapdict in /usr/local/lib/python3.6/dist-packages (from zict>=0.1.3->distributed>=2.4.0->dask_ml) (1.0.1)\n",
            "Requirement already satisfied: immutables>=0.9 in /usr/local/lib/python3.6/dist-packages (from contextvars; python_version < \"3.7\"->distributed>=2.4.0->dask_ml) (0.14)\n",
            "Requirement already satisfied: locket in /usr/local/lib/python3.6/dist-packages (from partd>=0.3.10; extra == \"dataframe\"->dask[array,dataframe]>=2.4.0->dask_ml) (0.2.0)\n"
          ],
          "name": "stdout"
        }
      ]
    },
    {
      "cell_type": "markdown",
      "metadata": {
        "id": "4NASKHU_QSaE",
        "colab_type": "text"
      },
      "source": [
        "### 単語ベクトルのデータを取得し直す。"
      ]
    },
    {
      "cell_type": "code",
      "metadata": {
        "id": "yZnU8x7sP9F7",
        "colab_type": "code",
        "colab": {
          "base_uri": "https://localhost:8080/",
          "height": 70
        },
        "outputId": "3a7ef065-29e8-425f-cf95-670321bc0522"
      },
      "source": [
        "import numpy as np\n",
        "from gensim.models.word2vec import Word2Vec\n",
        "\n",
        "model_path = 'word2vec.gensim.model'\n",
        "model = Word2Vec.load(model_path)\n",
        "wv = model.wv\n",
        "words = list()\n",
        "vectors = list()\n",
        "for word in wv.vocab:\n",
        "  words.append(word)\n",
        "  vectors.append(wv.word_vec(word))\n",
        "words = np.array(words)\n",
        "vectors = np.array(vectors)"
      ],
      "execution_count": 38,
      "outputs": [
        {
          "output_type": "stream",
          "text": [
            "/usr/local/lib/python3.6/dist-packages/smart_open/smart_open_lib.py:254: UserWarning: This function is deprecated, use smart_open.open instead. See the migration notes for details: https://github.com/RaRe-Technologies/smart_open/blob/master/README.rst#migrating-to-the-new-open-function\n",
            "  'See the migration notes for details: %s' % _MIGRATION_NOTES_URL\n"
          ],
          "name": "stderr"
        }
      ]
    },
    {
      "cell_type": "markdown",
      "metadata": {
        "id": "HUJF76J2ePP_",
        "colab_type": "text"
      },
      "source": [
        "### クラスタリングのモデルのインスタンスを作る。"
      ]
    },
    {
      "cell_type": "code",
      "metadata": {
        "id": "j5yY7cJtQV29",
        "colab_type": "code",
        "colab": {}
      },
      "source": [
        "import dask_ml.cluster\n",
        "\n",
        "n_clusters = 100\n",
        "clusterer = dask_ml.cluster.SpectralClustering(n_clusters=n_clusters, random_state=123,\n",
        "                                               n_jobs=-1, n_components=100)"
      ],
      "execution_count": 39,
      "outputs": []
    },
    {
      "cell_type": "markdown",
      "metadata": {
        "id": "LjfhuKs3eVnn",
        "colab_type": "text"
      },
      "source": [
        "### クラスタリングの実行。しばらく待つ。"
      ]
    },
    {
      "cell_type": "code",
      "metadata": {
        "id": "brNB0mO2QjJw",
        "colab_type": "code",
        "colab": {
          "base_uri": "https://localhost:8080/",
          "height": 50
        },
        "outputId": "023505c7-585d-4140-f8aa-38f5f7d5d230"
      },
      "source": [
        "clusterer.fit(vectors)"
      ],
      "execution_count": 40,
      "outputs": [
        {
          "output_type": "stream",
          "text": [
            "Found fewer than 100 clusters in init (found 24).\n"
          ],
          "name": "stderr"
        },
        {
          "output_type": "execute_result",
          "data": {
            "text/plain": [
              "SpectralClustering(n_clusters=100, n_jobs=-1, random_state=123)"
            ]
          },
          "metadata": {
            "tags": []
          },
          "execution_count": 40
        }
      ]
    },
    {
      "cell_type": "markdown",
      "metadata": {
        "id": "ruxTnbc9eY4D",
        "colab_type": "text"
      },
      "source": [
        "### ラベル（各データ点がどのクラスタに属するか）の情報のデータ型を調べる。"
      ]
    },
    {
      "cell_type": "code",
      "metadata": {
        "id": "TiWwKabHQnOl",
        "colab_type": "code",
        "colab": {
          "base_uri": "https://localhost:8080/",
          "height": 34
        },
        "outputId": "df82f6f1-4996-408d-a92b-b01684f8eb7a"
      },
      "source": [
        "labels = clusterer.labels_\n",
        "type(labels)"
      ],
      "execution_count": 41,
      "outputs": [
        {
          "output_type": "execute_result",
          "data": {
            "text/plain": [
              "dask.array.core.Array"
            ]
          },
          "metadata": {
            "tags": []
          },
          "execution_count": 41
        }
      ]
    },
    {
      "cell_type": "markdown",
      "metadata": {
        "id": "9FR1VJlSenFY",
        "colab_type": "text"
      },
      "source": [
        "### Dask固有のデータ型のようなので、　Numpyの配列に変換する。"
      ]
    },
    {
      "cell_type": "code",
      "metadata": {
        "id": "Dq7CEyl-XOA_",
        "colab_type": "code",
        "colab": {
          "base_uri": "https://localhost:8080/",
          "height": 34
        },
        "outputId": "c49d8946-8d40-478c-e85b-f74235b90cad"
      },
      "source": [
        "labels = labels.compute()\n",
        "type(labels)"
      ],
      "execution_count": 42,
      "outputs": [
        {
          "output_type": "execute_result",
          "data": {
            "text/plain": [
              "numpy.ndarray"
            ]
          },
          "metadata": {
            "tags": []
          },
          "execution_count": 42
        }
      ]
    },
    {
      "cell_type": "markdown",
      "metadata": {
        "id": "_zzBWAl6euG4",
        "colab_type": "text"
      },
      "source": [
        "### ラベルをファイルに保存しておく。"
      ]
    },
    {
      "cell_type": "code",
      "metadata": {
        "id": "NFFFxW51YM2y",
        "colab_type": "code",
        "colab": {}
      },
      "source": [
        "np.save('dask_sc_labels', labels)"
      ],
      "execution_count": 43,
      "outputs": []
    },
    {
      "cell_type": "markdown",
      "metadata": {
        "id": "24rEqAg_e2qD",
        "colab_type": "text"
      },
      "source": [
        "### クラスタのサイズ順にクラスタのインデックス（0~99）をソートする。"
      ]
    },
    {
      "cell_type": "code",
      "metadata": {
        "id": "0jq2PNGYYTgg",
        "colab_type": "code",
        "colab": {}
      },
      "source": [
        "unique, counts = np.unique(labels, return_counts=True)\n",
        "size_dict = dict(zip(unique, counts))\n",
        "sorted_clusters = [k for k, v in sorted(size_dict.items(), key=lambda item: item[1], reverse=True)]"
      ],
      "execution_count": 44,
      "outputs": []
    },
    {
      "cell_type": "markdown",
      "metadata": {
        "id": "aKckFt-se_0n",
        "colab_type": "text"
      },
      "source": [
        "### ソートされた0~99のインデックスを使って、その順にクラスタのサイズを表示する。"
      ]
    },
    {
      "cell_type": "code",
      "metadata": {
        "id": "htNYMfbqYsOy",
        "colab_type": "code",
        "colab": {
          "base_uri": "https://localhost:8080/",
          "height": 185
        },
        "outputId": "33aa32d8-f5ed-47a3-eb7d-0cbcec5cf8a6"
      },
      "source": [
        "counts[sorted_clusters]"
      ],
      "execution_count": 45,
      "outputs": [
        {
          "output_type": "execute_result",
          "data": {
            "text/plain": [
              "array([8282, 5764, 4985, 4824, 4809, 4777, 4769, 4704, 4552, 4535, 4491,\n",
              "       4468, 4435, 4387, 4369, 4261, 4221, 4215, 4200, 4083, 4082, 4002,\n",
              "       3990, 3916, 3847, 3841, 3822, 3790, 3769, 3726, 3712, 3708, 3656,\n",
              "       3642, 3587, 3577, 3537, 3530, 3528, 3511, 3488, 3462, 3451, 3425,\n",
              "       3419, 3376, 3360, 3342, 3324, 3321, 3235, 3233, 3187, 3177, 3166,\n",
              "       3160, 3136, 3125, 3122, 3088, 3087, 3086, 3086, 3065, 3056, 3045,\n",
              "       3031, 2945, 2944, 2914, 2883, 2864, 2852, 2812, 2791, 2755, 2740,\n",
              "       2728, 2703, 2702, 2649, 2633, 2530, 2445, 2383, 2371, 2310, 2284,\n",
              "       2283, 2221, 2170, 2115, 2111, 2079, 2073, 1979, 1936, 1349, 1298,\n",
              "        667])"
            ]
          },
          "metadata": {
            "tags": []
          },
          "execution_count": 45
        }
      ]
    },
    {
      "cell_type": "markdown",
      "metadata": {
        "id": "AwwAQIBlfHUc",
        "colab_type": "text"
      },
      "source": [
        "### いくつかのクラスタについて、それに属するすべての単語を表示させてみる。"
      ]
    },
    {
      "cell_type": "markdown",
      "metadata": {
        "id": "d3ggj2nSfOoY",
        "colab_type": "text"
      },
      "source": [
        "最も小さなクラスタの場合。"
      ]
    },
    {
      "cell_type": "code",
      "metadata": {
        "id": "uviB0AC-YyxM",
        "colab_type": "code",
        "colab": {
          "base_uri": "https://localhost:8080/",
          "height": 204
        },
        "outputId": "18deebcf-f74f-4bc6-aa75-55c3a7ea65c3"
      },
      "source": [
        "' '.join(words[labels == sorted_clusters[99]])"
      ],
      "execution_count": 46,
      "outputs": [
        {
          "output_type": "execute_result",
          "data": {
            "application/vnd.google.colaboratory.intrinsic+json": {
              "type": "string"
            },
            "text/plain": [
              "'求めよ 連れ戻そ だろ しよ ご 戻ろ 盗も あろ 受け取ろ 抑えよ 登ろ けんど 戻そ 取り持と つこ させよ 押し通そ せよ 示そ 集めよ こんど 出そ 討と 高めよ 行なお 語ろ 納めよ 言お 渡そ 及ぼ でしょ 立と 抜こ 斬ろ やろ 付けよ 見よ 殺そ 収めよ 立ち去ろ 引き返そ 慰めよ 切ろ いえよ 返そ もらお ましょ 帰ろ 見極めよ 殴ろ 探ろ してやろ かかろ まいと さそ 奪お あげよ 聞こ 刺そ 買お 捕らえよ 送ろ 贈ろ 戦お ちろ 備えよ ぶろ 迎えよ ほしょ えんど 決めよ 伝えよ 知らせよ 遊ぼ かいきょ 受けよ かんす 出よ いこ おこ 立て直そ かわそ 渡ろ たろ 保と かけよ 与えよ 役立てよ 行お 得よ 逃げ出そ 助けよ 近づこ 合わせよ ていりゅうじょ 洗お みよ 始まろ 図ろ 彷徨 届けよ 減らそ 辞めよ なろ 立てよ られよ 起こそ 封じよ 結ぼ 調べよ 救お ごまかそ 避けよ 抱きしめよ 防ご 歌お 守ろ 上げよ 導こ 述べよ 割ろ 打と 死の いよ 見せよ よかろ 取り戻そ 売り出そ 変えよ 目指そ 逃げよ 乗ろ 言えよ 妨げよ 知ろ 乗り切ろ 作り上げよ 育てよ 入れよ 認めよ 及ぼそ 加えよ 作ろ しじょ 乗り込も 留めよ 尽くそ 働こ 続けよ 組み込も 潰そ 広げよ 挑も 探そ げんこ 進も 座ろ 掴も ぎゅ 見出そ つけよ 書こ 倒そ 見直そ 開こ 追い払お 乗っ取ろ 用いよ 譲ろ 行こ 追い出そ れよ 説こ 絶する 置こ づけよ 笑お 盛り上げよ 食お やめよ じゃろ できよ 狙お 止めよ ぶそ 盛り込も ぶしゅ 葬ろ 通り過ぎよ 取ろ 始めよ 捨てよ 応えよ 逃れよ 補お 握ろ 進めよ 強めよ 当たろ 起きよ 壊そ 描こ 採ろ 貫こ 持と ありか 使お 極めよ 抜け出そ 果して 消そ 会お きんじろ 出かけよ 召し出そ ぎじょ とうじょ 貸そ 触ろ げつよ 仕立てよ 覚えよ 明かそ 済ませよ 稼ご 去ろ 貰お 捕まえよ 滅ぼそ 逃がそ 移そ 確かめよ っしょ 消えよ つくろ むそ 退けよ 就こ 封じ込めよ 暴こ 応じよ 仕えよ 定めよ 支えよ 攻めよ 考えよ 話そ 攻め込も 引こ 掛けよ 飛び込も 動かそ 隠そ 伸ばそ 持ち出そ はかろ もたらそ 売り込も 裂こ 引き出そ 挙げよ 広めよ 取り上げよ 深めよ はも 増やそ 暮らそ 正そ 忘れよ 委ねよ 飲み込も 引き受けよ げんど 生み出そ 下ろそ 活かそ 着こ 食い止めよ 頼ろ 飾ろ 連れ去ろ 焼こ 果たそ ひらこ 推し進めよ 射よ 捉えよ しまお けんじろ 晴らそ 教えよ 見つけよ 勝と 離れよ 運ぼ 拾お いちこ 追いつこ 近付こ 食べよ とどめよ 向かお 引き継ご 旅立と 話し合お 捧げよ 計ろ 取り込も 払お 就けよ 近づけよ 残そ なかろ 継ご 持ち上げよ てんこ 答えよ 楽しも 下げよ 試みよ 成し遂げよ 呼び込も 解こ 寝返ろ 飲も 盗み出そ 生き残ろ 許そ 引き裂こ 乗り越えよ 頼も はじめよ こよ 引き戻そ 頑張ろ 直そ 無くそ 呼び寄せよ 選ぼ ふそ 呼び戻そ 据えよ 整えよ 打ち出そ 送り込も 遂げよ 和らげよ 改めよ 決しよ 学ぼ 読も 超えよ 阻も かわこ くちゅ 持ち込も 断ろ 過ごそ 抑え込も 受け入れよ 手放そ 沈めよ 残ろ 仕掛けよ 襲お 弱めよ 終わろ 営も 作り出そ 向けよ 築こ 諦めよ 合お 弾こ 免れよ 裏切ろ 取り合お 走ろ 入ろ 勝ち取ろ 取り締まろ 置き換えよ 祝お 立ち上がろ 観よ いたろ 来よ 越えよ 襲いかかろ 助け出そ こうじろ 雇お はくしゅ 代わろ くりょ 迫ろ やり直そ 除こ 建てよ 撮ろ 鎮めよ 追いかけよ 取り入れよ 訴えよ 授けよ 放と ひょうど 任せよ 覆そ いじろ じきょ 込も 取り付けよ のも 課そ 取り組も 立ち向かお 移ろ 問お 従お 吸お だそ 脅かそ 向き合お 待と 賄お 追い返そ 下そ 隠れよ 生かそ ふしょ 当てよ 陥れよ 落とそ りゅうじょ 訪ねよ 突き止めよ 帰そ 着せよ 治めよ 当てはめよ とらえよ 救い出そ しりょ 加わろ たくらん 通そ 通ろ 嗤 追お やこ 信じよ 扱お 読み取ろ 通り抜けよ ちょうじょ 誘お 引き起こそ 変わろ 撃と えんしょ 取り返そ 投げよ 組も 押しつけよ ちょうちょ あやかろ 売ろ 促そ 打ち立てよ 設けよ 奪い取ろ 押し付けよ 売りつけよ 叩こ 犯そ こきゅ 造ろ 引き抜こ 操ろ 掛かろ 過ぎよ 取り出そ 赴こ 飛び降りよ 開けよ 臨も 上ろ 迎え入れよ 打ち破ろ おびき出そ 治そ うたお 遠ざけよ 出来よ 遅らせよ 癒そ 埋めよ 持ち帰ろ 託そ 別れよ 呼ぼ 訪れよ 起ころ 告げよ 絶と ゆこ 描き出そ 削ご 引き止めよ ふじつ てんゆ 留まろ 借りよ 写そ 奪い返そ 泊まろ しんぞ 引き込も 崩そ 無から こも 乗り出そ 買い取ろ 歩も 叶えよ 結びつけよ 任じよ 招こ びきょ 名付けよ 報いよ もうそ 引き取ろ てよ 断ち切ろ 興そ 儲けよ 引き上げよ やり過ごそ 触れよ 突こ 住も ゆうじょ 諌めよ 創ろ 引きずり込も 巻き込も くりゅ とめよ 見届けよ 降ろ 真似よ 満たそ 取り入ろ 飛び立と 引き離そ 鍛えよ 繋げよ 覗こ 見捨てよ 引き渡そ しめよ まとめよ 脱ご 衝こ 退こ あてよ じょうじょ 上がろ 解き明かそ 試そ かえろ 押さえ込も ひほ 励まそ じゅうじろ 論じよ 貶めよ 抜けよ つなげよ げんじろ 探し出そ 傷つけよ 捕えよ 追い込も 経と 口説こ 追い落とそ 落ち延びよ 塞ご 施そ 踊ろ 見いだそ つなご 固めよ 聴こ 替えよ 引き入れよ 騙そ 燃やそ 迎え撃と 終えよ 関わろ 敷こ 獲ろ しんじろ 取り掛かろ 連れ出そ 愛そ 寝よ きいちろ 乗せよ 至ろ 思い出そ 横切ろ 破ろ 生き延びよ しょこ 惹こ 聞き出そ 飛ばそ 充てよ えいじろ こごろ 表そ 続こ にんきょ 流れよ 見つけ出そ しょくど 閉じよ けんしろ 飛ぼ 取り除こ なそ げきと 切り替えよ 呼び出そ 結び付けよ 捕ろ 預けよ かばお なおそ みせよ 取り押さえよ なだめよ げじょ 回り込も 降りよ 努めよ 懲らしめよ 取り立てよ 護ろ 掲げよ 生き抜こ 逃げ込も せしめよ なくそ 目立と 押さえよ ほっしょ 位置づけよ へんちょ 流そ 見せかけよ 演じよ'"
            ]
          },
          "metadata": {
            "tags": []
          },
          "execution_count": 46
        }
      ]
    },
    {
      "cell_type": "markdown",
      "metadata": {
        "id": "VZ6M1kwGfRJp",
        "colab_type": "text"
      },
      "source": [
        "最も大きなクラスタの場合。"
      ]
    },
    {
      "cell_type": "code",
      "metadata": {
        "id": "SWEzOCjxZU2I",
        "colab_type": "code",
        "colab": {
          "base_uri": "https://localhost:8080/",
          "height": 204
        },
        "outputId": "b66e67f6-a020-4231-e8a3-2a14bc868429"
      },
      "source": [
        "' '.join(words[labels == sorted_clusters[0]])"
      ],
      "execution_count": 47,
      "outputs": [
        {
          "output_type": "execute_result",
          "data": {
            "application/vnd.google.colaboratory.intrinsic+json": {
              "type": "string"
            },
            "text/plain": [
              "'松平正容 カイム Martina bx +∞ ユニットコム まどか☆マギカ マインド・ゲーム ポルデノーネ無声映画祭 六神合体ゴッドマーズ サンダーマスク ワンサくん プラレス3四郎 機甲猟兵メロウリンク 15.2m 忍者戦隊カクレンジャー 超獣戦隊ライブマン 魔界村 宇宙空母ギャラクティカ especially フランケンシュタインの逆襲 日本国憲法の改正手続に関する法律 6120 シークレット・ドクトリン ~、 ヤッピー LESSON ガンパウダー プリンスオブウェールズ 宮城県警察部 マエストラーレ 東海艦隊 シレ 昭洋 おりおん ゴーディ・ハウ 世界フィギュアスケート国別対抗戦 33打点 熊姫 ザ・イロモネア 丹青 世界の果てまで セブン・アークス ネレウス Tatiana ラジオどっとあい ヒューマ コミックフラッパー 小高駅 新地駅 鬼武者 バイオハザード2 RSIP ACD 公証人法 種田仁 片岡我童 初代歌川豊国 黒部の太陽 餝 Outrage のろう 引きおこし ゴー・アヘッド・イーグルス パワプロクンポケット ハンゲ 王立宇宙軍 オネアミスの翼 フリクリ 福岡県立小倉高等学校 滋賀県立彦根東高等学校 エンガノ Sumner 超時空世紀オーガス 超時空騎団サザンクロス 機甲創世記モスピーダ 大鉄人17 超時空要塞マクロスII -LOVERS AGAIN- ルイジ・コメンチーニ 一興 少年チャンピオン わしズム 予防外交 梶岡定道 ジム・コマンド ガンダムウォー 機動戦士ガンダム 戦場の絆 ドラゴンバスター サラマンドラ パトリック・ラフター アルノー・クレマン Cochran EC2 Florent ハチミツとクローバー ベルヌ 若きウェルテルの悩み 3720 朝夜 センター南 松本電鉄バス 定州市 月刊電撃コミックガオ! 別冊ヤングマガジン 特警ウインスペクター 特捜エクシードラフト 4コマまんが王国 スーパードンキーコング {(\" Grosso 五星戦隊ダイレンジャー 宇宙をかける少女 子鹿物語 デュアルヘッド hydroxide gsi 母をたずねて三千里 1583 フレデリック・ミストラル ベール湖 メトロポール・ド・リヨン 0020 府中藩 徳川宗翰 晴れの海 アトランテFC エクゼター Mandarin 松平頼純 ゆでん 大阪ゴールドビリケーンズ 大島こうすけ ヴィオリスト コミックZERO-SUM マルチリンク式サスペンション グアラニ 井戸田潤 キングオブコメディ ＭＳ ポグソン 沖縄セルラースタジアム那覇 巨獣特捜ジャスピオン 超電子バイオマン daemon 45.7cm G線上のアリア 1700万人 VET JNNニュースバード トロイラスとクレシダ 8103 Pilgrim カッペリーニ カニオ 12.8m Euphoria Power Rangers ファンデ OKWave supreme アニメ版ポケットモンスターの登場人物 クローチェ ジェンティーレ leo Vito Ugo Marcello Massimo 坂東國男 した前 Aki YEN TOWN BAND スワロウテイル ソクラテス式問答法 真昼の暗黒 新しき土 民衆の敵 住井 橋のない川 ウチくる!? クッキングパパ パワーシフト ニーエアバッグ バヤルド あやや ビッグモーニング MICE ハラル Isola シュート! 永井尚政 2184 アイシールド21 村田雄介 海底二万哩 イタリア共和国功労勲章 小説すばる 脱工業化社会 愛の嵐 69話 夏の嵐 941人 レク ロシアより愛をこめて ザ・フラッシュ 夫神 羊をめぐる冒険 好色五人女 美内すずえ ガラスの仮面 時無 まんがタイムラブリー パスト・マスターズ 41センチ ヨークシャーオークス 昆虫物語 みなしごハッチ 六甲道 うかみ うっとうしい ブレッソン スウィーニー・トッド シガツェ市 フレーベル館 群馬2区 コロコロアニキ 武経七書 まるき Fairmont Quentin liberté Lazare Beatriz BOOMER ザ・ハリケーン 筑後宇都宮氏 3570 10ユーロ チャパティ Saito 電撃姫 電撃G\\'sコミック スタニスワフ・ジュウキェフスキ 26打点 琉球神道記 沖縄県立博物館・美術館 sounds レコード・コレクターズ 住友金属工業蹴球団 ジェリー・ブラックウェル ランザ 黄金の日日 中薬 モーニングジャンボ奥さま8時半です フラワーズ・イン・ザ・ダート ジェフリー・アーチャー あかずきん 大連湾 ニューロフィラメント チキン・リトル ミート・ザ・ビートルズ Smokey 10.7m 豊後竹田 肥後大津駅 ヘンリー・アーノルド スローターハウス5 Hydra Curl クスダマカビ ニッポン無責任時代 スプーンおばさん おはよう!グッデイ チング 赤城乳業 ツインビーPARADISE メガゾーン23 プリンセスメーカー Valerio 石田衣良 Shaun 1094 荒手車庫 高崎映画祭 陸軍野戦砲兵学校 エルメス・フランカ 小林聡 國奥麒樹真 J.Z.カルバン 石田光洋 石田ヒロユキ ロー・ファンタジー WIZARD 注文書 Siesta Midnight Sun 債権者代位権 Zdeněk 天使のたまご ジョゼと虎と魚たち 絶対無敵ライジンオー 木次駅 軽ボンネットバン LPR 尾上松也 Николай スワースモア スティーブ・ライト エデンの東 TOKAI >(</ 古壮字 台湾メディア 101回目のプロポーズ 北川みゆき アルシュ スキマ MEN\\'S CLUB 55センチ Families フルメタル・パニック! persons 打たれ弱い 洞戸 ウィガン・アスレティック Atlantis 日本冒険小説協会大賞 MellowHead Tara Marvelous 1997年製 かわみなみ 和風総本家 NHK東日本大震災プロジェクト アタック! comic B\\'s-LOG 宮廷女官チャングムの誓い 10020 3013 5130 キットソン rankings 大野まりな 長谷川良夫 1635 ちゅうえい flame 本町六丁目 南大塚 妖しのセレス IAUC オイディプス王 オタリア 開成中学校・高等学校 徳源院 イノブタ 1172 1749 同和利権 バロー＝イン＝ファーネス ケルス 60式装甲車 1712 宇宙戦士バルディオス 愛しく ありがとう浜村淳です 立ち戻り スーパーマリオブラザーズ2 スーパーマリオコレクション スーパーマリオRPG 亜空の使者 ミューロケット 愛媛2区 生方幸夫 吉川元 小川敏夫 高岡寿成 プーナ 日本バドミントン協会 日本科学者会議 マリオパーティ5 New スーパーマリオブラザーズ マリオカート7 彼氏彼女の事情 ティミシュ ロックマンエグゼシリーズ 肉体の門 必殺仕掛人 野獣死すべし 佐野洋 ドラゴンクエストVIII 空と海と大地と呪われし姫君 しらべる 36.3% ドラゴンクエストIII そして伝説へ… 1419 Sellers 自動火災報知設備 松平康重 Role&Roll 33.7% LOGOUT Adobe Reader 成城学園初等学校 パルスレーザー砲 89式装甲戦闘車 家の光 鳥人間 だぁ!だぁ!だぁ! グリーングリーン キャスリン・ビグロー あさって 赤池町 年金局 大阪デザイナー専門学校 のび太の結婚前夜 えいさ 創世日記 ヴォルフラム・フォン・エッシェンバッハ ジャラールッディーン・メングベルディー 海上無線通信士 二重関節 寺内貫太郎一家 太陽を盗んだ男 310km ダンサー・イン・ザ・ダーク パース・ヒート 中労委 国旗及び国歌に関する法律 緋村剣心 フランス共和国憲法 パブロ・デ・サラサーテ ケイダッシュグループ 毎日かあさん 367人 ウエルシア関東 2226 2260 165k おおさかシネマフェスティバル Kamil 南淵 高田裕三 赤い光弾ジリオン MM9 ホーリーピーク 茨城県選挙区 さがり 岐阜県選挙区 キャンプ千歳 ショートソード とんねるずのオールナイトニッポン 裸名 ゆりかごから墓場まで 政府刊行物 1767 信邦 LASER FORWARD あずきちゃん 東京慈恵会医科大学附属病院 鹿島アントラーズユース \"...,\" 月刊Asuka 神戸まつり ニコル・バイディソバ スウォンジー・シティAFC レッツ・ダンス ベイウォッチ WLS 1331 95センチ ：\"\"、 homme イワサザイ カザリドリ マイコドリ 2073 倍する ドンキーコング たるジェットレース ドンキーコングJR. スーパーマリオカート ディディーコングレーシング スーパードンキーコング3 ドンキーコンガ シリー・シンフォニー 3016 インハウスローヤー 気狂いピエロ 古森義久 電撃大王 日本マンガ学会 マグネッサーシステム 新・週刊フジテレビ批評 小島奈津子 MXテレビ マリオパーティシリーズ スーパーマリオギャラクシー エリス郡 Bodies アンサンブル・モデルン 聖剣伝説2 Royal Navy ストー 今昔文字鏡 ボルボオープンカップ ニッパツ三ツ沢球技場 ゾイドインフィニティ 物価庁 Martyn ノーザンブリア フーズム コラン colours 葉山たけし 富山テレビ放送 2129 ミヒャエル・ハイドン browser イワウメ 10.6m 日刊スポーツ映画大賞 プリンス・チャーミング AAB ヒドゥン 6102 Cookbook Genève 牡牛座 電磁シールド 優先順位の逆転 プロレスアワー 世界のプロレス Adélaïde ペロンヌ 1243 CAPCOM VS. SNK 2 MILLIONAIRE FIGHTING 2001 CvS CAPCOM VS. SNK マルタイ カルメン故郷に帰る 純邦楽 2306 美王 非公式帝国 2180 ここがヘンだよ日本人 53センチ 1561 新・旭日の艦隊 113km ソジ 5350 1705 1259 カラオケの鉄人 宇迦 塩草 タリホー ホーム・アローン 32.1% 986人 395m 90秒間 近藤亨 中原悌二郎 ニルスのふしぎな旅 破裏拳ポリマー 紀光 ホーカー・ビーチクラフト パイロットエラー TABプロダクション エーツー 刀語 アトロミトス 大木伸夫 グラール デューン/砂の惑星 ジョルジェ・エネスク 光戦隊マスクマン 仮面ライダーゴースト 108kg シボネイ ラ・カンパネッラ はみだし刑事情熱系 ホイラー・グレイシー 電撃戦隊チェンジマン はぐれ刑事純情派 ブルースワット 未来戦隊タイムレンジャー マルセル・デュプレ Messe 首都圏ネットワーク 小沢村 2.4倍 PlayStation 2 the Best 差戻 大阪府立春日丘高等学校 徳川治紀 魔法の絨毯 1332 ひかりごけ ドラえもんカラー作品集 くつした ネルソン級戦艦 6.2m つや出し 抗ガン剤 三晋 ビルング アムンゼン ダンビー 590km 一般者 アパッシュ Flute ビエッラ ニョッキ D.Gray-man 道路特定財源制度 午後は○○おもいッきりテレビ ディエゴ・サンチェス 源顕房 あばよ パッチギ! 海底二万里 Giancarlo ワールシュタット 高橋和枝 ナナコ タイコ 沢木郁也 春の夢 雪室俊一 の・ようなもの 星界の紋章 エスパー魔美 M83 FOX出版 愛知県尾張旭市 人民文庫 776人 Pooh! セーズ ホイッパー・ビリー・ワトソン レネ・グレイ セールスマンの死 戦争と人間 カール・ケレーニイ ジールアソシエイツ 愛という名のもとに 笑ってる場合ですよ! おとなの漫画 君こそスターだ! Clone ギテガ 金曜劇場 秋刀魚の味 ラモラック NHKニュース10 ディミトリ・ミトロプーロス チビッコ 第35戦 中部航空方面隊 ベロイト シティ・スリッカーズ 給食委員会 vinyl 麦の穂 サプフィール 毎度おさわがせします ターナ エイ出版社 ゲルハルト・リヒター 小説宝石 38.2% student 戦略空軍 Impress アルバセテ 319人 ダイヤモンドは永遠に ラ・マンチャの男 comte 月刊コミックコンプ コミックコンプ コミックガム 若い季節 ゴジラvsビオランテ プラスアルファ アクトレインクラブ 松平定直 小公女セーラ ヴェステルイェートランド ガメラ3 邪神覚醒 ガメラ2 レギオン襲来 コクヌストモドキ 千葉県袖ケ浦市 ラウ・ル・クルーゼ もくば 女の都 戦闘民族 常盤新平 風の歌を聴け 海辺のカフカ 6300人 内藤忠政 ノルマル おもしろブック ちかいの魔球 サインはV でっかい青春 はじめの一歩 リングにかけろ 3時にあいましょう ホロン 號第 ルイージマンション キングテレサ 大丸梅田店 パケ死 プチセブン Emilie ティアリングサーガ ラインホルト・メスナー 1256 902人 市谷田町 ベイビー・ブルー 121m ノスフェラトゥ 尾高賞 リアルバウト餓狼伝説スペシャル リアルバウト 餓狼伝説スペシャル 細井雄二 パティ・シュナイダー 為隆 デジモンワールド 中国法制史 沢松和子 サニア・ミルザ テイルズ オブ ファンタジア ブライアン・オールディス PEA ミザリー WCO ガエル・モンフィス ザ・ポーグス アースクエイク ヘンリー・キャンベル＝バナマン CAバンフィエルド Adriano コパ・アメリカ2004 明日の記憶 Garnet Nilsson ほす 燃え立つ 1161 危険な関係 ニュースプラザ 99話 グリーン・デスティニー ダイ・アナザー・デイ \\u3000\"\" わが青春のアルカディア タクティクスオウガ アルティマニア 光線過敏症 あてはまり エフエムナックファイブ 埼玉県営大宮公園野球場 和歌山県警 シカゴ商品取引所 8003 冀南 発行済株式数 edited アカシヤ ウルトラマンギンガS ダーク・フューネラル 矢沢あい 杭打ち機 テリー・ザ・キッド きまぐれオレンジ☆ロード まつもと泉 ついでにとんちんかん ミトロプーロス Riccardo PMF ロンドン・シンフォニエッタ イドメネオ カレンベルク 966人 無症候性キャリア 苛性カリ ²)。 トリナクリア O嬢の物語 ハイカラさん 都市経済学 狭衣物語 讒謗律 岩峅寺駅 ガンダム開発計画 ナガノ ゼータガンダム リゼル 0105 0104 機動戦士ガンダムSEED C.E.73 STARGAZER ギガンティス ヒートホーク FM山形 FM岩手 デビルマンレディー 山形県立山形東高等学校 11センチ 63打点 83打点 3300人 qualified フェリーボート 風紋 ラブアタック! イヴの総て いま、会いにゆきます 月刊サンデージェネックス シャロレー Ewing 仮面ライダー THE FIRST ベヒーモス バビロニア神話 コラン・ド・プランシー フランクフルター・アルゲマイネ・ツァイトゥング アリステア・マクリーン ゼンダマン 造作材 5.1m 44k 66k エディスン RSB TAISHITA 広島高速1号線 ブレンタ この人を見よ ネメシス/S.T.X 不食 GUM FAW Jour 中体西用 国際競馬統括機関連盟 IFHA 世界の中心で、愛をさけぶ ドラゴンクエストII 悪霊の神々 イチオシ!モーニング 過酢酸 Sympetrum ノシメトンボ 特殊記号 ランガー lucky １０月 フォルトゥナ・シッタート 人文社会科学研究科 ラ・ムー н スーパーロボット大戦Z アメデオ ドルマバフチェ アルファボクシングジム GBU まんがライフ 角田城 デンジャークルー・レコード DEAN AVM 私の何がイケないの? オーエスジー 三沢村 清酒酵母 ブーク 全米ゴルフ協会 ドラゴンエイジピュア Dominik 1353 がんばっていきまっしょい トルトラ 青塚 ジロラモ・サヴォナローラ ヴィーナスの誕生 自動プログラミング Morrow 快傑ズバット 小説吉田学校 弟切草 街 〜運命の交差点〜 L.A.コンフィデンシャル Playback 977人 26.9% メシュエン みずほ総合研究所 車両長 24打点 United States of America ボルスタレス MTV Video Music Awards Japan 凍結防止剤 合憲限定解釈 大阪府大阪市旭区 Papilio マガジンGREAT FSI ロバート・キング・マートン 両丹 有隣会 チェンジリング Vogel ウェインズ・ワールド Megan ステーシー Barron 夏への扉 3159 メタルギアソリッド2 エメリッヒ ショーシャンクの空に 軍事ジャーナリスト KIMURA SOLEIL 長上郡 2222 2211 2225 2209 2217 13000系 いちご白書 グッバイガール キンパラ Majestic アッシュールナツィルパル メモリバリア なめくじ 趣味の園芸 BDZ 3032 「+」 112km ゲートタワー 真珠夫人 ボルケーノ ウィルシャー Rasmussen Mr.BOO! ルー・ホード ラタン Zara ツレス 特設警備隊 baroque シベルネティコ 牝馬東京タイムズ杯 スーパーテレビ情報最前線 NHKラジオ第2 プティ・パレ 泰清 Doherty キャプテンストライダム 少年カミカゼ ONE☆DRAFT ウォーラステイン 1168 再生可能資源 かみゆ Cody 京都サンガ Team H ルイベ ダックワース Young Love 75話 消されたライセンス トイ・ストーリー2 )/( 唯子 チンプイ のび太と奇跡の島 高橋渉 俺は用心棒 ペルソナシリーズ 真・女神転生II 侍ジャイアンツ ガンバの冒険 レナト ウィンディ 日本誕生 有年 ソルベー シャーロット・ブロンテ 生田町 メイザー 土鈴 庶系 直知 伊藤計劃 死ぬのは奴らだ ジョリー・ロジャー 濱マイク 税務局 ヘルゴランド 7450 ダンピール 東山村 辿れる ヒンドゥー哲学 ぷよぷよフィーバー 72打点 あすなろ白書 J9シリーズ 銀河旋風ブライガー 37打点 がんばれ!!ロボコン 旅立ちの日に ブラザー・ディーボン 空中発射弾道ミサイル hospital ジョアッキーノ フランチェスカ・ダ・リミニ 猫の恩返し ヴィンチェンツォ・ベッリーニ いかよう イェスゲイ・バアトル ウルトラマンメビウス&ウルトラ兄弟 スーパーヒーロー作戦 兵庫県選挙区 スーパーロボット大戦α外伝 カセグレン 別冊花とゆめ 三陸沖地震 平光 キャプテン・スカーレット 保教 龍の子太郎 世界名作童話 森は生きている オイロパ 星のカービィシリーズ 星のカービィ スーパーデラックス 星のカービィ64 星のカービィ3 月刊ドラゴンジュニア 2480 ビーボ スタジオ・ファンタジア 1174 サピア フェリックス・ガタリ おもいッきりイイ!!テレビ ブルードラゴン 美少女戦士セーラームーンS 栄冠賞 村上もとか 第72話 MCT 詩と詩論 美術文化協会 聊斎志異 キハ5000 キクハ 盛岡大学 并流 ジュール・ミシュレ キハ82 キハE200 吹替洋画劇場 近代英語 月刊コミックラッシュ ハッピーデイズ ″、 天空の城 花ざかりの君たちへ 変身忍者 嵐 CIT 長野県飯田高等学校 嘘つき解散 こゆき ロロナ Getting Better ハイチ語 クラング バガボンド ハーメルンのバイオリン弾き 増刊ヤングガンガン 南国少年パプワくん 6550 25.3% 27.3% 大阪府立住吉高等学校 fear ソーサリアン チョソングル ミスターマガジン ヤングマガジンアッパーズ 九十九里鉄道 ファイナルファンタジーIX FFXII FFVIII まんがタイムきららキャラット ジョゼ・アルド ゴールデンジュビリーキャンペーン Pasteurella 月刊IKKI IKKI シャマシュ・シュム・ウキン 夏恋 3048 訴えの利益 違憲審査基準 ご近所物語 赤ずきんチャチャ 京都橘大学 Ki/oon Sony Records 星の王子様 アイレックス 愛知産業大学 名古屋造形大学 常葉学園大学 ナイキ・フープサミット 46センチ 1263 Tunny クリスタル・ガラス 755m Albion ザ・サンデー 秀丸エディタ 878人 ロマンシア アレルギー物質 5060 メインキャストプロダクション 10-300R形 とんがり帽子のメモル Flanagan 2451 ロジャー・メイウェザー ぶん殴っ ショーン・シャーク ツィミスケス 池中玄太80キロ 中邨雄二 ダーマ&グレッグ ダーマ スピン・シティ 東リ ヴォーラ 華麗なるギャツビー ティースプーン 杉本哲太 ニコラス・マスー AG-promotion ウッチャンナンチャンのやるならやらねば! カロネード ホーンブロワーシリーズ イラン進駐 野口茂樹 回し者 マル追計画 833人 142回 愛の奇跡 トミー・ハース ドラえもん海底列車 ガイズ&ドールズ 岡山武道館 テープレコーダ テアトル・ド・ポッシュ つぐない SHOP99 ハイ!土曜日です Kazimierz 二十四時間の情事 ピカドン 西鶴一代女 春琴抄 情報文化学部 ピリカ マルル ハケンの品格 フラッシュマン プファルツ＝ツヴァイブリュッケン＝ビルケンフェルト 池田理代子 挟まり 下水道法 ポコニャン 梨木 ドッキリ!ハッキリ!三代澤康司です ポートブレア ゼロメートル地帯 北神急行 半裁 マルチブート 平池 失われた世代 ミロス・フォアマン Restless トムクリエイト 32.6% ビクトリアクラウン サム・グレコ ケイン・ヴェラスケス ケラケラ Keane 有言実行三姉妹シュシュトリアン 鹿児島県西之表市 ハリー・ポッターと賢者の石 61打点 58打点 弘山晴美 ニコニコドー 復活の日 おじゃまんが山田くん 2730 Cruising リューゲン ||-||-|| サーモバリック 延原謙 有山 ï ウィニペグ・ジェッツ メリー・クリスマス 極上!!めちゃモテ委員長 篠塚ひろむ 玄光社 オーシャンズ ノッティングヒルの恋人 火吹山の魔法使い 直江津港 アンダーカバー 女王陛下の007 0011ナポレオン・ソロ ヒッチコック劇場 YEN 魔神英雄伝ワタル クイズ!年の差なんて Hillman 3610 4180 ルパン三世 ルパンVS複製人間 ロボタン ULTRASEVEN X さよならジュピター 池田長幸 吉永町 99日 雪の朝 累次 ココロコネクト ヴヴェイ 38kg サウダージ 5200人 グラデュエーション LIVE CORE AKATSUKI MSIP 大阪天王寺 エマ・ワトソン せいばん Ning 武蔵江戸氏 古市検車区 坊屋三郎 サルムソン 笑府 翔んだカップル まことちゃん 野性の証明 ねらわれた学園 カンポバッソ 月曜ドラマ・イン スターログ ロボット刑事 宇宙鉄人キョーダイン おみやさん 谷内六郎 ソック とうがく 米式 損切り 泉藩 外交関係に関するウィーン条約 宇部商業 41日 38日 新世紀GPXサイバーフォーミュラ アップデート機能 Germain 北茂安 825人 THE夜もヒッパレ 148kg 鈴木悟 5331 5507 85日 射鵰英雄伝 うっちゃん RED WARRIORS カラベル 1リットルの涙 Tinosa BEAT UK アルジャーノンに花束を 厨房設備 汎アフリカ色 KIYOSHI 探偵学園Q ザ・リッピントンズ ワンマンバンド Yakovlevich クレイ数学研究所 中央労働学園 伝説のオウガバトル Forensic リング0 プチフラワー 対地接近警報装置 32件 2年B組仙八先生 エントリーポイント ウェルド 長井満也 ヨセフ・スク ハービー・マン Guru ディンガン・トベラ デジモンアドベンチャー02 ぼくらのウォーゲーム! デジモンフロンティア イカル EXPERIENCE 横田一則 女の平和 愛の言霊 22.3% ずっとあなたが好きだった 捨蔵 藤本ひとみ ADAWS セベ・バレステロス 0064 風魔の小次郎 Cory 勇者エクスカイザー 子供の情景 シックス・センス 56話 書簡体小説 マリー・ローランサン ジョルジョ・デ・キリコ キングヘイロー 鳩子の海 大道典嘉 4040 8085 小板 ゼルダの伝説 時のオカリナ 1639 暗黒街の顔役 アペリティフ ホオジロザメ ザメ 907人 }, ヴィジュネル暗号 サゴス さすらい刑事旅情編 21.9% イノ 951人 フェザード ドスペ2 岐阜県立岐阜高等学校 モハ205 リンコサウルス 私立バカレア高校 スーパーマリオサンシャイン メアリー・ステュアート 7008 7013 ヘレー 1329 岡部長盛 島大介 オーカー クマのプーさん Winnie レジナ スパルティヴェント 埼玉県立浦和西高等学校 ブルースチール JOINT 予期せぬ出来事 恋多き女 1998年製 育夫 Gli Dorsey テイザー ワーリー 171年 ニハーヴァンドの戦い レイヤード 硝酸鉛 心の旅路 島の女 大正九年 映画用語 ファンタシースターユニバース バータ アウエ 浦舟 padding Adonis トム・セレック シャーロック・ホームズの冒険 ユア・アイズ・オンリー ウォーレン・ベイティ 2005年製 ドーソンズ・クリーク サード・ウォッチ クピードー みごろ!たべごろ!笑いごろ! ムーブ! ローザンヌ大学 1990年生まれ 広島県選挙区 ムーレ・オ・ロムスダール ジジ・フェルナンデス 教育行政学 教育方法学 雷型駆逐艦 ゴラ トラベルトレイン マドー 宇宙刑事シャリバン 夜歩く MiChao! 津島直人 オリヴァー・ゴールドスミス 毎日デザイン賞 静岡県立富士高等学校 マイク・リー 1994年製 ストリートファイターIV デニス・カーン ビクトー・ベウフォート ジェイク・シールズ プロ・フィット 龍門石窟 ヨーゼフ・マルクス ASLA 環境デザイナー 矢来町 佐世保海軍航空隊 勇者ライディーン 超電磁ロボ コン・バトラーV 闘将ダイモス コン・バトラーV 1479 2Q 蛯原 ウェークアップ! Bento 7800人 下田崇 Performer 長澤奈央 単純労働者 めろん 横浜高等商業学校 テグザー バンジョーとカズーイの大冒険 ワリオランド かまいたちの夜 メタルスラッグ 方南町支線 2062 風信帖 リベルタ ジーザス・クライスト＝スーパースター 蜘蛛女のキス Heidi 純情きらり べいし 大和本草 日本国際連合協会 九六式艦上攻撃機 サマール 三原町 スナフキン スター・ツアーズ ほしのゆめ iu tcsh 小さな世界 パイレーツ・オブ・カリビアン/デッドマンズ・チェスト うたわれるもの 日本大学豊山高等学校 和歌山2区 隠秘学 411人 蒼天の拳 不当廉売 ティアゴ・モッタ Thiago 外国人登録法 ガーシア 山之口町 章名 東京都立江北高等学校 由る 148度 デ・ジ・キャラットにょ 海皇 Ivo McCarthy マンデースペシャル ヨーハン・ヴァイヤー 笛吹童子 チャタレイ夫人の恋人 象印マホービン レーガノミックス 27打点 ヨギ きんぎょ注意報! エドフ キユ チェリニョーラ たいさ トヨタ・センチュリー 解せる 6750 ポム ヘレン・ウィルス・ムーディ 20.2% 桐の花 親子ゲーム おれは男だ! Sexuality SAINT たけこ 安田火災 羨ましい シモーニ まほろまてぃっく GGENERATION 島香裕 氷の微笑 チャイニーズ・ゴースト・ストーリー 試し切り スヘキ NewTek 倉科遼 青の時代 麻美ゆま テルマ&ルイーズ Qb スペースコブラ 血と骨 小説推理 日本電産サンキョー ウォー・ゲーム cinq 2415 古代湖 キウィタス empire バーンズリーFC ドンカスター・ローヴァーズFC ハダースフィールド・タウンFC 静岡FC 428 〜封鎖された渋谷で〜 ディズニー・オン・アイス 関西大学第一高等学校 工業意匠 千葉県八街市 ダーゴル 衷心 柴田亜美 顕真 ガルル スターバト・マーテル 近代麻雀オリジナル ぎゅわんぶらあ自己中心派 スーパーヅガン ディーカラー オフィス野沢 弦楽四重奏曲第4番 ベニー・ゴルソン 53万人 ウルトラマンネオス 大恩寺 ローダーデイル 奥州後三年記 ちょうかく 罌粟 別冊文藝春秋 鉄コン筋クリート 松本大洋 アニマトリックス 武器よさらば 白泉社アテナ新人大賞 美容師法 Baptista 丸の内警察署 花関索伝 Summer Days 生島治郎 三原地域鉄道部 ディジット スカスカ Horner Sawfish コラード 共同の部隊 モンポウ 서울 Narrative Óscar Domínguez あいぼ どですかでん 月華の剣士 とんび 22打点 スーパー・デラックス ラザール・レヴィ Petri Evgeny 住信SBIネット銀行 Dmitri \"」、「 黒死館殺人事件 チャールズ・ヴィリアーズ・スタンフォード フランク・ブリッジ 585人 ジョン・ティンダル 赤十字救急法救急員 キノボリウオ Addicted コミックゲーメスト ウィントン・マルサリス ヘッズ・アップ エドワード・ウィッテン 富岡東 鹿児島3区 TIGER & BUNNY Oceania オーティズ Piranha ARCADIA ミステリチャンネル ライモンド・モンテクッコリ Ⅶ マイノーター グスコーブドリの伝記 WORKING!! 荒井チェリー ヴィヴィッド 自転車泥棒 ジョヴァンニ・ボッカッチョ 595人 クイアバ スコットランド中部 夏物語 ザーンダム 容疑者Xの献身 Elżbieta オリエント急行殺人事件 クサール ジヒドロキシ 岡山自動車道 35.3% 烈火の剣 ファイアーエムブレム 暗黒竜と光の剣 華の乱 1900年代前半 Brigadier スターオーシャンシリーズ クィーンズアベニューアルファ 151cm 本城村 アニー・レノックス ロード・オブ・ザ・リング/王の帰還 牡丹と薔薇 ヴェシュニッツ 菱マンガン鉱 修正動議 2215 磨りガラス 2231 ダイアン・レイン ツカツクリ ウェイン・ファリス 律書 入野義朗 Amore 本陣殺人事件 ソア橋 A・A・ミルン 結果の平等 45.3kg Mayflower 広島県立広島皆実高等学校 党紀 大分1区 判断力批判 reine 田川建三 加トちゃんケンちゃんごきげんテレビ 泥田 おもいッきりテレビ 澪つくし トップ・ハット おもいッきりDON! 飛揚 マルサの女 ルージュの伝言 十角形 クリスチャン・ダナー 中平正彦 さくらがんばる! ストリートファイターZERO2 濃い茶 ポケットファイター SNK VS. CAPCOM SVC CHAOS 925m ミッジ・ユーロ 恋の骨折り損 MODO 120g ゆらい 直5 プリンシプル ɔː ザ・ネプチューンズ SUITE ラストマン・スタンディング 滝川氏 富山県立富山高等学校 ハルモニウム Ives スピンオン 1184 青銅時代 HAN-KUN 弥栄神社 omnibus モーリス・ブランショ 1456 少年アシベ 愛のメモリー メロディーズ はぎ取り 電脳コイル 瞬間物質移送器 三段空母 宇宙戦艦ヤマト2199 星巡る方舟 時空戦士スピルバン 特救指令ソルブレイン 伊藤潤二 ブレア・ウィッチ・プロジェクト 27年後 カメルーン共和国 報ずる 隨郡 スター千一夜 金口 週刊ビッグコミックスピリッツ 月刊ビッグガンガン 愛媛県立八幡浜高等学校 学園天国 ブレイクアウェイ チメロサール レインマン 岡野剛 735m Dempsey シライ エルネスト・ブロッホ 北中央 マータラ 9899 一斉授業 誉田哲也 ロゲ トム・クリステンセン ハハコグサ 児山 CAPCOM FIGHTING Jam RSKイブニングニュース ゴジラ対メガロ ゴジラ×モスラ×メカゴジラ 東京SOS ホテル・ルワンダ 138kg Ausf SOLID VOX Purple software 真空包装 超星神グランセイザー シュレージシェ・オーバーラウジッツ コベントリー ゴジラvsモスラ 怪獣総進撃 赤眼 クモンガ かいぶつ ページレイアウト 流板 市川猿翁 怪物王女 ディレクトリサービス 中院通茂 エクストリーム・クートゥア Mundi アンディ・オロゴン 西戸崎駅 Crocodile \"|-|||| スペランツァFC大阪高槻 マメヅタラン チェインメイル Biotechnology 超時空要塞マクロス 愛・おぼえていますか ゃかいしゅぎ 若者のすべて 鍵のかかった部屋 テックウィン ジャーム ラマー郡 ネムキ 公安庁 エコエコアザラク 電人ザボーガー 情報セキュリティマネジメントシステム 千葉県千葉市花見川区 オオカミ少年 不確定性の音楽 千葉市美術館 アフターバーナーII O.S.T. スーパーホーネット ターミネーター2 CCI さすがの猿飛 Packard 1322 新豊橋 機甲軍 機甲軍団 ヴァルター・フォン・デア・フォーゲルヴァイデ 月刊COMICリュウ コミック怪 月刊少年シリウス 白人奴隷 86期 新陽 1759 thunbergii 日本陸上選手権 大阪府大阪市東成区 平成国際大学 5280 第31戦 内上 lucifer ダイポール のしお ソニックアドベンチャー2 メカゴジラの逆襲 ガンガンWING ラフテレーンクレーン 相原コージ お富さん ヒュウ 後十字靭帯 ブリストル・シティFC AFCボーンマス 風吹ジュン スティッチ! 山梨県立韮崎高等学校 メイショウボーラー ZZZ ザ・ニュース PRK ドンチャン 線形合同法 ナバール 時効警察 釣りバカ THA BLUE HERB rubber Mr.ビッグ グッジョブ! ウルティモ・ゲレーロ Montréal 青山学院初等部 1163 アルゼンチンのサッカー オフィスCHK 756人 2042年 59話 無敵鋼人ダイターン3 めぞん一刻 1787 アマランス 豊永利行 栖本 ロード・ウォリアー・ホーク 猟奇的な彼女 百想芸術大賞 土曜プライム 湘南白百合学園 虚無への供物 デカメロン 1348 ｌ ドラベース きいろい そくし Éric BLACK CAT 遥かなる星 213人 宮川藩 雨上がり決死隊のトーク番組アメトーーク! シルシルミシルさんデー 小公女 フェルディナント・シェルナー Grampus 3.2mm 5.5mm アンリ・ルコント シュツットガルト コンヤスポル 安田女子大学 いっこく オースーパージャンプ ヤングチャンピオン烈 キャララジオ 3604 ピューリッツアー 過ぎ去りし日々 けいゆう 大脱出 アンジェリークシリーズ 蒼穹のファフナー カリオペー 龍山村 Booty KUDO Adriana ネットマーブル ラ・カージュ・オ・フォール BANDAI フレッド・ゲティングズ 三丁目の夕日 ウィニペグ・ゴールドアイズ 石の花 超人機メタルダー エースアサルト toy 3B LAB.☆S せんねんき アルヴェーン the power 不毛地帯 レインズインターナショナル セレーネ マトリックス リローデッド 壊 厚真 Vedi ヘルパ 文化科学研究科 creating selected articles 魔界戦記ディスガイア GN Software スパルタンX 146cm SiM 青春パンク クロックタワー ジローラモ・フレスコバルディ アランダ フェルディナント・カール タイム・アフター・タイム グーニーズ Navarre 陽のあたる坂道 ISCF フォレスト・グリフィン キース・ジャーディン Nori 兵隊やくざ イイジマルーム ロコモコ 急性脳症 高慢と偏見 プライドと偏見 しゅんどう ビーストウォーズ 超生命体トランスフォーマー ビーストウォーズメタルス 小笠山 ブルーベルベット 焦茶 Y2K 岩手2区 鷹司房輔 ゲッタウェイ ガンスモーク 人間の條件 銃剣格闘 シャイターン 新井田豊 17kg ギュルハネ 地球最後の男 麗しのサブリナ 北北西に進路を取れ スーパーマン リターンズ 遊星からの物体X 122打点 ザ・フライ Christiane 無声軟口蓋摩擦音 フォ 狼男アメリカン オージ ゼロの焦点 私は貝になりたい 5511 7018 9008 Cork CSIRO 井上良雄 則満 66打点 少年キャプテン 静かなるドン 284人 王欣太 プロゴルファー猿 ビーツ Nathalie 73年ぶり 大石駅 films Charley Kita 満州文字 佐賀県小城市 NONFIX スポーツLIFE HERO\\'S ホンマでっか!?TV クイズ!ヘキサゴン 人志松本の○○な話 桑田佳祐の音楽寅さん チャギントン ディック・トレイシー 地球の静止する日 カールじいさんの空飛ぶ家 裏窓 3599 大和高田クラブ 上の前 シシウド 秋田1区 七月鏡一 たかしげ宙 アメリカ合衆国国防総省 聖剣伝説3 ガルガンチュワとパンタグリュエル ガルガンチュア FCトゥーン 雄川 森見登美彦 コミック乱ツインズ 劇団いろは 認諾 倭奴 マノ Bragança 共同運動 湘南国際村 モーレア島 ブラウン・ベス フレズノ・グリズリーズ 後元 福津 能なし フルリメイク ファミ通ブロス 655人 信貴山縁起絵巻 アテンションプリーズ フランケンシュタイン対地底怪獣 キングコング対ゴジラ フォントネー＝オー＝ローズ ジャック・タチ パンダコパンダ き城 大怪獣決闘 ガメラ対バルゴン 大怪獣空中戦 ガメラ対ギャオス 童友社 白い船 Hellenic Camilla ゴジラvsデストロイア 4コマnanoエース ニュータイプエース キャッシュコヒーレンシ 忍者じゃじゃ丸くん 76期生 リトル・ニモ ガイ・ピアース ウエスタンアームズ 週刊少年サンデー超 かってに改蔵 Windows Phone 8 39.9% ボディガード牙 福岡アジア文化賞 サヤン ASエルフェン狭山FC アニマル・ハウス 大阪教育大学附属高等学校天王寺校舎 大阪府立四條畷高等学校 水10 フラジャイル モハ485 ソロウ ロー対ウェイド事件 ダルタニャン物語 ナンキン 魏続 男女7人夏物語 パパはニュースキャスター 池袋ウエストゲートパーク 3115 60打点 パルマAC イスラエル・プレミアリーグ 戦争童話 グローディア オンランプ 門倉聡 過換気症候群 打吹 ギルモア・ガールズ Carla 首里駅 オジブウェー Lucie 直接照明 ムワイ・キバキ 688人 1527 青影 変身忍者嵐 よしながふみ 水色時代 こどものおもちゃ 機動戦士ガンダム 閃光のハサウェイ ガンダム Gのレコンギスタ コッチ アントレプレナーシップ チャイナート 備後落合 パネルクイズ アタック25 辻川 127kg 勝谷 八郎潟駅 コーエー25周年記念パック 454人 グリンゴ 36.9% 中広 シーラーチャー 209m Accord 筑波大学附属駒場中学校・高等学校 クリスチャン・サイエンス・モニター ざきけんりつ 49万人 風使い SBCニュースワイド トム・ソーヤーの冒険 市成 Gábor VANILLA ケイゾク ヴァルター・ツィンマーマン やくざいし かみまち 埼玉県立春日部高等学校 57打点 ナターシャ・ズベレワ スウィートホーム ランディ・クートゥア ホナウド・ジャカレイ ゲガール・ムサシ ラストサマー スクービー・ドゥー 海事補佐人 ダレスト 国連薬物犯罪事務所 UNODC インダイレクトマウント DZ アフタヌーンKC エピカ テレビ新潟放送網 トレインスポッティング 22.5cm バルバトス 創美社 アルバニア共和国 鶴間駅 MNF 第32回スーパーボウル マンディンゴ Keiko problems ドミートリイ Connell サムソンとデリラ 523人 McCall Franks 匂う ジャン・ド・ラ・フォンテーヌ Stuttgart セラノーバ サスペリアミステリー ダッジ・バイパー 白夜行 1247 ティヒ ボルツ トチカガミ レーモン・ベランジェ Lourdes タンデムローター 吉田秋生 櫻の園 由々しき ヒトラー 〜最期の12日間〜 Believer フロッガー コギ 栃木県茂木町 寺前駅 Q熱 はれときどきぶた トローラー PQ17船団 コミックZERO-SUM増刊WARD Revival 電子コンパス リオデジャネイロ連邦大学 工学研究院 キンブリ・テウトニ テウトネス Asahikawa 座頭市物語 ロッキー・ホラー・ショー pu アブドゥッラーフ 神風怪盗ジャンヌ モンタナ州立大学 \")/ 白鸚 飯塚昌明 リベルテ Glitter 1414 ニヴフ語 ボンドカー ドクトル・ジバゴ ボーン・アルティメイタム ボストン・リーガル DXアンテナ カムイ外伝 3250 164m 八月の濡れた砂 ビートニクス おにごっこ ソニーマガジンズ 000091073 ジヒドロキシフェニル オキソフラン -[( トリメチル ソクラテスの弁明 レイジング・ブル 三浦貴大 松平義行 976人 EARLY WING 山口県立徳山高等学校 NEEDLESS 41打点 3360 フウロソウ科 palustris 423人 ザ!情報ツウ 熱っぽく ニュースプラスワン 1267 オフィスジュニア ヨジテレビ! 5570 坂井村 Devil May Cry 千野志麻 奥浩哉 チェルシーホテル 残照 エミリー・ブロンテ フリードリヒ・ラッツェル ELUGA 福岡女学院 レベルファイブスタジアム ジャパンボウル 入佐 国立大学協会 ウナラスカ 山崎保代 アンカレジ ベイカーズフィールド YOSHI-HASHI ディーディー 下妻物語 高い城の男 ゴジラ×メカゴジラ 642m 石目 マロネフ TRY AGAIN 1319 ロシア国境軍 888人 9500人 183年 小鳥の巣 アーティストハウス・ピラミッド ファイアーエムブレム 紋章の謎 8061 東京都立松沢病院 Doubleday シェイクスピア・シアター 座・高円寺 グラップル 570円 特別公務員 陵虐 ミステリーズ! ソロモンの鍵 WASABI デイリーイン ATプロダクション Imai 環状ペプチド LIBERTY CLICK フレキシビリティ ざんまい bang 新巨人の星 ピッチングフォーム McCormick ズバリ言うわよ! エクスペンダブルズ2 アイソーポス コモド 130センチ 偏する 守田勘彌 リコ・ロドリゲス 798人 スーパーストリートファイターII その男、凶暴につき 無能の人 日本映画プロフェッショナル大賞 ウィークエンドネットワーク うきうき 演歌の花道 :\"\"、 下関要塞 39週 オーストリー 752人 largest 山田悠介 スーパーマリオランド 男一匹ガキ大将 ステイ・ウィズ・ミー 141km 虚栄の市 ジョージ・オズボーン 栄実 値踏み 須藤あきら 香川銀行 メガギラス チタノザウルス Yorktown 百年目 Reinhold 24センチ 鉄道模型専門店 シス・カンパニー ステロペー ダントルカストー 博通 2460 中原電車区 Natalia 南條範夫 米国慣用単位 バズ・オルドリン 42日 女王の教室 ベリーベリープロダクション 24倍 花の子ルンルン Maui 140センチ ダメージプラン ボッテガ・ヴェネタ まことしやかに メンカウラー王 岷山 伊地知季安 プラネテス 105位 三年式機関銃 侵略!イカ娘 家保 神奈川1区 ヒルデガルト・フォン・ビンゲン Radiant ミアズマ プラセボ効果 大阪桐蔭高等学校 ビアマネー・インク 株洲市 エンピツ 昭和歌謡大全集 日本私法学会 新條まゆ リインカーネーション 糖尿病性腎症 ボーイハント シャッコー 138度 噂の刑事トミーとマツ 草燃える 139度 地霊 満月の夕 ハーメルンの笛吹き男 755人 サニーサイドアップ オニクス 0930 オーケープロダクション ゴイアスEC スパニッシュ・ハーレム クイーンズボロ 123度 新城県 ダイヤルイン 無言歌 春の歌 ロールオン・ロールオフ 愛知県みよし市 prism たっきゅう ヤングユー 内全 Rez 613人 野ブタ。をプロデュース マニュアル・オブ・エラーズ・アーティスツ 141m マーガレット・スミス Ilex 13.3cm アオダモ ニュー・シネマ・パラダイス 新竹取物語 1000年女王 ビッグゴールド フィルムコミック 谷川流 愛のエプロン 能ヶ谷 第59戦 ボリス・パステルナーク Ave Maria 浄化槽法 リック・オケイセック 大正通り ダマーヴァンド ステファン・グラッペリ ブラック・ムーン ヘンリク・シェリング エンゲルベルト・ドルフース オフィスPSC はるしお ZQQ 943人 30.6% 52件 社会的法益 VGS Tia ブギーナイツ 恋におちたシェイクスピア まにまに サニングデール サランドラ Barney meg rock 医道審議会 Thoughts Torinese 点と線 ナポリターノ 64打点 49打点 上田文雄 最強ジャンプ ゼクセル ねじまき鳥クロニクル サンダークロス 687人 ポタワトミー QCサークル チルドレス ザッツ・エンターテインメント ザ・ギフト マツダアンフィニ ゴエモンインパクト ワールド・イズ・ノット・イナフ Zelda サムライスピリッツ 天下一剣客伝 サムライスピリッツ零 ドリアン・グレイの肖像 I LOVE mama 松本洋子 prop あらいぐまラスカル サーベラス・キャピタル・マネジメント コリンシアン 熱い空気 ポリオミノ 月岡温泉 \")(\" ロングヴィル 神戸小学校 白魔道士 コーナードラマ 日出女子学園 MELODIES 名古屋ドラゴンズ シヴィライゼーション エンド・オブ・ザ・ワールド ミステリーボニータ のこぎり屋根 ポリーシャ 西平彰 クリムゾン・キングの宮殿 魔夜峰央 Sangyo 日本食研 ローラ・インガルス・ワイルダー 第59話 屋根の上のヴァイオリン弾き スイート・ライフ LNA 信厚 エリック・ディッカーソン ハチワンダイバー 日本馬術連盟 区間快速急行 天王寺動物園 弦楽四重奏曲第14番 ノルウェイの森 ユナイテッド・フットボールリーグ もとぶ 三国演義 クハ201 4430 野ばら 銀と金 数学パズル 東京都杉並区永福 voyage 日陰者 狂った果実 A-Studio 第54戦 小林雄次 ワンダフルワールド 47打点 84打点 サハ語 2チェ 金沢泉丘 はてしない物語 216m 草生津 アイトーロス たにし 50打点 5490 5566 宇宙戦艦ヤマト 復活篇 Guardfish 伊崎俊二 Saratoga Dace 2084 土屋政直 神奈川師範学校 Flare ベーリング島 13.5cm IOM ダイレクトマウント Triad 全力投球!!妹尾和夫です サラリーマンNEO 醫王 石橋守 crimes passed proud acts Karim Motto japanese タイ王室 angelo 夢のまた夢 黒部進 悲しみよこんにちは HANA-BI 汲沢 愛の狩人 FAIRY TALE 5018 8708 ライプチヒ Bunker 特攻野郎Aチーム 花ざかり ラブ★コン 集英社スーパーダッシュ文庫 矢立肇 ワイルドアームズ Onion ネバーエンディング・ストーリー 甲下 壬生義士伝 サラマウア ハイキングウォーキング BADBOYS ねこぱんち 富士通レッドウェーブ ルスラン・カラエフ 600万ドルの男 刑事ナッシュ・ブリッジス スーパーストリートファイターIIX ジャガーノート >**</ 吸器 ADサンカエターノ スポルチ・レシフェ アル・ガラファ 鷹ノ巣山 ヴォルフガング・リーム ヨハン・ネポムク・フンメル THE IDOLM@STER 2 悪魔の辞典 日本のフォークシンガー 帝塚山短期大学 丸の内パークビルディング 男組 アプトプロ Ingeborg Petr プルーデンス あずまんが大王 魔の山 ギガンテス Brun 大井発電所 444人 江〜姫たちの戦国〜 ゴジラvsスペースゴジラ 297人 ロボコップ2 118km ふんし 五番町夕霧楼 ウル・ナンム 阿波池田駅 柳原良平 ユハ サテュリコン ブロードソード ベルプロダクション Psyche 富士駐屯地 イシュア ニケア ファン・フィクション 鈴木義尾 ASSP Stanislav 江崎プロダクション 豊玉北 RENT 奥居香 ムンテニア 5.8m トリプルエー GBR 二枚目半 McDonnell MGS4 三菱電機ダイヤモンドドルフィンズ 低酸素脳症 まんき ロドスのアポローニオス フォアゴー ティムタム がんぐ 尖閣列島 範馬刃牙 真田太平記 コロラドスプリングス・スカイソックス オクラホマシティ・レッドホークス こどものうた ジャンゴ 繋がれざる者 315m 平凡社ライブラリー 柳営補任 愛の渇き カッテ jours Gage まんがタウンオリジナル まんがタウン Hilary NHK松江放送局 ルイ・アガシー アリシューザ ビオラキサンチン ガス溶接 964人 3.6倍 地盤調査 つよきす Raleigh おこがましい ブロント 1556 オレム ムラタ 多胎児 アンデルセン物語 元国 1626 Balthasar 柳楽優弥 ゲームセンターあらし 阿部正外 アルビレオ 公信 鴛鴦歌合戦 十三人の刺客 トライガン 732人 WEB制作 Bis キンカーディン 日曜討論 草野正宗 ジョンズホプキンス大学 神奈川県立厚木高等学校 グラディウスIII 23時40分 勇者王ガオガイガー さかまち 宴のあと 3Q Reichenbach 男どアホウ甲子園 レオポルト・フォン・ランケ ガスストーブ 城米 全国こども電話相談室 さまつ EXILE魂 あくせく 猿渡哲也 悪魔の手毬唄 nitrite ヤマグルマ 藤原工業大学 1287 1988年アメリカ合衆国大統領選挙 燃える!お兄さん ティー・ワイ・オー 長崎県議会 Ursus 東鷹栖 SMEレコーズ ジヒドロ 森信雄 コミックブレイドMASAMUNE 831人 プリンセスGOLD マブラヴ 久貝 Glad リップルウッド・ホールディングス 第91話 きよしとこの夜 那加 casTY ラーシュ・ラーゲルベック ピアチェンツァ・カルチョ ASリヴォルノ・カルチョ サンクチュアリ・レコード Tis マシーン・ヘッド タワー・オブ・パワー ガオー HEY!HEY!HEY! MUSIC CHAMP 山中秀樹 大塚範一 芋たこなんきん ながらみ書房 114kg バス通り裏 八木治郎ショー 54打点 世界大学野球選手権大会 サン・クレメンテ 53回目 fellow ディパーテッド ウーラ アルピタン語 118位 月刊少年ギャグ王 ーア 84話 百獣王ゴライオン Gambit banner ヤング・スーパーマン Mummy エロイカより愛をこめて アドヴァンス アーマード・コアシリーズ 4600人 LAMA Bejean 桃太郎映像出版 シュヴァルツァハ ジャポニズム ギレンの野望 屋良有作 機動戦士ガンダム外伝 THE BLUE DESTINY 1年戦争 YCC Markham 埼玉8区 アジアインフラ投資銀行 親日反民族行為者 5006 単一民族国家 安貞桓 カカオトーク Brigitte 94打点 みんなのケイバ 4440 ナムル 茅部 Zephyr 碍 伊藤真澄 TULIP 大いなる幻影 高西 甲状腺炎 周期性四肢麻痺 プロプラノロール リーズン メタルギアソリッド4 範疇論 PIPA Syrup 16g D.C.S.S. ピエ ソニー・ミュージックパブリッシング ミカエル・ロドラ ファブリス・サントロ ジョナサン・エルリック ろうそ アーリントンハイツ 和歌山県御坊市 X-MEN2 マコーン ALBA 負の世界遺産 弐瓶勉 アカリ ロミュラン人 美男ですね 小渕健太郎 川村亮 前下 Colbert 或る夜の出来事 カッコーの巣の上で ジーン・アーサー ジェームズ・スチュワート アート・スチューデンツ・リーグ・オブ・ニューヨーク 53.3% wp 月刊フラワーズ ファイナルファンタジーIII 宝飾デザイナー ソフィー・マルソー ヤザ・パパ Mitch 蘄州 Paradise Kiss 有賀幸作 404m その時歴史が動いた 赤羽西 1239 愛知6区 64日間 スグレ 葛西臨海水族園 てんこもり 春と修羅 Marek ブリキの太鼓 池田長吉 ニコマコス バイオレンスジャック ディープ・インパクト To LOVEる -とらぶる- 夕方いちばん ゲマインシャフト 蒼き流星SPTレイズナー 立教新座高等学校 Anemone 横浜文化賞 1344 タナイス ビューティフルライフ ウォーキング・デッド 電撃「マ）王 イザーク・ジュール 842人 巻駅 中野小屋 チャンネル銀河 ぎこちない 天下三分の計 中信兄弟 ひぐらしのなく頃に解 ホベルト Expressions 脳動静脈奇形 ワイワイワイ JUICY OSU Derived ワーキング・タイトル・フィルムズ 腎臓癌 徳川綱誠 浅野綱長 ローズヒップ sachalinensis 3515 サイドウェイ レイノサ・ブロンコス 共同温泉 株式会社タカラ 3905 普通機 北欧メタル 釣りキチ三平 コガネ 角張り nacional ルネ・クレマン はなればなれに バーバ apr 土井美加 多功氏 IELTS 中央信託銀行 歯科医師法 ほう助 Sets ジーリ 小池真理子 ヴィボ・ヴァレンツィア デモンベイン ブラウニーブラウン 訴因変更 3076 pleasure achievement Talkin 古屋兎丸 上熊本線 1286 少女クラブ 73万人 米国小児科学会 AAP 乳幼児突然死症候群 ランパート 314m 35g 料理天国 マスターガンダム Kylie 769人 ヴィルヘルムス ニチブンコミックス ウインドサーフィン 41.6% マイケル・フィニスィー フロックス ナポ 神戸空港駅 隠し砦の三悪人 花いちもんめ リパン・アパッチ 青山学院大 フィッツアラン 1425 疑い深く Tex 龍三郎 gcd ザ マーガレット マイケル・エルガン 埼玉県道56号さいたまふじみ野所沢線 嫌われ松子の一生 クロノアイズ 31000 \"）」「 ボクらの時代 TXNニュースアイ ニュースアイ Monaghan なやみ フラットファイヴ うたまる 東京・国立 ベラミ ACW サハラ以南アフリカ ザビーネ・リシキ Scoop つかしん Ö ペタンク ギャング・オブ・ニューヨーク オークランド・アラメダ・カウンティ・コロシアム HOLDINGS 南州 知っとこ! 生島ヒロシのおはよう一直線 神の山 \"\\u2009\" アンナ・クリスティ アンソニー・パーキンス 大野湊神社 バーニーズ・ニューヨーク 諏訪道彦 tb ガイヤー 千代田区立麹町中学校 トーンキュンストラー 和歌山県立桐蔭高等学校 ジェシカおばさんの事件簿 他人の顔 29.9% ひとこ コンピュータサイエンス学部 プロポ セガラリー NATSUMEN 429人 Baum Swords 夏元雅人 57万人 カルボ 水上攻撃機 科学革命の構造 2323 バタフライ・エフェクト 忠精 天野明 レイオニックバースト 超人ロック アジア・フィルム・アワード SKYACTIV TECHNOLOGY 青池保子 三陽 南部の唄 月刊コミックドラゴン ドラゴンエイジ リムーバブルディスク Newsletter ヘンリー・キャヴェンディッシュ ツバサ・クロニクル 3303 中等学校令 茨城1区 しゅんぞう スクライド ビーロボカブタック 上高井 ドラゴンボールZ 神と神 ドラゴンボールZ 復活の「F」 ビンガムトン・メッツ 430万人 平和的核爆発 VGM イロカノ語 EF210 ドグラ・マグラ ファラガット級駆逐艦 真夜中まで Terme タコマ・レイニアーズ 絞め殺す ō ファイナルファンタジーX-2 ニコライ・マルコ スタージョン級原子力潜水艦 ほたて 915人 アルベルト・ラットゥアーダ ポートピア連続殺人事件 ウィンタース かしわ台駅 流通経済大学付属柏 ホルムズ島 デスモドロミック だんしょう 大美 625人 おはようクジラ とどのつまり ヤマグチ リスト・フェレンツ音楽大学 出来損ない 高翼機 Microsoft Office Specialist 高橋一 B作 NHKニュースワイド 乱杭 32年後 ロジャー・クレイグ タイトロープ クパ ヴルバス 削れる 理解不能 日本テレビ音楽祭 特命係長 只野仁 日本文理 839人 アパートの鍵貸します Aegis 1447 サブマリン707 大阪市立自然史博物館 ヴァルキリープロファイル 大阪府大阪市鶴見区 水夏希 東北師範大学 トランスヒューマニズム 魔法つかい ウェルかめ アブハズ語 referred AAL イル・ハン国 パルワーン 最高裁判所調査官 メギ オーストラリア連邦科学産業研究機構 スターオーシャン セカンドストーリー イングリッシュ・ペイシェント トム・ストッパード インタビュー・ウィズ・ヴァンパイア 風雲ライオン丸 志村正彦 6400人 UEFA Champions League コドモノクニ チャーリーとチョコレート工場 パイレーツ・オブ・カリビアン/呪われた海賊たち 天花 反義語 サンデン 汐文社 押し付け憲法論 山ねずみロッキーチャック アンドレア・フラバーチコバ ルーシー・ハラデツカ ブルーノ・ソアレス ジャック・ブレイズ チャクリー 許されざる者 蔿賈 7550 チーグラー・ナッタ コミック乱 BugBug リトルバスターズ! 太王四神記 テイルズ オブ イノセンス テイルズ オブ デスティニー2 大学設置・学校法人審議会 玉代 まじかる☆タルるートくん 怪盗セイント・テール 276m 大理ペー族自治州 ヒュー・ロフティング 塩素酸ナトリウム OSCAR GODZILLA ゴジラ キングコングの逆襲 tf BLAZBLUE アイシア シュトラウビング 福井商 ウィリアム・アイリッシュ 暗くなるまで待って 自動車泥棒 ビピリジン Mateo 1664 1077 フィリップ・ロス シェルブールの雨傘 緑黄色 2047 タイガー&ドラゴン 久留美 3700人 獣の数字 栄光学園 学校法人北海学園 無料コンテンツ カスパー・ダーヴィト・フリードリヒ CDレガネス ピエール・ド・ロンサール 少年の魔法の角笛 2625 強行規範 一の宮町 シン・レッド・ライン パンドラの匣 Bxc ゴジラの逆襲 臨時目的放送 987人 ボヴァリー夫人 Cupid 襟裳 2613 惜しむらくは 1483 ル・シッド プラス株式会社 となりのサインフェルド フランツ・シュレーカー ロンゲール Potsdam 653人 269人 アティ 八下 ガラテヤの信徒への手紙 ブルー・シャトウ アンナ・アフマートヴァ レナート・ババル 大丸ピーコック 白い牙 同人舎プロダクション RME 咲-Saki- 内山夕実 週刊ぼくらマガジン パシフィック・リム まじっく快斗 YAIBA ルパン三世VS名探偵コナン ルパン三世VS名探偵コナン THE MOVIE 新幹線大爆破 週刊少年サンデーS Pál リンツ・ブルックナー管弦楽団 おもひでぽろぽろ Karin 神との対話 除湿機 ガンヘッド フロントミッションシリーズ 南小泉 釜山アイパーク Kitten パニオニオス ばんこくはくらんかい Jiří 734人 スコット・スピード 月刊アニメージュ 『\\'』 天使の歌声 アントニオ・ロペス 鈴木隆 掉尾を飾る item イアン・リビングストン 鷹司松平家 大分三好 Shields 759人 スカイロケット 定襄郡 高速えんがる号 Parallels イル・ド・フランス地域圏 近代麻雀ゴールド ブラックホーク・ダウン TEI 23℃ 耐蝕 書泉 TAXi 相互銀行法 黒鉄ヒロシ 569人 日知屋 ダニエル・シュミット リリー・マルレーン 人文書院 Haro 美篶 4900人 山本浩 アルル・ナジャ 魔導物語1-2-3 暴力教室 法科学 葦プロ としごろ おはようスタジオ 沢田ユキオ デラックスボンボン FIFAコンフェデレーションズカップ2005 ラメセス ゲッサン カリオストロ伯爵夫人 ラッペーンランタ ネルケ 3057 スペイン北東部 ヒノヒカリ 別冊少年チャンピオン メイプルタウン物語 新メイプルタウン物語 出張公演 体育学研究科 後作 じん肺 ブラザー劇場 ガンスリンガー ポケットモンスター 赤・緑 ヘキサシアニド ニップ トムフール ダニー・ハボック マチカネフクキタル Gaetano プリマス・アーガイルFC ホームワーク ヤングアニマルあいらんど 1738 メデリン Sanity Impressions \"）、\" 航空管制運航情報官 中山の補題 325km 鬼警部アイアンサイド ガールズルール アツミサオリ 手小 3320 3370 ウンポコ Tamara 阿武川ダム 音声資料 ゴジラ・エビラ・モスラ 南海の大決闘 愛の戦士レインボーマン リチャード・ドナー 舞-HiME 33.3% 大藪春彦賞 角川マーケティング 花組芝居 ゴクウブラック さむか マジレンジャー 46件 Selfish 東武宇都宮百貨店 ワークフォース ザ少年倶楽部 坂手 WBU 8031 機動戦士ガンダム サンダーボルト neo sports 必殺仕置人 神奈川県立希望ヶ丘高等学校 95日 ストラサーン Alcock フライト・プラン スィースターン・バルーチェスターン 銘酒屋 DRAGONBALL ツフル ドラゴンボール ゼノバース プーアル みどりのマキバオー ∀\" バンクーバー・カナックス エイリアンVSプレデター 4時間目 2512 2507 バームクーヘン FM北海道 由利本荘 菊池一仁 コータローまかりとおる! テレビくん 866人 ord マリア・アマーリエ 箒虫 くすくす XVII ダミアン・サンドウ カビリア 大人は判ってくれない ジーニョ Neurology コーム BDS 戸高秀樹 Daemon ククルカン ヘアドライヤー 紀伊国屋演劇賞 870人 みどりの未来 イオンモール幕張新都心 PEACH-PIT ブランスフィールド ゆーりんプロ 519人 narrative エード responsible 機動戦士ガンダムF90 1379 オールド・ボーイ 和歌山1区 物理数学 鱒沢 230k dihydroxy 花の生涯 モーターボート記念競走 魍魎戦記MADARA Handsome マイアミ・オレンジボウル \\'+ 外国語学研究科 CROSS ROAD wax コンスタンティン・ブランクーシ Morel 108打点 ちょうば パラサイト・イヴ Bayou シェフィールド・ユナイテッド ごぶごぶ PINKY カレン・ロバート B-DASH ニール・サイモン FC岐阜SECOND （、, 広島高等裁判所 dz ジョ ACアジャクシオ 小型自動車競走法 読切り ヴィルヌーブ 帰休兵 Adele とうへい immediately anonymous citizens appear interview Hillary allowed followed didn raised objective provide importance extremely particularly raise substitution offer volunteers represented reports protect respect attempt carried result marked conducted mostly prior ウィリアム・シャーリー 宇木 ウェスタン・シドニー・ワンダラーズ 機動戦士ガンダム00 -A wakening of the Trailblazer- マークスグループ 月刊コミック@バンチ アニメ コンテンツ エキスポ 1441 シクラーゼ 読売新聞社杯全日本選抜競輪 本河内 Intrepid ラグナ・ビーチ バンビプロモーション マルセロ・メロ 英雄伝説 閃の軌跡 英雄伝説シリーズ トム・ジョンストン 47.9% パウル・ヴィルト 栃木県日光 2551 クレメント・アトリー ぼくらの七日間戦争 イングロリアス・バスターズ Parasol 定西市 軍国歌謡 ディシディア ファイナルファンタジー Darts アルスーア セイバーマリオネットJ アルバリーニョ 魔術士オーフェン LEGACY 長浦駅 C76 コミックマーケット76 マッカサン駅 チャチューンサオ 生徒諸君! ターキッシュ・バスケットボール・リーグ MERMAID 昌寧 ブラオエン・シュベルター 出雲全日本大学選抜駅伝競走 10.5km 1946年生まれ 558人 DATV 2445 オーランド・シティSC イスタンブール・パーク リッジウッド 春のめざめ ロンドン市警察 イングリッシュ・ホルン ジェフ・ブリッジス グッド・ワイフ ラリン テファン はんけい 中国国家航天局 熊本ヴォルターズ ゴンゾー 内部障害 ラ・マスカラ 2007年製 瑞々しく Marchetti 八木沼悟志 0805 0825 ラッツェブルク Malus 野杁正明 月刊ガンガンJOKER 瓦房店市 まんがホーム 見返 GALAXY Tab WWN ビストリツァ Donja 撫州市 桐一葉 カール・アーバン operational アウトサイダーアート プロフェッショナル・ダーツ・コーポレイション ちゃおちゃお アイアンマン3 アイアンマン2 ウォーマシン 7250 ベレス・サルスフィエルド ヘラクレス・アルメロ バレンシュテット Sloane 819人 マンガのくに ジャクソン・ジェネラルズ エル・パソ・チワワズ チキチキマシン猛レース ミシシッピ・ブレーブス マイナスワン FCアムカル・ペルミ シビラ せきもん マル・マル・モリ・モリ! 金色のガッシュベル!! スクラントン・ウィルクスバリ・レイルライダース 経遠 テレビドラマデータベース 佐々駅 ガルフ・コーストリーグ・ヤンキース スクラントン・ウィルクスバリ・ヤンキース REINCARNATION 日本翻訳大賞 北中部州 原子力発電環境整備機構 潮見台 エフエム徳島 科学技術社会論 国立国際医療センター とらドラ! 大菩薩嶺 バーガンディ フレゼリクスハウン Lister HMT ガブリエル・ゴンザーガ 成州 スロヴァン・リベレツ チキータ provides essence 風街ろまん 俺の嫁 シルエット・ロマンス コマルカ・デ・ベリン CLIFF EDGE アカネマニアックス 紀元前515年 コマルカ・デ・サンティアーゴ キャッシュマン カインド・オブ・マジック 新潟県警察部 引っ越さ 腹上死 クリミア州 ポーキュパイン コマルカ・デ・ポンテベドラ コマルカ・ド・リベイロ 杉崎智介 メンフィス・レッドバーズ 月刊コミックブレイドアヴァルス ノーサンプトン・タウンFC アドルフォ・スアレス 後宮からの誘拐 ジャンニ・スキッキ 月刊ヤングキング 月刊ヤングキングアワーズGH 561人 スターレイプロダクション Sikorsky ドナルド・フェイゲン 126kg ブレディスローカップ 電撃マオウ Aspects true tears クリシューマEC 漂流教室 GDR ジャンプ改 モンスターエンジン チベット死者の書 langue ドクター・ドリトル ハマウツボ 215km 白い恐怖 ガス燈 さきどり ベルウッドレコード SKET DANCE ホーエンシュタイン 環境経営 2836 アリアンロッド いつかきっと カザフスタン・プレミアリーグ トマス・ピンチョン J-One Records 永峰 AiRI マンソリー ボエーム 永遠の0 世界選手権自転車競技大会ロードレース 陸軍重砲兵学校 外傷性脳損傷 BCC 別册文藝春秋 シチリア海峡 ビーンズエース ボグダン・フメリニツキー 太平川 必殺仕事人2009 玉渓市 7才 シアター・イメージフォーラム じっぷ 607人 アンゲリク・ケルバー 43打点 機動戦士ガンダム ギレンの野望 オフィスもり apart イ・サン Achilles 白河ことり Samtgemeinde ASSE モーニング・ツー プライムエージェンシー トッド・ブラウニング 吾田 ホリア・テカウ 信陽市 川村学園女子大学 FCメタリスト・ハルキウ 岡山区 宮河家の空腹 トンカワ 劇場版マクロスF 2521 ベルフラワー Hysteric Blue マウリティウス 最後の誘惑 びゃくや ワンズファクトリー ナムコミュージアム 平越 ストロベリーナイト 立教女学院短期大学 伊集院町郡 まんがタイムジャンボ スィイルト 桃華月憚 イヴェット スマイルカンパニー 「青春ガールズ」公演 「目撃者」公演 福岡県立明善高等学校 1552 ネイサン・マーコート CWFC フュルステンフェルトブルック コヴァスナ 北会津郡 WORLD WIDE マキラ Gabriele 937人 ティラ 札幌山の手 A-Sketch コミ語 スクールデイズ トゥルー・ロマンス アンナとシャム王 ハリー・ポッターと炎のゴブレット ハリー・ポッターと不死鳥の騎士団 タス オフェリア FTB 世界スカウトジャンボリー 生成り まよチキ! キャンドール SAFE 23打点 97打点 55打点 61.1% ペイト 乱鴉の饗宴 氏原ワタル 1512 カマリ NORIYUKI ピエロ・デラ・フランチェスカ Dr.コトー診療所 GANTZ Eisenach 3751 624人 2181 876人 シュライツ 針刺し 土曜スタジオパーク 果川 RO-KYU-BU! アクセル・ワールド 650キロ 済州ユナイテッドFC 6950 5160 フェロシトクロム acetyl 芸術学研究科 Владимир マクロス・ザ・ライド 宣毅 PIKA★★NCHI DOUBLE トランスフォーマー/リベンジ 日立グローバルストレージテクノロジーズ アルティボニット県 幻影の覇者 ゾロアーク 爆誕 変形!ヘンケイ!トランスフォーマー 33時間 喰霊 ぎょくざ ポトマック・ナショナルズ シラキュース・チーフス 義貴 山梨県立日川高等学校 provinces 碁ワールド 機動戦士ガンダム めぐりあい宇宙 Pilar Uprising さわこ nikkei SPICA ウェーブマスター BESIDE フィールーズ・シャー・トゥグルク men\\'s egg アールグルッペ Îles ドーン・オブ・ザ・デッド タマラ・スミルノワ Voyages Krzysztof Tsutomu 離婚弁護士 Phyllis 846人 リリカルなのは 魔法少女リリカルなのはA\\'s トム・トムスク ふたりのロッテ アベリストウィス メロード ラウンド・ミッドナイト 1971年製 フライングハイ 山名教之 茘湾 03863 メンシコフ 俺の妹がこんなに可愛いわけがない ブクログ ムー一族 レフウィヤSC 新券 ギルバート・エリオット マルグレーテ1世 グリゴリー・ネウイミン ベーケーシュチャバ 51.5% 村田重治 東海テレビ制作昼の帯ドラマ 76センチ Stepping 富士教導団 アンハルト＝ベルンブルク 4020 音楽座ミュージカル 中村弘二 マリーンカップ 飯田浩司 ソウル支局長 桂塩鯛 シグマ・セブンe 石原夏織 クリス・パイン セッカ オロト酸 37周目 804人 三木プロダクション デス・プルーフ in グラインドハウス 新潟市民芸術文化会館 124度 マックミック アウン・サン サン＝ニコラ デラックスマーガレット オフィス薫 ピースプロモーション ラ・マルシュ カヤー オキソグルタル スカイラウンジ レモンピープル あまとりあ社 ソフィテル フォックス・テリア Uganda 34.7% 844人 ドラゴン・タトゥーの女 ベンジャミン・バトン 数奇な人生 VALLEY Aries フェルデンツ philosophie 宮崎シャイニングサンズ つくばロボッツ ドント・クライ ひきかえ レギーナ ゴジラvsキングギドラ Marburg Sanger McLaughlin メルヘヴン 715m 258m レハブアム エンスヘーデ いくつになっても 夢十夜 Zé ふたりはプリキュア Max Heart シベル・ケキリ エイダン・ギレン 鋼鉄都市 在英国日本国大使館 レンブラント・ファン・レイン アルベルティーナ Exodus ディンカ ザクマシンガン れっど ガリレオシリーズ ヘルザ Croiseur 775m チームスカイ シチリア方言 柳田ヒロ クナル Fabrice ターコイズステークス チチカステナンゴ ディー・ツァイト デメトリアス・ジョンソン ジョセフ・ベナビデス 捜索機 東京消防庁航空隊 リーガMX ホモソーシャル 素晴らしき日々 5024 レイフ・セーゲルスタム Proteus アモルフィス エンシフェルム ノーサー iCarly Dr.HOUSE ナビー 上安 オウカ 内江市 1285 はじまりのうた サン・イルデフォンソ 143度 クアポー ジャラシュ 昌元 61日間 ラディスラフ ヴィズミック 若江城の戦い まんがぱれっとLite 村浜武洋 榊一郎 Reine リュエイユ＝マルメゾン 静岡市長 静岡1区 アベンジャーズ/エイジ・オブ・ウルトロン キャプテン・アメリカ/ザ・ファースト・アベンジャー 21ジャンプストリート 2336 ウォッチン!みやぎ 419人 サトゥルン・ラメンスコーエ 日本言語学会 まんが4コマぱれっと Americas BHP 涼宮ハルヒの消失 エファテ クローバーフィールド/HAKAISHA イコ マンガ・エロティクス・エフ 東京ドームシティホール さっかー パンテッレリーア wonderful 急性ストレス障害 ビーディ・アイ 立花忠茂 アル・ワスル triangle \"|-|||||| ゾンバ Qg マリヤンポレ Neustadt ネフチ・バクー 855人 プロ野球ワールドスタジアム コロコロイチバン! ,…, 東チモール ポプラ社小説大賞 FANTASIA Malo 199位 大宮エリー セミダブル 38回目 てつこ crossover HJKヘルシンキ 浜松市西区 グウィネット・ブレーブス 132km 佐賀県警察部 小富士 完全なる飼育 1995年製 ヤッコ・エルティン マルティン・ダム ジェール・モション・ショプロン ヨーロッパ卓球選手権 good!アフタヌーン 葵せきな 生徒会の一存 ドラゴンランス Sorcerer CAMPAIGN シューイチ 7300人 ハッチポッチステーション 631人 35.8% m + Phipps 685人 927人 1975年製 リッパー・コリンズ ファイナルファンタジーXIII FFX-2 月刊ヒーローズ そぼ ゃはんばい しゅうり 愛三工業 アル・マドリル oxoglutarate ピエシュチャニ アリーチェ ゴング格闘技 テルマエ・ロマエ ロシア民話 打ちっぱなし Cline Zack 879人 3760 コリドー サラ・エラニ 473人 ニューギニアヤリガタリクウズムシ グリーンアノール ノヤギ きんちょう 智武 従動 キャロライン・シューメーカー 中原俊 捜索者 3561 CABOFE オルランド・サリド ローマン・マルチネス オルギン 霍州 緒形健一 四角錐数 822人 Guise オルデス 畿内丸 ポーパス級潜水艦 五本木 経営者団体 ばとる サルマン・ラシュディ Leopoldo サンティアゴ・デ・カリ ソヴール HARU GONG ポケットモンスター ブラック・ホワイト ゾフィー・ホテク プラチナム・パスポート ガンダムW 滋賀銀行 「恋愛禁止条例」公演 金沢大学附属高等学校 電エース Fernanda 彦根高等商業学校 古座 アナベル・メディナ・ガリゲス アナスタシア・パブリュチェンコワ 東京成徳大学 文宣 バーチ・キシュクン レイト・ショー・ウィズ・デイヴィッド・レターマン 0846 レイトン教授シリーズ トゥールガウ州 ホップマンカップ 139km クシャナ 徳島文理 COZY バイオハザード5 co-op ラプチャー ボリス・ネムツォフ 戦場のヴァルキュリア 虎の牙 Portsmouth 長恨歌 ロレートの聖母 イブキトラノオ ネーション・オブ・ドミネーション Batu ユージュアル・サスペクツ Meadows ヒポクラテスの誓い ミセス・ダウト アンドリアノフ ペガソ 祈る人 STANCE PUNKS もりちよこ 財務総合政策研究所 オルジュ dpkg ダックスープ メネゼス ファイズ キングダム ハーツ バース バイ スリープ sport Liège AG2R・ラ・モンディアル 崔龍洙 アルフォンソ・キュアロン 特別自治 ヴラディスラフ 紅い花 Wi-Fiルータ クロッシィ ミッドアトランティック・タッグ WET 北森鴻 上川井 バーンダーラー レンズブルク 1.FCウニオン・ベルリン offered suffer スーパー・ハイ・マテリアルCD ABDeh HGe フルヴィア こうらく 小高光太郎 伝説の勇者の伝説 epimerase チネ Modena performed ニンジニアスタジアム ニューライフ GOEMON ストット 15日目 フレドリック・ブラウン 5004 梁山市 エスコバー Oakley 795m 超人ハルク ヘーグ Judd IGU ハルギタ 中国石油天然気集団公司 エストフォル 615人 シーエン 戦え!超ロボット生命体トランスフォーマー2010 御所浦 水原希子 ゴンチャロフ 炉辺 国府川 ジョルジェット コッキーポップ きよく ツトン 天宮1号 カレハガ 根方 イングリッシュ・マスティフ dimethyl KBS演技大賞 ラインフェルス 134位 So What? 李相日 盾津 Shiga 下河辺牧場 568人 史村翔 carboxylate ウイニングポスト SRC13 応用倫理学 パサマクォディ 影なき男 Marron manzo Pollack BBC Three サラソタ おしま づしょうがっこう 0816 オ・カルバジーニョ ナハネ ネポムク トレチェント Mil ベロイト・スナッパーズ ニューブリテン・ロックキャッツ アーカンソー・トラベラーズ ソルトレイク・ビーズ アクロン・エアロズ ルイビル・バッツ 世界平和研究所 1754 トロルヘッタン さけん Elisa モンティ・パイソン・アンド・ホーリー・グレイル マリア・ブエノ 25階建て fī 300秒 hg アンドロマック アリートゥス アークル ボーン・アイデンティティー ポール・グリーングラス ボーン・レガシー ザ・リバース ピンクハウス あかべぇそふとつぅ Nxf スタイルキューブ ハレ晴レユカイ 苗場山 2242 Vladimír モーニントン アリュール 肋間神経痛 恋の手ほどき rpg 36年後 ラ・メール Anatoly 51.7% 岐阜テレビ 2214 典礼言語 パリの恋人 フォルソム テレオモルフ 別宮貞雄 古川学園 Danilo ambiguous ジュエルズ フィールド・オブ・ドリームス 1993年製 butyl JARTIC きよせ )+( アルビレオ新潟 長靴をはいた猫 従軸 サッカーマガジン エスパーダ 睦沢 アメリカ橋 復讐するは我にあり ジョン・グリシャム 富田浜 バリントン 九二式重装甲車 磁気コンパス JTBエンタテインメント フリー聖餐 塩、コショウ ウルトラマン列伝 平和出版 67打点 74打点 Tomasz HOOKnSHOOT 黒執事 34打点 なかよしラブリー PENGIN のぼうの城 新寺町 ドラマチック・サンデー ジムカデ 0068 城内町 Holm セナール エルブフ 0133 0201 0122 116打点 天羅WAR アンダーセン空軍基地 歯科矯正学 はいすくーる まんがタイムきららフォワード 446人 Dubois ヘルマン・ミュラー ダンガンロンパ チャンバワンバ リヤコンビネーションレンズ 貴志祐介 マリンケ 寒極 Ust ドラゴンマスター カベルネ ポカブ シューティー 64話 Reinhard ブレスレス 服部平次 ふぞろいの林檎たち オラはにんきもの Tec 愛知県知事選挙 オフロードタイプ Gheorghe FlexComixネクスト 雨に唄えば NIAGARA TRIANGLE Beryl TPマゼンベ 谷本貴義 シックス・フィート・アンダー Castelnuovo \")-( deaminating 城北町 Amar ヴェロニカ・マーズ マクスウェルの悪魔 536人 ウリセス・ソリス 美嚢 フリスコ・ラフライダーズ スリーライズ tearbridge オマハ・ストームチェイサーズ 78打点 かみあまくさ Syria カマール UNDOF スポーツフェスティバル レッキー メルボルン・ビクトリー Chameleon おおいなる キャプテン・アメリカ/ウィンター・ソルジャー サイパFC トルベツコイ 724人 月刊ジェイ・ノベル イェスパー LGBTQ マイノリティ・リポート 東京シティ競馬中継 中村順司 月刊アクション COMIC SEED! 月刊コミックジーン 女系家族 さくらまち ティーアイネット ホスホ 上方演芸ホール 黒須克彦 Vampires オキソブタン 新ソード・ワールドRPGリプレイ 利益相反行為 まんが4コマKINGSぱれっと 英国式庭園 十二湖 非婚 ゅいち どしり でないと 船山基紀 Vol.18 徳安 うたかたの恋 生活ほっとモーニング 超次元ゲイム ネプテューヌ リーハイバレー・アイアンピッグス 松ヶ崎村 NHE ワイルドフラワー ディクレア ブレイキング・バッド ラドゥ ウォーターフロントパーク フォーティーン 大手前女子大学 すみよ 辻村深月 アトレバテス せっぷん ザ・リバティ ヤコブス・デ・ウォラギネ ウィル・ライト 文芸春秋社 ポートランド・シードッグス ありがとッ! 林与一 花咲くいろは どですか! nii 火曜曲! 相続税法 不都合な真実 チェックシート 2820 レ・シルフィード ボウイ・ベイソックス ハイス 523m ロシェ アグリー・ベティ 生命の花 ポール・W・S・アンダーソン コレスタン アヴィニョン演劇祭 全日本学生柔道連盟 ヴァーレ ディスティネーション サクラメリーメン 株式会社ファミリーマート ターミネーター3 ダーラ decarboxylating 裸麦 FM FUJI Manny 32kg 南大通り アホルン 0845 3221 Sonderburg ベルンブルク サンジェイ・ダット ハクション大魔王 Marian オフシアター 小川紳介 バルセロス FCパソス・デ・フェレイラ ドゥンボヴィツァ 木曜ミステリー Jang 巴波川 riya あらまち Cross Days マグラ BLEND 緊塞 VOYAGER 岡山地方裁判所 サマリー 石川直樹 amount eds 債務不存在確認訴訟 鉄西区 ビングリー Aile クベタ・ペシュケ ロベルタ・ビンチ ミッドランド・ロックハウンズ 東のエデン 福岡空港駅 わくわく動物ランド マウロ・ボロニーニ シクロペンタン しらみつぶし ダーメ ベラー 如シ メアリー・テューダー 十二角形 エンゲルン Georgios 元城 ブリスベン・ロアーFC Wall Street グランダンス県 鍋釜 ポーの一族 木曜ミステリーシアター プラチナイト アンドレアス・セッピ ニック・キリオス サム・クエリー Mr.サンデー 98度 ブレイス タイ王国空軍 ロトルー SFが読みたい! 神奈川県横浜市南区 作業船 Oha!4 芳賀紀行 ベルデン 0863 クルーム TMF トリブバン impacts 890万 夕焼 Fallon df 電気工事業 マリアージュ アゲシポリス ヘルミオネ ヘイゼルウッド 稲川素子事務所 落窪物語 日本ガス協会 (、、) 中抜き 3660 ウィリアム・ヘンリー・ヴァンダービルト 蒸気ブレーキ Eleganceイブ Orbis 幸造 マックG Attila Irina BIG WAVE スーペル BFW ウィンクル コナミ工業 生化学会 ネロリ 765m マクラッケン 野生のエルザ フリップアップ 995人 京都府選挙区 ヒラメキ 磯島 けんめい イリンガ トヨタ自動車アンテロープス ティターノ ポポロクロイス物語 ポサーダス チャコ州 マキシモ 契約の自由 2161 SDウエスカ カルムイク語 ディアマン ブラッチャーノ Matchbox Makihara かわいそうなぞう 前田斉広 ホタルイ キング・オブ・ザ・ヒル 平塚球場 ビスホスホグリセリン 菊地創 聖隷クリストファー大学 恋と選挙とチョコレート AXL ネピア 丁亥 ウメ星デンカ 米原秀幸 ホセ・ロペス Miroslav カア Mallory クルシェネク 光増 人事労務管理 mutase あかね台 ビジネスソフトウェア ラリ 黄金銃を持つ男 Kristin Cummings Few 高の原 FRA サン出版 わりに フルーツバスケット Travelling Meteor 中美 テキサス・チェーンソー Lansing ララビー 永安県 ウォールストリートジャーナル ペケ×ポン れおな GeoEye ガーゴイルズ ATARU GiRL ねおん 水垣偉弥 19.4cm テルナーナ・カルチョ FCルツェルン EXCEL ベン・ヘンダーソン ペティス サイアン モデナFC Towns ガジェットリンク 蓮堤区 ドナルド・セラーニ ギルバート・メレンデス ハファエル・ドス・アンジョス 皆目 ダン・ウェルドン REPLAY ヘナン・バラオン Armas グランドコンボイ 北海道医療大学 隴南 redballoon ONE PIECE FILM STRONG WORLD オフ・ザ・ウォール アーサー・ベイカー 紳士同盟 宮川村 Hog 生見 池森 海軍教育本部 アルフレッド・ベスター リトル・ミス・サンシャイン タラバ 任意定数 0832 ∈\" Tsuchiya 633人 693人 アレクサンデル・ポベトキン 風葉和歌集 お引越し 新藤兼人賞 ライオン奥様劇場 文安県 0812 ウォーク・ザ・ライン/君につづく道 火曜スーパーワイド Ladislav ケルソー タンタンの冒険 東建 Tadeusz C-ZONE せいへい \"′(\" 九月虐殺 20.5m ネイチャーゲーム ヌーベル 701人 ヒックスヴィル クラウド・ナイン ヤナ Devotion レザボア・ドッグス ジェームズ・ヒルトン 失われた地平線 セインズベリー Rousseau ダンピエール 大塚隆史 とれいん COMET 威し 972人 ジョエル・ヘイスティングス・メトカーフ 日本比較文学会 コミック アース・スター Alexandr 徳留 大事MANブラザーズバンド 僕の宝物 Blackstar GFA アルシャードセイヴァー ヤシマ ルパ 中華人民共和国中央軍事委員会 Boomerang 丸亀競艇場 ポトカルパチェ 2375 Mathews 鮫島具重 スソ Mistake マリー・ドルレアン グリセロ Fagus 2228 クリアビジョン スノーバード プエルトリコ戦 醍醐駅 川部駅 窪川駅 茂木駅 バグウェル Janusz 8006 8040 2272 BROWN ひうらさとる 沖縄こどもの国 MAMORU MIYANO PAW グラン・ブルー エロル ジョン・ヘダー レイト・ナイト・ウィズ・コナン・オブライエン エドワード・ズウィック vasútvonal スクリプス まんがライフWIN Joaquín プレショウ MŠKジリナ リーハイバレー étude 2370 楡林市 寝ろ カラスヤサトシ ファンタスター 嘲笑い はんで 黒いオルフェ 立ち上り トータル・イクリプス パスラボ山形ワイヴァンズ トロワAC がんばれ!ベアーズ スチュアート・リトル モグール Physique DAISUKI Avro viridis 743人 ドレミファ・どーなっつ! Φなる・あぷろーち アンダンティーノ MER Hamid ハラフ シュルギ 光の雨 1266 1346 FCガンジュ岩手 イニャツィオ LOVE LIFE 本高 ナウ・アンド・ゼン 1139 タイ王国代表 写真時代 SDガンダムフォース 新しい夜明け いい旅・夢気分 ヒダルゴ ドッグヴィル スチャラカ社員 パーネル・ウィテカー マルハニチロ食品 キルメスAC 日立ハイテクノロジーズ アランサス ニュープリマス 電子ランド杯王中王戦 十堰市 イキイキ ホタルノヒカリ オチゴ DOPING PANDA ,[ 荘佳容 アストライオス せつじ 加爾基 精液 栗ノ花 早川電機工業 ペリプルス 伊集院光 深夜の馬鹿力 DETECTIVE Germán 石油連盟 エアライナー ギマラス Arias 石川県かほく市 タリハ 戦火の馬 ベサニー・マテック＝サンズ Novum Slade 73期生 \",…,\" ラグナル 九州文化学園 マクロスフロンティア 月刊コミックゼノン Mauricio オンセ・カルダス 結束信二 マリアナ・フアレス 上牧 石狩当別駅 9周年 ヴィダルサスーン appears 赤江珠緒 平壌国際空港 34年後 ダンボール戦機W 津田健次郎 2433 航海訓練所 Ingram 1386 愛知県立刈谷高等学校 浅間高原自動車テストコース シャリ川 Französische トムソン・ロイター引用栄誉賞 ホラーM ミラクルジャンプ 月刊ヤングジャンプ Sauber 終わらざりし物語 アトランタ・スラッシャーズ 189m 国際平和協力本部 ジョン・コンスタブル パーキンソニズム Rowan processes implement 着信アリ 松居大悟 浄蓮寺 歩兵第9連隊 おもだった ラ・ペリ フォレスト・ガンプ/一期一会 ･･････。 ニーレジハーザ チューリン ドラゴンクエストIX 星空の守り人 妖女 コンチャーク 飛ぶ教室 Bitter & Sweet 駐馬店市 Kirsten サングレーザー Self Control プファルツ＝クレーブルク 三種混合ワクチン オースティン映画批評家協会 oxo 刑事貴族 桜の森の満開の下 スプリガン ハルジオン supernova スーザン・ボイル Panzergrenadier 日本SF新人賞 シレト 少年ブラッド 1294 ホットロード 634人 manner improvement techniques accordance responsive コレシストキニン シリウスB ノイマルクト ドブジン ハルナ トレンメア・ローヴァーズ カーライル・ユナイテッドFC 藤本京太郎 ゴスフォード メルボルン・シティFC 実話ナックルズ Михаил 能登有沙 声優アニメディア クリテリウム・デュ・ドフィネ トワイライト〜初恋〜 Cheyenne スタートレック:ヴォイジャー 毛深く 2244 東京農業教育専門学校 クーサ One Tree Hill 旭川医科大学 ネクストジェネレーション フライムート・ベルンゲン アリケン Desa ゼカリヤ書 マスコーカ 伊勢本 レオニード・クロイツァー マタベレランド 悪魔の花嫁 蓮池町 かもめ食堂 山本貴嗣 マイティ・アベンジャーズ リコモーション コレア 中村晃 ソダーバーグ オーシャンズ11 オー・ブラザー! アレクサンダー・ペイン 1513 40.1% t3 Zepp Sendai ピロリン リベルタ・ラマルケ 836人 偽物語 エポニム Rallus 下関商 ベルリン・天使の詩 洋菓子メーカー だるまさん まさの SCJ ラウリル硫酸ナトリウム シュピールベルク 佐藤拓也 モンゴメリー・ビスケッツ Hobbit Ettore 50.6% トレホン 山田ミネコ 2275 タパチュラ シーズンズ かなしき ドックサイド・ステージ 569m 1405 カーボランダム 2133 連邦軍出動指揮司令部 クルト・ゲオルク・キージンガー ニーダーシュテッテン ザ・ドラゴン シゾール LPWA 自然対数の底 ルセロ ベストディガー ホルバイン 20ユーロ 表現自体 秋日和 468人 えいへい ドライゼ アリステウス アウトライダー TBq 能代駅 びがく 韓国取引所 PLAYBUTTON CEM キャリクファーガス Meaning グリーンメディア 1692 バルドエージェンシー えいごであそぼ 聖職叙任権 ママと恋に落ちるまで NMI ノイベルク コウェタ ヴィラ・ノヴァ ファンタジア文庫 スラムドッグ$ミリオネア サンタイサベル 666人 かきつばた ナシメント クライマーズ・ハイ アステラス・トリポリス ディファ 2223 Departamento 父親たちの星条旗 HAPPY END xUnit 法政大学大原社会問題研究所 マンニッヒ反応 853人 Nifty 君田 ディジメーション Cortés エーライツ フリービット シンクレア・ルイス にそう ヤンヤン歌うスタジオ 中村とうよう ヤクルトホール MarkII スーパーグッピー ポセイドン・アドベンチャー レオポール・セダール・サンゴール 28日後 月刊!スピリッツ 啤酒 中須賀 Ensign Mécanique ウースチー・ナド・ラベム Sunya 「PARTYが始まるよ」公演 「ラムネの飲み方」公演 グリシンベタイン 日大山形 thiol エフ・エム・ジー 2175 立原あゆみ ビッグコミックオリジナル増刊 バルブマチック ペンギンクラブ ムーンライト伝説 デメンチェワ シャハー・ピアー KKR 艦隊これくしょん -艦これ- ?）） 東京都中野区本町 ベツコミ クラッシャー・ブラックウェル 伷 fc2 古手梨花 京都大学霊長類研究所 クピド 99打点 ポドラシェ ザ・タウン 梟の城 グアンチェ族 又野 オザスコ 歴史秘話ヒストリア 國民の創生 あかね色に染まる坂 波上 篠原千絵 梅南 流水大賞 マップス イソップ物語 Nikita Raj 樫尾 0807 七瀬葵 126km 帰去来 ルーカス・ドロウヒー コソボ議会 イブラヒム・ルゴヴァ マカロニほうれん荘 がきデカ 本気! アリス・イン・ワンダーランド 予示 51打点 マイク・ナポリ リバーデイル 蘇える金狼 グローイング・アップ 58654 Soul Link 0866 病は気から ろくしょう プロポーズ大作戦 （,、 エズナ reddit フェデラテン Kotaku 123位 家政婦のミタ 子安駅 アンリーシュド ピイ Feb 甲賀忍法帖 maps コネチカット州議会 閃乱カグラ バイオハザード4 りとる みにくいアヒルの子 アンソニー・ムンディン FCアーラウ 春香伝 美しさと哀しみと Clint ロード・オブ・ザ・リング/二つの塔 サイトロン・デジタルコンテンツ モン・サン＝ミシェル オクラホマシティ・ドジャース 155k カサノバ 起爆薬 FC鈴鹿ランポーレ mathbf mathrm MY LITTLE LOVER スパンブリー県 ブラックナイト 高木八尺 Salt Lake City 仮面ライダーバトル ガンバライド 仮面ライダーエグゼイド 石井克人 ベッティーナ 4009 observation エージェント・オブ・シールド ミュスカデ マン・オブ・スティール おもしろ荘 クレイマー、クレイマー 粛王 河池市 アムステル Aleksandar ゆめゆめ 市川新之助 ユリス ザ・エージェント 第27戦 北爪 結婚できない男 オカンとボクと、時々、オトン 田口・白鳥シリーズ サッカー女子日本代表 通りぬけフープ ウォーターフォール・モデル 12012 1417 讀賣テレビ dxe クロシェット ジフェニル 43.6% ヒナゲシ マルセラ プチヴリ Unholy SDコマンド戦記 712m 湊かなえ 湖北駅 熊沢川 黒沢年男 タラッサ 司法試験法 ニョロ Cannonball 京急ストア HOP CLUB NHK福島放送局 Simpsons フランチシェク FNN DATE LINE Reuben Thieves デンビ Irma 富樫直美 佐川印刷京都 Recall 特例民法法人 Jar FCヴィクトリア・プルゼニ やらし ボルゲーゼ美術館 島津綱貴 イリ・キリアン ルーベン・ジェームズ 城戸康裕 阿部野橋 42件 ゅのうかいぎ R and C Ltd. Cousins プファルツ＝ズルツバッハ McCulloch リュドミーラ・ジュラヴリョーワ ザ・リング 藪下めぐみ 2280 EBA )^{ OLIVIA トリート 米華 スカルマン 分島花音 ロシア国内軍 徳弘正也 MY STORY 色素性乾皮症 プリティーリズム・ディアマイフューチャー DIVE II entertainment 世界一初恋 ガス冷却炉 Khalid アロマセラピスト CHIHIRO スホイ ノーデンス ウズベキスタンのサッカー ポール・オースター キャピトル・ヒル Favorites チェンジH ラブ・アクチュアリー カスティーリョ マキシング 芝不器男俳句新人賞 車椅子バスケットボール 光泉 春畑 道哉 -(\" モビスター・チーム 九一式十糎榴弾砲 冒険遊び場 4850 サリーナ 東所沢 ループス RABDe ジャス tacica トッド・フィリップス 好夫 Missing Link 頼茂 イパチンガ 戦国無双シリーズ ファイン・アート TsD ベーブラ ブライテンバッハ WMAF ザンベジ 京都府京都市南区 建昌県 Michał レミュザ 95打点 孝仁 サステイナビリティ 第五位 のび太と緑の巨人伝 新・のび太と鉄人兵団 みっひーランド サンディエゴ・コミコン COOP 東芝機械 ホーソン・レスリー Kiel ヴィーゼル エルディング ブラザーズ&シスターズ ジョシュ・コスチェック île イマティア チクタク 阿里山郷 エアーコンバット 大久保薫 Vandenberg 父君 仁川ユナイテッドFC 敷戸団地 イトゥアーノ キャラぱふぇ エジプト・プレミアリーグ スタディオ・ジュゼッペ・メアッツァ ウーヴェ・ボル スクリップス ザフィ 東京都豊島区目白 ライトウェイト カタン ハバナ州 福岡2区 光速エスパー トム・ジョンソン 松尾芸能賞 白糸台 世界樹の迷宮 岡山村 Aperture トレーポレモス ワーロック 金月 イルデフォンソ モロト 身の回り品 Oranje 忠恵 特別背任罪 スタア誕生 チップス先生さようなら 狂人日記 天売 UFZS 音楽ガッタス しゅごキャラエッグ! 商工中金 チラン 川島だりあ インペラ 新現実 四季シリーズ スーパーロボット大戦OG ORIGINAL GENERATIONS 第4次スーパーロボット大戦 スーパーロボット大戦F ぬらりひょんの孫 Hussain スーパーストリートファイターII X REVIVAL ラナオ ケーシー・デラクア 静岡県志太 BLOOD+ セブンスヘブン 10号誕生!仮面ライダー全員集合!! 第98話 1496 V-air イェータ ゲシュタルト療法 日本大学櫻丘高等学校 フューチュリティ ミラノ・トリエンナーレ LESS 鳶ヶ巣山 H12 ウナス アムル・イブン・アル＝アース Mahmoud ストラトスフィア Republika 蒸気船ウィリー EF55 セッテベロ スカコア 臧式毅 花の冠 デイヴィッド・ジンマン 銭ゲバ ネステロフ アノルトシス・ファマグスタ 台湾式 姫川玲子シリーズ フィズ ルチオ・フルチ 逆転検事 ドラ焼き origami リゾ 細川村 1559 神奈川県相模原市南区 マーガレット・テューダー 青い体験 吉岡村 terre 世宗路 おんたま 0843 スタッフ・アップ YAB 国民年金基金 徐栄 (〜 シュルレアリズム サンアントニオ・ミッションズ 東京無線 Pembroke ホア アレクサンドロフスク アースフレンズ東京Z モルガン・スタンレー証券 本当にあった笑える話 第3次スーパーロボット大戦α 終焉の銀河へ シャンピオン フォナック 玉ネギ ジョン・ホプキンス 合作金庫銀行 バーネット・ロンドン特別区 ウィルズデン・ジャンクション 児童画 さより 欧州ハンドボール連盟 ロバートソン郡 9015 アントニオ・シウバ 61枚 幼獣マメシバ desert 十年式手榴弾 中小企業団体中央会 佐倉中学校 Naomi 容疑者 室井慎次 7601 サーヴェロ・テストチーム 文京区湯島 キュウ Velasquez ミシェル・ノストラダムス師の予言集 在独 イバン 19週 カズキヨネ なみのり 蔵書票 3330 明和の大火 秋色 久武 pratique 汐見橋 新郷市 孝感市 Adriaan 金色のガッシュ!! O20 愛知5区 リエトゥヴォス・リータス サヴ Squalus ゃだんほうじん マートルビーチ・ペリカンズ メノーラー オロミア おふでさき BE-PAL paix 1982年生まれ 風の国 カザーレ・モンフェッラート ラソ インデペンディエンテ・メデジン 女子美 辰市城 萱生 タッグ・オブ・ウォー Giorgi ファイド エタ・ジェイムズ ジャーメイン・ジャクソン 先駆舎 チアゴ・アウベス タンパク質構造予測 2443 私立極道高校 ドジっ娘 マニサスポル テオドール・ヘルツル 4530 ロザリオ・ドーソン 種子田健 ザルヴァトール いずみ野 げんしけん 福祉タクシー FUTSAL地域チャンピオンズリーグ リリイ・シュシュのすべて 魔法少女リリカルなのはシリーズ =（ 46.6% IId 2182 メディコ ウィルチェアーラグビー Andrey 阜新市 ノルトヴィント作戦 チェー インソムニア 大場つぐみ ボーイズバラエティ協会 3355 アクトン・タウン駅 PICCOLO TOWN プリバーナー ユダの手紙 大塚商会アルファーズ バルトの楽園 ワシャクトゥン ポポル・ヴフ Muḥammad ザカルパッチャ州 花葬 Matti ヒーウマー レフ・ポズナン 音無小鳥 萩原雪歩 中切 北京地下鉄15号線 順義区 Fiona TETSUYA KOMURO 蔵敷 タクシラ ジュリアン・ベネトー みっしつ 緊急速報メール 佐藤幸治 マンガくん 少年ビッグコミック エキノコックス どのみち ジャクソンビル・サンズ 自乗可積分函数 ミリセント honneur honour グレートレイクス・ルーンズ 焼け死ぬ 暦物語 Moraes ロマンシング サ・ガ カーロス・コンディット 全日本クラブ選手権 蒲郡競艇場 サイボーグクロちゃん 朝霧JAM ロシアの女性 リュドミーラ・チェルヌイフ こう称 ベラルーシ・プレミアリーグ ダイル 430904 スリーピー・ホロウ 土佐丸 1568 WWII シアトル・ストーム 零式輸送機 テルノーピリ州 うしおととら よしもとクリエイティブエージェンシー ベルナドッテ王朝 北海道岩見沢 137回 ジャン・ルーシュ 日本橋兜町 ペルチェ Porn オーエル こくりゅう ナント三大陸映画祭 燃素 リノ・エーシズ シャーロット・クーパー こいのうた BE・LOVE 3900人 ヒュンドラの歌 エクスカバータ 尺には尺を アテネのタイモン アイシン・エィ・ダブリュ ウィングス ビル・タルバート グルヴェイグ 未収金 新宇宙戦艦ヤマト lg 川上稔 ヘビクビガメ サンジェルヴェ 小林政広 大阪府立生野高等学校 嘆きの天使 経済の奇跡 バリー・リンドン 暗闇でドッキリ 当たり屋 マーライオン キカ カスタムロボ バッカーノ! 635m TVおじゃマンボウ 遊☆戯☆王ARC-V オモニア・ニコシア ヴィーヴ Truly 秋山輝男 行部 トラロック シャルル・ボワイエ ジュール・ロマン symphony いがくぶ アイアンフィスト ヴァルチャー Kurz Fayray 修羅雪姫 コーパス言語学 ヒッコリー・クロウダッズ ドラゴンクエスト4コママンガ劇場 1068 ANIMAL 佐藤康夫 HTA プエブラ・パロッツ ティクリーティー ハエドクソウ 我那覇響 沼倉愛美 城島高次 ポンフレット 3608 3310 Abner サフル大陸 ブランディッシュ 吉川潔 Growler 若森 アルコル 三つ目がとおる ファイナルファンタジーVI あなたに夢中 ストレートアームバー マーガレット・アトウッド さしあげ ドリン LEV 天地を喰らう ザ・サイコー ダイチ 65打点 マルドゥック・スクランブル スティール・ボール・ラン 闘神都市 月のしずく グンツェンハウゼン シュタイナハ タンバリンアーティスツ スウォン Александр ヨーハン・ジギスムント Asterisk カカクコム メアリー・セレスト UNEF 札幌市役所 マルコフ性 せん滅 夢占い 赤羽根町 おもいやり Dorian メトロイドシリーズ 影牢 真章 ハニートラップ ドレスシャツ vol.16 玄人受け 高橋伊望 アドバンテッジパートナーズ アエトリア 拡張実数 ねずみ捕り ルイーズ・ド・サヴォワ 江門市 Castiglione オセット語 星くず兄弟の伝説 Departed ガールポップ フラマトム Broughton モンソー ロックマンゼロシリーズ ロックマンX ナウファッションエージェンシー HELLSING ：+ 自然写真 グレン・フォード エイベックス・ピクチャーズ バタシー発電所 3027 ファイブ☆エイト Hauptsturmführer ジル・バレンタイン 沙村広明 Diggy-MO\\' 奈半利駅 スワデーシー Pieve Retrieved Villanova 銭形雷 phospho タルサ・ドリラーズ カラーパープル 第70話 ブリーフ&トランクス JESSE アレクサンダー・ウスティノフ destination 470km からき Playground ザ・ビュー 新耳袋 朝鮮語の方言 東南方言 お兄系 Damon シャングリ・ラ ファンタジーゾーン 200センチ 赤ちょうちん 86打点 ダライアスツイン サイバリオン ロス・ロボス WINDS OF GOD イバラモ ジョシュ・グローバン アルファフライト ジャストプロ ヘカテ エクセルヒューマンエイジェンシー 事解男命 アルファヴィル カルカシュー 前原町 日本名輪会 ヴォルスンガ・サガ ツヨシしっかりしなさい BOYS BE… ニューオーリンズ・ゼファーズ 最終兵器彼女 ジュゼッペ・トルナトーレ ラーザリ・カガノーヴィチ 貢が やまと虹一 ブンタウ ジョン・チャールズ 取り纏める フェデリコ・バルバロ NEB Juneau ウルトラストリートファイターIV ウルIV コミックトム 短編アニメ賞 ジョシュ・トムソン トゥルンハウト 柊かがみ ジョン・クランコ ASDS 杉浦嘉十 川村栄二 ビューティフル・マインド SOLDIER 恋する女たち ライフ・オブ・ブライアン 肉体の悪魔 から騒ぎ フィフス・エレメント ショーン・オブ・ザ・デッド 1709 エンバンクメント駅 シュリンクラップ契約 ゴールデンナイター 3507 Hampshire 逆転イッパツマン 57巻 パンタグリュエル スパンブリー ガーサント 4301 神丸 Spadefish セクシーコマンドー外伝 すごいよ!!マサルさん コルン Phoebus プレコミックブンブン スパロウ どうた フェアチャイルド・ドルニエ ラリサ県 SUEMITSU & THE SUEMITH スーパーマリオ64DS ピクミン2 ガモウひろし Antonín 資本集約 コナミレーベル ギルダ 報道ステーション SUNDAY 新日本証券 福寿町 恋する日曜日 健康心理学 ولاية Herrmann 1974年製 ルッザーラ W52T Wahoo Queenfish カラミアン Asarum アシーナ きんとん 崇左市 ホワイトサイド 千歳海軍航空隊 ノキア・ジャパン マラウイ共和国 ドラゴン危機一発 キンキ 詐欺被害 476人 元もと 崇徳高等学校 カギっ子 オオカミウオ ルイーセ・アウグスタ グラディウスV フェルディナント・マリア )、『』( ナクラ サハデーヴァ レッキングクルー モーニングコール 函館基地隊 伊藤整文学賞 163年 テネシー・スモーキーズ ピオリア・チーフス トリプルファイター フィリピンパブ 浄心寺 5320 オリゾンティ ヨトゥン マット・ブラウン 埼玉県立浦和第一女子高等学校 discipline アールエフ マリー・レクザンスカ アリシア・モリク 土星人 ニキビダニ マイケル・チミノ ディア・ハンター ダントー 強制結婚 モバMAN 染み込む エクベルト 死の島 火曜劇場 月経前症候群 YOURS アリス九號. ケイエムシネマ企画 ネイムマネジメント ヒット出版社 ミステルバッハ 純と愛 隠し持ち ダイヤモンド・アイ 幻想水滸伝シリーズ アレクサンドロヴナ ベネズエラ・ボリバル共和国 ウォークラフト 盪寇 テイア 0599 よこはま・たそがれ -‘ ザ・ファントム Flasher アウタードアハンドル 6004 3420 或る列車 Patti バレーボールロシア男子代表 金天 ガシャ クライ・ベイビー ニューヨーク州立大学オールバニ校 烈風伝 Romulus 怠ける アンシュ Corvus エンダーのゲーム アンドロメロス 長くつ下のピッピ ガンダム・インレ マルコム in the Middle 地上より永遠に COH ますた ジャンプSQ カルタヘナ法 這いずり 然しながら パラシューツ メグナ アトル Y・M・O 能登かがり火 プッカ 牛久保六騎 TTM ミハイール Andromeda 魔装機神サイバスター 77打点 モーモールルギャバン トネリ お笑いマンガ道場 桜木花道 4560 科捜研の女 バンドーラ 原始家族フリントストーン 92億円 香川清登 ケロット ロバート・Z・レナード 国際経済法 デルクール モーターホーム あかだ ルイ・デリュック ロックマンXシリーズ 魔法にかけられて チュムポーン県 75打点 ドアン 世界時計 シカソ サボー 備北交通 冒険王ビィト Kokusai Angler 281年 \")=\" Projector 131度 経基王 パンジャービー語 天足彦国押人命 スターオーシャン ケースワーク バートランド メイル・カハネ ネロ・カエサル ドルシッラ フランス杯 ウルト 浦和高等学校 ハリス島 銀河鉄道物語 4030 4073 4510 アルメニア文字 ジャーロ 日本ミステリー文学大賞新人賞 nouveau People\\'s Party ボクシング・マガジン 続資治通鑑 44打点 MOTHER2 ギーグの逆襲 MOTHERシリーズ デニング 共通言語基盤 お茶犬 ライド・オン ヴェルノン メディウム プリティ・ウーマン 手をつなごう モプティ州 第14回NHK紅白歌合戦 キハ181 スウプスク やぶにらみ 渡辺久江 とばく 兄弟仁義 飛蚊症 ジンキ スペードの女王 二人の貴公子 ホフマン物語 Mikado 金銀糸 クリスチャン・ミハレス フェリックス・シュトルム ミッケル・ケスラー カール・フランプトン フランク・ウォーレン スコット・クィッグ 武邑 リッチモンド・フライングスクウォーレルズ ピチュー テッド・ダンソン ツーソン・サイドワインダーズ フランク・パーカー 0106 スリーエム コミックガンマ 新鹿駅 カシウス・バロイ Grayling 限りなく透明に近いブルー クラッシャージョウ マザーウェルFC 佐藤勉 ラズ語 745m Sonderkommando 東淀川 チルド飲料 輝く季節へ 三井不動産株式会社 ジ・アニメ 虹の女神 武威市 年央 Equilibrium YAMATO2520 シティ・オブ・ゴッド ベサ П 北海道深川市 象皮病 979人 エリミネート アラウージョ 石西礁湖 みなみけ コングリーヴ・ロケット セントラル・セント・マーチンズ わかつきめぐみ 泥の河 ファイナルファンタジーII マウルティア コーフィールド タヤ ヨルズ 積層電池 爆乳三国志 胸の谷間にうもれ隊 ティルヴァンナーマライ サットヴァ 動物園前 レスヴォス 誘惑者 名探偵モンク ドーマー Kiss PLUS 武里 マイリンゲン リドン 日本証券アナリスト協会 nga 大乱闘スマッシュブラザーズ ラファイエット・マクローズ Farnese ヒースロー・コネクト ウェディングピーチ 愛天使伝説ウェディングピーチ シエンフエゴス ワクフバンク スピーシーズ ソース焼きそば クラウ ビッセル 稲田浩司 分つ メイド・イン・ヘヴン おかずのクッキング ルヴァロワ＝ペレ 改メ Aspect セントラル子供劇団 フィギュアスケーティングインストラクター 監禁罪 ショウ・ザマ 光州広域市都市鉄道公社1号線 ハッシュパピー マキナック 2423 新逗子 カタンドゥアネス キャラの! 240k 妖星ゴラス ニプマク ニューイングランド大学 ロスシー なめ猫 ほるまりん ダーナヴァ フロジノーネ・カルチョ BLOGOS ··· アレクサンドル・ボロディン オキナワアナジャコ シヴ サハ101 演奏記号 森岳 人面瘡 3220 モハ210 & LOVE 2333 銃夢 よつばと! Firefly 暁の女神 グアルダ 9820 Barbier ゲシェネン ブラチスラバ ferro Garner 篠尾 辛光洙 うたわれるものらじお 謙抑 スコット・スミス ヘドウィグ フラッシュポイント Lulu Mak アドメトス 106位 コロンブスの卵 ブザウ 特定毒物 ハコヨコクビガメ 盛りあがる デチェン 785m 1597 28週 坂本博之 新庄直頼 小電力無線局 天守物語 講談社コミックプラス チャイドル ジョージ・アレン ショートトン 羅瑞卿 エメリア共和国 STRIPS Researches 8402 acquired 老人と海 バタフライナイフ ローディ県 クレア・レッドフィールド 猪苗代氏 カンヌ国際映画祭審査員賞 威武 ファンタスマゴリア インファナル・アフェア 368年 魏豹 1989年製 3630 民族派学生組織 SLもおか ジョニー・ゴンサレス コーサ 遠藤淑子 キャッチ・ミー・イフ・ユー・キャン MBSニュース ブリクサ ファインディング・ニモ メガミマガジン 娘TYPE カルタニッセッタ コミックマスター 飯島魁 懸崖 徳島地方裁判所 森園みるく ファイヤーボール フィールドノート リヒテンラーデ アクリル繊維 シアン化銅 フィンガーシフト アイツヴォル はぴねす! ケセド プカンバル 徳州市 サマル 上諏訪町 2686 ぼくの伯父さん Kogyo 穴内川 セント・メアリーズ 恐竜戦隊コセイドン Hitomi ：? ビッグコミック増刊号 押原 流星人間ゾーン 87分署シリーズ 名古屋高等検察庁 仁淀 カシノ （)、 パムンキー Frazier Corynebacterium トワイライトプリンセス 美亜 ディヴィジオン・アン なよたけ 夏の花 バインゴリン・モンゴル Gino まもって守護月天! 渚滑線 星界の戦旗 びさい ブラック・ハウス 漫画ブリッコ Cocohana サムットソンクラーム 楊度 Norbert おさがり ウィキア 雲長 destruction 若返りの泉 フィジカル・グラフィティ パチャカマック 小袋谷 部垂 旭電化工業 Lo-Fi 機動戦士ガンダム シルエットフォーミュラ91 模型戦士ガンプラビルダーズ ビギニングG 安順 パッタルン 那覇地方裁判所 湖岸道路 ザリエル 720K 鳴門駅 溝端淳平 エンジェルス・イン・アメリカ ジェイムズ・テイト・ブラック ノイズ・レコード 茨城県立下妻第一高等学校 陰茎骨 ブラッド・スポーツ Drury 劉興居 ニューヨーク市立大学ハンター校 ふしぎの国のアリス いちご姫 ヌマガメ 八八式七糎野戦高射砲 岐阜羽島 CEPT LMG ビジネスプロデューサー Jayne FIPRESCI デスマーチ 日本語の乱れ バードケージ ドゥラッツォ 285m 小見川藩 弘中邦佳 スーパーロボット大戦OG 7月4日に生まれて グリフィス・スタジアム 44件 塚本天満 他動 \\'; 晴明丘 ニューギニア沖海戦 0500 ザルカヴァ ジャイレース はたく ポール・バーホーベン polymerase ニカド電池 ザ・プレミアム カエデチョウ 岡川 SUP 国民生活金融公庫 ホテルオークラ東京 文芸首都 ガヴァナー デイトン・ドラゴンズ WABC ケイト・ベッキンセイル ボビー・ルード スモルツ トルケスタン 立替え 笹沢左保 360モデナ 有閑倶楽部 ジェミナイ ゴクウ アウエルシュタット 夜光虫 Lindsey 5850 48打点 三国伝 ボレスラフ Niger Emberiza ジャック・ドワイヨン テケテケ 夢幻戦士ヴァリス 7009 MQM ミンデロ Courses Helloween 126フィルム 栄山 HNO STRANGE 戸町 粟田丸 環式有機化合物 チャームキッズ ラマト・ダヴィド トルビアック C2C Losing カプリヴィ 正智深谷 かね丸 Songbird ホーチャンク 大鶴義丹 カリュプソー ロジ モービル・ベイベアーズ FALKEN ブライアン・ビロリア フェルナンド・モンティエル )。( lu 1634 レーベンブロイ ヤーマ Call of Duty パイロットフィッシュ ドゥルヴァ 逗葉 ゴジラ対ヘドラ 花と蛇 世界忍者戦ジライヤ 美少女仮面ポワトリン きぬこ )\", スイス・カップ ほんいんぼう トゥルチャ ダブリューイーエー・ジャパン 白林少年館 マラウイ人 綿矢りさ アッシャー家の崩壊 オリンピア・アスンシオン フェイスレス ラスボラ 北村想 ∖ 網干線 フレネルレンズ 3059 マキバオー 栃尾市 のそ さしかかり シガーライター 5440 ディーター・フォン・レーダー ：－ ターチャーン カルーサ アルバニア人民共和国 エヌシーバス おねがい☆ティーチャー Free! 大森東 Marseille ラ・スペツィア県 イスラエル・バスケス 首都圏整備委員会 きけ わだつみのこえ 15線 紅世の王 3Dプリント 巫山 桃尻娘 吉田鉄郎 昇州 のろく クルロタルシ エイチ・ツー・オー Welles 横浜エフエム放送 下反 スピードキング 端田 ミリオンダラー・ベイビー エスクイリヌス 書剣恩仇録 キャシャーン 新南部 ニコクレス オコゼ 116度 ジェームスサリバン 野中郁次郎 高谷裕之 OORONG 歴史時代作家クラブ 航空兵団 menu Bent バケルくん ピッカピカ サンタンデール県 Katarzyna WCG 柳亭燕路 9850 N.U. 治療指数 5106 スターシップ・トゥルーパーズ ターナー・フィールド シブネフチ Madeline しんきろう 戦国無双2 トレビア カレドニアン・スリーパー マリオン・コティヤール WITH LINE フェリックス・シュタイナー こどもの国駅 三太郎峠 ソール・ベロー 撲殺天使ドクロちゃん それでも夜は明ける ハスカー・ドゥ affinis 菊陽 シャーリィ タタバーニャ シャルル・ド・ヴァロワ ヴォン・ヴィレブランド チューリングジャンプ アイオー 青海町 2077年 切創 CANON JADGE みっかい 小西貴雄 上条上杉家 スコット・ブラウン BFF 2704 2444 踊る大紐育 青森県議会議員 ぎんいろ スターダストクルセイダース スレード 城卓矢 大町町 ゾンダ ノルトマルク アイシンシーホース プワヴィ 3921 カルロッタ・ジョアキナ 高橋氏文 324m 1616 マニエマ エドガル・ソーサ \"\\u2009 オーシャン・カラー・シーン メンペルガルト スティーブニッジ ステパネク バレーボールロシア女子代表 鏡明 鹿の湯 てんてん カベゾン 2709 Steamship 生徒会役員共 Sublime ファントムブラッド ハル・ハートリー コールド・リーディング ヤスミン バトルドッジボール フー・ウォンツ・トゥ・ビー・ア・ミリオネア セビリヤ ウランゲル マンネングサ 国道346号 ラビタ・バクー プリンシパル・インベストメンツ 作戦班 ホルモゴルイ ドラゴンボート JMO 児玉・後藤政治 アエギディウス YESTERDAY EF200 Obergruppenführer 副市町村長 Deep Love CASL アテナイの学堂 Ours 千々 実利論 クズロルダ Trapp PKNS トゥブ Rival ほも ファースト・トレイラー ∑ センター・オブ・ジ・アース デビー・レイノルズ グルシュコ オーバリン SAFFC mongoliensis エドワード・キッツィス トップ・オブ・ザ・ワールド マクザム ジャドソン・キルパトリック アンティオキア県 ピチット県 ルヴァン FRINGE/フリンジ キャプテン・フューチャー バスカヴィル家の犬 カールトン・カレッジ 秋田市立体育館 1830m ベラト ヤコウガイ マセナ 0211 キプロス・ファーストディビジョン PFK ツチスドリ カスタリア ジャック・ソック 2241 展転社 ストロムネス 厚生労働省設置法 ギルデンスターン 広州富力 テリー・ノリス 9050 長城県 土居下 海腹川背 いずこねこ Chine 君の瞳に恋してる africana ランチョクカモンガ・クエークス サントゥルツィ サムス・アラン ラ・モンテ・ヤング シャーロット市 GAMESS ドクロクシー レイドロー 女囚さそりシリーズ 弱微分 ヒト型爬虫類 消費CAPM スタイルワン イースタン・パーク 卭 GRG モヤモヤさまぁ〜ず2 レティムノ ラフター セコムラガッツ グータン 孝感 0842 こがね丸 アメリカアリゲーター 白川郷・五箇山の合掌造り集落 メロキュア PhysX マンハント メリダとおそろしの森 テレンス・クロフォード ソコアゲ 法印大五郎 ジャン＝バティスト・カミーユ・コロー 液体呼吸 シュトヘル レニ・レナペ レバディア・タリン レイクカウンティ・キャプテンズ オメでたい頭でなにより 76年間 福井口駅 マサカ 3161 武蔵野書院 Kの昇天 冬の蠅 Dyer Nothing\\'s Carved In Stone きいやま商店 サントリー地域文化賞 Ogawa ネウケン州 佐藤誠 プロスチェヨフ BKA ヴィース Spitfire カトリ 城南FC ジャンプSQ.19 regia the oc サランボー キオン ペスカロロ・スポール 宮下町 タイムレス ゴッドマーズ 星雲仮面マシンマン 日はまた昇る セアラーSC アリストマコス くノ一忍法帖 マレーシアサッカー協会 エッジコム げいは Sykes アライブエンタテインメント リチャード・イーウェル フカル 2382 』､『 52.4% RCAF コミックマーケット75 A.L.C. 聖闘士星矢 NEXT DIMENSION 冥王神話 5950 George Harrison Discoveries タカサゴ NRPS alanine はいからさんが通る リヤード ミツバウツギ ジェームス・マクドネル アンソニー・ジョシュア エヴフロシニヤ エコテロリスト サルキシャン こたえてちょーだい! 局所凸位相ベクトル空間 アフィン写像 スウェンソン オール・ザ・ベスト PH1 ラグラジアン しまじろうのわお! 影のない女 ウォルフ・ライエ マーヴ FVL 橘いずみ フルーム はなまるカフェ ネオンテトラ バンドワゴン KNOCK OUT MONKEY 山形県立鶴岡南高等学校 ザイヌル・アービディーン ラジエー タイカレー Shāh グランド・ストリート シャワートイレ 20世紀フォックス・ホーム・エンターテイメント・ジャパン Love Collection ハニガン グランヴィル・ルーソン＝ゴア オーフェン madagascariensis オクタ ホレイショ・ライト マルホランド・ドライブ ウォラストン メトディウス 海都 7950 セントヘレナ・アセンションおよびトリスタンダクーニャ ラナイ デボンポート トマス・オブ・ウッドストック フェラーリス まんがタイムきららミラク 月下美人 紀伊国屋ホール 陽都 ヤーヌス コッラード 東京魔人學園伝奇 マウントレーニアホール ツーソン・パドレス 九五式重戦車 アザンデ ボートダビット 犯人隠避 趙良弼 スマートカジュアル イバイサバル 兗青 ブレマー ブリーセーイス 若大将のゆうゆう散歩 ミハイル・カシヤノフ 315km 恩施 ナマイキ part1 ペトロルル・プロイェシュティ 宜野湾市長 タンコ エフィンガム ビニー エデ Shogo アイススター EPW バルヒフェルト ダファリン Luxemburg 川上氏 新元史 the house オリオール・パーク・アット・カムデン・ヤーズ ジョナ・ヒル マザリンの宝石 まだらの紐 好摩 宇津保 Automobiles にんしん オプ・アート 普通科教導連隊 visit Wilfried サッスーン シニャンガ Barat 平戸町 バンディオンセ加古川 ONGC バトルライン ハイファイブ シアトル・レインFC エンジェル出版 黄金狂時代 チュムポーン Len パンズ・ラビリンス アタラ 希望的リフレイン シャブリ スマイア ケミ川 アルフレッド・プレソントン Franciscus ゴゴー ソニックX Raceway 後藤正文 8401 キルッコヌンミ \".\" 仙台市立病院 島嶼ケルト語 ヤクドゥ 宇宙戦艦ヤマト2202 愛の戦士たち ラージョ・バジェカーノ ジャージー・ボーイズ 137度 鏡城郡 ヴァンタドゥール リュイヌ Wheatley CONFUSION なめんなよ 四十八体仏 メロディオン Imre PXC カラモジャ メルボルン・ビクトリーFC ニューフォレスト カセセ 金星堂 フェアリージャパン ドレパナ われら生きるもの 薔薇の名前 ラフィー・ウッダラジャート カンファレンス・ノース ラージプーターナー 42センチ OPENING Authors チジック・ハウス 法宝 ユーリエフ 茶屋町プレミアムナイト オーガスタ・グリーンジャケッツ ドレゴヴィチ 少年ジャンプNEXT!! ウィリアム・ジョーンズカップ 上総牛久駅 ワーマス コエ PBT 平野村 アルント ルンダ 学校博物館 光尚 明智軍記 けんぺい コルガス チャールズ・フィッツロイ 幼年期の終り 2510 青の祓魔師 地方自治庁 the band LabVIEW ケル・ブルック ヘルナンド 性交体位 アメリカン・スナイパー circular 腐男子 ESRO 稲田村 ミレーヌ・ジーナス キジムシロ 57日 オラキオ カシュカダリヤ ハッピーフライト エルジー 丸森線 静岡中学校 Hydrogen 南コルドファン 沈黙の艦隊 ペリカンズ クレーヴの奥方 RBライプツィヒ チャナッカレ Roo フラッシュフォワード アーザーデガーン・リーグ 張寔 アン・ネヴィル 終物語 八熊 オデ テソ 広島ライトニング 対話路線 未着 avex globe モダン・ファミリー KENWOOD あめふり イェヴレ グレンコフ・ジョンソン ソモフ ラーデ 1429 恐怖の谷 沛王 ザ・ユニバース リアルワールド まつ毛エクステンション ノルトエルビエン タカタ ニーム・オリンピック カガヤン・バレー スア FCノアシェラン NOSS 神様のカルテ 川崎病 ナヴァル Mr.King vs Mr.Prince 桃園書房 マジェスティックプリンス PECズヴォレ 神奈川県横浜市栄区 サラシナショウマ シヴァガンガイ マラディ Naumann ジャンビ ウェス・クレイヴン 新水俣駅 Miura Pogo 佐香智久 ランドールズ SHIROBAKO 桜上水駅 京王多摩センター ヒルトンヘッドアイランド 白鳥麗子でございます! ナイト ミュージアム 渡辺航 犨 ヴェルニエ Jaroslav 賀島 最終絶叫計画 ハッチー サクライソウ Aff サマンサ・フォックス Lina Travelers Addison スノードロップ 一海 パコルス 小さな恋のメロディ 「会いたかった」公演 クールラント・ポケット ヒメラの戦い Blackwell Zeta 河辺村 ミッキーマウス・クラブ ])、 アルチ・ノヤン ピフ 大分空港道路 桑野川 マキシムス ガードン ジェイミー・モイヤー ホルムデール ビクトリアーノ・ウエルタ シラ・トージ 古い日記 青森1区 にこにこぷんがやってきた! 招商銀行 中央県 南流山 クワラ レメク フェドーラ SysRq 重樹 三菱UFJリサーチ&コンサルティング 夢から醒めた夢 パストラール グランパパプロダクション 太陽の法 ららぽーと新三郷 アロハ・スタジアム アールスト Kal 児童福祉司 ラグラッツ オンド Chaim 今日の5の2 ダーウィンが来た Holloway べっぴんさん BASEBALL L!VE 井伊直盛 Revive 8550 エリシウム マラヴァーン ギリジャー・プラサード・コイララ YPF カルドア ニャメ 伝説のチャンピオン DJ.taiki ヴィクター・フレミング レズニック 産業資源 2711 5009 セレニティー 宣教学 ウェーバ シャックリ キース・サーマン ロバート・チェンバース ドラゴンライダー ネットランナー ピアノ・マン ポーポー カリーラとディムナ Gidget 特別敏感海域 タリク ガウス・ボネ 姫ちゃん ヤムスクロ ネオマール・セルメニョ ゴルダ Released コウヴォラ エネマグラ MRW nucléaire フェアプレイ ハドレー ソラリアターミナルビル cinerea aes マイク・コンリー COMIC快楽天 ニュースタッフエージェンシー 広告批評 BIOGRAPHY ハンツィ パンチブラザーズ ニッケル・クリーク Pedersen テムリュク ノーメ・カリュ ピエリア Jed 東日本トップクラブリーグ プルデンシャル生命 アハイア 似非科学 クローバ コスタナイ ランボオ 梶原龍児 Rutherford S-310 明花 ロバート・マートン エチェバリア ブルックフィールド デイヴィッド・エディングス チャッティースガル オーランド市 Hiroyuki 変イ g8 単純加群 phenylalanine evergreen リデンプション ノヴァウニオン 横戸 ミニヨン クラドノ スタンボ イソメ ナンキョクブナ 胤綱 ナグザット アドリアーナ・ルクヴルール 仲野親王 デポック フランツ・フォン・エップ 法思想史 林由美香 ペチョラ クリャージマ ロング・グッドバイ ウニヴェルシタテア・クルジュ TECI 嗅ぎタバコ カドカワノベルズ ド・ラ・ポール 高木敏雄 大阪府立泉陽高等学校 ジーベル 軍浦市 apg ソンタム デ・パルマ 7021 ロッキー3 イシク・クル 羅憲 藤山コンツェルン セレツェ・カーマ エウェ ara ケビン・アンダーソン ワーサル ワラチャ ヒルベルト多項式 バック・イン・ブラック RNVR ラディーノ Cullen Schiller 抒情組曲 サイコメトリー ゴールデンアックス ヨハネの手紙三 ヨハネの手紙二 ヨロイザメ glucosidase ラジオマガジン 原子力飛行機 クラブ・レオン ドゥプニツァ サラブリー ザルビンツィ ユタ・スターズ Viktorovich worked イスラボニータ 文学フリマ ヒレントルプ ステファニー・メイヤー トレイナー ヴィコント ルピ カモテス デュルヴィル Bon Voyage 18900 ダフラク フランケンウィニー ホスホヒドロラーゼ bisphosphate 高知県立高知追手前高等学校 meldac 天心区 共終数 Milnor ジメチルアミン エリシュカ サーメット プライマーゼ アルバネーゼ Sent ジョン・タトゥーロ 中野雄太 マイクロボット ロシアの選択 ジョルジュ・ダンダン シュタインフルト ピンポン! ラ・コンチャ ビルバオ・トラム Bloomfield キャンパスナイトフジ 下御霊神社 テーニ スベリン ドイツ・リート Cagayan ジェフ・アメン マルクス・テレンティウス・ウァロ ベラヤ 怪談新耳袋 ダブル・ファンタジー nigricans ツルレイシ 証券代行 Parents チリッチ 燕州 なまけもの コルィマ 長瀞駅 NTR ボルドー液 2234 ベイリーフ 成瀬台 ボルゴ・ヴァルスガーナ ペイルライダー 斉次函数 爆乳甲子園 エルネスト・バルベルデ ヤクシニー グエン・カオ・キ ティルヴァッルール プラッシー 戸外制作 ルーイン まほろ駅前多田便利軒 ボォス プローラ ドレイコ シルシ 21200 パイア 田宮良子 ウーンソケット フランツ・シーゲル 3041 兼高 バンダー 恩平区 梅ノ木 エオリア 福建艦隊 溜池山王駅 名もなき毒 SIESTA ニアサ ウィットソン ウェサガセット 3605 ほのぼの君 ジンギスカン鍋 オキナ 国時 薔薇刑 クラリー スルエタ グレゴワール アンフィトリオン マット・ライナート ヤブロコ ソタヴェント諸島 スパイダーズ ドウダンツツジ バリー・ソネンフェルド アダムス・ファミリー キアロスタミ ピンネース Nagar 中地山 カミギン ヴェゼール マンドラゴラ Höhere ダウンジャケット ザルツベーデ マータレー インキピット コスモスクエア ツバサ-RESERVoir CHRoNiCLE- スラヴォンスキ・ブロド 生物海洋学 ルー・グラム フェーリング セガエイジス2500 ソニック・ザ・ヘッジホッグ2 MH4G 景直 ゼレノグラード 岬にての物語 北長野駅 学陽書房 DIAMOND☆DOGS ダイヤモンズ アクシオス ディヴィ・ジョーンズ 錨を上げて リヤドロ 孫壱 境界の彼方 。, TZD オロロン マルプラケ バレーボールブラジル男子代表 プエブロ・マヒコ テトラクロリド Send 2341 上坊 メノー スピントロニクス アラビス アライバル 快傑えみちゃんねる ブケディ ウルトラゼロファイト ゲルゴウィア 口吉川 アセトアセチル 2651 雑誌記事索引 北海道3区 チェリーブロッサム アルゴリダ アグラヴェイン バルケスィル ビービースターズ レ・ミゼラブル 少女コゼット ジズドラ 村上朝日堂 PCBP ガンドランダー グランドセイコー 市立名寄短期大学 ウィリマンティック ドラゴンハート Kuraki バリー・ジト コピエテルス 万朶 WSUS ゼンショーグループ 木村次郎右衛門 essere パパのいうことを聞きなさい! 富吉駅 近鉄蟹江駅 界磁チョッパ ネン TRIX ルブアルハリ砂漠 スノースピーダー 沖縄基地隊 racemase ムネエソ 福里 ウカシェヴィチ 寒露 青柳信雄 こいずみまり アシス グローバル・コミュニケーション イボ・カルロビッチ レッタ バスキーフィールド phosphorylating ルクラ ジャナクプル ぴた Hi-Fi CAMP ギンダラ 長老ヨハネ ビスケットエンターティメント 業務スーパー KDP ポプラ文庫 フルト サモトラキ なつかしのみんなのうた ヴィルヘルム・ライヒ 輝盛 ZETMAN 蜘蛛女 器楽的幻覚 スパイダーマン3 シチナヴァ ライヒリング ゾーア コリアーズ・ウィークリー 竜江省 スターリツァ dT ヴワディスワフ・オドニツ Hendrick HabitatII ヴェルタハ 北海道北見 ベールイ ナローズ エウレカセブン 古河銀行 AYUSE KOZUE Günter NIGHT HEAD オスク語 transhydrogenase ラーオディケー 伊良湖試験場 カミングズ サクセサ ザカフカーズ ライブオン 谷井田 アローン・イン・ザ・ダーク ロミロミ 丹治峯均筆記 ピリッチ ガビエネ 西郷川 マーメイドメロディー ディスクレス イチケリア カルロヴォ 三遠ネオフェニックス タルー 84億円 東京電話 ニャンジャ Ḥasan アルドナ ショットランサー 浅い夢 ニューイングランド・ジャーナル・オブ・メディシン Mプラス VHR インターネット依存症 ブラントーム 日本通運グループ 野村将希 七つの海のティコ シデテス MorphOS ソヨンボ 佐々木譲 ロックン・ロール・ミュージック ウエスト・ハイランド・ホワイト・テリア トロポミオシン ゼーガペイン メー 安定・成長協定 寺畑 ウィ・ビロング・トゥゲザー 長野智子 モランディ 田沢湖駅 ネオガンダム α・アジール SEWACO ウイットプロモーション 重国籍者 マクロペディア 中央ライナー 御所ケ丘 乃木坂春香の秘密 マンジュラ ワークブーツ 阿川毛利家 東条藩 NOëL モリツバメ 母子保健法 はまかいじ 完全版コミックス 廣田瑞人 クド 関空快速・紀州路快速 Hirado メーリケ 見明川 池山直 ドルゴルーコフ Gunma しばいぬ子さん キャプテンEO 新・必殺仕置人 ファルメル 関甲新学生野球連盟 ネウケン ARBiH SuperS 時の扉 正精 Gackt.C ポケットモンスター ファイアレッド・リーフグリーン ポケットモンスター ルビー・サファイア ロカイユ ドーベルマン刑事 CoM ベーラム ポリング フータ・ジャロン フトマニ ドイッチュ MOMOE フリースナー Wat Shěng パスカルの賭け Xfire Wheelchair 遙かなる影 臼杵駅 パッタルン県 LVI 新宿大ガード フッ化銀 咥利 西新田 後腰 東川口 コーデュロイ アロガント 宇宙空母ブルーノア クリテリウム・アンテルナシオナル 手使海ユトロ ヱビス Bizスポ サバラガムワ マクア ウルトラマンノア わんぱっくコミック 西保 若手騎手限定競走 毘咄 爆乳ヤンキー イノベイド 東成田 ゼイラム わたなべまさこ POWER6 ウィラポン・ナコンルアンプロモーション 電光超人グリッドマン チンクル Larus アンタル 夜も一生けんめい。 取材許可証 秋山瑞人 CSUN ヘキサクロリド 鉄人タイガーセブン QVCジャパン IREM シュトラハヴィッツ DKA 天満駅 中市 三洋電機レッドソア ピクミン3 花旗 エンジニアブーツ 長野県安曇野市豊科 クンパニィス 宮久保 二川村 ハッスルエンターテインメント 北条時氏 鎌倉書房 pater 落花流水 佐味 絶体絶命でんぢゃらすじーさん 雒城 eCos 稙国 マガール キミハ・ブレイク ゲームハイ 水酸化リチウム じゃが 北京地下鉄2号線 安西ひろこ RGS セロゴード らしんばん マクロス ダイナマイト7 ソウヤー カプーア プレウローン スタリ・モスト コピーキャット コロちゃん ゅうろくにち タカトシ牧場 火星のプリンセス 松山運転所 うまッチ! 報ステ 重言 ゴナイーヴ BabeStar プレミアムボックス 大隅線 エルピー・プル 篠山線 （：, 内野駅 E129系 平端駅 堅上 祖国・全ロシア 特撮エース 臼井駅 文京区役所 デンキナマズ 痛快!エブリデイ 新鎌ケ谷 世界征服者の歴史 いわき湯本温泉 カックラキン大放送!! バラダ おはようエクスプレス サンジャポ カタラウヌムの戦い スレッガー・ロウ 機動戦士ガンダム0079 吉岡氏 つけあわせ ドデカニサ 砂漠の惑星 ナニワ音楽ショウ タクワパー 14760 カルマン渦 三柿野駅 ジェネレーションY ショット・ウェポン ドラムロ Branta 寒河江駅 さちかぜ 赤芝 七十門徒 ブルーサンダー ロスト・イン・トランスレーション かげろうお銀 堀ノ内駅 ポワトリン FNN NEWSCOM Zbigniew PartIII ETカード STVホール じっかい ヴィセンテ 大前駅 北海道エアシステム マルモンテル 周参見駅 ゼロテスター ナハネフ 総士 リオ・グランデ・ド・スル CLAMP学園探偵団 ハズブラートフ 油須原線 漆生 ロマネス 浦安鉄筋家族 こわれもの アンコーレ王国 クレマー 非訟事件手続法 テロケファルス メリクリウス 無責任艦長タイラー ホーエンハイム 土塚理弘 マテリアル・パズル からす座 カパネウス 魔性の子 波川 花簪 TOKYO TRIBE2 15200 リトラクタブル サトラレ 木次鉄道部 櫛ケ浜 カマキラス ガインゴブ ラジオ・スターの悲劇 ギャラクシア アビシャイ 豊後森 フェーマルン タージマハル・ホテル ファイナルファンタジー・クリスタルクロニクル 目黒祐樹 言論出版妨害事件 熱帯樹 differenze versione Halcyon 国地頭 Costa Rica アイギアレイア 仁保城 イル・アルスラン バーノン郡 パネルでポン むんこ 新世紀エヴァンゲリオン2 新スーパーロボット大戦 ヘビトンボ 機動戦士SDガンダム 佐藤藍子 主任がゆく! ベン・ベラ ネオブロックス VOW WOW 白塚駅 ロックフェラー・リパブリカン パロパロ DUP 全球凍結 猫目小僧 新山城 ザ・ネクスト スペースビースト 箱島 Pensacola イスメト・イノニュ オカンパ ガビチョウ アダド・ニラリ グラウケー 伏完 ハイデッカ アブドッサラーム・アーリフ ダイニン ドゥジャイル 日電歩道 皆川藩 四国運輸局 プロジェリア インボイスSEIBUドーム D-snap チャバカノ \"′, 珸瑤瑁 パンチDEデート 国際会議観光都市 シュム ヤーダブ オッゴ インレ 裸の大将放浪記 RUP 機動戦士ガンダムF91 フォーミュラー戦記0122 懲毖 ヤンピース アナクサンドリデス シュトリゴン パイプフィッシュ 大多和 エルゴン山 ナハリヤ 北西連邦管区 イェニー キュステンディル州 7577 顔恵慶 ツァ ユーホーム いぬかみっ! 北西部州 意向形 アロンダイト パウル・ゲッツ イスファンディヤール ファン・フランシスコ・エストラーダ インターネットワーキング メタウルス グレヴェナ アラグアイア Gartner パクサス クーターガメ フランツ・カイザー ハネジネズミ 寺垣 ディアルガVSパルキアVSダークライ テレウティアス スキアボーネ 宗義真 ツヴィステ レチクル座 ジアーガ 白地図 市野谷 アンティマコス ピタゴリオ ブレレン チャネルボンディング 桜井古墳 市川壽海 ブルー・ハワイ フェー 豊かの海 ウィキバーシティ エッチンガー 浜原 エキサイトボクシング ネマティック液晶 セメナウィ・ケイバハリ キャサリン・スウィンフォード くちよ グローフェ レア王 }^{ 曽祢まさこ 解離性健忘 カヴァイヨン .hack//SIGN メルツェン かっぺい パワーグローブ 対馬海峡西水道 ポケットモンスター ハートゴールド・ソウルシルバー 東京ラプソディ バートベルゲン boldsymbol ヘルドニア 筒賀村 Rie fu トミネ ベネヴェントゥム 軟骨伝導 ヴァレンホルスト タプー シュワルツシルト半径 井上三太 岡造道 ドラゴン・レディ Discreet LuxRender 詩を書く少年 ガーサー モハーチ トゥジ キュクノス 益陽市 ノグリキ駅 渝中 セイエル 孫立人 サーレポル チヘ エディルレイド 大門軍団 長沼村 ベルガリアード物語 マロリオン物語 ぶぶ漬け 里48 stella ナイトスクープ HΛL 裴潜 アナール ミマロパ チンチロリン 螢雪時代 高圧ガス製造保安責任者 STOICSTONE シープシャンクス マゼラン級 DnaB Tiberius 長崎屋バスターミナル 氏繁 虫姫さま ポセイダル クラフト＝エビング エネルギー管理士 惑星冒険もの スーパーまつかぜ スーパーおき エッガーランド AChE レトロ電車 有機スズ化合物 ヘラクロナス ルッツェ 蘇岩礁 ドンブラ トゥクルティ・ニヌルタ アッシュール・ニラリ ティオーネ・ディ・トレント ティルッチラーッパッリ カダルール カムイオー ヴィリュップラム アッガ 三毛猫ホームズ ラーマナータプラム トカゲモドキ 吸血鬼ゴケミドロ ネサス シャミセンガイ 大更駅 宇野みなと線 インディス F.S.S. サーノフ 広近 おーはしるい トルステンソン スーパーシルフ 下笹目 ヴァルスガーナ・エ・テジーノ ドルカス ゴケミドロ クリムチャク サハ111 南八幡 古島清孝 磐梯急行電鉄 バハル・アル・ガザール 猫缶 ヨムスヴァイキング Shenzhen Canavese KASKR Mesoplodon trek ファティック županija ペルジーネ・ヴァルスガーナ BLOODY オラトリオ・タングラム ドラッケン エグゼリカ 古久喜 ミラソウ 鹿角花輪駅 徳山地域鉄道部 せとうち地域鉄道部 パプワ サロ110 Dearborn 伊勢甚 マールスフェルト グロースアルメローデ Geophys 内方次元界 オノマルコス タイガー・ラグ 慶南地方警察庁 ウスバゼニゴケ フジクロームベルビア D-Rive UIATF DAMIJAW オン・ヌ・シャンジュ・パ スースロワ Radziwiłł アラマキー 石月 中畝 バルカイザー カルディツァ グラフ社 ドキハキ エレコーゼ テイズウェル ゲイラクス ネッツグラーフィ Com.A 幽霊ゾンビ スロシ NICAM LMTO 志摩ようこ じあまり 遙輦 JOSTAR'"
            ]
          },
          "metadata": {
            "tags": []
          },
          "execution_count": 47
        }
      ]
    },
    {
      "cell_type": "markdown",
      "metadata": {
        "id": "hxg_othufTgX",
        "colab_type": "text"
      },
      "source": [
        "真ん中ぐらいの大きさのクラスタの場合。"
      ]
    },
    {
      "cell_type": "code",
      "metadata": {
        "id": "CKbaZrHJZhM-",
        "colab_type": "code",
        "colab": {
          "base_uri": "https://localhost:8080/",
          "height": 204
        },
        "outputId": "cd7fca42-e71a-4490-836d-23a9e5b0e450"
      },
      "source": [
        "' '.join(words[labels == sorted_clusters[49]])"
      ],
      "execution_count": 48,
      "outputs": [
        {
          "output_type": "execute_result",
          "data": {
            "application/vnd.google.colaboratory.intrinsic+json": {
              "type": "string"
            },
            "text/plain": [
              "'称号 1675年 1680年 1731年 1740年 1750年 王子 司教 紋章 1804年 1805年 1806年 1822年 1825年 1846年 1827年 1852年 1847年 1813年 1816年 男系 特権 ザイン 2世 パッサウ オーストリア 聖 シュテファン 大聖堂 アウクスブルクの和議 1855年 1786年 1854年 レオン フランス 死後 ヴィルヘルム ドルスキニンカイ ポーランド人 貴族 公爵 ワルシャワ アレクサンドル ＝ 1863年 公 もとで ブルゴーニュ公国 ハプスブルク家 1814年 1830年 ルクセンブルク大公国 同君連合 朝 1世 王 イングランド 王位 1707年 国王 フェリペ 5世 王妃 サヴォイア ヴィットーリオ・アメデーオ 公女 マリア ルイーザ フェルナンド 即い サンチョ Sancho アラゴン王国 ナバラ アラゴン ラミロ 4世 カスティーリャ王 アルフォンソ 世 即位 カスティーリャ レオン王国 ラ王 バルバストロ ペドロ1世 伯 3世 イサベル 1662年 1679年 1682年 1718年 1832年 ハンガリー 男爵 ピピン 1522年 国教会 卿 王女 ベレンガリア イングランド王 リチャード1世 妃 ブランカ シャンパーニュ ティボー テオバルド 1714年 デヴォンシャー 1610年 1721年 1723年 1722年 1788年 1831年 1840年 フィリップ 1630年 1748年 1811年 南フランス ミラノ 1784年 伯爵 1809年 1761年 君主 王族 クレオパトラ イギリスの君主 ピョートル大帝 皇帝 ケルン ルイ13世 枢機卿 リシュリュー ジャンヌ・ダルク ミラボー フランス革命 エカチェリーナ2世 家長 ポーランド立憲王国 1815年 ナポレオン・ボナパルト ワルシャワ公国 ポーランド王国 ロシア皇帝 ナポレオン クレメンス メッテルニヒ ニコライ デカブリストの乱 1848年 農奴解放令 シュラフタ スウェーデン＝ノルウェー カール ニコライ2世 退位 ロマノフ朝 リヨン ニース 祝う 1767年 1715年 1812年 1834年 1775年 1794年 プロヴァンス ジャ ユダヤ教徒 アル 1771年 1819年 1795年 1808年 ローマ王 ローマ教皇 戴冠 神聖ローマ皇帝 ドイツ王 ローマ皇帝 帝位 ザクセン ハインリヒ オットー イタリア王 教皇 叙任権闘争 グレゴリウス7世 ハインリヒ4世 対立教皇 Imperator カトリック 聖職者 1147年 帝国都市 金印勅書 選帝侯 マインツ 大司教 ケルン大司教 トリーア大司教 ボヘミア ライン宮中伯 ブランデンブルク ジギスムント フリードリヒ 帝冠 ボローニャ 戴冠式 カール大帝 コルヴァイ コンラート ホーエンシュタウフェン ループレヒト ヴェルフ 対立王 アーヘン パヴィア イタリア遠征 マクシミリアン 統治者 神聖ローマ帝国 フランス皇帝 ナポレオン1世 Roi 1818年 オーストリア皇帝 フランツ 女王 フランシスコ会 ポルトガル王 フェリペ2世 マドリード 王宮 キリスト教徒 ローマ市民権 パウロ スペイン国王 1618年 1620年 バチカン 教皇庁 オーモンド アグネス アンナ トリノ 1638年 1642年 ハレム イギリス王室 トランシルヴァニア カルロス 宮殿 聖職 レビ ウリエル アブラハム ニコメデス フィレンツェ 1737年 1773年 1785年 清教徒革命 オリバー・クロムウェル 1653年 1648年 イングランド共和国 1629年 親政 1639年 主教戦争 クロムウェル イングランド国教会 イングランド内戦 聖者 トマス・ウェントワース カンタベリー大主教 ウィリアム・ロード 大主教 1536年 1547年 アナーニ事件 ボニファティウス 聖王 ルイ9世 フランドル 三部会 身分制議会 コロンナ テンプル騎士団 ローマ教会 アヴィニョン アイルランド議会 フリードリヒ・アウグスト 護国卿 1485年 王室 1650年 リチャード・クロムウェル ピューリタン 王政復古 1660年 ジェームズ2世 1764年 合同法 1779年 1849年 1623年 ヴィクトリア インド総督 1654年 ペトロス ドミニコ会 フェルディナン 1526年 1520年 1523年 1529年 1620年代 1634年 1781年 1789年 アントニウス 1538年 プリンス・オブ・ウェールズ 1701年 1807年 1844年 1857年 1858年 帝室 ドイツ皇帝 イングランド王国 ウィリアム1世 シュレースヴィヒ＝ホルシュタイン シュレースヴィヒ公国 ホルシュタイン公国 デンマーク 王家 オルデンブルク ゴットルプ 共同統治 シュレースヴィヒ 1713年 ホルシュタイン プロイセン王国 1754年 ラースロー 修道士 修道院 聖人 マヌエル 1770年 1828年 1720年 1664年 1689年 キエフ 1742年 1787年 1826年 アルフレート 1835年 7月革命 プロイセン国王 フリードリヒ・ヴィルヘルム 1851年 先王 ナポレオン3世 グスタフ ニュルンベルク アルダシール 1719年 1756年 1760年 1755年 1792年 1802年 1692年 グラーツ マルセイユ 1765年 ハン 1774年 1783年 子爵 1768年 1777年 アウクスブルク ルター派 カルヴァン 宮廷ユダヤ人 シュマルカルデン トリエント シュマルカルデン戦争 モーリッツ クルムバッハ 辺境伯 アルブレヒト・アルキビアデス フェルディナント 公領 1524年 マルティン・ルター 宗教改革 騎士 シュヴァーベン チロル テューリンゲン フランケン地方 1525年 農奴 シチリア 1294年 1533年 オルレアン 宮廷 コンスタンティヌス 聖遺物 イギリス王 侯 ヴェネツィア 総督 侯爵 ハレ リシャール royale ルイ14世 1700年 爵位 Baron 1797年 1866年 1734年 アルル 1801年 ノーサンバーランド 1730年 1751年 1766年 1778年 1790年 1793年 1799年 カール・テオドール 臨席 カーン マルク 駐在大使 1661年 婚礼 1717年 1726年 1758年 1759年 1745年 1757年 1820年 1829年 七月革命 ムスタファ 1772年 大首長 サバーハ 1769年 副王 アンリ フランソワ アルベール ルイ カラカラ 殉教者 ガッラ・プラキディア アウグスタ メディオラヌム アンブロシウス 霊廟 ウィクトル テオドリック マクシミアヌス ユリアヌス 預言者 ユスティニアヌス テオドラ 廷臣 相続人 ザロモン フォンテーヌブロー 1839年 1727年 1729年 ケーテン レオポルト 祭司 ペテロ メーヌ ハーデクヌーズ クヌート クヌーズ マグヌス 摂政 王位継承 ブルッヘ アングロ エゼルレッド ジークフリート 宮廷画家 ポリニャック 男性名 リディア ブルターニュ リヴォルノ ペルージャ バレンシア パルマ エリザベート シエナ アンドレイ エリザヴェータ ベルク セーヌ 1800年 宗主 ヨアヒム 1838年 亡くなり 王冠 ヘンリー8世 エリザベス2世 1622年 ナポリ王国 サルデーニャ王国 カルロ 1821年 1823年 1625年 1685年 1688年 マドリッド 聖母 昇天 1752年 持参金 復活祭 サマセット 1676年 クリストフ オルロフ 1631年 デン・ハーグ ユリウス エヴォラ エマヌエーレ アレッサンドロ マイセン ヴィリニュス ブリュン オセール バルセロナ マルクス・アントニウス オクタウィアヌス アウグストゥス 執政官 ルキウス ユリア プブリウス・クロディウス・プルケル アウルス・ガビニウス ファラオ 復位 独裁官 コンスル ブルトゥス アルシノエ オクタウィア ローマ市民 カリグラ クラウディウス ネロ 第一帝政 第二帝政 第一共和政 ラフィット 改宗 ギィ 1404年 ストラスブール フィンランド人 息子たち バイエルン 大公 バルバロッサ ロタール ゲルトルート トスカーナ アルブレヒト 聖堂参事会 サンタ・マリア ポルト オルシーニ フェデリーコ メディチ家 サント シャー アミール ヴィットーリオ・エマヌエーレ 王太子 サンクト 1668年 火刑 1744年 1666年 1842年 1796年 イギリス国王 1539年 1667年 ドラゴン騎士団 カミッロ・カヴール サヴォワ カヴール モデナ 1860年 1859年 司祭 ブーローニュ ダライ・ラマ パンチェン・ラマ ゾフィー エンツォ ルドルフ トート アレクサンドル・ネフスキー ウラジーミル 守護聖人 ラヴラ 1606年 ヤコブ ピカルディー マリア・テレジア ヨーゼフ 1780年 ロベール アラス バスティーユ 相続権 バラス ヴァンドーム 洗礼名 ローマ・カトリック教会 修道院改革 殉教 1534年 カルメル会 1537年 ペトロ セゴビア ピアチェンツァ 宗教裁判 グレゴリウス ブルゴス 列聖 シュタイン ロイス アンデレ 騎馬像 ボーヴェ 信教 フメリニツキー ヤロスワフ 教徒 フランス王国 ヴワディスワフ 府主教 エルサレム総主教 モーゼ モルダヴィア公国 ペレヤースラウ 正教徒 アールパード マルコス グレゴリオ トゥッルス・ホスティリウス アルバ セルゲイ・ヴィッテ 小村 ラント ペドロ 1803年 ルートヴィヒ フランツ・ヨーゼフ 1098年 1824年 薔薇戦争 ヨーク公 ウォリック伯 バッキンガム ノーサンバランド アンジェ ロリス 1521年 エドワード7世 1747年 1776年 1817年 1791年 ジョン・アダムズ グレンヴィル ロッキンガム 1763年 1837年 との 成久 フランチェスコ イブラヒム グイード ボルジア ホーコン 司教区 ボルドー ヨハネ・パウロ2世 ヤロスラフ トヴェリ サライ ミハイル クレモナ 1798年 インペラートル ツァーリ チェルニゴフ ポロツク ピョートル1世 ニスタット シノド グレートブリテン王国 パーヴェル ミハイル・ロマノフ ロマノフ家 ピョートル アレクセイ 1782年 カンバーランド公 アイルランド貴族 1762年 トマス・ペラム ジョン・ステュアート ウォルポール フレデリック・ノース ロロ 1626年 1628年 ジョゼフィーヌ カロリーヌ シャルル 上王 司教座 1415年 キルデア ヘッセン ブロイ アイルランド総督 自由国 サムエル イタリア国王 ウンベルト1世 主教 ウィルバーフォース ウィリアム・ペティ ガーター勲章 アイルランド王国 グレートブリテン アミアンの和約 フランス第一帝政 ジェームズ1世 政略結婚 東方正教会 モナコ ハサン クラレンドン コンスタンディノス コンスタンティノス ゲオルギオス パウロス マクデブルク ネブカドネザル ジョゼフ・ボナパルト 1655年 ブランデンブルク＝プロイセン デンマーク＝ノルウェー 王位継承権 プファルツ スウェーデン国王 カール・グスタフ プロイセン公国 ホーエンツォレルン家 城伯 アンスバッハ ゲオルク・フリードリヒ ゲオルク・ヴィルヘルム ゲオルク ヴェストファーレン条約 ハルバーシュタット 司教領 カミン ソビェスキ マグナート フォンテーヌブローの勅令 ユグノー ボヘミア王国 レオポルト1世 カッ 聖人暦 聖名祝日 聖名 ベルク城 ヨハン バシレイオス Castrum アンドラーシュ カーロイ フニャディ・ヤーノシュ ハプスブルク ブザンソン セイア デュラン シャルル9世 カトリーヌ・ド・メディシス サン＝ドニ 殿下 ネストリ 1690年 1710年 エレフテリオス・ヴェニゼロス アンドレアス ペーザロ ジョヴァンニ 1409年 洗礼者ヨハネ ステファノ ロレンツォ・デ・メディチ ロレンツォ エルンスト シュテルン ゲルラッハ カリストゥス2世 ユーグ エウゲニウス マヌエル1世 コムネノス アレクサンデル アフォンソ 1220年 ダヴィド ジョン王 第7回十字軍 グユク シリア正教会 エンリケ航海王子 ジョアン2世 リスボン エカチェリーナ カロル リポン グル マフムード アタベク スルタン クルチ・アルスラーン カリフ ワズィール エルサレム王 ヘルマン ドイツ系 ボリス・ゴドゥノフ ブルトン リューベック ハイメ 1810年 海軍卿 ウルヘル司教 ブルゴーニュ 大天使 ミカエル ブルゴーニュ公 セント・オールバーンズの戦い ソールズベリー ラドロー ダドリー アーサー・ウェルズリー アンリ4世 ナント 1841年 ヘント デンマーク人 ナポリ 魔女裁判 ファイフ メスキルヒ バーデン ヴュルテンベルク ドイツの政治 レーゲンスブルク ヴァイマル 1535年 ダルムシュタット ハノーファー アウグステ ルイーゼ アン王女 マンスター ウェールズ人 女王陛下 ヴォルフ コンスタンツェ 1635年 シュタイアー 宮宰 アルヌルフ アウストラシア ネウストリア ブルグント カール・マルテル ペルピニャン エティエンヌ トゥールーズ ルイ＝ナポレオン クラクフ ヴェルサイユ コンスタンティン モナコ公国 マルティン イル ルイ16世 ヴァレンヌ事件 大法官 ベンジャミン・ディズレーリ アラー ブルグンド カロリング朝 西フランク王国 アデライード オータン ジェルマン シャルル3世 ロレーヌ 聖俗 ソワソン 聖別 ギゼルベルト カロリング ムテサ シエーナ パレルモ 正教 ヴァロワ ヴィッテルスバッハ マティルダ ブランデンブルク辺境伯 ホラント伯 エノー伯 ルクセンブルク家 ヴァルデマール ブランデンブルク辺境伯領 マルガレーテ 伯領 ヨハネス 廃位 ニコラウス エドワード3世 ボルコ ギヨーム 1665年 ヘトマン 法王 女帝 トゥール ヘルツォーク ダニール ボリス ジャクリーヌ ウジェーヌ オイゲン ヘラクレイオス ルーアン マドレーヌ ノートルダム大聖堂 フランシスコ ミェシュコ ポズナン ヘンリク グウォグフ ブレスラウ 1746年 ニーダーシュレージエン チェンストホヴァ マゾフシェ デキウス ムハンマド ヴィスコンティ ノルマンディー公国 封土 セビリア ジョージ5世 フェレンツ 公子 ザクセン公国 ザクセン王国 ベルンハルト アスカーニエン ザクセン＝ラウエンブルク ヴェッティン ヨハン・フリードリヒ ポーランド継承戦争 ヴィッテンベルク エルネスティン アルベルティン ヨハン・ヴィルヘルム コーブルク アイゼナハ アンハルト マイセン辺境伯 賢公 ヨハン・ゲオルク アウグスト ライン同盟 ザクセン選帝侯領 ハノーファー王国 ナッサウ メルゼブルク ブラウンシュヴァイク ディジョン ジェルジ ハドリアヌス マルクス・アウレリウス ジグモンド 聖ミカエル マーチャーシュ 大公国 ル・ボン 1054年 無原罪の御宿り von マントヴァ リヨン公会議 インノケンティウス ベネディクト ハーン クリルタイ ルブルク 勅書 モンゴル皇帝 プトレマイオス1世 ピリッポス 紀元前323年 アンティパトロス アルコン 僭主 ロンドン塔 バッキンガム宮殿 ラヨシュ ランツフート 妻方 オスカル ジャコバイト 名誉革命 ステュアート オランダ総督 ウィレム メアリー2世 王位継承法 戴く ハノーヴァー朝 アン女王 アーガイル ロバート・ウォルポール 僭王 スペンサー・コンプトン ペラム ルイ15世 イングランド議会 ブリテン 1435年 1516年 ゴットフリート アイルランド王 コーンウォール公 スクーン アルノルト ベルナール トスカーナ大公 フェルディナンド バルバラ マリヤ アントワーヌ ヤール スウェーデン王 エステルイェートランド 1266年 スペイン王室 公爵家 儀礼称号 ヘンリー・ペティ＝フィッツモーリス タレーラン スコットランド貴族 ウィリアム・グラッドストン カーゾン ウェストミンスター寺院 シャー・ジャハーン アーガー・ハーン リソルジメント ブルボン スヴェン ヴォルムス ヴォルムス協約 叙任権 継承戦争 狂信的な トリーア エルンスト・アウグスト 諸聖人の日 カタリナ オルド 1217年 ジャンヌ カラ フランシア フアン・マヌエル・デ・ロサス ブラジル帝国 コインブラ ローズベリー ボナ ランカスター公 バイエルン王国 コノート アミアン アフマド コンスタンチン ジャービル アントウェルペン カイザースラウテルン アンヌ 寵姫 ギリシャ正教 ユーリー イーゴリ インスブルック カレル フルダ エーリヒ エリーザベト ティリー 方伯 ヒルデスハイム ブラウンシュヴァイク＝リューネブルク ヴァンフリート エアフルト カンポ・フォルミオ条約 帝国自由都市 アイオロス ジョアシャン・ミュラ ジョアン1世 イザベル マルグリット フランシュ ルネ アドルフ マフムト パシャ 宮廷文化 マフ 参事会 フレデリク ウルリカ・エレオノーラ フリードリヒ4世 スタニスワフ・レシチニスキ スタニスワフ アフメト スタニスワフ・アウグスト・ポニャトフスキ チャルトリスキ ゲルツ フレドリク フリードリヒ大王 リエージュ ベルタ クシー フェリペ6世 フアン・カルロス 全名 フアン アストゥリアス レオノール ドミトリー ジェントリ ボンヌ アンジュー ポントワーズ トゥーレーヌ フランドル伯 アルトワ アルマニャック ブラバント ゴンザーガ 1513年 1517年 リヴォフ 1430年 1209年 スレイマン ジャーミー パーディシャー オスマン1世 オルハン ムラト バヤズィト ダルヴィーシュ メフメト 征服王 スィ アブデュルメジト メクレンブルク ボードゥアン マティルデ コンヴェルサーノ カルヴァーリョ 伯爵夫人 オランジュ トゥドハリヤ ルッカ 斬首刑 コジモ トスカーナ大公国 シニョリーア ラッツィンガー ヴォルフェンビュッテル 公カ カロリーネ ルイ18世 亡命貴族 レオポルド クラレンス公 フレデリック・ルイス 英国王 シャトー ヴィッテン ロルシュ スフォルツァ スフ ヴュルテンベルク王国 ゴータ ミハイ ホーエンツォレルン 1431年 教皇領 トマス・クランマー 清教徒 マリー・アントワネット ビクトリア女王 コンスタンティヌス1世 マリク・シャー アッバース ベアルン 南仏 アキテーヌ マルグレーテ ハーラル ノルウェー国王 オーラヴ ハラルド マッタ ニーダロス アルベール2世 ロレンス ベアトリクス エリナー フーケ エリゼ宮 マリー・ド・メディシス テュイルリー宮殿 リウトプランド カールマン ザカリアス クロヴィス ステファヌス パトリキ ナルボンヌ 1753年 コルベール アメンホテプ アクエンアテン アメン ベアトリス アヴィス サイード ガルバ アンティオコス ナターリア 修道院長 マルティヌス サラゴサ カリストゥス チェーザレ・ボルジア フェラーラ ガンディア チェーザレ ルクレツィア バスティーユ牢獄 ルイ・フィリップ モラ ノルマン朝 ハインリヒ5世 ジョフロワ アンジュー家 ブロワ サリカ法 カンタベリー大司教 スコットランド王 ブローニュ プランタジネット朝 カペー家 ユーグ・カペー カペー カペー朝 ウード エンリケ ポルトゥカーレ フェルナンド1世 ジョアン4世 ドルー ニカイア帝国 ブランシュ フアナ 母后 シャルル・ダンジュー ジョヴァンナ フィリップ3世 クレルモン ブルボン家 ブルボン朝 ヴァロワ朝 エヴルー ジェーン・シーモア ピエトロ ベルナルド カアン 1519年 総司教 ヴァルデック 勲位 フリース ゲルデルン クレーヴェ ゼーラント ミデルブルフ ニュージーランド総督 シャルロット カルロス3世 サッ コンティ イェルサレム ル・ピュイ ベラスケス マルタン アリー オルジェイトゥ イスマーイール テオドシウス1世 宮廷楽長 サルデーニャ王 ゲルフ ロンバルド＝ヴェネト王国 1066年 ジョージ・ゴードン アッ マグデブルク 東方典礼カトリック教会 総主教庁 レオ13世 ピウス ベネディクト会 在俗 ヒエロン レイスウェイク 準男爵 ピール 一代貴族 王配 聖ニコラス マクベス フェラン ナキア 藩王 アレクシオス レーモン アルフォンス ベルトラン カラーウーン ラムセス セリム トゥトゥシュ イクター スルターン バルキヤールク イブラーヒーム イブン・アル スライマーン トゥグリル マスウード ジョスラン サーリフ ユースフ ハイル ウマル 十分の一税 コルテス クィントゥス・ファビウス・マクシムス マルケッルス アシェル ウマイヤド・モスク 1570年代 バハードゥル ホラント州 プファルツ選帝侯 帝国代表者会議主要決議 エルンスト・ルートヴィヒ バリャドリッド アルフォンソ10世 イサベル1世 国王自由選挙 君侯 アルプ・アルスラーン ニザームルムルク バルクーク ヴァーサ フリードリヒ・カール エルザス カジミェシュ リヴァ ブラバント公国 ユーリヒ 1503年 バイエルン公国 バヴァリア プレスブルクの和約 ザルツブルク大司教 バイロイト ヴレーデ オソン プレスブルク コンピエーニュ コルネイユ ボソ ヴィエンヌ 私権 大祭司 マニ ナーセロッディーン・シャー 聖ヨハネ騎士団 ホスピタル騎士団 ケーニヒ 1499年 1505年 コプト正教会 ニカイア公会議 クールラント ゴドルフィン 1437年 ベッドフォード フォアポンメルン ストックホルム条約 ロストック エリザベス女王 プジョル 死ま シルウェステル ジェルベール ヒメネス カルマル同盟 エーリク ウィルヘルム ヴィレム 特許状 エリザベス1世 ジョージ・ゴードン・バイロン サヴォイア家 フランス語名 グリエルモ 国家元帥 ゴリツィン ローマ法王 西ローマ皇帝 ロタリンギア クロタール カール1世 マクシミリアーノ 福者 シーサワーンウォン モスクワ総主教 シュルツェ ドミニコ ディートリヒ バルセロナ伯 ラモン・バランゲー 教書 1410年 ミンダウガス トラカイ ヴィータウタス クズルバシュ タフマースブ 1494年 聖パウロ フランツ・ヨーゼフ1世 ファドゥーツ ヨーハン ヴラジーミル ソフィヤ ジョン・ハワード 金羊毛騎士団 1215年 エドゥアルト・シュトラウス ローマカトリック教会 ナヴァフルダク ヤズデギルド シュリー ハーティントン 繰上勅書 皇帝教皇主義 アンブロジウス コンスタンディヌーポリ総主教 総主教 コンスタンス オフリド パレオロゴス王朝 イサキオス フォティオス トマス・クロムウェル ボーフォート コンデ 婚姻の無効 ヴァランス 火薬陰謀事件 ケイツビー 国王至上法 トマス・モア カトリックの信仰 オラニエ公 アンテミウス ホノリウス ロムルス リキメル モンペリエ フェルナンド3世 モハンマド・レザー・シャー シャープール シュタット カトリーヌ パヴィアの戦い ジャンヌ・ダルブレ ツェリェ アンベール イヴァン 家門 傭兵隊長 ボナパルト家 ボナパルティスト 百日天下 復古王政 ルイ・ボナパルト オルレアン家 オルレアニスト シャルル10世 レジティミスト ボナパルト フランス第二帝政 1397年 聖金曜日 エンマ ロドヴィコ トロワ サン＝レミ ピカルディ アレマニア 王カ スポレート ジャコモ マンフレーディ サンヘドリン ヨハネ・パウロ ランベルト コンクラーヴェ マルチンクス アグリッパ 登極 オットーネ ピオ ツェティニェ ゴンサロ ファドリケ 騎士団長 サンタンジェロ シャルロッテ ヴァレンシュタイン 世俗化 ケストリッツ ミュラ ウェルス リヒテンシュタイン家 レーエン 質入れ ウルリヒ マールバラ ジョン・チャーチル バーデン＝バーデン イザベラ ヴロツワフ ファールーク フセイン1世 ランスロ ジャック・ネッケル アルバート・ギャラティン スタール ガーリチ エボラクム コンスタンティウス エグバート エイリーク エドワード懺悔王 スコットランド王国 プランタジネット エドワード黒太子 ランカスター朝 リチャード3世 ボズワース ヨーク朝 ヘンリー7世 アルクィン シモン・ド・モンフォール ゴドフロワ ウルビーノ タンクレーディ リナルド ルッジェーロ 先夫 ジョン・ロックフェラー カスティリオーネ アジャンクールの戦い セビーリャ ファイサル ガージー ファイサル1世 ハーシム 王太 王位請求者 ピウスツキ エステルハージ フランチェスコ・スフォルツァ イッポーリト ウィンザー城 ヨハン・シュトラウス1世 リンツ 外交革命 ハプスブルク＝ロートリンゲン家 シュレジエン ウェストミンスター条約 ポンパドゥール リュネヴィルの和約 セルギウス 助祭 サン・ピエトロ大聖堂 ガエータ バチカン宮殿 ベネディクトゥス ヨハンナ シメオン ヌムール カルロス2世 フアン2世 トロッパウ アナスタシウス フス シクストゥス クレメンス8世 ウルバヌス パスカリス 聖座 最高神祇官 ツェラー ジャンセニスム ビューディンゲン ハーナウ ゼーリゲンシュタット アルカラ・デ・エナーレス ピーター・ストイフェサント フアン1世 ロートシルト ロートリンゲン マグナ・カルタ リー5世 テューダー朝 貴族代表議員 クランボーン 法服貴族 紋章院 イングランド貴族 グレートブリテン貴族 連合王国貴族 ジェズアルド ブレナム宮殿 ネクタネボ 公ジ ウゴ 徴収権 年のうち ヴィテプスク インペラートル・アレクサンドル オストロフ 大宰相 カール・ルートヴィヒ フェルナン シトー会 カラト ヤギェウォ ゾグ ギーズ シャルトル ペドロ2世 ペラ 異端審問 ヨアキム 1780年代 ゴドウィン ピストイア サン＝ピエール 素イ ワッハーブ派 フィリップ・ヴィルヘルム ジョアン5世 チェコ人 ジェローム・ボナパルト マクセンティウス シャンベリ フルク クリュニー修道院 アウグステ・ヴィクトリア ハリール ブランドフォード イギリス国教会 カンタベリー大聖堂 アレクサンドラ ウェスパシアヌス エドワード1世 ボーシャン フランス第一共和政 イエナ ニコラオス ウーゴ ラーマ5世 受爵 ベネディクト16世 エディンバラ公 ラーマ4世 モンクット ドゥカート サフィー イシュトヴァーン エステルゴム 聖イシュトヴァーンの王冠 マーリア ミクローシュ ポジョニ ナッサウ家 ヴァーツラフ セーケシュフェヘールヴァール ビトム エルジュビェタ ラーコーツィ ラーコーツィ・フェレンツ ミゲル カシム 伯爵令嬢 アルテンブルク 先触れ ザイス インクヴァルト シャトレ ロマノフ王朝 グリマルディ マルケ グロース リモージュ モラヴィア シビーユ ゼノン セイム コルネリウス ツァールスコエ・セロー 預言者ムハンマド マンチーニ パウルス ヴォルフガング ワリード サヴォイア公国 ボルゲーゼ テレーザ シェール アッシジ ナヴァール アクバル イマーム 中フランク王国 フェーデ エクス＝アン＝プロヴァンス リエル テューダー アブデュルハミト2世 ウンベルト 公現祭 レオーン マクシモス ウィール 聖ヤ 馬上槍試合 ドージェ モンフェラート アル＝アーディル ペーテル エドワード王子 イヴァン4世 帯剣 ヴァルデマー エドマンド アイユーブ メリザンド ジョゼ セバスティアン ポンバル 公コ シュパイアー サイイド シャリーフ フィリッポ サン＝ジェルマン＝アン＝レー ポワシー シュヴルーズ シャティヨン パレ・ロワイヤル マリー・テレーズ ティトゥス カール・ヴィルヘルム・シェーレ ハイレ・セラシエ1世 フォワ タウンゼンド ノイシュトレーリッツ デッサウ クヴェードリンブルク コンスタンツ クリュニー シャフツベリ ラテラン フッガー家 シュトラスブルク トマ トトメス イアフメス 副総督 チューリンゲン ベルギー王室 グレゴリウス1世 フォンセカ ラーマ9世 モンターギュ ジョン・ネヴィル グロスター公 ジョン・オブ・ゴーント 公ジョ ナウムブルク アーラム ギー ウスマーン シャー・ルフ 王領地 フィリッポス アッタロス フラスカーティ キャンピオン オポーレ パドヴァ シェーンブルン宮殿 マルギト イーゼンブルク 安息日 ラシュタット リューネブルク ラジヴィウ ケント公 Buckingham フランス東部 エイレーネー 大空位時代 ペンブルック 正統カリフ ロドリーゴ フィリッパ モスクワ会社 ガイウス クァエストル プラエトル ドルスス カガン ブールジュ マアムーン カタルーニャ人 ベラスコ ゲーラ 王シ キョプリュリュ シトー クレルヴォーのベルナルドゥス アリエノール ベルナルドゥス ボルボン ドーファン マルゲリータ クラーゲンフルト マロ カトリック両王 アブド・アッラフマーン イブン オルタンス マリア・アンナ ラングドック ゲイジ アウラングゼーブ ムガル エーベルハルト グスタフ・アドルフ エリク エミリア ルフェーブル メイフラワー アリエノール・ダキテーヌ シャテルロー ジョウン カール・アウグスト アシャ ロシャンボー 1791年憲法 公妾 非カルケドン派 アルメニア使徒教会 ボードゥアン1世 リーベ ロシア正教 ユグノー教徒 セザール アゼルスタン マティアス ヴェンツェル ブラガンサ フィリペ デンマーク国王 ラヴァル マイエンヌ モハンマド・レザー・パフラヴィー オークニー アルクール ハビエル ホルティ・ミクローシュ カルパントラ カルマパ アミール・キャビール ペシュト ヘンリエッタ ヴァランシエンヌ エノー オーヴェルニュ アグリコラ エドワード6世 アイルランド国教会 ニコラ・フーケ オドアケル ドーフィネ モラヴィア地方 デ・メディチ ベネヴェント アルビ スペイン・ブルボン朝 世襲制 カプ ドゥアルテ アングレーム 十人委員会 カール・フィリップ ビュッケブルク アグリッピナ ハルデンベルク レカ マグダレーナ ソフォニスバ マシニッサ エズラ ムアーウィヤ 紋章官 コンゴ自由国 コールハース ブラバント公 ヘンドリック シュヴェリーン アマーリエ ルノー・ド・シャティヨン ギー・ド・リュジニャン セント・ジェームズ宮殿 エリシャ カタリーナ フランチェスコ1世 ペトロシャン キュアクサレス フランセス プレブス ヨアヒム・エルンスト ドロテア マンスフェルト ヴィンプフェン プラハ条約 テュレンヌ フランクフルト・アン・デア・オーダー フョードル リヴァディア 冬宮殿 オリガ ジグマリンゲン カール・アントン バイエルン人 ティベリウス クリスティアン ガッチナ クサーヴァー エレオノーレ ゴーティエ 獅子心王 アリックス アルビジョア十字軍 イオアン 女子修道院長 バーベンベルク オストマルク ベレンガーリオ アデライーデ セボルガ ツェツィーリア ヨハン・パリサ ジュリアーノ ファエンツァ ラテラノ アーデルハイト ワイマール ユンカー ハーシム家 アメンエムハト フォルリ アダルベルト アダルベロン アルヌール レオ1世 ウァレンティニアヌス ラーマ3世 グランビー ラクナウ 総大司教 マドリード条約 司祭枢機卿 司教枢機卿 枢機卿団 ケレスティヌス オゴデイ ドレゲネ オゴデイ家 ルボー リニー カンブレー アリー・ハーン パレオロゴス 国王陛下 スコロパードシクィイ アポーストル ヤン・ザモイスキ ジグムント シルミウム ガレリウス ウラッハ エーバーハルト カルロ・エマヌエーレ アオスタ ワルドー クリンク ハサナル・ボルキア ミハウ ラーマ6世 ワチラーウット ゲルハルト テオドシウス 生神女 バンベルク シュタウフェン マリアンネ ユスティヌス ジャミ 立憲王政 サンタンジェロ城 フサイン・イブン・アリー 近親婚 ボッビオ テオファヌ スエトニウス ハカム ジャアファル パルマ公 アレッサンドロ・ファルネーゼ 白山の戦い プラート ハールーン・アッ＝ラシード マルチン エル・シッド シャルル7世 グイド エドワード・コーク ジョアン6世 キュリロス メトディオス プシェミスル アブー・サイード アブドゥッラフマーン・ハーン ハマド ヴァルトブルク パウリーネ ブルク コンコルダート ホリールード キリル フランドル人 ランズベルギス コンモドゥス ブレスト合同 アレクシイ 独立正教会 エレニ ルイジ ルドヴィーコ フサイン 推定相続人 リチャード・ネヴィル ヘンリー・ボーフォート シュルーズベリー プッリャ コスタンツァ ヌマ・ポンピリウス ベルナルト ミュンツェンベルク ファルケンシュタイン ヘレーネ ローラント 宮中伯 ヘッセン方伯 シュトイベン ニッダ 羽地朝秀 ハノーヴァー ルクレティア ジョン・クィンシー・アダムズ 法定推定相続人 フランス7月革命 ピサロ ボルハ ハーキム ハフス エゼルベルト プリンケプス 秘蹟 ジークムント ルカーチ スパルタ王 ウジェニー トマス・ベケット マウリキウス プリスクス キュチュク・カイナルジ条約 グリゴリー・ポチョムキン ボリングブルック コンラド ジャン・ド・ブリエンヌ ボスウェル アブー・アル カースィム アブー・バクル ジョアン3世 ミラのニコラオス サウード ファハド アブドゥッラー サウード家 ハーリド アブドゥルアズィーズ ベイン ポワチエ リミニ ウンベルト2世 ガレアッツォ ヴィラール アリクブケ ガザン・ハン ハイメ1世 フェルセン フレゼリク オトン ルイトポルト モデナ公 ゲルトルード フロリス ティエリー ペトラ レグニツァ カステルヌオーヴォ カルロ・アルベルト ヤーコプ 帰天 クリスチャンスボー城 デンマーク王室 アブサロン ヴァツワフ フェリーチェ ホスロー ノロドム ヴュルテンベルク公国 シャウムブルク ヘロデ大王 エル・エスコリアル シャラントン モンタルジ エカテリーナ ヨランド ルイ・ナポレオン エルジェーベト ズリーニ ペータル ラーコーツィ・ジェルジ テケリ・イムレ ホーエンローエ ベトレン オロモウツ フリーデリケ 王位継承順位 長子相続制 ペタル プロノイア コムネノス王朝 イタリア王家 アブドゥルマリク ダ・ポンテ カトリック同盟 ザラストロ ヘロデ ボレスワフ カリシュ アデマール 忠誠の誓い ファーティマ マウリッツ ゲルマニクス ドミティアヌス アントニヌス・ピウス ウップランド クニャージ オレグ バーティ マクヴェーグ フランツ・フェルディナント モントローズ バルトロメオ マルタ騎士団 ヒルデブラント コルマール ジョン・ベイリャル フォルカーク バカン 受胎告知 ニンフェンブルク宮殿 ベルトルト カメハメハ ムーロム ドミートリー・ドンスコイ リュジニャン アーディル ジョン・バイロン フェリクス ムハンマド・アフマド ニオール マオン マヨルカ王国 兵役拒否 アストルガ モンフェッラート イグナチェフ ブラガンサ家 オシフィエンチム サラエボ事件 補佐司教 不朽体 オビエド マテオス カトリコス ゲオルギー 輔祭 修道司祭 ヴァルソロメオス シャンティイ カテリーナ ジャン＝ポール・マラー カエサレア ジャヤーヴァルマン メクレンブルク＝シュヴェリーン ヨハン・アルブレヒト シュトルベルク ノイブルク マザラン フロンドの乱 列福 ヘルツェグ 修道名 スクーンの石 シュタンデスヘル ラティボル ランゲンブルク オーバーシュレージエン フュルステンベルク ケンジントン宮殿 ライニンゲン ディアーヌ ベジエ アイテル マンク ラ・トゥール アーダルベルト 王領ハンガリー バーデット ヴィルヘルミーネ モゼル ボープレオ タルモン ヤドヴィガ モーク・チャンク ヴァソウラス ペトロポリス ミコワイ アラー・ウッディーン・ハルジー アラー・ウッディーン ギヤースッディーン フサイン・バイカラ ビフザード メディチ ヴィテニス ゲディミナス ポラツク ヴィーデマン アッシュバートン モリスコ追放 アグスティン マルゴット ハンプトン・コート宮殿 バッテンベルク ツィタ ジャハーンギール フスロー ランジート・シング ムタワッキル アブー・アル＝アッバース マンスール アルタクセルクセス レーヴェンシュタイン ルートヴィヒスブルク コシチュシュコ シュヴァルツェンベルク ニーノ ザーヒル・シャー チンキム ストイベン リーブル シャイフ ルクセンブルク大公 ヴォードルイユ ティモクラテス 1520年代 イブラヒム・パシャ リュステム・パシャ グラティアヌス サムイル ステファン・ウロシュ ミルティン デチャンスキ 専制公 カンガス・デ・オニス カルリスタ villa アタワルパ ドルトレヒト モンモランシー ミハイロフ カール・アレクサンダー トゥルン・ウント・タクシス ロプコヴィッツ ノイエンシュタット ミュンヒハウゼン ミュンヒハウゼン男爵 ブルガリア正教会 プロシャ オタカル ロイヒテンベルク モレアス サアグン ジュヌヴィエーヴ ジャン＝バティスト・コルベール ベーラ ムスタファ・ケマル・アタテュルク シューレンブルク リリウオカラニ ヤショヴァルマン スーリヤヴァルマン ヴァンダ インドラヴァルマン ヨランダ ウィルヘルミナ ハインリヒ24世 ロアン ベラグア ハールィチ ニーダーエスターライヒ州 ポストゥムス ダムロン ギヤースッディーン・トゥグルク フィールーズ・シャー ホージャ チョバン ザクセン＝コーブルク＝ゴータ公国 セギュール ザクソン ゲーザ テオドロス 伯爵戦争 クリストファ 特免 ジョージ・ヴィリアーズ ザルム ルーヴル宮殿 シェションク ブランデンブルク＝シュヴェート ポメレリア ピャスト シフィエントペウク ヴィエルコポルスカ 諸公 メヘレン 結婚契約書 アランソン公 アンリエット ロヴィーサ ペイシストラトス ベルナドッテ ポワトゥー ラス・カサス ユーハン ガザン アメデーオ ジンメルン アンヌ・ドートリッシュ タリアン ブリュール シギスムンド セティ タイバーン カラカウア ロマノフ タルノヴォ ステファン・ネマニャ コンスタンディヌーポリ総主教庁 首座主教 ヴラディスラヴ イコノクラスム ホーフブルク宮殿 アグスティン・デ・イトゥルビデ イトゥルビデ ベルク公国 クリストフォルス ペトルス・ダミアニ ゲラシウス 助祭枢機卿 エミーリエ ブルンヒルド ベルナドット エカテリーナ2世 デランシー ニケフォロス アンティオキア総主教 対抗宗教改革 ヴァンヌ ジョージ王子 クリオージョ ジェプツンダンバ・ホトクト シアヌーク アンドラーシ 聖年 カスパー エマヌエーレ・フィリベルト ヘウム セヴィニエ エチオピア皇帝 ミロシュ・オブレノヴィッチ トミスラヴ バイエルン選帝侯領 キルデベルト オルドーニョ ベルムード ヤヌシュ ボグスワフ ペリグー ナミュール コメルシー リジュー ジェイムズ・ダグラス 11月蜂起 バルト・ドイツ人 マウントバッテン シリキット ミロスラフ カジミール ゴーラー ヨハン・フォン・ルクセンブルク クランマー ムハンマド6世 リトムニェジツェ サパ・インカ セルギイ ヴァシーリー コンスタンティノス11世 生神女就寝大聖堂 ウスペンスキー リヴォニア戦争 雷帝 リューリク朝 イェレミアス アレクサンドリア総主教 フィラレート ニーコン ニコライ・カサートキン アンドロニク 自治正教会 ポマレ グラフトン公 ジュール・マザラン 公リ ヘルムシュテット グレプ ログヴォロド 主日 アレクサンダル オーラック メリコフ ペーチ ユリアナ ヴィート 教会大分裂 ウロシュ ドゥシャン コンドッティエーレ コンスタンツ公会議 フィリベール レオニダス バーゼル公会議 ピエール・デュポン シノン ビルギッタ ニコロ テムル 国璽尚書 ビルケンフェルト ツヴァイブリュッケン バイエルン継承戦争 インペラートル・ニコライ セウェルス朝 ロムルス・アウグストゥルス モデナ公国 マリーア・ベアトリーチェ モリナ パルマ公国 ツェーリンゲン デ・ウィット コッラディーノ フュルスト アンギャン 偽ドミトリー1世 ノートルダム教会 ブランシュ・ド・カスティーユ ウルスラ シュジェール シュヴァーレンベルク アントン・ウルリヒ アマデオ エキュ 新教会 ブライスガウ アルギルダス インファンテ ティグラト・ピレセル マリー・ヴェッツェラ ヤーノシュ ロレーヌ公国 ゲオルギ ギレイ ザモシチ ヴラド プウォツク トゥーロフ トライデニス ナワーブ ミルチャ クリューガー レシェク チェシン オソルコン ゴルディアヌス シャルマネセル オムリ ヒルカノス アウレリウス ヘリオガバルス リュクサンブール ルカン グィネヴィア ステファン・バートリ クシシュトフ クレイユ アンヌ・ド・モンモランシー トンブリー イドリース1世 イドリース ハンティンドン タワー・ヒル トマス・ハワード サリーム カラマンリー ツヴィングリ コーネリアス・ヴァンダービルト バウム フランス復古王政 ヴァルミー アランフエス グスタフ・フォン・カール ラムザン・カディロフ ルウェリン 男色家 フェロン エルヌ ピレネー条約 マルクス・アウレリウス・アントニヌス グリゴリオス マハル デミドフ ヌヴェール サン・バルテルミ ガッルス カリストス ヴァルテンベルク エルコレ エッケハルト ボーフォール アブデュルアズィズ ムスワティ アリストブロス グリュックスブルク家 グローガウ ルイ・アントワーヌ クローマー シュヴェート オールトラップ子爵 ドン・フアン・デ・アウストリア カヴェナンター ファウスティナ セーチェーニ シュトラースブルク 中世イングランド カロヤン アンセルムス 托鉢修道会 クリシュナ・ラージャ オスマン家 アーサフ・ジャー タウフィーク ムスチスラフ ウグリチ ハールィチ公国 ダーニ ウズベク・ハン ボヤール カルケドン公会議 オットー・フォン・ハプスブルク ザクセン＝コーブルク＝ゴータ家 コハーリ カッラーラ レッジョ ケーストゥティス ヨガイラ ナリマンタス サンドウィッチ伯爵 ホラント王国 プリンキパトゥス カトー・カンブレジ ゾグー プレンツラウ ダニーロ ノヴゴロド・セヴェルスキー スヴャトスラフ フセヴォロド リューベチ ヴィーナ シュヴィトリガイラ クレヴォ ジーギマンタス・カリブタイティス グニェズノ 偽ドミトリー2世 ハインリヒ・ラスペ クート ラチブシュ コンラト サンドミェシュ ヴェスターラント ドラグティン ラザル・フレベリャノヴィチ トヴルトコ ウィリアム・セシル イリノイ州知事 ウィリアム・テンプル ヴィルロワ エボリ ゲデレー ラダマ オラニエ＝ナッサウ家 シリントーン アイバク マリア・テレサ 血の中傷 コリニー ヘンリー・グレイ サポヤイ・ヤーノシュ カタルーニャ君主国 ウスマーン・アリー・ハーン ジョチ カナダ国王 ポドルスキ エレナ・パヴロヴナ トゥルネー カルティール ナルセ ホーヤ ヤズィード アルバート公 フランス元帥 ロマノス ヨハン・ウィレム・フリーゾ リュ Normandie イニゴ 教皇冠 モンフォール ミニステリアーレ ペピ メンチュヘテプ アミーン コンスタンティナス ブイエ サティー 1580年代 サヴォイア伯国 マンネルヘイム オステルマン デオン ミハイロ ミロシュ 親仏 ポトツキ ドースト・ムハンマド・ハーン プラエトリアニ アルカディウス パヴィーア ロンドン大火 ハルドゥーン 訪英 ビロン シスネロス グアスタッラ ウラースロー オスカ ズルツバッハ ルウェリン・アプ・グリフィズ 金口イオアン 福音宣教省 ウスマン カッツェネルンボーゲン トルシー フッテン パロウ ゼムスキー・ソボル ヴォイヴォダ ルネ・ダンジュー マリア・アントーニア カラジョルジェヴィチ グラッツ ミヒャエリス ワート アントニヌス テオドラス アルメニア教会 ダーンリー シャンボール アンボワーズ ヘンリー・ボリングブルック オッドーネ ランブイエ アジャン アラ・パキス ウィレム＝アレクサンダー カールマーン プファルツ選帝侯領 ブーゲンハーゲン ベク ホルエムヘブ カロリング小文字体 ロンドン議定書 ワシリイ ザーイド スキルガイラ アギス マルギット ブランケンブルク テフナクト グリエルモ1世 マリア・テレザ アル＝カーミル アセン イヴァン・アセン フラガ シコルスキ エセックス伯 ロバート・デヴァルー モンケ・テムル クリームヒルト マルグリット・ドートリッシュ トルトーナ シェイズの反乱 ポンテコルヴォ ポワトゥー＝シャラント クリッソン グザヴィエ マラテスタ マリア・アレクサンドロヴナ ヘンリー王子 テューラ ジョン・モンタギュー カシケ ナルイシキン ヴァフタング マルファ アンリ・クリストフ メッサリナ プラエフェクトゥス・プラエトリオ ブッルス アウレリア アルテュール アンドロニコス マリー・ルイーズ ソテル バハラーム ミハイロヴィッチ ミルポワ マリア・アントニア トゥーサン フルーリー アーベンベルク タルクィニウス・スペルブス ボヤーレ ベンガル太守 インド皇帝 聖ジョ ルドヴィーコ・スフォルツァ ダールベルク マリア・デ・パディーリャ マリー・アンヌ オノレ 国王一座 グナエウス・ドミティウス・アヘノバルブス クフナ・ウルゲンチ トゥパク・アマル チェルムスフォード ヨシフ ガムラ・ウプサラ パウラ ファルサ カリマン インノチェンツォ エリザベッタ マウリツィオ ウィテッリウス ツォレルン ボルボーネ パトモス島 ゲッツ・フォン・ベルリヒンゲン カスペ ストルーエンセ アプーリア カスルリー ニッコロ パヴロフスク ルイ・フェルディナント デュ・バリー アンナ・アンダーソン ヤロポルク マケドニア王朝 エウフェミア タラール フライジング サンバージー シャーフー ファッルフシヤル バージー・ラーオ ホールカル家 ガーイクワード家 バーラージー・バージー・ラーオ ヴァドーダラー マーダヴ・ラーオ ラグナート・ラーオ ナーナー・ファドナヴィース ヤシュワント・ラーオ・ホールカル ケティ シャムシ・アダド マールワール王国 トルイ イジャスラフ ウルバヌス8世 ディオニュシウス カミロ セイラム魔女裁判 バイア 七月王政 スタンド・ワティー ユスポフ スヴャトポルク モーリス・ド・サックス クリスチャン・アウグスト ディクタトル トネール リッシュモン ラ・トレモイユ ジル・ド・レ ベンケンドルフ マームーン アーサー・マッカーサー アルミホ マルケータ ヨハンネス ネルウァ ザミーンダール ファルネーゼ リュクルゴス ザモイスキ セバスティアン1世 ウダイ・シング エティエンヌ・マルセル アブドゥルアズィーズ・イブン ラーケン フアード 取り仕切ら カピチュレーション ポデスタ ローミン ボカサ ルフェーヴル ペレヤスラヴリ ヴャチェスラフ アガフィヤ ディポヌゴロ オールドカースル シュノンソー ブーリン サン・ジェルマン ダーラー・シコー バイエルン大公 ルーヴォワ リュネヴィル エウドキア プラキディア ヴェルジェンヌ フィリップ・ド メネリク アレム アイスレーベン トゥーサン・ルーヴェルチュール オーラミュンデ （\"→ グレゴリオス コンスタンツィア マギステル・ミリトゥム イムレ シュタイ 邦良 ケトラー バラカ ベルナルダ ルサ スネフェル センウセルト ハドリアヌス6世 オ・レ・アオ・オ・レ・マーロー エドワード長兄王 ティグラ アルテシア ウィリアム・キッサム・ヴァンダービルト ロスチャイルド家 デジレ ファージング ロスチスラフ ユーリー・ドルゴルーキー ジャン＝ジャック・デサリーヌ ビレンドラ ディペンドラ ギャネンドラ ジャン・ド・モンフォール ザーヒル 聖職禄 ローエングラム リッテンハイム カッシオドルス ルボミルスキ ジーモン ドゥエー パヴレ ショワズール フロンド 最高枢密院 ヴォルピ マルワーン セイヤヌス エップシュタイン フエロ ネパール王国 プリトビ・ナラヤン・シャハ マシュクール アルバニア王 ジャントー アソール ラグージー・ボーンスレー ツィーゲンハイン ジョン・ビング アルジャン 朱友珪 ラナヴァルナ カルカソンヌ フランス東インド会社 クリシュナ・デーヴァ・ラーヤ テオドロス2世 エドマンド・アンドロス アンベール王国 カーナーヴォン ポサードニク ハッツフェルト ベネディクト15世 ヴェリーキー・クニャージ ブリャチスラフ ジェプツンタンパ ラーム・シング ドメーヌ ジャーギール トマス・ウルジー ウルジー ラーフェンスベルク グラーム・カーディル・ハーン ヴィトゥス アリアガ ハマン リュバルタス パトリキウス フェルミン ハメンクブウォノ スティリア チャールズ・ハワード ドルツク カームラーン カイシャン ナメストニク ラ・ロッシュ ヴォエヴォダ ヴァシリコ クラーメル ヌール・ジャハーン 宮廷舞踏会音楽監督 アールモシュ ウィリアム征服王 コシラ イヴレーア バイラム・ハーン ペーシュワー ナーラーイ ガーター騎士団 タマル ギオルギ サーニー シャターブディー ダマー ヴェンカタ シュリーランガ ムラード・バフシュ トロ・ボラト クルプスキー アルグ ゴドイ アヴェイロ ジャハーンダール・シャー ズルフィカール・ハーン バーラージー・ヴィシュヴァナート チャウタ ビュジェ マールワール クロチルド ジャーンシー パンアテナイア カルナータカ太守 シュターデン フニャディ ジョチ家 アブル＝ガーズィー シュジャー・ウッダウラ サアーダト・アリー・ハーン エイナル ジョン・ウィンスロップ 王笏 シャーフージー ハールーン フトバ コムネノス・ドゥーカス エル・テムル リエゴ ブルンスヴィック カンデー・ラーオ ジョルジェ シャミール チャブイ クリスティアーネ アブル ヤン・ファン・リーベック カリオストロ レーニエ ナスル エクザルフ チャパル イェリング トートレーベン サン＝ジェルマン＝アン＝レー城 アン・ハッチンソン サアベドラ カマルッディーン・ハーン ボワイエ 沈福宗 モンゴムリ サラボージー サフダル・アリー・ハーン ミール・ジャアファル アラーハーバード条約 オランダ王室 スピノラ ワッハーブ イヴァン・アレクサンダル イヴァン・スラツィミル パリ・ロチルド ル・バ ミランド マハーバト・ハーン フィジャック デットフォード スペイン異端審問 エーバーバッハ トゥコージー・ラーオ メフメト6世 マサソイト 盛名座 ログネダ プシェミスワフ クエリャル アリーヴァルディー・ハーン モショエショエ テレキ ヘドヴィグ シグエンサ シールクーフ シャラモン リクサ オラトリオ会 イレネ アティス バルバリア エトルリア王国 デシデリウス ゾエ ヴァーベルン ラーマーティボーディー チャーマ・ラージャ ハッジャージュ マリー・テレーズ・ドートリッシュ アウィトゥス マリエット タデウシュ・コシチュシュコ ラテュロス ブジェク フリスティアン ポモジェ マンスール・アリー バフリーヤ アンドリュス ロチルド ムスタアスィム ラージン ジェモミスウ レプニン オルディナト フォルケ・ベルナドッテ オプリーチニナ オプリーチニキ ソブーザ ネッセルヴァング テケリ シギショアラ カンタクゼノス エゼルウルフ カイホスロー ナスィールッディーン・トゥースィー オルガナ ヨドクス 什一 マビヨン ルーゲ ビューロウ サポヤイ フラーテル ネマニッチ アジーズ ジェクス ヨアニス 博恭 ナイペルク イフシード ラシュタット条約 ヘルメネギルド マウルブロン \"》《 アタルヤ 陳守度 兄弟姉妹婚 リウィッラ フラーテス 新致命者 トルデシリャス ソフロニオス アラウンシードゥー ジャヤ・シンハヴァルマン モレームのロベール ケサル テグデル ツェント ディミトリオス ネマニャ ラウフェン セオドロス 首席枢機卿 グンドバト ボリル フアン・ホセ モクテスマ モンディディエ ベルナボ ポウノル リオノウンズ サールヴァ・ナラシンハ トルネドラ アレクサンドラス ブッテンハイム 三兵戦術 マヌイル テウデベルト バシリスクス オドニツ ジョスカン セサリア カンダウレス マリーア・ジョゼ エーバーハルト・ルートヴィヒ キュスティーヌ ロストフツェフ マクシミヌス・ダイア グル・ゴービンド・シング ランデルノー ピンヤ サウマ プサメティコス ランフランクス ヴォロディーミル シンダコム ステピナツ リウィウス・セウェルス シルヴァカンヌ セナンク モレーム アメンヘテプ ステファン・ハーディング'"
            ]
          },
          "metadata": {
            "tags": []
          },
          "execution_count": 48
        }
      ]
    },
    {
      "cell_type": "code",
      "metadata": {
        "id": "lsCiMW4-Zmqc",
        "colab_type": "code",
        "colab": {}
      },
      "source": [
        ""
      ],
      "execution_count": 48,
      "outputs": []
    }
  ]
}