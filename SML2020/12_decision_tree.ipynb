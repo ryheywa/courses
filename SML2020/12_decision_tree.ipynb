{
  "nbformat": 4,
  "nbformat_minor": 0,
  "metadata": {
    "colab": {
      "name": "12_decision_tree.ipynb",
      "provenance": [],
      "collapsed_sections": [],
      "authorship_tag": "ABX9TyP1enC/5tQrd/uClRzIUwtU",
      "include_colab_link": true
    },
    "kernelspec": {
      "name": "python3",
      "display_name": "Python 3"
    }
  },
  "cells": [
    {
      "cell_type": "markdown",
      "metadata": {
        "id": "view-in-github",
        "colab_type": "text"
      },
      "source": [
        "<a href=\"https://colab.research.google.com/github/tomonari-masada/courses/blob/master/SML2020/12_decision_tree.ipynb\" target=\"_parent\"><img src=\"https://colab.research.google.com/assets/colab-badge.svg\" alt=\"Open In Colab\"/></a>"
      ]
    },
    {
      "cell_type": "markdown",
      "metadata": {
        "id": "gaQ8dO7PH-Ie",
        "colab_type": "text"
      },
      "source": [
        "# tree-based methodsによる住宅価格の予測\n",
        "\n",
        "* California housing datasetという有名なデータセットを使う。\n",
        "\n",
        "* (scikit-learnからロードできるバージョンは、前処理が済んだキレイなデータなので、ここでは使わない。)\n",
        "\n",
        "* データの取得や前処理の一部は、\n",
        "[Aurélien Géron. Hands-On Machine Learning with Scikit-Learn, Keras, and TensorFlow, 2nd Edition.](https://www.oreilly.com/library/view/hands-on-machine-learning/9781492032632/) の2章と同じ。"
      ]
    },
    {
      "cell_type": "markdown",
      "metadata": {
        "id": "B0ueH1eZQkV0",
        "colab_type": "text"
      },
      "source": [
        "### 1) データを取得"
      ]
    },
    {
      "cell_type": "code",
      "metadata": {
        "id": "g-8ombKtQkBM",
        "colab_type": "code",
        "colab": {}
      },
      "source": [
        "import os\n",
        "import tarfile\n",
        "from six.moves import urllib\n",
        "\n",
        "DOWNLOAD_ROOT = \"https://raw.githubusercontent.com/ageron/handson-ml/master/\"\n",
        "HOUSING_PATH = os.path.join(\"datasets\", \"housing\")\n",
        "HOUSING_URL = DOWNLOAD_ROOT + \"datasets/housing/housing.tgz\"\n",
        "\n",
        "def fetch_housing_data(housing_url=HOUSING_URL, housing_path=HOUSING_PATH):\n",
        "    os.makedirs(housing_path, exist_ok=True)\n",
        "    tgz_path = os.path.join(housing_path, \"housing.tgz\")\n",
        "    urllib.request.urlretrieve(housing_url, tgz_path)\n",
        "    housing_tgz = tarfile.open(tgz_path)\n",
        "    housing_tgz.extractall(path=housing_path)\n",
        "    housing_tgz.close()"
      ],
      "execution_count": 1,
      "outputs": []
    },
    {
      "cell_type": "code",
      "metadata": {
        "id": "Ewm8TpCMQj4X",
        "colab_type": "code",
        "colab": {}
      },
      "source": [
        "fetch_housing_data()"
      ],
      "execution_count": 2,
      "outputs": []
    },
    {
      "cell_type": "code",
      "metadata": {
        "id": "qybD5v56JrtS",
        "colab_type": "code",
        "colab": {}
      },
      "source": [
        "import pandas as pd\n",
        "\n",
        "def load_housing_data(housing_path=HOUSING_PATH):\n",
        "    csv_path = os.path.join(housing_path, \"housing.csv\")\n",
        "    return pd.read_csv(csv_path)"
      ],
      "execution_count": 3,
      "outputs": []
    },
    {
      "cell_type": "markdown",
      "metadata": {
        "id": "EUzt-Kn9Ht91",
        "colab_type": "text"
      },
      "source": [
        "（ここより上の詳細はフォローしなくてもいいいです。）"
      ]
    },
    {
      "cell_type": "code",
      "metadata": {
        "id": "_L5MBp4WQjeb",
        "colab_type": "code",
        "colab": {
          "base_uri": "https://localhost:8080/",
          "height": 215
        },
        "outputId": "a60551e1-97dd-4dd6-ce03-2f0c82ab01c1"
      },
      "source": [
        "housing = load_housing_data()\n",
        "housing.head()"
      ],
      "execution_count": 4,
      "outputs": [
        {
          "output_type": "execute_result",
          "data": {
            "text/html": [
              "<div>\n",
              "<style scoped>\n",
              "    .dataframe tbody tr th:only-of-type {\n",
              "        vertical-align: middle;\n",
              "    }\n",
              "\n",
              "    .dataframe tbody tr th {\n",
              "        vertical-align: top;\n",
              "    }\n",
              "\n",
              "    .dataframe thead th {\n",
              "        text-align: right;\n",
              "    }\n",
              "</style>\n",
              "<table border=\"1\" class=\"dataframe\">\n",
              "  <thead>\n",
              "    <tr style=\"text-align: right;\">\n",
              "      <th></th>\n",
              "      <th>longitude</th>\n",
              "      <th>latitude</th>\n",
              "      <th>housing_median_age</th>\n",
              "      <th>total_rooms</th>\n",
              "      <th>total_bedrooms</th>\n",
              "      <th>population</th>\n",
              "      <th>households</th>\n",
              "      <th>median_income</th>\n",
              "      <th>median_house_value</th>\n",
              "      <th>ocean_proximity</th>\n",
              "    </tr>\n",
              "  </thead>\n",
              "  <tbody>\n",
              "    <tr>\n",
              "      <th>0</th>\n",
              "      <td>-122.23</td>\n",
              "      <td>37.88</td>\n",
              "      <td>41.0</td>\n",
              "      <td>880.0</td>\n",
              "      <td>129.0</td>\n",
              "      <td>322.0</td>\n",
              "      <td>126.0</td>\n",
              "      <td>8.3252</td>\n",
              "      <td>452600.0</td>\n",
              "      <td>NEAR BAY</td>\n",
              "    </tr>\n",
              "    <tr>\n",
              "      <th>1</th>\n",
              "      <td>-122.22</td>\n",
              "      <td>37.86</td>\n",
              "      <td>21.0</td>\n",
              "      <td>7099.0</td>\n",
              "      <td>1106.0</td>\n",
              "      <td>2401.0</td>\n",
              "      <td>1138.0</td>\n",
              "      <td>8.3014</td>\n",
              "      <td>358500.0</td>\n",
              "      <td>NEAR BAY</td>\n",
              "    </tr>\n",
              "    <tr>\n",
              "      <th>2</th>\n",
              "      <td>-122.24</td>\n",
              "      <td>37.85</td>\n",
              "      <td>52.0</td>\n",
              "      <td>1467.0</td>\n",
              "      <td>190.0</td>\n",
              "      <td>496.0</td>\n",
              "      <td>177.0</td>\n",
              "      <td>7.2574</td>\n",
              "      <td>352100.0</td>\n",
              "      <td>NEAR BAY</td>\n",
              "    </tr>\n",
              "    <tr>\n",
              "      <th>3</th>\n",
              "      <td>-122.25</td>\n",
              "      <td>37.85</td>\n",
              "      <td>52.0</td>\n",
              "      <td>1274.0</td>\n",
              "      <td>235.0</td>\n",
              "      <td>558.0</td>\n",
              "      <td>219.0</td>\n",
              "      <td>5.6431</td>\n",
              "      <td>341300.0</td>\n",
              "      <td>NEAR BAY</td>\n",
              "    </tr>\n",
              "    <tr>\n",
              "      <th>4</th>\n",
              "      <td>-122.25</td>\n",
              "      <td>37.85</td>\n",
              "      <td>52.0</td>\n",
              "      <td>1627.0</td>\n",
              "      <td>280.0</td>\n",
              "      <td>565.0</td>\n",
              "      <td>259.0</td>\n",
              "      <td>3.8462</td>\n",
              "      <td>342200.0</td>\n",
              "      <td>NEAR BAY</td>\n",
              "    </tr>\n",
              "  </tbody>\n",
              "</table>\n",
              "</div>"
            ],
            "text/plain": [
              "   longitude  latitude  ...  median_house_value  ocean_proximity\n",
              "0    -122.23     37.88  ...            452600.0         NEAR BAY\n",
              "1    -122.22     37.86  ...            358500.0         NEAR BAY\n",
              "2    -122.24     37.85  ...            352100.0         NEAR BAY\n",
              "3    -122.25     37.85  ...            341300.0         NEAR BAY\n",
              "4    -122.25     37.85  ...            342200.0         NEAR BAY\n",
              "\n",
              "[5 rows x 10 columns]"
            ]
          },
          "metadata": {
            "tags": []
          },
          "execution_count": 4
        }
      ]
    },
    {
      "cell_type": "markdown",
      "metadata": {
        "id": "nl9YJ6M-RFGR",
        "colab_type": "text"
      },
      "source": [
        "### 2) データを概観しつつ前処理"
      ]
    },
    {
      "cell_type": "code",
      "metadata": {
        "id": "OGJP-5qhNnoz",
        "colab_type": "code",
        "colab": {
          "base_uri": "https://localhost:8080/",
          "height": 302
        },
        "outputId": "b43c5a4a-64cc-4221-d168-4cb9294b46d2"
      },
      "source": [
        "housing.info()"
      ],
      "execution_count": 5,
      "outputs": [
        {
          "output_type": "stream",
          "text": [
            "<class 'pandas.core.frame.DataFrame'>\n",
            "RangeIndex: 20640 entries, 0 to 20639\n",
            "Data columns (total 10 columns):\n",
            " #   Column              Non-Null Count  Dtype  \n",
            "---  ------              --------------  -----  \n",
            " 0   longitude           20640 non-null  float64\n",
            " 1   latitude            20640 non-null  float64\n",
            " 2   housing_median_age  20640 non-null  float64\n",
            " 3   total_rooms         20640 non-null  float64\n",
            " 4   total_bedrooms      20433 non-null  float64\n",
            " 5   population          20640 non-null  float64\n",
            " 6   households          20640 non-null  float64\n",
            " 7   median_income       20640 non-null  float64\n",
            " 8   median_house_value  20640 non-null  float64\n",
            " 9   ocean_proximity     20640 non-null  object \n",
            "dtypes: float64(9), object(1)\n",
            "memory usage: 1.6+ MB\n"
          ],
          "name": "stdout"
        }
      ]
    },
    {
      "cell_type": "code",
      "metadata": {
        "id": "UUcTzYmBNp4g",
        "colab_type": "code",
        "colab": {
          "base_uri": "https://localhost:8080/",
          "height": 118
        },
        "outputId": "44d44dc9-74df-4de7-92b5-f76d21a68104"
      },
      "source": [
        "# 数値データではない列が一つだけある\n",
        "\n",
        "housing['ocean_proximity'].value_counts()"
      ],
      "execution_count": 6,
      "outputs": [
        {
          "output_type": "execute_result",
          "data": {
            "text/plain": [
              "<1H OCEAN     9136\n",
              "INLAND        6551\n",
              "NEAR OCEAN    2658\n",
              "NEAR BAY      2290\n",
              "ISLAND           5\n",
              "Name: ocean_proximity, dtype: int64"
            ]
          },
          "metadata": {
            "tags": []
          },
          "execution_count": 6
        }
      ]
    },
    {
      "cell_type": "code",
      "metadata": {
        "id": "Ac-bD3EfS9U6",
        "colab_type": "code",
        "colab": {}
      },
      "source": [
        "# 今回は、この数値データではない列を残す\n",
        "# pandasのget_dummiesを使う\n",
        "\n",
        "housing_num = pd.get_dummies(housing, columns=['ocean_proximity'], drop_first=True)"
      ],
      "execution_count": 7,
      "outputs": []
    },
    {
      "cell_type": "code",
      "metadata": {
        "id": "FkOo-YDuTg5l",
        "colab_type": "code",
        "colab": {
          "base_uri": "https://localhost:8080/",
          "height": 353
        },
        "outputId": "8fa8689c-ccd0-4d18-a1b5-87ad29a905bb"
      },
      "source": [
        "housing_num.info()"
      ],
      "execution_count": 8,
      "outputs": [
        {
          "output_type": "stream",
          "text": [
            "<class 'pandas.core.frame.DataFrame'>\n",
            "RangeIndex: 20640 entries, 0 to 20639\n",
            "Data columns (total 13 columns):\n",
            " #   Column                      Non-Null Count  Dtype  \n",
            "---  ------                      --------------  -----  \n",
            " 0   longitude                   20640 non-null  float64\n",
            " 1   latitude                    20640 non-null  float64\n",
            " 2   housing_median_age          20640 non-null  float64\n",
            " 3   total_rooms                 20640 non-null  float64\n",
            " 4   total_bedrooms              20433 non-null  float64\n",
            " 5   population                  20640 non-null  float64\n",
            " 6   households                  20640 non-null  float64\n",
            " 7   median_income               20640 non-null  float64\n",
            " 8   median_house_value          20640 non-null  float64\n",
            " 9   ocean_proximity_INLAND      20640 non-null  uint8  \n",
            " 10  ocean_proximity_ISLAND      20640 non-null  uint8  \n",
            " 11  ocean_proximity_NEAR BAY    20640 non-null  uint8  \n",
            " 12  ocean_proximity_NEAR OCEAN  20640 non-null  uint8  \n",
            "dtypes: float64(9), uint8(4)\n",
            "memory usage: 1.5 MB\n"
          ],
          "name": "stdout"
        }
      ]
    },
    {
      "cell_type": "code",
      "metadata": {
        "id": "UfaKuLw0TsgQ",
        "colab_type": "code",
        "colab": {}
      },
      "source": [
        "# Non-Null Countが他より少ない列がある\n",
        "# ここでは単に削除することにする\n",
        "\n",
        "housing_num = housing_num.dropna(subset=['total_bedrooms'])"
      ],
      "execution_count": 9,
      "outputs": []
    },
    {
      "cell_type": "code",
      "metadata": {
        "id": "cbMVHFEyUFhw",
        "colab_type": "code",
        "colab": {
          "base_uri": "https://localhost:8080/",
          "height": 353
        },
        "outputId": "a3ed32a2-bcf8-4fea-e3a2-aee0d7aef382"
      },
      "source": [
        "housing_num.info()"
      ],
      "execution_count": 10,
      "outputs": [
        {
          "output_type": "stream",
          "text": [
            "<class 'pandas.core.frame.DataFrame'>\n",
            "Int64Index: 20433 entries, 0 to 20639\n",
            "Data columns (total 13 columns):\n",
            " #   Column                      Non-Null Count  Dtype  \n",
            "---  ------                      --------------  -----  \n",
            " 0   longitude                   20433 non-null  float64\n",
            " 1   latitude                    20433 non-null  float64\n",
            " 2   housing_median_age          20433 non-null  float64\n",
            " 3   total_rooms                 20433 non-null  float64\n",
            " 4   total_bedrooms              20433 non-null  float64\n",
            " 5   population                  20433 non-null  float64\n",
            " 6   households                  20433 non-null  float64\n",
            " 7   median_income               20433 non-null  float64\n",
            " 8   median_house_value          20433 non-null  float64\n",
            " 9   ocean_proximity_INLAND      20433 non-null  uint8  \n",
            " 10  ocean_proximity_ISLAND      20433 non-null  uint8  \n",
            " 11  ocean_proximity_NEAR BAY    20433 non-null  uint8  \n",
            " 12  ocean_proximity_NEAR OCEAN  20433 non-null  uint8  \n",
            "dtypes: float64(9), uint8(4)\n",
            "memory usage: 1.6 MB\n"
          ],
          "name": "stdout"
        }
      ]
    },
    {
      "cell_type": "code",
      "metadata": {
        "id": "M28tUOwREhEe",
        "colab_type": "code",
        "colab": {}
      },
      "source": [
        "# 説明変数と目的変数を分ける\n",
        "\n",
        "X = housing_num.drop('median_house_value', axis=1)\n",
        "y = housing_num[\"median_house_value\"].copy()"
      ],
      "execution_count": 11,
      "outputs": []
    },
    {
      "cell_type": "markdown",
      "metadata": {
        "id": "jJVevWKDFPI2",
        "colab_type": "text"
      },
      "source": [
        "### 3) 評価実験のための準備"
      ]
    },
    {
      "cell_type": "code",
      "metadata": {
        "id": "HPLyJcSqEu6i",
        "colab_type": "code",
        "colab": {}
      },
      "source": [
        "# test setを取り除いておく\n",
        "\n",
        "from sklearn.model_selection import train_test_split\n",
        "\n",
        "X_train, X_test, y_train, y_test = train_test_split(X, y, test_size=0.2, random_state=42)"
      ],
      "execution_count": 12,
      "outputs": []
    },
    {
      "cell_type": "markdown",
      "metadata": {
        "id": "WfsOy4znNBHv",
        "colab_type": "text"
      },
      "source": [
        "### 4) 訓練データをよくよくながめてみる"
      ]
    },
    {
      "cell_type": "code",
      "metadata": {
        "id": "jcWCkbkTNwZi",
        "colab_type": "code",
        "colab": {
          "base_uri": "https://localhost:8080/",
          "height": 773
        },
        "outputId": "907da742-8e79-487e-d069-296acf3d3259"
      },
      "source": [
        "# ヒストグラムを描く\n",
        "# (cf. Aurélien Géron. Hands-On Machine Learning with Scikit-Learn, Keras, and TensorFlow, 2nd Edition. p.50)\n",
        "\n",
        "import matplotlib.pyplot as plt\n",
        "\n",
        "X_train.hist(bins=50, figsize=(20,15))\n",
        "plt.show()"
      ],
      "execution_count": 13,
      "outputs": [
        {
          "output_type": "display_data",
          "data": {
            "image/png": "[encoded data removed]",
            "text/plain": [
              "<Figure size 1440x1080 with 12 Axes>"
            ]
          },
          "metadata": {
            "tags": [],
            "needs_background": "light"
          }
        }
      ]
    },
    {
      "cell_type": "markdown",
      "metadata": {
        "id": "Np16Vy-zNTva",
        "colab_type": "text"
      },
      "source": [
        "### 5) 交差検証で決定木をチューニング\n",
        "\n",
        "* 木の深さ（領域を何分割するか）をチューニングする。"
      ]
    },
    {
      "cell_type": "code",
      "metadata": {
        "id": "2Mr1oS9LLiPb",
        "colab_type": "code",
        "colab": {}
      },
      "source": [
        "from sklearn import tree\n",
        "from sklearn.model_selection import cross_val_score"
      ],
      "execution_count": 14,
      "outputs": []
    },
    {
      "cell_type": "code",
      "metadata": {
        "id": "2b17N7AQwQ2r",
        "colab_type": "code",
        "colab": {
          "base_uri": "https://localhost:8080/",
          "height": 823
        },
        "outputId": "772946c3-0d3c-4c1a-b417-a3a14ef92786"
      },
      "source": [
        "# cross_val_scoreで使える評価尺度一覧をチェックする。\n",
        "# いずれも、「値が大きいほど良い」という評価尺度になっている。\n",
        "# 今回はRMSEで評価したいが、これは「値が小さいほど良い」という評価尺度である。\n",
        "# そこで、一覧の中にある'neg_root_mean_squared_error'に、マイナスをつけたものを、使う。\n",
        "\n",
        "from sklearn import metrics\n",
        "\n",
        "sorted(metrics.SCORERS.keys())"
      ],
      "execution_count": 15,
      "outputs": [
        {
          "output_type": "execute_result",
          "data": {
            "text/plain": [
              "['accuracy',\n",
              " 'adjusted_mutual_info_score',\n",
              " 'adjusted_rand_score',\n",
              " 'average_precision',\n",
              " 'balanced_accuracy',\n",
              " 'completeness_score',\n",
              " 'explained_variance',\n",
              " 'f1',\n",
              " 'f1_macro',\n",
              " 'f1_micro',\n",
              " 'f1_samples',\n",
              " 'f1_weighted',\n",
              " 'fowlkes_mallows_score',\n",
              " 'homogeneity_score',\n",
              " 'jaccard',\n",
              " 'jaccard_macro',\n",
              " 'jaccard_micro',\n",
              " 'jaccard_samples',\n",
              " 'jaccard_weighted',\n",
              " 'max_error',\n",
              " 'mutual_info_score',\n",
              " 'neg_brier_score',\n",
              " 'neg_log_loss',\n",
              " 'neg_mean_absolute_error',\n",
              " 'neg_mean_gamma_deviance',\n",
              " 'neg_mean_poisson_deviance',\n",
              " 'neg_mean_squared_error',\n",
              " 'neg_mean_squared_log_error',\n",
              " 'neg_median_absolute_error',\n",
              " 'neg_root_mean_squared_error',\n",
              " 'normalized_mutual_info_score',\n",
              " 'precision',\n",
              " 'precision_macro',\n",
              " 'precision_micro',\n",
              " 'precision_samples',\n",
              " 'precision_weighted',\n",
              " 'r2',\n",
              " 'recall',\n",
              " 'recall_macro',\n",
              " 'recall_micro',\n",
              " 'recall_samples',\n",
              " 'recall_weighted',\n",
              " 'roc_auc',\n",
              " 'roc_auc_ovo',\n",
              " 'roc_auc_ovo_weighted',\n",
              " 'roc_auc_ovr',\n",
              " 'roc_auc_ovr_weighted',\n",
              " 'v_measure_score']"
            ]
          },
          "metadata": {
            "tags": []
          },
          "execution_count": 15
        }
      ]
    },
    {
      "cell_type": "code",
      "metadata": {
        "id": "be12cT0KPyrg",
        "colab_type": "code",
        "colab": {
          "base_uri": "https://localhost:8080/",
          "height": 302
        },
        "outputId": "73976ba3-4c54-49ba-9470-25306e113416"
      },
      "source": [
        "# 木の深さは3から20まで変える。\n",
        "# 評価尺度は　RMSEとする。\n",
        "\n",
        "for i in range(3, 20):\n",
        "    reg = tree.DecisionTreeRegressor(max_depth=i, random_state=123)\n",
        "    # 10-fold cross validationを実施\n",
        "    scores = cross_val_score(estimator=reg, X=X_train, y=y_train, \n",
        "                             scoring='neg_root_mean_squared_error', cv=10)\n",
        "    print('depth {}: {:.2f}'.format(i, - scores.mean()))  "
      ],
      "execution_count": 16,
      "outputs": [
        {
          "output_type": "stream",
          "text": [
            "depth 3: 75741.38\n",
            "depth 4: 72844.53\n",
            "depth 5: 70210.48\n",
            "depth 6: 67396.51\n",
            "depth 7: 64844.54\n",
            "depth 8: 62491.94\n",
            "depth 9: 61744.87\n",
            "depth 10: 62067.41\n",
            "depth 11: 62678.79\n",
            "depth 12: 63264.24\n",
            "depth 13: 64255.13\n",
            "depth 14: 65153.89\n",
            "depth 15: 66153.35\n",
            "depth 16: 66812.93\n",
            "depth 17: 67105.93\n",
            "depth 18: 68012.51\n",
            "depth 19: 68081.37\n"
          ],
          "name": "stdout"
        }
      ]
    },
    {
      "cell_type": "code",
      "metadata": {
        "id": "fPy58KHFXJR-",
        "colab_type": "code",
        "colab": {
          "base_uri": "https://localhost:8080/",
          "height": 34
        },
        "outputId": "206d129f-7dd1-4b3e-87f1-7eb3942cc33b"
      },
      "source": [
        "# 最適な木の深さを使って訓練データ全体で学習をやり直し、テストデータで評価。\n",
        "\n",
        "from sklearn.metrics import mean_squared_error\n",
        "\n",
        "reg = tree.DecisionTreeRegressor(max_depth=9)\n",
        "reg.fit(X_train, y_train)\n",
        "y_test_pred = reg.predict(X_test)\n",
        "print('Test set RMSE: {:.2f}'.format(mean_squared_error(y_test, y_test_pred, squared=False)))"
      ],
      "execution_count": 17,
      "outputs": [
        {
          "output_type": "stream",
          "text": [
            "Test set RMSE: 61594.27\n"
          ],
          "name": "stdout"
        }
      ]
    },
    {
      "cell_type": "markdown",
      "metadata": {
        "id": "GaLWv6KThGkW",
        "colab_type": "text"
      },
      "source": [
        "この 61792.11 という値を改善することを試みる。"
      ]
    },
    {
      "cell_type": "markdown",
      "metadata": {
        "id": "2PT_IGbQLCis",
        "colab_type": "text"
      },
      "source": [
        "# 課題12\n",
        "\n",
        "* RMSEによって評価される予測性能を、良くして下さい\n",
        "* test setとそれ以外の部分の分割は、変えないでください\n",
        " * test set以外の部分をどう使うかは、自由です\n",
        " * 交差検証の方法は何でもよい。\n",
        "* 決定木ベースの方法なら何でもいいです。\n",
        "* test setでのRMSEによる評価は最後に一回おこなうだけです"
      ]
    },
    {
      "cell_type": "code",
      "metadata": {
        "id": "QvEWe5j80MO3",
        "colab_type": "code",
        "colab": {}
      },
      "source": [
        "# XGBoostを使ってみる\n",
        "\n",
        "import xgboost as xgb"
      ],
      "execution_count": 18,
      "outputs": []
    },
    {
      "cell_type": "code",
      "metadata": {
        "id": "31-tQx4I0VET",
        "colab_type": "code",
        "colab": {
          "base_uri": "https://localhost:8080/",
          "height": 302
        },
        "outputId": "59346e49-8699-4625-f652-be91bd94286d"
      },
      "source": [
        "for i in range(3, 20):\n",
        "    reg = xgb.XGBRegressor(objective ='reg:squarederror', max_depth=i, random_state=123)\n",
        "    # 10-fold cross validationを実施\n",
        "    scores = cross_val_score(estimator=reg, X=X_train, y=y_train, \n",
        "                             scoring='neg_root_mean_squared_error', cv=10)\n",
        "    print('depth {}: {:.2f}'.format(i, - scores.mean()))  "
      ],
      "execution_count": 19,
      "outputs": [
        {
          "output_type": "stream",
          "text": [
            "depth 3: 54853.74\n",
            "depth 4: 51331.20\n",
            "depth 5: 49321.37\n",
            "depth 6: 47946.47\n",
            "depth 7: 47241.37\n",
            "depth 8: 46752.65\n",
            "depth 9: 46805.49\n",
            "depth 10: 46816.17\n",
            "depth 11: 47109.71\n",
            "depth 12: 47668.04\n",
            "depth 13: 47913.14\n",
            "depth 14: 48073.61\n",
            "depth 15: 48299.04\n",
            "depth 16: 48497.83\n",
            "depth 17: 48619.75\n",
            "depth 18: 48559.42\n",
            "depth 19: 48625.10\n"
          ],
          "name": "stdout"
        }
      ]
    },
    {
      "cell_type": "code",
      "metadata": {
        "id": "G226pz661XoN",
        "colab_type": "code",
        "colab": {}
      },
      "source": [
        "# テストセットでの最終評価は自分で書いてください。"
      ],
      "execution_count": 20,
      "outputs": []
    },
    {
      "cell_type": "code",
      "metadata": {
        "id": "KrXKcqa00f88",
        "colab_type": "code",
        "colab": {}
      },
      "source": [
        ""
      ],
      "execution_count": 20,
      "outputs": []
    }
  ]
}