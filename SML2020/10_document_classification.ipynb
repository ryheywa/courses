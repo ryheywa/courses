{
  "nbformat": 4,
  "nbformat_minor": 0,
  "metadata": {
    "colab": {
      "name": "10_document_classification.ipynb",
      "provenance": [],
      "collapsed_sections": [],
      "mount_file_id": "1uq_7ar9puJJG8cKR8fRE2iwFCEpAq7DQ",
      "authorship_tag": "ABX9TyNd0lQz/r4tF2pkcas6akRZ",
      "include_colab_link": true
    },
    "kernelspec": {
      "name": "python3",
      "display_name": "Python 3"
    }
  },
  "cells": [
    {
      "cell_type": "markdown",
      "metadata": {
        "id": "view-in-github",
        "colab_type": "text"
      },
      "source": [
        "<a href=\"https://colab.research.google.com/github/tomonari-masada/courses/blob/master/SML2020/10_document_classification.ipynb\" target=\"_parent\"><img src=\"https://colab.research.google.com/assets/colab-badge.svg\" alt=\"Open In Colab\"/></a>"
      ]
    },
    {
      "cell_type": "markdown",
      "metadata": {
        "id": "77taeHZLUaTm",
        "colab_type": "text"
      },
      "source": [
        "# 機械学習で文書分類を試みる\n",
        "\n",
        "* WikipediaからUSの男性俳優と女性俳優のページをクローリングして、spaCyで簡単な前処理を済ませてあるデータを使う。\n",
        "\n",
        " * 固有名詞、冠詞、前置詞、代名詞、副詞、数詞、接続詞は除去してある。\n",
        " * lemmatizationした結果を使っている。\n",
        " * \"actor\"と\"actress\"という単語は特別に除去してある。\n",
        "\n",
        "* 分析の目的1: 検証データでできるかぎりチューニングを行い、最後にテストデータでの分類性能を明らかにする。\n",
        "\n",
        "* 分析の目的2： 男性俳優と女性俳優のページを分類する際に、どのような単語が特に効いているかを調べる。\n",
        "\n",
        " * この調査によって、俳優に関する記述におけるジェンダー・ステレオタイプを明らかにできるか？"
      ]
    },
    {
      "cell_type": "code",
      "metadata": {
        "id": "Qos6P0RsSsqg",
        "colab_type": "code",
        "colab": {}
      },
      "source": [
        "import numpy as np\n",
        "from sklearn.feature_extraction.text import TfidfVectorizer\n",
        "from sklearn.model_selection import train_test_split\n",
        "from sklearn.linear_model import LogisticRegression\n",
        "from sklearn.svm import LinearSVC"
      ],
      "execution_count": 1,
      "outputs": []
    },
    {
      "cell_type": "markdown",
      "metadata": {
        "id": "oEMUit1zVZma",
        "colab_type": "text"
      },
      "source": [
        "### 1) データファイルを読み込む\n",
        "\n",
        "* データファイルは、あらかじめ自分のGoogle Driveの適当なフォルダに置いておく。\n",
        "\n",
        "* データファイルの各行には、女性俳優(1)か男性俳優(0)かを表すフラグ、俳優の名前、Wikipediaのページの本文が、この順に格納されている。\n",
        "\n",
        "* データファイルの各行に対してeval組み込み関数を適用すると、Pythonのリストに変換できるようなフォーマットで、ファイルに記録されている。"
      ]
    },
    {
      "cell_type": "code",
      "metadata": {
        "id": "NbuA7e_Er5Am",
        "colab_type": "code",
        "colab": {
          "base_uri": "https://localhost:8080/",
          "height": 34
        },
        "outputId": "b0abd4e9-0cd0-4089-bb86-057c4f0fa923"
      },
      "source": [
        "# Pythonの組み込み関数evalの使い方\n",
        "\n",
        "## リストをprintしたらこうなる、という文字列を用意する\n",
        "s = '[3,1,0,5]'\n",
        "## その文字列をevalというPythonの組み込み関数に与える\n",
        "l = eval(s)\n",
        "## すると、その文字列がリストを表していると解釈できるならば、リストにちゃんと変換されている\n",
        "print(l)"
      ],
      "execution_count": 2,
      "outputs": [
        {
          "output_type": "stream",
          "text": [
            "[3, 1, 0, 5]\n"
          ],
          "name": "stdout"
        }
      ]
    },
    {
      "cell_type": "code",
      "metadata": {
        "id": "ngsjTPa8TqgP",
        "colab_type": "code",
        "colab": {}
      },
      "source": [
        "y = list()\n",
        "names = list()\n",
        "corpus = list()\n",
        "with open('drive/My Drive/data/us_actors_and_actresses.txt', 'r') as f:\n",
        "    for line in f:\n",
        "        flag, name, text = eval(line.strip())\n",
        "        y.append(int(flag))\n",
        "        names.append(name)\n",
        "        corpus.append(text)"
      ],
      "execution_count": 3,
      "outputs": []
    },
    {
      "cell_type": "code",
      "metadata": {
        "id": "48lbVvkseCqk",
        "colab_type": "code",
        "colab": {
          "base_uri": "https://localhost:8080/",
          "height": 205
        },
        "outputId": "d1836d09-ff89-429d-fe14-68434e04abe3"
      },
      "source": [
        "# corpusは、本文の文字列がたくさん入っているリスト。最初の10件の文書だけ表示してみる。\n",
        "corpus[:10]"
      ],
      "execution_count": 4,
      "outputs": [
        {
          "output_type": "execute_result",
          "data": {
            "text/plain": [
              "['bear american bond appear guest television show feature film film production company call fellow bear convict manslaughter death aunt boyfriend finish serve year sentence',\n",
              " 'american film director',\n",
              " 'american film bear appear film remember role several film give era perform cast stereotypical role common film time boundless energy can see restrictive role master become know scared reaction comedy appear soundie musical film viewer will remember portrayal startled cook quizzical orderly frighten porter apprehensive watchman such film hold play lovable train conductor bug eye shriek ah lion attack rip seat pant shine pair shoe gag use previous short portrayal scene funny crew could contain laughter can hear final release memorable role hapless chef plumbing Will go utter bewilderment house sho go crazy able show range act talent role able raise laugh audience give suspicious sideway look kitchen appliance act footage would recycle more future comedy include film scene raincoat clothe inform guest dinner postpone account rain turn phrase use describe cancelling baseball game inclement weather make mark series receive featured billing several comedy produce valet scary situation react comic terror early 1950 appear several episode tv lodge member retire act die brain tumor age bury live see renew interest 1960 work stooge',\n",
              " 'american stage film television bear begin career age make feature film debut ticket taker television career play old man episode appear episode gunsmoke episode episode last appearance screen play die age',\n",
              " 'bear american silent film appear action film western film bear son father wish perform young child adolescence arrest infidelity complaint wife unknown enter film industry feature film could research career appear feature film known role husband outside married die age',\n",
              " 'bear american former child real estate broker commercial cast director entrepreneur known role bear bear classical musician parent mother renowned composer orchestra late 20th century guitar concerto her final contention father graduate clarinetist librarian play appear radio tv commercial voice over theater play role film year old perform declare hiatus act age kid go receive theatre urge travel found travel service arrange bind charter flight backpacker passion travel take country follow brief stint real estate film production commercial cast business representation few other venture sign autograph movie convention run photography business make sporadic appearance commercial play tv show adult acting appearance include sixth season episode series fawning fan play contestant bill former child star episode american game show themman appear british television morning show other child make additional 40th anniversary reunion appearance day appear tv version win money lose themman appear podcast episode record wife appear contestant return champion defeat third appearance contestant finish second place marry couple reside sister singer music therapist sister married voice voice director',\n",
              " 'american work television bear son geophysicist attend earn degree follow year stint rise rank plan study derail cast off play play close performance lead cast episode citation need appearance limit man follow regular soap opera search primetime recur role feature tv movie such eye take beautiful film appearance include title role ride edge will remember play play play other tv role include frasier caution murder Can hazardous married divorce marry daughter announce death day occur specify cause die heart attack',\n",
              " 'bear american stage film appear several dozen film character bear son first wife daughter prominent family citation need note variety performance weak willed strong character such father psychopathic killer good know performance ineffectual police chief father biker love interest film tough nonsense cop time antagonist film musical starring role write wind role television include role father lead role episode present last screen effort role rich patriarch self center greed riddled family wait benefactor die second wife stage son marry decade junior divorce cite abuse domestic cruelty divorce filing know committed suicide jump famous remain married fourth wife death citation need',\n",
              " 'pioneer african american martial artist member member focusse die cancer bear die raise graduating go attend graduate belief street provide dynamic education work firefighter achieve rank former jiujitsu practitioner learn member chairman hold position head coach key get karate recognize consider american martial art pioneer defeat many famous martial artist include tournament train consider contemporary 8th degree blackbelt induct feature various magazine include act movie star movie feature training youth documentary',\n",
              " 'writer producer director bear ambulance highway outskirt early training begin mentor late founder director choreographer educator join company member other notable teacher act act theater history voice costume make early training dancer include class short stay study perform meet go work numerous project include different tv appearance include guest star role different several commercial perform special receive nomination choreography appear nominate co star opening number original cast star have appear original production return company production play role other credit include play different time co star original australian cast die prostate cancer']"
            ]
          },
          "metadata": {
            "tags": []
          },
          "execution_count": 4
        }
      ]
    },
    {
      "cell_type": "code",
      "metadata": {
        "id": "mB1KVAZ6YB3E",
        "colab_type": "code",
        "colab": {
          "base_uri": "https://localhost:8080/",
          "height": 134
        },
        "outputId": "b598ce6f-5c16-404c-bc8f-26af9d2cf108"
      },
      "source": [
        "# yは、各文書が男性俳優に関するものか、女性俳優に関するものかを表す、0/1のresponse（これが目的変数）。\n",
        "# namesは、各文書が誰に関する記事かを表す俳優の名前（分類には使わない参考データ）。\n",
        "\n",
        "y = np.array(y)\n",
        "names = np.array(names)\n",
        "print(names[:20])"
      ],
      "execution_count": 5,
      "outputs": [
        {
          "output_type": "stream",
          "text": [
            "['De%27Aundre_Bonds' 'James_McLaughlin_(actor)' 'Dudley_Dickerson'\n",
            " 'Charles_P._Thompson' 'Gus_Saville' 'Paris_Themmen' 'Peter_Haskell'\n",
            " 'Robert_Keith_(actor)' 'Thomas_Carroll_(martial_artist)'\n",
            " 'Matthew_Dickens' 'Nat_Benchley' 'Richard_Hunt_(puppeteer)'\n",
            " 'Thomas_McDonell' 'Paul_Smith_(American_actor,_born_1929)' 'Jim_Zulevic'\n",
            " 'Rob_Moran' 'Harry_Bannister' 'Shaun_Weiss' 'Peter_Sarsgaard'\n",
            " 'Palmer_Williams_Jr.']\n"
          ],
          "name": "stdout"
        }
      ]
    },
    {
      "cell_type": "code",
      "metadata": {
        "id": "VR0Ew63dY-1I",
        "colab_type": "code",
        "colab": {
          "base_uri": "https://localhost:8080/",
          "height": 34
        },
        "outputId": "128da6e0-dfb1-4e49-d8bc-0aa23c255ebd"
      },
      "source": [
        "# Nは全文書数。\n",
        "\n",
        "N = len(y)\n",
        "print('We have {:d} documents.'.format(N))"
      ],
      "execution_count": 6,
      "outputs": [
        {
          "output_type": "stream",
          "text": [
            "We have 19645 documents.\n"
          ],
          "name": "stdout"
        }
      ]
    },
    {
      "cell_type": "markdown",
      "metadata": {
        "id": "TvlpBs-hGzML",
        "colab_type": "text"
      },
      "source": [
        "### 2) テストデータを分離"
      ]
    },
    {
      "cell_type": "code",
      "metadata": {
        "id": "xqhGQYYQbDx-",
        "colab_type": "code",
        "colab": {
          "base_uri": "https://localhost:8080/",
          "height": 34
        },
        "outputId": "de441f8e-226b-4aac-9668-ee10e0c3e2ad"
      },
      "source": [
        "# 訓練データとテストデータを分割するために、インデックスをランダムにシャッフルする。\n",
        "indices = np.arange(N)\n",
        "np.random.seed(123) # 乱数のシードを固定して再現性を持たせている。\n",
        "np.random.shuffle(indices)\n",
        "print(indices)"
      ],
      "execution_count": 7,
      "outputs": [
        {
          "output_type": "stream",
          "text": [
            "[12617 18144 17561 ... 15377 17730 15725]\n"
          ],
          "name": "stdout"
        }
      ]
    },
    {
      "cell_type": "code",
      "metadata": {
        "id": "kuNIHWRbbMC6",
        "colab_type": "code",
        "colab": {
          "base_uri": "https://localhost:8080/",
          "height": 34
        },
        "outputId": "716a9a03-722b-449a-9166-33b63d315ff1"
      },
      "source": [
        "# 手動で訓練データ8割、テストデータ2割に分割する。\n",
        "border = N * 8 // 10\n",
        "print('We have {:d} test documents.'.format(N - border))\n",
        "train_indices = indices[:border]\n",
        "test_indices = indices[border:]\n",
        "y_train = y[train_indices]\n",
        "y_test = y[test_indices]\n",
        "names_train = names[train_indices]\n",
        "names_test = names[test_indices]"
      ],
      "execution_count": 8,
      "outputs": [
        {
          "output_type": "stream",
          "text": [
            "We have 3929 test documents.\n"
          ],
          "name": "stdout"
        }
      ]
    },
    {
      "cell_type": "code",
      "metadata": {
        "id": "MPZeCpZlesne",
        "colab_type": "code",
        "colab": {}
      },
      "source": [
        "# 本文のほうも、インデックスの同じ分割を使って、訓練データとテストデータに分割する。\n",
        "\n",
        "corpus_train = list()\n",
        "for i in train_indices:\n",
        "  corpus_train.append(corpus[i])\n",
        "corpus_test = list()\n",
        "for i in test_indices:\n",
        "  corpus_test.append(corpus[i])"
      ],
      "execution_count": 9,
      "outputs": []
    },
    {
      "cell_type": "markdown",
      "metadata": {
        "id": "CZFZGWwte8fu",
        "colab_type": "text"
      },
      "source": [
        "（ここまでのtraining setとtest setへの分割は、変えないようにしてください。）"
      ]
    },
    {
      "cell_type": "markdown",
      "metadata": {
        "id": "KKg-InjbVh7r",
        "colab_type": "text"
      },
      "source": [
        "### 3) TF-IDFで各文書をベクトル化する\n",
        "\n",
        "* TF-IDFは単語列をベクトル化する方法のひとつ。\n",
        "* ベクトルの次元は語彙数となる。各文書が1つのベクトルへ変換される。\n",
        "\n",
        " * すべての単語について、文書ごとに重みを計算する方法。\n",
        " * TFとは、ある文書のなかにその単語が何回出現するか、その回数。\n",
        " * DFとは、単語がいくつの文書に出現するか、その文書数。IDFはDFの逆数。\n",
        " * TF-IDFは、ざっくり言うと、TFとIDFの積。\n",
        " * 特定の文書に注目すると、その文書に出現する回数が多いほど、TF-IDFの値は大きくなる。しかし、たくさんの文書に出現する単語は、IDFが小さくなるので、その分、TF-IDFの値は小さくなる。\n",
        "\n",
        "* TfidfVectorizerのパラメータをチューニングしても構わないです。\n",
        "\n",
        " * ここでTF-IDFの計算をするときにテストデータは使っていないので、ズルはしていない。\n",
        "\n",
        " * stop_words='english'とは、英語のストップワードは語彙から取り除く、という意味。\n",
        "   * ストップワードとはthe, a, is, ofなど、ありふれすぎていて、文書分類などのタスクにはあまり効かない単語のこと。こういう単語は、特徴量削減の意味も含めて、しばしばあらかじめ削除しておく。\n",
        "\n",
        " * min_dfは、その数より少ない文書にしか出現しない単語を削除する、という意味のパラメータ。希少な単語を削除するために使う。\n",
        "\n",
        " * max_dfは、0から1の間の実数で指定すると、その割合より多い文書に出現する単語を削除する、という意味のパラメータ。ありふれた単語を削除するために使う。"
      ]
    },
    {
      "cell_type": "code",
      "metadata": {
        "id": "WHsek-uzTxi0",
        "colab_type": "code",
        "colab": {
          "base_uri": "https://localhost:8080/",
          "height": 34
        },
        "outputId": "536a52c8-05b9-44ea-cadd-15f8296b4635"
      },
      "source": [
        "# TF-IDFにより、単なる単語列であった文書を、ベクトル化する。\n",
        "# （ベクトル化してしまえば、テキストデータのような非構造化データも、\n",
        "#  様々な機械学習手法の入力として使えるようになる。）\n",
        "\n",
        "vectorizer = TfidfVectorizer(stop_words='english', min_df=50, smooth_idf=False, sublinear_tf=True)\n",
        "X_train = vectorizer.fit_transform(corpus_train)\n",
        "print('# X_train: 文書数　{}, 語彙数 {}'.format(*X_train.shape))"
      ],
      "execution_count": 10,
      "outputs": [
        {
          "output_type": "stream",
          "text": [
            "# X_train: 文書数　15716, 語彙数 3990\n"
          ],
          "name": "stdout"
        }
      ]
    },
    {
      "cell_type": "code",
      "metadata": {
        "id": "xUcTnazzT5Qm",
        "colab_type": "code",
        "colab": {}
      },
      "source": [
        "# 語彙を取得する。\n",
        "\n",
        "vocab = np.array(vectorizer.get_feature_names())"
      ],
      "execution_count": 11,
      "outputs": []
    },
    {
      "cell_type": "code",
      "metadata": {
        "id": "_e2QrURgT_gr",
        "colab_type": "code",
        "colab": {
          "base_uri": "https://localhost:8080/",
          "height": 50
        },
        "outputId": "504f82b0-d452-424c-8fc9-2a9625392b63"
      },
      "source": [
        "# 語彙の一部を見てみる（アルファベット順に並んでいるようだ）。\n",
        "\n",
        "print(vocab[1000:1010])"
      ],
      "execution_count": 12,
      "outputs": [
        {
          "output_type": "stream",
          "text": [
            "['defendant' 'defense' 'defensive' 'define' 'defunct' 'defy' 'degree'\n",
            " 'delay' 'delete' 'delight']\n"
          ],
          "name": "stdout"
        }
      ]
    },
    {
      "cell_type": "code",
      "metadata": {
        "id": "3GZx-gLj2QRf",
        "colab_type": "code",
        "colab": {
          "base_uri": "https://localhost:8080/",
          "height": 638
        },
        "outputId": "501b2dfd-f04a-4bf4-9a64-aeb3f6ad88c9"
      },
      "source": [
        "# 最初の文書をTF-IDFでベクトル化したらどうなったかを、見てみる。\n",
        "\n",
        "print(type(X_train))\n",
        "print(X_train[0])"
      ],
      "execution_count": 13,
      "outputs": [
        {
          "output_type": "stream",
          "text": [
            "<class 'scipy.sparse.csr.csr_matrix'>\n",
            "  (0, 143)\t0.09963200724281028\n",
            "  (0, 1789)\t0.14193942696297396\n",
            "  (0, 1418)\t0.20490688645449368\n",
            "  (0, 1741)\t0.16359109865557245\n",
            "  (0, 1497)\t0.2849237458805407\n",
            "  (0, 1522)\t0.22122534866692944\n",
            "  (0, 314)\t0.26258819041866277\n",
            "  (0, 2411)\t0.1676710164168526\n",
            "  (0, 85)\t0.088598968119733\n",
            "  (0, 3035)\t0.16948737922093723\n",
            "  (0, 2086)\t0.12739701374278598\n",
            "  (0, 899)\t0.1461734042206262\n",
            "  (0, 2207)\t0.1347934664384561\n",
            "  (0, 494)\t0.16352797322445511\n",
            "  (0, 988)\t0.16506566060651578\n",
            "  (0, 3926)\t0.239796661280055\n",
            "  (0, 2187)\t0.08357447145693353\n",
            "  (0, 3734)\t0.16393973515602983\n",
            "  (0, 3971)\t0.13740263859142948\n",
            "  (0, 1970)\t0.14846934907115034\n",
            "  (0, 71)\t0.1651633710652765\n",
            "  (0, 1072)\t0.1647755137159966\n",
            "  (0, 1834)\t0.14564314559846508\n",
            "  (0, 2460)\t0.2616631105634453\n",
            "  (0, 2316)\t0.1448366347937195\n",
            "  (0, 2982)\t0.16977283253595216\n",
            "  (0, 617)\t0.09266162264156541\n",
            "  (0, 3211)\t0.07522257543074252\n",
            "  (0, 3743)\t0.10970706785350846\n",
            "  (0, 1837)\t0.25920484613906036\n",
            "  (0, 2376)\t0.23679632866225803\n",
            "  (0, 2627)\t0.11612551893238364\n",
            "  (0, 2410)\t0.16581975112809985\n",
            "  (0, 3607)\t0.07183988446605324\n",
            "  (0, 1481)\t0.05556015150885678\n",
            "  (0, 188)\t0.05191032633404519\n"
          ],
          "name": "stdout"
        }
      ]
    },
    {
      "cell_type": "markdown",
      "metadata": {
        "id": "HmRAzGE1W4af",
        "colab_type": "text"
      },
      "source": [
        "### 4) 5-fold 交差検証を使った、ロジスティック回帰による２値分類と評価\n",
        "\n",
        "* ロジスティック回帰のハイパーパラメータは、検証データでの分類性能ができるだけよくなるように、変更する。"
      ]
    },
    {
      "cell_type": "code",
      "metadata": {
        "id": "xsjXWq7-EX2O",
        "colab_type": "code",
        "colab": {}
      },
      "source": [
        "from sklearn.model_selection import StratifiedKFold"
      ],
      "execution_count": 14,
      "outputs": []
    },
    {
      "cell_type": "code",
      "metadata": {
        "id": "982vmj3KUH-5",
        "colab_type": "code",
        "colab": {
          "base_uri": "https://localhost:8080/",
          "height": 34
        },
        "outputId": "418ec6ec-9b32-4481-e630-c6ca7e60f05e"
      },
      "source": [
        "# これは単純な実行例にすぎません。正則化も含めてチューニングしてください。\n",
        "# TfidfVectorizerのパラメータも併せてチューニングしていいです。\n",
        "\n",
        "skf = StratifiedKFold(n_splits=5, shuffle=True, random_state=123)\n",
        "\n",
        "scores = list()\n",
        "for train_index, valid_index in skf.split(X_train, y_train):\n",
        "  clf = LogisticRegression(max_iter=1000, solver='liblinear', random_state=123)\n",
        "  clf.fit(X_train[train_index], y_train[train_index])\n",
        "  scores.append(clf.score(X_train[valid_index], y_train[valid_index]))\n",
        "\n",
        "print('validation mean accuracy: {}'.format(np.array(scores).mean()))"
      ],
      "execution_count": 15,
      "outputs": [
        {
          "output_type": "stream",
          "text": [
            "validation mean accuracy: 0.8426442621796164\n"
          ],
          "name": "stdout"
        }
      ]
    },
    {
      "cell_type": "markdown",
      "metadata": {
        "id": "hnWcZHyJXFzR",
        "colab_type": "text"
      },
      "source": [
        "### 5) チューニングされたハイパーパラメータを使って、ロジスティック回帰の最終的な評価をおこなう\n",
        "\n",
        "* LogisticRegression() のカッコ内には、自分で見つけた最善のセッティングを書き込む。\n",
        "* 学習は、訓練データ全体（テストデータ以外の全体）を使っている。"
      ]
    },
    {
      "cell_type": "code",
      "metadata": {
        "id": "VQE3CxUdfZ7V",
        "colab_type": "code",
        "colab": {
          "base_uri": "https://localhost:8080/",
          "height": 34
        },
        "outputId": "a34b026f-8198-4077-f9e5-adac42259470"
      },
      "source": [
        "# 最も良かった設定を使って、訓練データ全体で再訓練\n",
        "clf = LogisticRegression(max_iter=1000, solver='liblinear', random_state=123)\n",
        "clf.fit(X_train, y_train)\n",
        "\n",
        "# そして、最終的にテストデータで評価\n",
        "X_test = vectorizer.transform(corpus_test)\n",
        "print('test accuracy: {}'.format(clf.score(X_test, y_test)))"
      ],
      "execution_count": 16,
      "outputs": [
        {
          "output_type": "stream",
          "text": [
            "test accuracy: 0.8363451259862561\n"
          ],
          "name": "stdout"
        }
      ]
    },
    {
      "cell_type": "markdown",
      "metadata": {
        "id": "4lvNAU-0vmbH",
        "colab_type": "text"
      },
      "source": [
        "### 参考: その他の評価尺度"
      ]
    },
    {
      "cell_type": "code",
      "metadata": {
        "id": "KSO6P2lIvmFF",
        "colab_type": "code",
        "colab": {
          "base_uri": "https://localhost:8080/",
          "height": 514
        },
        "outputId": "a885274b-d95f-4c6e-c7ba-7359562f285e"
      },
      "source": [
        "# 最も良かった設定を使って、訓練データ全体で再訓練\n",
        "clf = LogisticRegression(max_iter=1000, solver='liblinear', random_state=123)\n",
        "clf.fit(X_train, y_train)\n",
        "\n",
        "# テストデータについて予測をおこなう\n",
        "X_test = vectorizer.transform(corpus_test)\n",
        "y_test_pred = clf.predict(X_test)\n",
        "y_test_pred_proba = clf.predict_proba(X_test)\n",
        "\n",
        "# ここから、様々な評価尺度で評価\n",
        "\n",
        "# Accuracy\n",
        "from sklearn.metrics import accuracy_score\n",
        "print('accuracy: {:.4f}'.format(accuracy_score(y_test, y_test_pred)))\n",
        "\n",
        "# Area Under the Receiver Operating Characteristic Curve\n",
        "from sklearn.metrics import roc_auc_score\n",
        "print('ROC AUC: {:.4f}'.format(roc_auc_score(y_test, y_test_pred_proba[:,1])))\n",
        "\n",
        "# 様々な評価尺度をまとめてレポート\n",
        "from sklearn.metrics import classification_report\n",
        "print(classification_report(y_test, y_test_pred))\n",
        "\n",
        "# confusion matrix\n",
        "from sklearn.metrics import confusion_matrix\n",
        "print(confusion_matrix(y_test, y_test_pred))\n",
        "\n",
        "# confusion matrixの可視化版\n",
        "from sklearn.metrics import plot_confusion_matrix\n",
        "plot_confusion_matrix(clf, X_test, y_test, values_format='d')"
      ],
      "execution_count": 17,
      "outputs": [
        {
          "output_type": "stream",
          "text": [
            "accuracy: 0.8363\n",
            "ROC AUC: 0.9162\n",
            "              precision    recall  f1-score   support\n",
            "\n",
            "           0       0.82      0.90      0.86      2201\n",
            "           1       0.86      0.75      0.80      1728\n",
            "\n",
            "    accuracy                           0.84      3929\n",
            "   macro avg       0.84      0.83      0.83      3929\n",
            "weighted avg       0.84      0.84      0.83      3929\n",
            "\n",
            "[[1988  213]\n",
            " [ 430 1298]]\n"
          ],
          "name": "stdout"
        },
        {
          "output_type": "execute_result",
          "data": {
            "text/plain": [
              "<sklearn.metrics._plot.confusion_matrix.ConfusionMatrixDisplay at 0x7f413d6427b8>"
            ]
          },
          "metadata": {
            "tags": []
          },
          "execution_count": 17
        },
        {
          "output_type": "display_data",
          "data": {
            "image/png": "[encoded data removed]",
            "text/plain": [
              "<Figure size 432x288 with 2 Axes>"
            ]
          },
          "metadata": {
            "tags": [],
            "needs_background": "light"
          }
        }
      ]
    },
    {
      "cell_type": "markdown",
      "metadata": {
        "id": "EdLcpwSwf3s3",
        "colab_type": "text"
      },
      "source": [
        "### 6) 5-fold 交差検証を使った、SVMによる２値分類と評価"
      ]
    },
    {
      "cell_type": "code",
      "metadata": {
        "id": "1RoCT-f-f3Ow",
        "colab_type": "code",
        "colab": {
          "base_uri": "https://localhost:8080/",
          "height": 34
        },
        "outputId": "52e832ca-a1ed-4e4d-e944-b901d5d30fd7"
      },
      "source": [
        "# これは単純な実行例にすぎません。ハイパーパラメータのチューニングもしてください。\n",
        "\n",
        "skf = StratifiedKFold(n_splits=5, shuffle=True, random_state=123)\n",
        "\n",
        "scores = list()\n",
        "for train_index, valid_index in skf.split(X_train, y_train):\n",
        "  svm = LinearSVC(C=0.1, max_iter=2000, random_state=123)\n",
        "  svm.fit(X_train[train_index], y_train[train_index])\n",
        "  scores.append(svm.score(X_train[valid_index], y_train[valid_index]))\n",
        "  \n",
        "print('validation mean accuracy: {}'.format(np.array(scores).mean()))"
      ],
      "execution_count": 18,
      "outputs": [
        {
          "output_type": "stream",
          "text": [
            "validation mean accuracy: 0.8417534340620418\n"
          ],
          "name": "stdout"
        }
      ]
    },
    {
      "cell_type": "markdown",
      "metadata": {
        "id": "M7z1vXs4HfEV",
        "colab_type": "text"
      },
      "source": [
        "### 7) チューニングされたハイパーパラメータを使って、SVMの最終的な評価をおこなう"
      ]
    },
    {
      "cell_type": "code",
      "metadata": {
        "id": "guAY82oOHevE",
        "colab_type": "code",
        "colab": {
          "base_uri": "https://localhost:8080/",
          "height": 34
        },
        "outputId": "96263f35-a60c-4773-e5f9-b865e279bf1c"
      },
      "source": [
        "# 最も良かった設定を使って、訓練データ全体で再訓練\n",
        "svm = LinearSVC(C=0.1, max_iter=2000, random_state=123)\n",
        "svm.fit(X_train, y_train)\n",
        "\n",
        "# そして、最終的にテストデータで評価\n",
        "X_test = vectorizer.transform(corpus_test)\n",
        "print('test accuracy: {}'.format(svm.score(X_test, y_test)))"
      ],
      "execution_count": 19,
      "outputs": [
        {
          "output_type": "stream",
          "text": [
            "test accuracy: 0.8353270552303385\n"
          ],
          "name": "stdout"
        }
      ]
    },
    {
      "cell_type": "markdown",
      "metadata": {
        "id": "7CtVT3KEXM7f",
        "colab_type": "text"
      },
      "source": [
        "### 8) 分類に効いている単語を調べる\n",
        "\n",
        "* 訓練データが最も数が多いので、訓練データの分類に最も効いている単語100語を調べる。\n",
        "\n",
        "* 下に示すのは、あくまで一つの方法にすぎない。他にどんな方法があるか調べて使ってみよう。\n",
        "\n",
        " * 下の手法の欠点は、男性俳優の文書に特徴的な単語と、女性俳優の文書に特徴的な単語とを、区別できない点である。\n",
        "\n",
        " * ヒント： 「svm important features」 あたりでググってみる。"
      ]
    },
    {
      "cell_type": "code",
      "metadata": {
        "id": "y7An3q7JUK8G",
        "colab_type": "code",
        "colab": {
          "base_uri": "https://localhost:8080/",
          "height": 252
        },
        "outputId": "481546cc-f8bf-42a4-85be-685052e90623"
      },
      "source": [
        "# sklearnにあるrecursive feature eliminationという特徴量選択の手法を使ってみる。\n",
        "# https://scikit-learn.org/stable/modules/generated/sklearn.feature_selection.RFE.html\n",
        "\n",
        "from sklearn.feature_selection import RFE\n",
        "\n",
        "# 最も良かった設定を使って、分類器のインスタンスを準備\n",
        "clf = LogisticRegression(max_iter=1000, solver='liblinear', random_state=123)\n",
        "\n",
        "# RFEで重要な属性上位100個を抽出\n",
        "rfe = RFE(estimator=clf, n_features_to_select=100, step=100)\n",
        "rfe.fit(X_train, y_train)\n",
        "ranking = rfe.ranking_\n",
        "print(vocab[ranking == 1])"
      ],
      "execution_count": 20,
      "outputs": [
        {
          "output_type": "stream",
          "text": [
            "['acting' 'alumna' 'anime' 'announcer' 'attack' 'aunt' 'ballet' 'bar'\n",
            " 'baritone' 'baseball' 'basketball' 'beauty' 'birth' 'blonde' 'boy'\n",
            " 'breast' 'brother' 'cheerleader' 'comic' 'cop' 'cover' 'dance' 'dancer'\n",
            " 'daughter' 'detective' 'die' 'direct' 'director' 'discharge' 'draft'\n",
            " 'driver' 'enlist' 'father' 'female' 'fight' 'football' 'fraternity'\n",
            " 'gang' 'gay' 'girl' 'girlfriend' 'granddaughter' 'grandmother' 'guitar'\n",
            " 'guy' 'hand' 'hero' 'heroine' 'housekeeper' 'husband' 'joke' 'killer'\n",
            " 'lady' 'lesbian' 'magazine' 'maid' 'male' 'man' 'married' 'marry'\n",
            " 'martial' 'matriarch' 'military' 'model' 'modeling' 'mom' 'mother'\n",
            " 'musician' 'nephew' 'niece' 'nurse' 'née' 'officer' 'pageant' 'pregnant'\n",
            " 'prostitute' 'queen' 'race' 'rapper' 'receptionist' 'retire' 'screenplay'\n",
            " 'secretary' 'serve' 'singer' 'sister' 'soldier' 'son' 'soprano'\n",
            " 'sorority' 'spokesman' 'stuntman' 'team' 'villain' 'waiter' 'waitress'\n",
            " 'war' 'wife' 'witch' 'woman']\n"
          ],
          "name": "stdout"
        }
      ]
    },
    {
      "cell_type": "code",
      "metadata": {
        "id": "LXuJHw6ZfTRO",
        "colab_type": "code",
        "colab": {
          "base_uri": "https://localhost:8080/",
          "height": 252
        },
        "outputId": "527ce859-3b2f-49c4-dbb0-8eb345460031"
      },
      "source": [
        "# SVMについても同様にする。\n",
        "\n",
        "# 最も良かった設定を使って、分類器のインスタンスを準備\n",
        "svm = LinearSVC(C=0.1, max_iter=2000, random_state=123)\n",
        "\n",
        "# RFEで重要な属性上位100個を抽出\n",
        "rfe = RFE(estimator=svm, n_features_to_select=100, step=100)\n",
        "rfe.fit(X_train, y_train)\n",
        "ranking = rfe.ranking_\n",
        "print(vocab[ranking == 1])"
      ],
      "execution_count": 21,
      "outputs": [
        {
          "output_type": "stream",
          "text": [
            "['acting' 'alumna' 'anime' 'announcer' 'attack' 'aunt' 'ballet' 'bar'\n",
            " 'baritone' 'baseball' 'basketball' 'beauty' 'birth' 'blonde' 'boy'\n",
            " 'breast' 'brother' 'cabaret' 'cheerleader' 'cop' 'cover' 'cum' 'dance'\n",
            " 'dancer' 'daughter' 'debut' 'detective' 'die' 'director' 'divorce'\n",
            " 'draft' 'driver' 'enlist' 'fashion' 'father' 'female' 'fight' 'following'\n",
            " 'football' 'fraternity' 'gang' 'gay' 'girl' 'girlfriend' 'granddaughter'\n",
            " 'grandmother' 'guitar' 'guy' 'hero' 'heroine' 'housekeeper' 'housewife'\n",
            " 'husband' 'killer' 'lady' 'lesbian' 'magazine' 'maid' 'male' 'man'\n",
            " 'married' 'marry' 'martial' 'matriarch' 'military' 'model' 'modeling'\n",
            " 'mom' 'mother' 'nephew' 'niece' 'nurse' 'née' 'officer' 'pageant'\n",
            " 'pregnancy' 'pregnant' 'prostitute' 'queen' 'rapper' 'receptionist'\n",
            " 'retire' 'screenplay' 'secretary' 'serve' 'singer' 'sister' 'son'\n",
            " 'soprano' 'sorority' 'spokesman' 'stuntman' 'team' 'villain' 'waiter'\n",
            " 'waitress' 'war' 'wife' 'witch' 'woman']\n"
          ],
          "name": "stdout"
        }
      ]
    },
    {
      "cell_type": "code",
      "metadata": {
        "id": "poCHDuUEhyXs",
        "colab_type": "code",
        "colab": {}
      },
      "source": [
        ""
      ],
      "execution_count": null,
      "outputs": []
    }
  ]
}