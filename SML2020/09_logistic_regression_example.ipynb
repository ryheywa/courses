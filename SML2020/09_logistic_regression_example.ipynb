{
  "nbformat": 4,
  "nbformat_minor": 0,
  "metadata": {
    "colab": {
      "name": "09_logistic_regression_example.ipynb",
      "provenance": [],
      "collapsed_sections": [],
      "authorship_tag": "ABX9TyNqv96a0ifj8s5KYkzjPr9L",
      "include_colab_link": true
    },
    "kernelspec": {
      "name": "python3",
      "display_name": "Python 3"
    }
  },
  "cells": [
    {
      "cell_type": "markdown",
      "metadata": {
        "id": "view-in-github",
        "colab_type": "text"
      },
      "source": [
        "<a href=\"https://colab.research.google.com/github/tomonari-masada/courses/blob/master/SML2020/09_logistic_regression_example.ipynb\" target=\"_parent\"><img src=\"https://colab.research.google.com/assets/colab-badge.svg\" alt=\"Open In Colab\"/></a>"
      ]
    },
    {
      "cell_type": "markdown",
      "metadata": {
        "id": "l4aDsUHDiXoN",
        "colab_type": "text"
      },
      "source": [
        "# 糖尿病をロジスティック回帰で予測してみる\n",
        "\n",
        "* 有名なPima Indians Diabetes Databaseを使う\n",
        "\n",
        "https://www.kaggle.com/uciml/pima-indians-diabetes-database"
      ]
    },
    {
      "cell_type": "markdown",
      "metadata": {
        "id": "eQ-egZTnizme",
        "colab_type": "text"
      },
      "source": [
        "### 1) データの読み込み"
      ]
    },
    {
      "cell_type": "code",
      "metadata": {
        "id": "Pd20MbLdBfV5",
        "colab_type": "code",
        "colab": {
          "base_uri": "https://localhost:8080/",
          "height": 70
        },
        "outputId": "28957166-6a27-45e3-8dce-2ee08bdd31db"
      },
      "source": [
        "import pandas as pd\n",
        "import numpy as np\n",
        "import matplotlib.pyplot as plt\n",
        "import seaborn as sns"
      ],
      "execution_count": 1,
      "outputs": [
        {
          "output_type": "stream",
          "text": [
            "/usr/local/lib/python3.6/dist-packages/statsmodels/tools/_testing.py:19: FutureWarning: pandas.util.testing is deprecated. Use the functions in the public API at pandas.testing instead.\n",
            "  import pandas.util.testing as tm\n"
          ],
          "name": "stderr"
        }
      ]
    },
    {
      "cell_type": "code",
      "metadata": {
        "id": "h6Qv7hnyCEjh",
        "colab_type": "code",
        "colab": {}
      },
      "source": [
        "diabetes = pd.read_csv('diabetes.csv')"
      ],
      "execution_count": 2,
      "outputs": []
    },
    {
      "cell_type": "code",
      "metadata": {
        "id": "lGFzAgWbCvXT",
        "colab_type": "code",
        "colab": {
          "base_uri": "https://localhost:8080/",
          "height": 195
        },
        "outputId": "66932fe3-2540-457c-f0c8-5a8da7064b67"
      },
      "source": [
        "diabetes.head()"
      ],
      "execution_count": 3,
      "outputs": [
        {
          "output_type": "execute_result",
          "data": {
            "text/html": [
              "<div>\n",
              "<style scoped>\n",
              "    .dataframe tbody tr th:only-of-type {\n",
              "        vertical-align: middle;\n",
              "    }\n",
              "\n",
              "    .dataframe tbody tr th {\n",
              "        vertical-align: top;\n",
              "    }\n",
              "\n",
              "    .dataframe thead th {\n",
              "        text-align: right;\n",
              "    }\n",
              "</style>\n",
              "<table border=\"1\" class=\"dataframe\">\n",
              "  <thead>\n",
              "    <tr style=\"text-align: right;\">\n",
              "      <th></th>\n",
              "      <th>Pregnancies</th>\n",
              "      <th>Glucose</th>\n",
              "      <th>BloodPressure</th>\n",
              "      <th>SkinThickness</th>\n",
              "      <th>Insulin</th>\n",
              "      <th>BMI</th>\n",
              "      <th>DiabetesPedigreeFunction</th>\n",
              "      <th>Age</th>\n",
              "      <th>Outcome</th>\n",
              "    </tr>\n",
              "  </thead>\n",
              "  <tbody>\n",
              "    <tr>\n",
              "      <th>0</th>\n",
              "      <td>6</td>\n",
              "      <td>148</td>\n",
              "      <td>72</td>\n",
              "      <td>35</td>\n",
              "      <td>0</td>\n",
              "      <td>33.6</td>\n",
              "      <td>0.627</td>\n",
              "      <td>50</td>\n",
              "      <td>1</td>\n",
              "    </tr>\n",
              "    <tr>\n",
              "      <th>1</th>\n",
              "      <td>1</td>\n",
              "      <td>85</td>\n",
              "      <td>66</td>\n",
              "      <td>29</td>\n",
              "      <td>0</td>\n",
              "      <td>26.6</td>\n",
              "      <td>0.351</td>\n",
              "      <td>31</td>\n",
              "      <td>0</td>\n",
              "    </tr>\n",
              "    <tr>\n",
              "      <th>2</th>\n",
              "      <td>8</td>\n",
              "      <td>183</td>\n",
              "      <td>64</td>\n",
              "      <td>0</td>\n",
              "      <td>0</td>\n",
              "      <td>23.3</td>\n",
              "      <td>0.672</td>\n",
              "      <td>32</td>\n",
              "      <td>1</td>\n",
              "    </tr>\n",
              "    <tr>\n",
              "      <th>3</th>\n",
              "      <td>1</td>\n",
              "      <td>89</td>\n",
              "      <td>66</td>\n",
              "      <td>23</td>\n",
              "      <td>94</td>\n",
              "      <td>28.1</td>\n",
              "      <td>0.167</td>\n",
              "      <td>21</td>\n",
              "      <td>0</td>\n",
              "    </tr>\n",
              "    <tr>\n",
              "      <th>4</th>\n",
              "      <td>0</td>\n",
              "      <td>137</td>\n",
              "      <td>40</td>\n",
              "      <td>35</td>\n",
              "      <td>168</td>\n",
              "      <td>43.1</td>\n",
              "      <td>2.288</td>\n",
              "      <td>33</td>\n",
              "      <td>1</td>\n",
              "    </tr>\n",
              "  </tbody>\n",
              "</table>\n",
              "</div>"
            ],
            "text/plain": [
              "   Pregnancies  Glucose  BloodPressure  ...  DiabetesPedigreeFunction  Age  Outcome\n",
              "0            6      148             72  ...                     0.627   50        1\n",
              "1            1       85             66  ...                     0.351   31        0\n",
              "2            8      183             64  ...                     0.672   32        1\n",
              "3            1       89             66  ...                     0.167   21        0\n",
              "4            0      137             40  ...                     2.288   33        1\n",
              "\n",
              "[5 rows x 9 columns]"
            ]
          },
          "metadata": {
            "tags": []
          },
          "execution_count": 3
        }
      ]
    },
    {
      "cell_type": "code",
      "metadata": {
        "id": "HgqyPRukDv80",
        "colab_type": "code",
        "colab": {}
      },
      "source": [
        "y = diabetes['Outcome']\n",
        "X = diabetes.drop('Outcome', axis=1)"
      ],
      "execution_count": 4,
      "outputs": []
    },
    {
      "cell_type": "code",
      "metadata": {
        "id": "0r5JItJhD8AE",
        "colab_type": "code",
        "colab": {
          "base_uri": "https://localhost:8080/",
          "height": 284
        },
        "outputId": "83dd6fb4-6612-44a5-c86f-49105d334e57"
      },
      "source": [
        "X.describe()"
      ],
      "execution_count": 5,
      "outputs": [
        {
          "output_type": "execute_result",
          "data": {
            "text/html": [
              "<div>\n",
              "<style scoped>\n",
              "    .dataframe tbody tr th:only-of-type {\n",
              "        vertical-align: middle;\n",
              "    }\n",
              "\n",
              "    .dataframe tbody tr th {\n",
              "        vertical-align: top;\n",
              "    }\n",
              "\n",
              "    .dataframe thead th {\n",
              "        text-align: right;\n",
              "    }\n",
              "</style>\n",
              "<table border=\"1\" class=\"dataframe\">\n",
              "  <thead>\n",
              "    <tr style=\"text-align: right;\">\n",
              "      <th></th>\n",
              "      <th>Pregnancies</th>\n",
              "      <th>Glucose</th>\n",
              "      <th>BloodPressure</th>\n",
              "      <th>SkinThickness</th>\n",
              "      <th>Insulin</th>\n",
              "      <th>BMI</th>\n",
              "      <th>DiabetesPedigreeFunction</th>\n",
              "      <th>Age</th>\n",
              "    </tr>\n",
              "  </thead>\n",
              "  <tbody>\n",
              "    <tr>\n",
              "      <th>count</th>\n",
              "      <td>768.000000</td>\n",
              "      <td>768.000000</td>\n",
              "      <td>768.000000</td>\n",
              "      <td>768.000000</td>\n",
              "      <td>768.000000</td>\n",
              "      <td>768.000000</td>\n",
              "      <td>768.000000</td>\n",
              "      <td>768.000000</td>\n",
              "    </tr>\n",
              "    <tr>\n",
              "      <th>mean</th>\n",
              "      <td>3.845052</td>\n",
              "      <td>120.894531</td>\n",
              "      <td>69.105469</td>\n",
              "      <td>20.536458</td>\n",
              "      <td>79.799479</td>\n",
              "      <td>31.992578</td>\n",
              "      <td>0.471876</td>\n",
              "      <td>33.240885</td>\n",
              "    </tr>\n",
              "    <tr>\n",
              "      <th>std</th>\n",
              "      <td>3.369578</td>\n",
              "      <td>31.972618</td>\n",
              "      <td>19.355807</td>\n",
              "      <td>15.952218</td>\n",
              "      <td>115.244002</td>\n",
              "      <td>7.884160</td>\n",
              "      <td>0.331329</td>\n",
              "      <td>11.760232</td>\n",
              "    </tr>\n",
              "    <tr>\n",
              "      <th>min</th>\n",
              "      <td>0.000000</td>\n",
              "      <td>0.000000</td>\n",
              "      <td>0.000000</td>\n",
              "      <td>0.000000</td>\n",
              "      <td>0.000000</td>\n",
              "      <td>0.000000</td>\n",
              "      <td>0.078000</td>\n",
              "      <td>21.000000</td>\n",
              "    </tr>\n",
              "    <tr>\n",
              "      <th>25%</th>\n",
              "      <td>1.000000</td>\n",
              "      <td>99.000000</td>\n",
              "      <td>62.000000</td>\n",
              "      <td>0.000000</td>\n",
              "      <td>0.000000</td>\n",
              "      <td>27.300000</td>\n",
              "      <td>0.243750</td>\n",
              "      <td>24.000000</td>\n",
              "    </tr>\n",
              "    <tr>\n",
              "      <th>50%</th>\n",
              "      <td>3.000000</td>\n",
              "      <td>117.000000</td>\n",
              "      <td>72.000000</td>\n",
              "      <td>23.000000</td>\n",
              "      <td>30.500000</td>\n",
              "      <td>32.000000</td>\n",
              "      <td>0.372500</td>\n",
              "      <td>29.000000</td>\n",
              "    </tr>\n",
              "    <tr>\n",
              "      <th>75%</th>\n",
              "      <td>6.000000</td>\n",
              "      <td>140.250000</td>\n",
              "      <td>80.000000</td>\n",
              "      <td>32.000000</td>\n",
              "      <td>127.250000</td>\n",
              "      <td>36.600000</td>\n",
              "      <td>0.626250</td>\n",
              "      <td>41.000000</td>\n",
              "    </tr>\n",
              "    <tr>\n",
              "      <th>max</th>\n",
              "      <td>17.000000</td>\n",
              "      <td>199.000000</td>\n",
              "      <td>122.000000</td>\n",
              "      <td>99.000000</td>\n",
              "      <td>846.000000</td>\n",
              "      <td>67.100000</td>\n",
              "      <td>2.420000</td>\n",
              "      <td>81.000000</td>\n",
              "    </tr>\n",
              "  </tbody>\n",
              "</table>\n",
              "</div>"
            ],
            "text/plain": [
              "       Pregnancies     Glucose  ...  DiabetesPedigreeFunction         Age\n",
              "count   768.000000  768.000000  ...                768.000000  768.000000\n",
              "mean      3.845052  120.894531  ...                  0.471876   33.240885\n",
              "std       3.369578   31.972618  ...                  0.331329   11.760232\n",
              "min       0.000000    0.000000  ...                  0.078000   21.000000\n",
              "25%       1.000000   99.000000  ...                  0.243750   24.000000\n",
              "50%       3.000000  117.000000  ...                  0.372500   29.000000\n",
              "75%       6.000000  140.250000  ...                  0.626250   41.000000\n",
              "max      17.000000  199.000000  ...                  2.420000   81.000000\n",
              "\n",
              "[8 rows x 8 columns]"
            ]
          },
          "metadata": {
            "tags": []
          },
          "execution_count": 5
        }
      ]
    },
    {
      "cell_type": "markdown",
      "metadata": {
        "id": "E2uJY56bi3Ry",
        "colab_type": "text"
      },
      "source": [
        "### 2) テストデータの分離"
      ]
    },
    {
      "cell_type": "code",
      "metadata": {
        "id": "bLsoxn02B8CR",
        "colab_type": "code",
        "colab": {}
      },
      "source": [
        "from sklearn.model_selection import train_test_split\n",
        "\n",
        "# （この分割は変えないようにしてください。）\n",
        "X_train, X_test, y_train, y_test = train_test_split(X, y, test_size = 0.15, random_state = 123)"
      ],
      "execution_count": 6,
      "outputs": []
    },
    {
      "cell_type": "markdown",
      "metadata": {
        "id": "M_NNgy-Fi839",
        "colab_type": "text"
      },
      "source": [
        "\n",
        "\n",
        "---\n",
        "\n"
      ]
    },
    {
      "cell_type": "markdown",
      "metadata": {
        "id": "a6JOpzMaK7-V",
        "colab_type": "text"
      },
      "source": [
        "（ここから自由に試行錯誤をスタートさせましょう。）"
      ]
    },
    {
      "cell_type": "markdown",
      "metadata": {
        "id": "k9EHv17Ji9iR",
        "colab_type": "text"
      },
      "source": [
        "\n",
        "\n",
        "---\n",
        "\n"
      ]
    },
    {
      "cell_type": "markdown",
      "metadata": {
        "id": "2BtszzrDdRrj",
        "colab_type": "text"
      },
      "source": [
        "### -1) 最初に、このままロジスティック回帰のデフォルトの設定で学習、そして、テストセットで評価する。（7月17日、追記）"
      ]
    },
    {
      "cell_type": "code",
      "metadata": {
        "id": "uEss5itsdJAU",
        "colab_type": "code",
        "colab": {
          "base_uri": "https://localhost:8080/",
          "height": 34
        },
        "outputId": "7e1258ce-8854-401b-a3e8-def2ed3f746a"
      },
      "source": [
        "from sklearn.linear_model import LogisticRegression\n",
        "\n",
        "logreg = LogisticRegression(max_iter=1000, random_state=123)\n",
        "logreg.fit(X_train, y_train)\n",
        "print('test score: {:.4f}'.format(logreg.score(X_test, y_test)))"
      ],
      "execution_count": 7,
      "outputs": [
        {
          "output_type": "stream",
          "text": [
            "test score: 0.8103\n"
          ],
          "name": "stdout"
        }
      ]
    },
    {
      "cell_type": "markdown",
      "metadata": {
        "id": "sMirEcP0dbaG",
        "colab_type": "text"
      },
      "source": [
        "実は、これより良くするのが至難の技のようです。\n",
        "\n",
        "つまり、あまり特徴量をいじらないのが良い、ということかもしれません。\n",
        "\n",
        "あるいは、テストセットの分割の仕方が、たまたま、この最もシンプルな方法が良くなるものだっただけかもしれません。\n",
        "\n",
        "そこで、課題の範囲からは外れますが、SVMを試してみます。"
      ]
    },
    {
      "cell_type": "code",
      "metadata": {
        "id": "H3eI9AmReEpS",
        "colab_type": "code",
        "colab": {
          "base_uri": "https://localhost:8080/",
          "height": 34
        },
        "outputId": "26b9789d-afc0-41f8-ba53-055e99b73a32"
      },
      "source": [
        "from sklearn.svm import SVC\n",
        "\n",
        "svc = SVC(random_state=123)\n",
        "svc.fit(X_train, y_train)\n",
        "print('test score: {:.4f}'.format(svc.score(X_test, y_test)))"
      ],
      "execution_count": 8,
      "outputs": [
        {
          "output_type": "stream",
          "text": [
            "test score: 0.7759\n"
          ],
          "name": "stdout"
        }
      ]
    },
    {
      "cell_type": "markdown",
      "metadata": {
        "id": "e5OE3u7peUY4",
        "colab_type": "text"
      },
      "source": [
        "SVMではそこそこの分類性能です。\n",
        "\n",
        "なので、何か、今回のテストセットが、デフォルト設定のままのロジスティック回帰に特に都合の良い分割になっていた可能性はあります・・・。\n",
        "\n",
        "以下、特徴量エンジニアリングの練習だと思って、お付き合いください。"
      ]
    },
    {
      "cell_type": "markdown",
      "metadata": {
        "id": "Vx322yZLSkTV",
        "colab_type": "text"
      },
      "source": [
        "### A) 最初に交差検証の準備をしておく"
      ]
    },
    {
      "cell_type": "code",
      "metadata": {
        "id": "2s3rL94SDW3u",
        "colab_type": "code",
        "colab": {}
      },
      "source": [
        "from sklearn.model_selection import StratifiedKFold\n",
        "\n",
        "skf = StratifiedKFold(n_splits=10, shuffle=True, random_state=123)"
      ],
      "execution_count": 9,
      "outputs": []
    },
    {
      "cell_type": "markdown",
      "metadata": {
        "id": "WK1tqw_yQ0JM",
        "colab_type": "text"
      },
      "source": [
        "### B) 交差検証による評価のための関数を定義しておく"
      ]
    },
    {
      "cell_type": "code",
      "metadata": {
        "id": "8BdbwVSqDEkH",
        "colab_type": "code",
        "colab": {}
      },
      "source": [
        "from sklearn.linear_model import LogisticRegression\n",
        "\n",
        "def cv(skf, X_train, y_train, args={}):\n",
        "  scores = list()\n",
        "  for train_index, valid_index in skf.split(X_train, y_train):\n",
        "\n",
        "    # ロジスティック回帰の学習\n",
        "    if not 'max_iter' in args:\n",
        "      logreg = LogisticRegression(**args, max_iter=1000, random_state=123)\n",
        "    else:\n",
        "      logreg = LogisticRegression(**args, random_state=123)\n",
        "    logreg.fit(X_train.iloc[train_index], y_train.iloc[train_index])\n",
        "\n",
        "    # 検証データでの評価\n",
        "    score = logreg.score(X_train.iloc[valid_index], y_train.iloc[valid_index])\n",
        "    print('score: {:.4f}'.format(score))\n",
        "    scores.append(score)\n",
        "\n",
        "  print('mean score: {:.4f}'.format(np.array(scores).mean()), end=' ')\n",
        "  print('{', ' '.join(['\"{:s}\":{:s}'.format(str(k), str(args[k])) for k in args]), '}')"
      ],
      "execution_count": 10,
      "outputs": []
    },
    {
      "cell_type": "markdown",
      "metadata": {
        "id": "DyJOj1VjRCyb",
        "colab_type": "text"
      },
      "source": [
        "### C) デフォルト設定のロジスティック回帰の性能を評価する"
      ]
    },
    {
      "cell_type": "code",
      "metadata": {
        "id": "Ybu2HlflEcEH",
        "colab_type": "code",
        "colab": {
          "base_uri": "https://localhost:8080/",
          "height": 202
        },
        "outputId": "02d86c18-749d-4ce8-e7b6-e55ad593f30d"
      },
      "source": [
        "cv(skf, X_train, y_train)"
      ],
      "execution_count": 11,
      "outputs": [
        {
          "output_type": "stream",
          "text": [
            "score: 0.8182\n",
            "score: 0.7879\n",
            "score: 0.7385\n",
            "score: 0.7692\n",
            "score: 0.7692\n",
            "score: 0.7538\n",
            "score: 0.7538\n",
            "score: 0.7846\n",
            "score: 0.7231\n",
            "score: 0.7385\n",
            "mean score: 0.7637 {  }\n"
          ],
          "name": "stdout"
        }
      ]
    },
    {
      "cell_type": "markdown",
      "metadata": {
        "id": "QzTgn1PzSYl6",
        "colab_type": "text"
      },
      "source": [
        "### D) BloodPressureへの対応"
      ]
    },
    {
      "cell_type": "code",
      "metadata": {
        "id": "5cv90evwFhjJ",
        "colab_type": "code",
        "colab": {
          "base_uri": "https://localhost:8080/",
          "height": 296
        },
        "outputId": "0391f7d1-bb35-435d-fb53-bcfe055bae6c"
      },
      "source": [
        "# まず、属性「BloodPressure」について、ヒストグラムを描いてよくよく眺める。\n",
        "\n",
        "sns.distplot(X_train['BloodPressure'])"
      ],
      "execution_count": 12,
      "outputs": [
        {
          "output_type": "execute_result",
          "data": {
            "text/plain": [
              "<matplotlib.axes._subplots.AxesSubplot at 0x7f352714d390>"
            ]
          },
          "metadata": {
            "tags": []
          },
          "execution_count": 12
        },
        {
          "output_type": "display_data",
          "data": {
            "image/png": "[encoded data removed]",
            "text/plain": [
              "<Figure size 432x288 with 1 Axes>"
            ]
          },
          "metadata": {
            "tags": [],
            "needs_background": "light"
          }
        }
      ]
    },
    {
      "cell_type": "code",
      "metadata": {
        "id": "ITc026D4JskX",
        "colab_type": "code",
        "colab": {
          "base_uri": "https://localhost:8080/",
          "height": 34
        },
        "outputId": "4e44f6d7-75ee-4f1a-b0e1-4ed11868bf75"
      },
      "source": [
        "# 0という値がけっこうあるらしい。実は、これは欠測値。そこで、中央値で埋めることにする。\n",
        "# （この前処理の仕方で正しいという保証はありません。）\n",
        "\n",
        "bp_median = np.median(X_train[X_train.BloodPressure != 0]['BloodPressure'])\n",
        "print(bp_median)\n",
        "X_train = X_train.replace({'BloodPressure':0}, bp_median)"
      ],
      "execution_count": 13,
      "outputs": [
        {
          "output_type": "stream",
          "text": [
            "72.0\n"
          ],
          "name": "stdout"
        }
      ]
    },
    {
      "cell_type": "code",
      "metadata": {
        "id": "coW1dKi0KlJl",
        "colab_type": "code",
        "colab": {
          "base_uri": "https://localhost:8080/",
          "height": 296
        },
        "outputId": "a5670f3a-ca13-4f32-b403-0241bd42bfa7"
      },
      "source": [
        "# もう一度、ヒストグラムを描く。\n",
        "\n",
        "sns.distplot(X_train['BloodPressure'])"
      ],
      "execution_count": 14,
      "outputs": [
        {
          "output_type": "execute_result",
          "data": {
            "text/plain": [
              "<matplotlib.axes._subplots.AxesSubplot at 0x7f352714d048>"
            ]
          },
          "metadata": {
            "tags": []
          },
          "execution_count": 14
        },
        {
          "output_type": "display_data",
          "data": {
            "image/png": "[encoded data removed]",
            "text/plain": [
              "<Figure size 432x288 with 1 Axes>"
            ]
          },
          "metadata": {
            "tags": [],
            "needs_background": "light"
          }
        }
      ]
    },
    {
      "cell_type": "code",
      "metadata": {
        "id": "HaT4Y7MQLTPf",
        "colab_type": "code",
        "colab": {}
      },
      "source": [
        "# test dataの「BloodPressure」の欠測値も、training dataと同じ値で埋める。\n",
        "# この作業は、training dataから得られる情報しか使っていないので、ズルはしていない。\n",
        "\n",
        "X_test = X_test.replace({'BloodPressure':0}, bp_median)"
      ],
      "execution_count": 15,
      "outputs": []
    },
    {
      "cell_type": "code",
      "metadata": {
        "id": "oOk6Lf19EuXj",
        "colab_type": "code",
        "colab": {
          "base_uri": "https://localhost:8080/",
          "height": 202
        },
        "outputId": "5d358cde-ba60-4fab-cae9-f14f043e594d"
      },
      "source": [
        "cv(skf, X_train, y_train)"
      ],
      "execution_count": 16,
      "outputs": [
        {
          "output_type": "stream",
          "text": [
            "score: 0.8333\n",
            "score: 0.8182\n",
            "score: 0.7538\n",
            "score: 0.7538\n",
            "score: 0.7692\n",
            "score: 0.7846\n",
            "score: 0.7538\n",
            "score: 0.7846\n",
            "score: 0.7077\n",
            "score: 0.7385\n",
            "mean score: 0.7698 {  }\n"
          ],
          "name": "stdout"
        }
      ]
    },
    {
      "cell_type": "markdown",
      "metadata": {
        "id": "ngfAvLFOS23T",
        "colab_type": "text"
      },
      "source": [
        "### E) BMIへの対応"
      ]
    },
    {
      "cell_type": "code",
      "metadata": {
        "id": "wC-DcEmwMQDn",
        "colab_type": "code",
        "colab": {
          "base_uri": "https://localhost:8080/",
          "height": 296
        },
        "outputId": "88c6ae59-9912-47ad-f091-0c3a8c076e02"
      },
      "source": [
        "# 次に、training dataの「BMI」のヒストグラムを描いてみる\n",
        "\n",
        "sns.distplot(X_train['BMI'])"
      ],
      "execution_count": 17,
      "outputs": [
        {
          "output_type": "execute_result",
          "data": {
            "text/plain": [
              "<matplotlib.axes._subplots.AxesSubplot at 0x7f3526af16a0>"
            ]
          },
          "metadata": {
            "tags": []
          },
          "execution_count": 17
        },
        {
          "output_type": "display_data",
          "data": {
            "image/png": "[encoded data removed]",
            "text/plain": [
              "<Figure size 432x288 with 1 Axes>"
            ]
          },
          "metadata": {
            "tags": [],
            "needs_background": "light"
          }
        }
      ]
    },
    {
      "cell_type": "code",
      "metadata": {
        "id": "LgKJFIc9pz7n",
        "colab_type": "code",
        "colab": {
          "base_uri": "https://localhost:8080/",
          "height": 313
        },
        "outputId": "178a7853-5b34-41ff-ce32-846f9288737e"
      },
      "source": [
        "# やはり欠測値の部分が0とされているようなので、先ほどと同様、中央値で埋める。\n",
        "\n",
        "bmi_median = np.median(X_train[X_train.BMI != 0]['BMI'])\n",
        "print(bmi_median)\n",
        "X_train = X_train.replace({'BMI':0}, bmi_median)\n",
        "sns.distplot(X_train['BMI'])"
      ],
      "execution_count": 18,
      "outputs": [
        {
          "output_type": "stream",
          "text": [
            "32.4\n"
          ],
          "name": "stdout"
        },
        {
          "output_type": "execute_result",
          "data": {
            "text/plain": [
              "<matplotlib.axes._subplots.AxesSubplot at 0x7f3526af9ba8>"
            ]
          },
          "metadata": {
            "tags": []
          },
          "execution_count": 18
        },
        {
          "output_type": "display_data",
          "data": {
            "image/png": "[encoded data removed]",
            "text/plain": [
              "<Figure size 432x288 with 1 Axes>"
            ]
          },
          "metadata": {
            "tags": [],
            "needs_background": "light"
          }
        }
      ]
    },
    {
      "cell_type": "code",
      "metadata": {
        "id": "H1htZ8k4KsNW",
        "colab_type": "code",
        "colab": {}
      },
      "source": [
        "# test dataのBMIの欠測値も、同じ値で埋める \n",
        "\n",
        "X_test = X_test.replace({'BMI':0}, bmi_median)"
      ],
      "execution_count": 19,
      "outputs": []
    },
    {
      "cell_type": "code",
      "metadata": {
        "id": "nLkcjQooEz0f",
        "colab_type": "code",
        "colab": {
          "base_uri": "https://localhost:8080/",
          "height": 202
        },
        "outputId": "166e8f29-1479-4929-b07d-c7f949ebcc07"
      },
      "source": [
        "cv(skf, X_train, y_train)"
      ],
      "execution_count": 20,
      "outputs": [
        {
          "output_type": "stream",
          "text": [
            "score: 0.8333\n",
            "score: 0.8030\n",
            "score: 0.7846\n",
            "score: 0.7538\n",
            "score: 0.7692\n",
            "score: 0.7846\n",
            "score: 0.7538\n",
            "score: 0.7846\n",
            "score: 0.7077\n",
            "score: 0.7385\n",
            "mean score: 0.7713 {  }\n"
          ],
          "name": "stdout"
        }
      ]
    },
    {
      "cell_type": "markdown",
      "metadata": {
        "id": "FRsaNT2iTWXr",
        "colab_type": "text"
      },
      "source": [
        "### F) Glucoseへの対応"
      ]
    },
    {
      "cell_type": "code",
      "metadata": {
        "id": "XYkYQJSLTKo2",
        "colab_type": "code",
        "colab": {
          "base_uri": "https://localhost:8080/",
          "height": 300
        },
        "outputId": "b6f97a11-7d2e-4f18-a2f6-0aa9cb717f2b"
      },
      "source": [
        "sns.distplot(X_train['Glucose'])"
      ],
      "execution_count": 21,
      "outputs": [
        {
          "output_type": "execute_result",
          "data": {
            "text/plain": [
              "<matplotlib.axes._subplots.AxesSubplot at 0x7f35269c3c88>"
            ]
          },
          "metadata": {
            "tags": []
          },
          "execution_count": 21
        },
        {
          "output_type": "display_data",
          "data": {
            "image/png": "[encoded data removed]",
            "text/plain": [
              "<Figure size 432x288 with 1 Axes>"
            ]
          },
          "metadata": {
            "tags": [],
            "needs_background": "light"
          }
        }
      ]
    },
    {
      "cell_type": "code",
      "metadata": {
        "id": "NYbXN-p9TZ52",
        "colab_type": "code",
        "colab": {
          "base_uri": "https://localhost:8080/",
          "height": 316
        },
        "outputId": "5712fdaa-542e-4bda-dc70-3872b333c274"
      },
      "source": [
        "glucose_median = np.median(X_train[X_train.Glucose != 0]['Glucose'])\n",
        "print(glucose_median)\n",
        "X_train = X_train.replace({'Glucose':0}, glucose_median)\n",
        "sns.distplot(X_train['Glucose'])"
      ],
      "execution_count": 22,
      "outputs": [
        {
          "output_type": "stream",
          "text": [
            "117.0\n"
          ],
          "name": "stdout"
        },
        {
          "output_type": "execute_result",
          "data": {
            "text/plain": [
              "<matplotlib.axes._subplots.AxesSubplot at 0x7f3526922b70>"
            ]
          },
          "metadata": {
            "tags": []
          },
          "execution_count": 22
        },
        {
          "output_type": "display_data",
          "data": {
            "image/png": "[encoded data removed]",
            "text/plain": [
              "<Figure size 432x288 with 1 Axes>"
            ]
          },
          "metadata": {
            "tags": [],
            "needs_background": "light"
          }
        }
      ]
    },
    {
      "cell_type": "code",
      "metadata": {
        "id": "OA7TcLkgTprV",
        "colab_type": "code",
        "colab": {
          "base_uri": "https://localhost:8080/",
          "height": 202
        },
        "outputId": "db661a33-a486-4076-9b74-3a5d5039e7ca"
      },
      "source": [
        "cv(skf, X_train, y_train)"
      ],
      "execution_count": 23,
      "outputs": [
        {
          "output_type": "stream",
          "text": [
            "score: 0.8333\n",
            "score: 0.8182\n",
            "score: 0.7846\n",
            "score: 0.7538\n",
            "score: 0.7846\n",
            "score: 0.7846\n",
            "score: 0.7538\n",
            "score: 0.8000\n",
            "score: 0.7077\n",
            "score: 0.7385\n",
            "mean score: 0.7759 {  }\n"
          ],
          "name": "stdout"
        }
      ]
    },
    {
      "cell_type": "code",
      "metadata": {
        "id": "ro2e96DcVopO",
        "colab_type": "code",
        "colab": {}
      },
      "source": [
        "# test dataのGlucoseの欠測箇所も、同じ値で埋める \n",
        "\n",
        "X_test = X_test.replace({'Glucose':0}, glucose_median)"
      ],
      "execution_count": 24,
      "outputs": []
    },
    {
      "cell_type": "markdown",
      "metadata": {
        "id": "lu5aGqJZ03Ox",
        "colab_type": "text"
      },
      "source": [
        "ここまでの交差検証でのベスト・スコアは0.7759。"
      ]
    },
    {
      "cell_type": "markdown",
      "metadata": {
        "id": "q1uy1M8BZTlk",
        "colab_type": "text"
      },
      "source": [
        "### G) DiabetesPedigreeFunctionへの対応"
      ]
    },
    {
      "cell_type": "code",
      "metadata": {
        "id": "SsfKM8V0ZMpw",
        "colab_type": "code",
        "colab": {
          "base_uri": "https://localhost:8080/",
          "height": 296
        },
        "outputId": "f261ca3d-d8f8-4dd8-ee48-1f108def2f5b"
      },
      "source": [
        "sns.distplot(X_train['DiabetesPedigreeFunction'], bins=50)"
      ],
      "execution_count": 25,
      "outputs": [
        {
          "output_type": "execute_result",
          "data": {
            "text/plain": [
              "<matplotlib.axes._subplots.AxesSubplot at 0x7f352687e2b0>"
            ]
          },
          "metadata": {
            "tags": []
          },
          "execution_count": 25
        },
        {
          "output_type": "display_data",
          "data": {
            "image/png": "[encoded data removed]",
            "text/plain": [
              "<Figure size 432x288 with 1 Axes>"
            ]
          },
          "metadata": {
            "tags": [],
            "needs_background": "light"
          }
        }
      ]
    },
    {
      "cell_type": "code",
      "metadata": {
        "id": "wIctdU3NxZcp",
        "colab_type": "code",
        "colab": {
          "base_uri": "https://localhost:8080/",
          "height": 296
        },
        "outputId": "bf7909af-5226-4d41-9aa7-faf1f117ae5a"
      },
      "source": [
        "from scipy.stats import boxcox\n",
        "\n",
        "X_train_boxcox = X_train.copy()\n",
        "X_train_boxcox.DiabetesPedigreeFunction, maxlog = boxcox(X_train.DiabetesPedigreeFunction)\n",
        "sns.distplot(X_train_boxcox['DiabetesPedigreeFunction'], bins=50)"
      ],
      "execution_count": 26,
      "outputs": [
        {
          "output_type": "execute_result",
          "data": {
            "text/plain": [
              "<matplotlib.axes._subplots.AxesSubplot at 0x7f3526757ef0>"
            ]
          },
          "metadata": {
            "tags": []
          },
          "execution_count": 26
        },
        {
          "output_type": "display_data",
          "data": {
            "image/png": "[encoded data removed]",
            "text/plain": [
              "<Figure size 432x288 with 1 Axes>"
            ]
          },
          "metadata": {
            "tags": [],
            "needs_background": "light"
          }
        }
      ]
    },
    {
      "cell_type": "code",
      "metadata": {
        "id": "LQwJgs_TyA0g",
        "colab_type": "code",
        "colab": {
          "base_uri": "https://localhost:8080/",
          "height": 202
        },
        "outputId": "3d8f23cd-091e-4858-b9d5-eebf3bb42618"
      },
      "source": [
        "cv(skf, X_train_boxcox, y_train)"
      ],
      "execution_count": 27,
      "outputs": [
        {
          "output_type": "stream",
          "text": [
            "score: 0.8182\n",
            "score: 0.8333\n",
            "score: 0.7692\n",
            "score: 0.7692\n",
            "score: 0.7538\n",
            "score: 0.7846\n",
            "score: 0.7692\n",
            "score: 0.8000\n",
            "score: 0.7077\n",
            "score: 0.7385\n",
            "mean score: 0.7744 {  }\n"
          ],
          "name": "stdout"
        }
      ]
    },
    {
      "cell_type": "markdown",
      "metadata": {
        "id": "Ltp3l8OpyF-o",
        "colab_type": "text"
      },
      "source": [
        "悪くなったので不採用。"
      ]
    },
    {
      "cell_type": "markdown",
      "metadata": {
        "id": "B7hDDVnNUATp",
        "colab_type": "text"
      },
      "source": [
        "### H) SkinThicknessとInsulin: 線形回帰で欠測値を埋める"
      ]
    },
    {
      "cell_type": "code",
      "metadata": {
        "id": "kvegwCbRuBIS",
        "colab_type": "code",
        "colab": {
          "base_uri": "https://localhost:8080/",
          "height": 296
        },
        "outputId": "0041929e-6fc0-4b1f-9aee-76129e1645e9"
      },
      "source": [
        "sns.distplot(X_train['SkinThickness'], bins=50)"
      ],
      "execution_count": 28,
      "outputs": [
        {
          "output_type": "execute_result",
          "data": {
            "text/plain": [
              "<matplotlib.axes._subplots.AxesSubplot at 0x7f352669f358>"
            ]
          },
          "metadata": {
            "tags": []
          },
          "execution_count": 28
        },
        {
          "output_type": "display_data",
          "data": {
            "image/png": "[encoded data removed]",
            "text/plain": [
              "<Figure size 432x288 with 1 Axes>"
            ]
          },
          "metadata": {
            "tags": [],
            "needs_background": "light"
          }
        }
      ]
    },
    {
      "cell_type": "code",
      "metadata": {
        "id": "L5ffQqerbRMc",
        "colab_type": "code",
        "colab": {
          "base_uri": "https://localhost:8080/",
          "height": 296
        },
        "outputId": "c4300785-3ed2-4180-c527-e0d4dd46fbd4"
      },
      "source": [
        "sns.distplot(X_train['Insulin'], bins=50)"
      ],
      "execution_count": 29,
      "outputs": [
        {
          "output_type": "execute_result",
          "data": {
            "text/plain": [
              "<matplotlib.axes._subplots.AxesSubplot at 0x7f35265af0f0>"
            ]
          },
          "metadata": {
            "tags": []
          },
          "execution_count": 29
        },
        {
          "output_type": "display_data",
          "data": {
            "image/png": "[encoded data removed]",
            "text/plain": [
              "<Figure size 432x288 with 1 Axes>"
            ]
          },
          "metadata": {
            "tags": [],
            "needs_background": "light"
          }
        }
      ]
    },
    {
      "cell_type": "code",
      "metadata": {
        "id": "AE7hom2eVWnR",
        "colab_type": "code",
        "colab": {
          "base_uri": "https://localhost:8080/",
          "height": 34
        },
        "outputId": "40053859-23d7-49cb-f77d-86a15d1c2d6e"
      },
      "source": [
        "(X_train['SkinThickness'] == 0).sum()"
      ],
      "execution_count": 30,
      "outputs": [
        {
          "output_type": "execute_result",
          "data": {
            "text/plain": [
              "191"
            ]
          },
          "metadata": {
            "tags": []
          },
          "execution_count": 30
        }
      ]
    },
    {
      "cell_type": "code",
      "metadata": {
        "id": "7l5ISkugWXmc",
        "colab_type": "code",
        "colab": {
          "base_uri": "https://localhost:8080/",
          "height": 34
        },
        "outputId": "d124264f-ceea-4e93-fbae-ef696299db1c"
      },
      "source": [
        "(X_train['Insulin'] == 0).sum()"
      ],
      "execution_count": 31,
      "outputs": [
        {
          "output_type": "execute_result",
          "data": {
            "text/plain": [
              "314"
            ]
          },
          "metadata": {
            "tags": []
          },
          "execution_count": 31
        }
      ]
    },
    {
      "cell_type": "code",
      "metadata": {
        "id": "Mg87bdcVYCT1",
        "colab_type": "code",
        "colab": {
          "base_uri": "https://localhost:8080/",
          "height": 34
        },
        "outputId": "74999fae-8377-4cf7-a2c4-d721ce699772"
      },
      "source": [
        "((X_train['SkinThickness'] == 0) & (X_train['Insulin'] == 0)).sum()"
      ],
      "execution_count": 32,
      "outputs": [
        {
          "output_type": "execute_result",
          "data": {
            "text/plain": [
              "191"
            ]
          },
          "metadata": {
            "tags": []
          },
          "execution_count": 32
        }
      ]
    },
    {
      "cell_type": "code",
      "metadata": {
        "id": "6Y8vGCUDWeLA",
        "colab_type": "code",
        "colab": {}
      },
      "source": [
        "for i in X_train.index[X_train['SkinThickness'] == 0]:\n",
        "  if not i in X_train.index[X_train['Insulin'] == 0]:\n",
        "    print('No')"
      ],
      "execution_count": 33,
      "outputs": []
    },
    {
      "cell_type": "markdown",
      "metadata": {
        "id": "ojghc1WgXQ4h",
        "colab_type": "text"
      },
      "source": [
        "SkinThicknessが0の個体は、必ずInsulinも0になっているらしい。\n",
        "\n",
        "ただし、これは訓練データだけでこうなっているだけかもしれないので、この事実に依存して何かをすることはしない。"
      ]
    },
    {
      "cell_type": "code",
      "metadata": {
        "id": "o1zdunK4YtZM",
        "colab_type": "code",
        "colab": {
          "base_uri": "https://localhost:8080/",
          "height": 1000
        },
        "outputId": "7ee76a83-9a98-4653-b391-f036f9da5004"
      },
      "source": [
        "# LassoでSkinThicknessとInsulinの欠測部分を埋める\n",
        "\n",
        "from sklearn.linear_model import Lasso\n",
        "\n",
        "columns = X_train.columns[(X_train.columns != 'SkinThickness') & (X_train.columns != 'Insulin')]\n",
        "\n",
        "for alpha in np.power(10.0, np.arange(12) - 5):\n",
        "\n",
        "  X_train_copy = X_train.copy()\n",
        "\n",
        "  indices = (X_train['SkinThickness'] != 0)\n",
        "  reg = Lasso(alpha=alpha)\n",
        "  reg.fit(X_train.loc[indices, columns], X_train.loc[indices, 'SkinThickness'])\n",
        "  X_train_copy.loc[~ indices, 'SkinThickness'] = reg.predict(X_train.loc[~ indices, columns])\n",
        "\n",
        "  indices = (X_train['Insulin'] != 0)\n",
        "  reg = Lasso(alpha=alpha)\n",
        "  reg.fit(X_train.loc[indices, columns], X_train.loc[indices, 'Insulin'])\n",
        "  X_train_copy.loc[~ indices, 'Insulin'] = reg.predict(X_train.loc[~ indices, columns])\n",
        "\n",
        "  print('-'*8, alpha, '-'*16)\n",
        "  cv(skf, X_train_copy, y_train)"
      ],
      "execution_count": 34,
      "outputs": [
        {
          "output_type": "stream",
          "text": [
            "-------- 1e-05 ----------------\n",
            "score: 0.8182\n",
            "score: 0.8030\n",
            "score: 0.7538\n",
            "score: 0.7538\n",
            "score: 0.8000\n",
            "score: 0.7692\n",
            "score: 0.7538\n",
            "score: 0.8000\n",
            "score: 0.7231\n",
            "score: 0.7538\n",
            "mean score: 0.7729 {  }\n",
            "-------- 0.0001 ----------------\n",
            "score: 0.8182\n",
            "score: 0.8030\n",
            "score: 0.7538\n",
            "score: 0.7538\n",
            "score: 0.8000\n",
            "score: 0.7692\n",
            "score: 0.7538\n",
            "score: 0.8000\n",
            "score: 0.7231\n",
            "score: 0.7538\n",
            "mean score: 0.7729 {  }\n",
            "-------- 0.001 ----------------\n",
            "score: 0.8182\n",
            "score: 0.8030\n",
            "score: 0.7538\n",
            "score: 0.7538\n",
            "score: 0.8000\n",
            "score: 0.7692\n",
            "score: 0.7538\n",
            "score: 0.8000\n",
            "score: 0.7231\n",
            "score: 0.7538\n",
            "mean score: 0.7729 {  }\n",
            "-------- 0.01 ----------------\n",
            "score: 0.8182\n",
            "score: 0.8030\n",
            "score: 0.7538\n",
            "score: 0.7538\n",
            "score: 0.8000\n",
            "score: 0.7692\n",
            "score: 0.7538\n",
            "score: 0.8000\n",
            "score: 0.7231\n",
            "score: 0.7538\n",
            "mean score: 0.7729 {  }\n",
            "-------- 0.1 ----------------\n",
            "score: 0.8182\n",
            "score: 0.8030\n",
            "score: 0.7538\n",
            "score: 0.7538\n",
            "score: 0.8000\n",
            "score: 0.7692\n",
            "score: 0.7538\n",
            "score: 0.8000\n",
            "score: 0.7231\n",
            "score: 0.7538\n",
            "mean score: 0.7729 {  }\n",
            "-------- 1.0 ----------------\n",
            "score: 0.8182\n",
            "score: 0.8030\n",
            "score: 0.7538\n",
            "score: 0.7538\n",
            "score: 0.8000\n",
            "score: 0.7692\n",
            "score: 0.7538\n",
            "score: 0.8000\n",
            "score: 0.7231\n",
            "score: 0.7538\n",
            "mean score: 0.7729 {  }\n",
            "-------- 10.0 ----------------\n",
            "score: 0.8182\n",
            "score: 0.7879\n",
            "score: 0.7538\n",
            "score: 0.7538\n",
            "score: 0.8000\n",
            "score: 0.7692\n",
            "score: 0.7538\n",
            "score: 0.8000\n",
            "score: 0.7231\n",
            "score: 0.7538\n",
            "mean score: 0.7714 {  }\n",
            "-------- 100.0 ----------------\n",
            "score: 0.8182\n",
            "score: 0.7879\n",
            "score: 0.7538\n",
            "score: 0.7538\n",
            "score: 0.8000\n",
            "score: 0.7692\n",
            "score: 0.7538\n",
            "score: 0.7846\n",
            "score: 0.7231\n",
            "score: 0.7538\n",
            "mean score: 0.7698 {  }\n",
            "-------- 1000.0 ----------------\n",
            "score: 0.8182\n",
            "score: 0.7879\n",
            "score: 0.7538\n",
            "score: 0.7538\n",
            "score: 0.8000\n",
            "score: 0.7692\n",
            "score: 0.7538\n",
            "score: 0.7846\n",
            "score: 0.7231\n",
            "score: 0.7538\n",
            "mean score: 0.7698 {  }\n",
            "-------- 10000.0 ----------------\n",
            "score: 0.8333\n",
            "score: 0.8030\n",
            "score: 0.7538\n",
            "score: 0.7538\n",
            "score: 0.7846\n",
            "score: 0.7692\n",
            "score: 0.7538\n",
            "score: 0.8000\n",
            "score: 0.7231\n",
            "score: 0.7538\n",
            "mean score: 0.7729 {  }\n",
            "-------- 100000.0 ----------------\n",
            "score: 0.8333\n",
            "score: 0.8030\n",
            "score: 0.7538\n",
            "score: 0.7538\n",
            "score: 0.7846\n",
            "score: 0.7692\n",
            "score: 0.7538\n",
            "score: 0.8000\n",
            "score: 0.7231\n",
            "score: 0.7538\n",
            "mean score: 0.7729 {  }\n",
            "-------- 1000000.0 ----------------\n",
            "score: 0.8333\n",
            "score: 0.8030\n",
            "score: 0.7538\n",
            "score: 0.7538\n",
            "score: 0.7846\n",
            "score: 0.7692\n",
            "score: 0.7538\n",
            "score: 0.8000\n",
            "score: 0.7231\n",
            "score: 0.7538\n",
            "mean score: 0.7729 {  }\n"
          ],
          "name": "stdout"
        }
      ]
    },
    {
      "cell_type": "code",
      "metadata": {
        "id": "Du0pMC1kYyHQ",
        "colab_type": "code",
        "colab": {
          "base_uri": "https://localhost:8080/",
          "height": 1000
        },
        "outputId": "c467d9e6-5557-4801-b42e-3beb6cdf86d6"
      },
      "source": [
        "# Ridge回帰でSkinThicknessとInsulinの欠測部分を埋める\n",
        "\n",
        "from sklearn.linear_model import Ridge\n",
        "\n",
        "columns = X_train.columns[(X_train.columns != 'SkinThickness') & (X_train.columns != 'Insulin')]\n",
        "\n",
        "for alpha in np.power(10.0, np.arange(12) - 5):\n",
        "\n",
        "  X_train_copy = X_train.copy()\n",
        "\n",
        "  indices = (X_train['SkinThickness'] != 0)\n",
        "  reg = Ridge(alpha=alpha)\n",
        "  reg.fit(X_train.loc[indices, columns], X_train.loc[indices, 'SkinThickness'])\n",
        "  X_train_copy.loc[~ indices, 'SkinThickness'] = reg.predict(X_train.loc[~ indices, columns])\n",
        "\n",
        "  indices = (X_train['Insulin'] != 0)\n",
        "  reg = Ridge(alpha=alpha)\n",
        "  reg.fit(X_train.loc[indices, columns], X_train.loc[indices, 'Insulin'])\n",
        "  X_train_copy.loc[~ indices, 'Insulin'] = reg.predict(X_train.loc[~ indices, columns])\n",
        "\n",
        "  print('-'*8, alpha, '-'*16)\n",
        "  cv(skf, X_train_copy, y_train)"
      ],
      "execution_count": 35,
      "outputs": [
        {
          "output_type": "stream",
          "text": [
            "-------- 1e-05 ----------------\n",
            "score: 0.8182\n",
            "score: 0.8030\n",
            "score: 0.7538\n",
            "score: 0.7538\n",
            "score: 0.8000\n",
            "score: 0.7692\n",
            "score: 0.7538\n",
            "score: 0.8000\n",
            "score: 0.7231\n",
            "score: 0.7538\n",
            "mean score: 0.7729 {  }\n",
            "-------- 0.0001 ----------------\n",
            "score: 0.8182\n",
            "score: 0.8030\n",
            "score: 0.7538\n",
            "score: 0.7538\n",
            "score: 0.8000\n",
            "score: 0.7692\n",
            "score: 0.7538\n",
            "score: 0.8000\n",
            "score: 0.7231\n",
            "score: 0.7538\n",
            "mean score: 0.7729 {  }\n",
            "-------- 0.001 ----------------\n",
            "score: 0.8182\n",
            "score: 0.8030\n",
            "score: 0.7538\n",
            "score: 0.7538\n",
            "score: 0.8000\n",
            "score: 0.7692\n",
            "score: 0.7538\n",
            "score: 0.8000\n",
            "score: 0.7231\n",
            "score: 0.7538\n",
            "mean score: 0.7729 {  }\n",
            "-------- 0.01 ----------------\n",
            "score: 0.8182\n",
            "score: 0.8030\n",
            "score: 0.7538\n",
            "score: 0.7538\n",
            "score: 0.8000\n",
            "score: 0.7692\n",
            "score: 0.7538\n",
            "score: 0.8000\n",
            "score: 0.7231\n",
            "score: 0.7538\n",
            "mean score: 0.7729 {  }\n",
            "-------- 0.1 ----------------\n",
            "score: 0.8182\n",
            "score: 0.8030\n",
            "score: 0.7538\n",
            "score: 0.7538\n",
            "score: 0.8000\n",
            "score: 0.7692\n",
            "score: 0.7538\n",
            "score: 0.8000\n",
            "score: 0.7231\n",
            "score: 0.7538\n",
            "mean score: 0.7729 {  }\n",
            "-------- 1.0 ----------------\n",
            "score: 0.8182\n",
            "score: 0.8030\n",
            "score: 0.7538\n",
            "score: 0.7538\n",
            "score: 0.8000\n",
            "score: 0.7692\n",
            "score: 0.7538\n",
            "score: 0.8000\n",
            "score: 0.7231\n",
            "score: 0.7538\n",
            "mean score: 0.7729 {  }\n",
            "-------- 10.0 ----------------\n",
            "score: 0.8182\n",
            "score: 0.8030\n",
            "score: 0.7538\n",
            "score: 0.7538\n",
            "score: 0.8000\n",
            "score: 0.7692\n",
            "score: 0.7538\n",
            "score: 0.8000\n",
            "score: 0.7231\n",
            "score: 0.7538\n",
            "mean score: 0.7729 {  }\n",
            "-------- 100.0 ----------------\n",
            "score: 0.8182\n",
            "score: 0.8030\n",
            "score: 0.7538\n",
            "score: 0.7538\n",
            "score: 0.8000\n",
            "score: 0.7692\n",
            "score: 0.7538\n",
            "score: 0.8000\n",
            "score: 0.7231\n",
            "score: 0.7538\n",
            "mean score: 0.7729 {  }\n",
            "-------- 1000.0 ----------------\n",
            "score: 0.8182\n",
            "score: 0.8030\n",
            "score: 0.7538\n",
            "score: 0.7538\n",
            "score: 0.8000\n",
            "score: 0.7692\n",
            "score: 0.7538\n",
            "score: 0.8000\n",
            "score: 0.7231\n",
            "score: 0.7538\n",
            "mean score: 0.7729 {  }\n",
            "-------- 10000.0 ----------------\n",
            "score: 0.8182\n",
            "score: 0.7879\n",
            "score: 0.7538\n",
            "score: 0.7538\n",
            "score: 0.8000\n",
            "score: 0.7692\n",
            "score: 0.7538\n",
            "score: 0.7846\n",
            "score: 0.7231\n",
            "score: 0.7538\n",
            "mean score: 0.7698 {  }\n",
            "-------- 100000.0 ----------------\n",
            "score: 0.8182\n",
            "score: 0.7879\n",
            "score: 0.7538\n",
            "score: 0.7538\n",
            "score: 0.8154\n",
            "score: 0.7692\n",
            "score: 0.7538\n",
            "score: 0.7846\n",
            "score: 0.7231\n",
            "score: 0.7538\n",
            "mean score: 0.7714 {  }\n",
            "-------- 1000000.0 ----------------\n",
            "score: 0.8182\n",
            "score: 0.7879\n",
            "score: 0.7538\n",
            "score: 0.7538\n",
            "score: 0.8000\n",
            "score: 0.7692\n",
            "score: 0.7538\n",
            "score: 0.8000\n",
            "score: 0.7231\n",
            "score: 0.7538\n",
            "mean score: 0.7714 {  }\n"
          ],
          "name": "stdout"
        }
      ]
    },
    {
      "cell_type": "markdown",
      "metadata": {
        "id": "v2JBRGrbb8-B",
        "colab_type": "text"
      },
      "source": [
        "悪くなったので不採用。"
      ]
    },
    {
      "cell_type": "markdown",
      "metadata": {
        "id": "CPEvLUJtQRB3",
        "colab_type": "text"
      },
      "source": [
        "### I) SkinThicknessとInsulin: それぞれk-近傍法で値を埋める"
      ]
    },
    {
      "cell_type": "code",
      "metadata": {
        "id": "ROSCKIUQOzMk",
        "colab_type": "code",
        "colab": {
          "base_uri": "https://localhost:8080/",
          "height": 1000
        },
        "outputId": "0ee8dc89-cee8-4230-f3c9-5c66221771fc"
      },
      "source": [
        "# k-NNでSkinThicknessの欠測部分を埋める\n",
        "\n",
        "from sklearn.neighbors import KNeighborsClassifier\n",
        "\n",
        "columns = X_train.columns[(X_train.columns != 'SkinThickness') & (X_train.columns != 'Insulin')]\n",
        "\n",
        "for k in range(1, 21):\n",
        "\n",
        "  X_train_copy = X_train.copy()\n",
        "\n",
        "  indices = (X_train['SkinThickness'] != 0)\n",
        "  knn = KNeighborsClassifier(n_neighbors=k)\n",
        "  knn.fit(X_train.loc[indices, columns], X_train.loc[indices, 'SkinThickness'])\n",
        "  X_train_copy.loc[~ indices, 'SkinThickness'] = knn.predict(X_train.loc[~ indices, columns])\n",
        "\n",
        "  indices = (X_train['Insulin'] != 0)\n",
        "  knn = KNeighborsClassifier(n_neighbors=k)\n",
        "  knn.fit(X_train.loc[indices, columns], X_train.loc[indices, 'Insulin'])\n",
        "  X_train_copy.loc[~ indices, 'Insulin'] = knn.predict(X_train.loc[~ indices, columns])\n",
        "\n",
        "  print('-'*8, k, '-'*16)\n",
        "  cv(skf, X_train_copy, y_train)"
      ],
      "execution_count": 36,
      "outputs": [
        {
          "output_type": "stream",
          "text": [
            "-------- 1 ----------------\n",
            "score: 0.8333\n",
            "score: 0.7727\n",
            "score: 0.7692\n",
            "score: 0.7538\n",
            "score: 0.7846\n",
            "score: 0.7538\n",
            "score: 0.7692\n",
            "score: 0.8154\n",
            "score: 0.7077\n",
            "score: 0.7385\n",
            "mean score: 0.7698 {  }\n",
            "-------- 2 ----------------\n",
            "score: 0.8333\n",
            "score: 0.7879\n",
            "score: 0.7846\n",
            "score: 0.7385\n",
            "score: 0.8000\n",
            "score: 0.7692\n",
            "score: 0.7538\n",
            "score: 0.8000\n",
            "score: 0.7231\n",
            "score: 0.7538\n",
            "mean score: 0.7744 {  }\n",
            "-------- 3 ----------------\n",
            "score: 0.8333\n",
            "score: 0.7879\n",
            "score: 0.7692\n",
            "score: 0.7538\n",
            "score: 0.7846\n",
            "score: 0.7692\n",
            "score: 0.7692\n",
            "score: 0.8000\n",
            "score: 0.7231\n",
            "score: 0.7385\n",
            "mean score: 0.7729 {  }\n",
            "-------- 4 ----------------\n",
            "score: 0.8333\n",
            "score: 0.7879\n",
            "score: 0.7692\n",
            "score: 0.7538\n",
            "score: 0.7846\n",
            "score: 0.7692\n",
            "score: 0.7692\n",
            "score: 0.7846\n",
            "score: 0.7231\n",
            "score: 0.7385\n",
            "mean score: 0.7714 {  }\n",
            "-------- 5 ----------------\n",
            "score: 0.8333\n",
            "score: 0.7879\n",
            "score: 0.7846\n",
            "score: 0.7385\n",
            "score: 0.7846\n",
            "score: 0.7692\n",
            "score: 0.7692\n",
            "score: 0.8154\n",
            "score: 0.7077\n",
            "score: 0.7385\n",
            "mean score: 0.7729 {  }\n",
            "-------- 6 ----------------\n",
            "score: 0.8333\n",
            "score: 0.8030\n",
            "score: 0.7846\n",
            "score: 0.7538\n",
            "score: 0.7846\n",
            "score: 0.7692\n",
            "score: 0.7692\n",
            "score: 0.8154\n",
            "score: 0.7077\n",
            "score: 0.7385\n",
            "mean score: 0.7759 {  }\n",
            "-------- 7 ----------------\n",
            "score: 0.8333\n",
            "score: 0.7879\n",
            "score: 0.7846\n",
            "score: 0.7538\n",
            "score: 0.7846\n",
            "score: 0.7692\n",
            "score: 0.7692\n",
            "score: 0.8000\n",
            "score: 0.7077\n",
            "score: 0.7385\n",
            "mean score: 0.7729 {  }\n",
            "-------- 8 ----------------\n",
            "score: 0.8182\n",
            "score: 0.8182\n",
            "score: 0.7846\n",
            "score: 0.7538\n",
            "score: 0.7846\n",
            "score: 0.7692\n",
            "score: 0.7692\n",
            "score: 0.8154\n",
            "score: 0.7077\n",
            "score: 0.7385\n",
            "mean score: 0.7759 {  }\n",
            "-------- 9 ----------------\n",
            "score: 0.8333\n",
            "score: 0.8182\n",
            "score: 0.7846\n",
            "score: 0.7538\n",
            "score: 0.7846\n",
            "score: 0.7846\n",
            "score: 0.7692\n",
            "score: 0.8154\n",
            "score: 0.7077\n",
            "score: 0.7385\n",
            "mean score: 0.7790 {  }\n",
            "-------- 10 ----------------\n",
            "score: 0.8333\n",
            "score: 0.8182\n",
            "score: 0.7846\n",
            "score: 0.7538\n",
            "score: 0.7692\n",
            "score: 0.7846\n",
            "score: 0.7692\n",
            "score: 0.8000\n",
            "score: 0.7077\n",
            "score: 0.7385\n",
            "mean score: 0.7759 {  }\n",
            "-------- 11 ----------------\n",
            "score: 0.8333\n",
            "score: 0.8030\n",
            "score: 0.7692\n",
            "score: 0.7538\n",
            "score: 0.7692\n",
            "score: 0.7692\n",
            "score: 0.7692\n",
            "score: 0.7846\n",
            "score: 0.7231\n",
            "score: 0.7385\n",
            "mean score: 0.7713 {  }\n",
            "-------- 12 ----------------\n",
            "score: 0.8182\n",
            "score: 0.8030\n",
            "score: 0.7692\n",
            "score: 0.7538\n",
            "score: 0.7846\n",
            "score: 0.7692\n",
            "score: 0.7385\n",
            "score: 0.7846\n",
            "score: 0.7231\n",
            "score: 0.7385\n",
            "mean score: 0.7683 {  }\n",
            "-------- 13 ----------------\n",
            "score: 0.8182\n",
            "score: 0.8030\n",
            "score: 0.7538\n",
            "score: 0.7538\n",
            "score: 0.8000\n",
            "score: 0.7692\n",
            "score: 0.7385\n",
            "score: 0.8000\n",
            "score: 0.7231\n",
            "score: 0.7538\n",
            "mean score: 0.7714 {  }\n",
            "-------- 14 ----------------\n",
            "score: 0.8333\n",
            "score: 0.8182\n",
            "score: 0.7846\n",
            "score: 0.7538\n",
            "score: 0.8000\n",
            "score: 0.7846\n",
            "score: 0.7692\n",
            "score: 0.8000\n",
            "score: 0.7077\n",
            "score: 0.7385\n",
            "mean score: 0.7790 {  }\n",
            "-------- 15 ----------------\n",
            "score: 0.8333\n",
            "score: 0.8030\n",
            "score: 0.7846\n",
            "score: 0.7385\n",
            "score: 0.7846\n",
            "score: 0.7846\n",
            "score: 0.7692\n",
            "score: 0.8000\n",
            "score: 0.7231\n",
            "score: 0.7385\n",
            "mean score: 0.7759 {  }\n",
            "-------- 16 ----------------\n",
            "score: 0.8333\n",
            "score: 0.8030\n",
            "score: 0.7846\n",
            "score: 0.7385\n",
            "score: 0.7846\n",
            "score: 0.7846\n",
            "score: 0.7692\n",
            "score: 0.8000\n",
            "score: 0.7231\n",
            "score: 0.7538\n",
            "mean score: 0.7775 {  }\n",
            "-------- 17 ----------------\n",
            "score: 0.8333\n",
            "score: 0.8030\n",
            "score: 0.7538\n",
            "score: 0.7385\n",
            "score: 0.7846\n",
            "score: 0.7846\n",
            "score: 0.7538\n",
            "score: 0.8154\n",
            "score: 0.7231\n",
            "score: 0.7538\n",
            "mean score: 0.7744 {  }\n",
            "-------- 18 ----------------\n",
            "score: 0.8333\n",
            "score: 0.8030\n",
            "score: 0.7692\n",
            "score: 0.7385\n",
            "score: 0.8000\n",
            "score: 0.7846\n",
            "score: 0.7538\n",
            "score: 0.7846\n",
            "score: 0.7231\n",
            "score: 0.7538\n",
            "mean score: 0.7744 {  }\n",
            "-------- 19 ----------------\n",
            "score: 0.8182\n",
            "score: 0.8030\n",
            "score: 0.7692\n",
            "score: 0.7385\n",
            "score: 0.8000\n",
            "score: 0.7846\n",
            "score: 0.7538\n",
            "score: 0.8000\n",
            "score: 0.7231\n",
            "score: 0.7538\n",
            "mean score: 0.7744 {  }\n",
            "-------- 20 ----------------\n",
            "score: 0.8182\n",
            "score: 0.8030\n",
            "score: 0.7692\n",
            "score: 0.7385\n",
            "score: 0.8000\n",
            "score: 0.7846\n",
            "score: 0.7692\n",
            "score: 0.7846\n",
            "score: 0.7231\n",
            "score: 0.7538\n",
            "mean score: 0.7744 {  }\n"
          ],
          "name": "stdout"
        }
      ]
    },
    {
      "cell_type": "code",
      "metadata": {
        "id": "Fw0j_0JcUfwZ",
        "colab_type": "code",
        "colab": {}
      },
      "source": [
        "# k=9を採用\n",
        "\n",
        "k = 9\n",
        "\n",
        "X_train_copy = X_train.copy()\n",
        "\n",
        "indices = (X_train['SkinThickness'] != 0)\n",
        "knn = KNeighborsClassifier(n_neighbors=k)\n",
        "knn.fit(X_train.loc[indices, columns], X_train.loc[indices, 'SkinThickness'])\n",
        "X_train_copy.loc[~ indices, 'SkinThickness'] = knn.predict(X_train.loc[~ indices, columns])\n",
        "\n",
        "indices = (X_train['Insulin'] != 0)\n",
        "knn = KNeighborsClassifier(n_neighbors=k)\n",
        "knn.fit(X_train.loc[indices, columns], X_train.loc[indices, 'Insulin'])\n",
        "X_train_copy.loc[~ indices, 'Insulin'] = knn.predict(X_train.loc[~ indices, columns])"
      ],
      "execution_count": 37,
      "outputs": []
    },
    {
      "cell_type": "code",
      "metadata": {
        "id": "dgJeArAIPYyp",
        "colab_type": "code",
        "colab": {
          "base_uri": "https://localhost:8080/",
          "height": 296
        },
        "outputId": "7aad72e6-00b7-45d0-bb48-ae6b87e51d4f"
      },
      "source": [
        "sns.distplot(X_train_copy['SkinThickness'], bins=50)"
      ],
      "execution_count": 38,
      "outputs": [
        {
          "output_type": "execute_result",
          "data": {
            "text/plain": [
              "<matplotlib.axes._subplots.AxesSubplot at 0x7f35268dab00>"
            ]
          },
          "metadata": {
            "tags": []
          },
          "execution_count": 38
        },
        {
          "output_type": "display_data",
          "data": {
            "image/png": "[encoded data removed]",
            "text/plain": [
              "<Figure size 432x288 with 1 Axes>"
            ]
          },
          "metadata": {
            "tags": [],
            "needs_background": "light"
          }
        }
      ]
    },
    {
      "cell_type": "code",
      "metadata": {
        "id": "Rr3x6UWQPcoQ",
        "colab_type": "code",
        "colab": {
          "base_uri": "https://localhost:8080/",
          "height": 296
        },
        "outputId": "884ca17e-f17e-44cc-c86f-5b7ba54abf05"
      },
      "source": [
        "sns.distplot(X_train_copy['Insulin'], bins=50)"
      ],
      "execution_count": 39,
      "outputs": [
        {
          "output_type": "execute_result",
          "data": {
            "text/plain": [
              "<matplotlib.axes._subplots.AxesSubplot at 0x7f35258d4940>"
            ]
          },
          "metadata": {
            "tags": []
          },
          "execution_count": 39
        },
        {
          "output_type": "display_data",
          "data": {
            "image/png": "[encoded data removed]",
            "text/plain": [
              "<Figure size 432x288 with 1 Axes>"
            ]
          },
          "metadata": {
            "tags": [],
            "needs_background": "light"
          }
        }
      ]
    },
    {
      "cell_type": "code",
      "metadata": {
        "id": "TVRl23QOPe0d",
        "colab_type": "code",
        "colab": {
          "base_uri": "https://localhost:8080/",
          "height": 202
        },
        "outputId": "cbaba26a-6b2b-457c-9030-d2506e198845"
      },
      "source": [
        "cv(skf, X_train_copy, y_train)"
      ],
      "execution_count": 40,
      "outputs": [
        {
          "output_type": "stream",
          "text": [
            "score: 0.8333\n",
            "score: 0.8182\n",
            "score: 0.7846\n",
            "score: 0.7538\n",
            "score: 0.7846\n",
            "score: 0.7846\n",
            "score: 0.7692\n",
            "score: 0.8154\n",
            "score: 0.7077\n",
            "score: 0.7385\n",
            "mean score: 0.7790 {  }\n"
          ],
          "name": "stdout"
        }
      ]
    },
    {
      "cell_type": "code",
      "metadata": {
        "id": "EAx2BtYAR3R7",
        "colab_type": "code",
        "colab": {}
      },
      "source": [
        "# k=9を使って、テストデータの欠測箇所も埋めておく\n",
        "\n",
        "X_test_copy = X_test.copy()\n",
        "\n",
        "k = 9\n",
        "\n",
        "indices = (X_train['SkinThickness'] != 0)\n",
        "test_missing = (X_test['SkinThickness'] == 0)\n",
        "knn = KNeighborsClassifier(n_neighbors=k)\n",
        "knn.fit(X_train.loc[indices, columns], X_train.loc[indices, 'SkinThickness'])\n",
        "X_test_copy.loc[test_missing, 'SkinThickness'] = knn.predict(X_test.loc[test_missing, columns])\n",
        "\n",
        "indices = (X_train['Insulin'] != 0)\n",
        "test_missing = (X_test['Insulin'] == 0)\n",
        "knn = KNeighborsClassifier(n_neighbors=k)\n",
        "knn.fit(X_train.loc[indices, columns], X_train.loc[indices, 'Insulin'])\n",
        "X_test_copy.loc[test_missing, 'Insulin'] = knn.predict(X_test.loc[test_missing, columns])"
      ],
      "execution_count": 41,
      "outputs": []
    },
    {
      "cell_type": "code",
      "metadata": {
        "id": "ru5oYxqwWL16",
        "colab_type": "code",
        "colab": {
          "base_uri": "https://localhost:8080/",
          "height": 50
        },
        "outputId": "6bc203f0-e33f-4059-8e8c-554c2caab8a1"
      },
      "source": [
        "print((X_test_copy.SkinThickness == 0).sum())\n",
        "print((X_test_copy.Insulin == 0).sum())"
      ],
      "execution_count": 42,
      "outputs": [
        {
          "output_type": "stream",
          "text": [
            "0\n",
            "0\n"
          ],
          "name": "stdout"
        }
      ]
    },
    {
      "cell_type": "code",
      "metadata": {
        "id": "LkvtCrYXWarC",
        "colab_type": "code",
        "colab": {}
      },
      "source": [
        "X_train = X_train_copy\n",
        "X_test = X_test_copy"
      ],
      "execution_count": 43,
      "outputs": []
    },
    {
      "cell_type": "code",
      "metadata": {
        "id": "C29KswDay_OV",
        "colab_type": "code",
        "colab": {
          "base_uri": "https://localhost:8080/",
          "height": 284
        },
        "outputId": "a8b8c058-4044-436c-e925-f6cb81c3f2d5"
      },
      "source": [
        "X_train.describe()"
      ],
      "execution_count": 44,
      "outputs": [
        {
          "output_type": "execute_result",
          "data": {
            "text/html": [
              "<div>\n",
              "<style scoped>\n",
              "    .dataframe tbody tr th:only-of-type {\n",
              "        vertical-align: middle;\n",
              "    }\n",
              "\n",
              "    .dataframe tbody tr th {\n",
              "        vertical-align: top;\n",
              "    }\n",
              "\n",
              "    .dataframe thead th {\n",
              "        text-align: right;\n",
              "    }\n",
              "</style>\n",
              "<table border=\"1\" class=\"dataframe\">\n",
              "  <thead>\n",
              "    <tr style=\"text-align: right;\">\n",
              "      <th></th>\n",
              "      <th>Pregnancies</th>\n",
              "      <th>Glucose</th>\n",
              "      <th>BloodPressure</th>\n",
              "      <th>SkinThickness</th>\n",
              "      <th>Insulin</th>\n",
              "      <th>BMI</th>\n",
              "      <th>DiabetesPedigreeFunction</th>\n",
              "      <th>Age</th>\n",
              "    </tr>\n",
              "  </thead>\n",
              "  <tbody>\n",
              "    <tr>\n",
              "      <th>count</th>\n",
              "      <td>652.000000</td>\n",
              "      <td>652.000000</td>\n",
              "      <td>652.000000</td>\n",
              "      <td>652.000000</td>\n",
              "      <td>652.000000</td>\n",
              "      <td>652.000000</td>\n",
              "      <td>652.000000</td>\n",
              "      <td>652.000000</td>\n",
              "    </tr>\n",
              "    <tr>\n",
              "      <th>mean</th>\n",
              "      <td>3.796012</td>\n",
              "      <td>121.512270</td>\n",
              "      <td>72.374233</td>\n",
              "      <td>27.943252</td>\n",
              "      <td>117.987730</td>\n",
              "      <td>32.515184</td>\n",
              "      <td>0.460816</td>\n",
              "      <td>33.291411</td>\n",
              "    </tr>\n",
              "    <tr>\n",
              "      <th>std</th>\n",
              "      <td>3.325152</td>\n",
              "      <td>30.146975</td>\n",
              "      <td>11.921575</td>\n",
              "      <td>10.474671</td>\n",
              "      <td>94.510997</td>\n",
              "      <td>6.801301</td>\n",
              "      <td>0.321493</td>\n",
              "      <td>11.801392</td>\n",
              "    </tr>\n",
              "    <tr>\n",
              "      <th>min</th>\n",
              "      <td>0.000000</td>\n",
              "      <td>44.000000</td>\n",
              "      <td>24.000000</td>\n",
              "      <td>7.000000</td>\n",
              "      <td>14.000000</td>\n",
              "      <td>18.200000</td>\n",
              "      <td>0.078000</td>\n",
              "      <td>21.000000</td>\n",
              "    </tr>\n",
              "    <tr>\n",
              "      <th>25%</th>\n",
              "      <td>1.000000</td>\n",
              "      <td>100.000000</td>\n",
              "      <td>64.000000</td>\n",
              "      <td>19.000000</td>\n",
              "      <td>61.000000</td>\n",
              "      <td>27.500000</td>\n",
              "      <td>0.238000</td>\n",
              "      <td>24.000000</td>\n",
              "    </tr>\n",
              "    <tr>\n",
              "      <th>50%</th>\n",
              "      <td>3.000000</td>\n",
              "      <td>117.000000</td>\n",
              "      <td>72.000000</td>\n",
              "      <td>28.000000</td>\n",
              "      <td>100.000000</td>\n",
              "      <td>32.400000</td>\n",
              "      <td>0.364500</td>\n",
              "      <td>29.000000</td>\n",
              "    </tr>\n",
              "    <tr>\n",
              "      <th>75%</th>\n",
              "      <td>6.000000</td>\n",
              "      <td>141.000000</td>\n",
              "      <td>80.000000</td>\n",
              "      <td>35.000000</td>\n",
              "      <td>140.000000</td>\n",
              "      <td>36.600000</td>\n",
              "      <td>0.605000</td>\n",
              "      <td>41.000000</td>\n",
              "    </tr>\n",
              "    <tr>\n",
              "      <th>max</th>\n",
              "      <td>17.000000</td>\n",
              "      <td>199.000000</td>\n",
              "      <td>122.000000</td>\n",
              "      <td>99.000000</td>\n",
              "      <td>744.000000</td>\n",
              "      <td>59.400000</td>\n",
              "      <td>2.420000</td>\n",
              "      <td>81.000000</td>\n",
              "    </tr>\n",
              "  </tbody>\n",
              "</table>\n",
              "</div>"
            ],
            "text/plain": [
              "       Pregnancies     Glucose  ...  DiabetesPedigreeFunction         Age\n",
              "count   652.000000  652.000000  ...                652.000000  652.000000\n",
              "mean      3.796012  121.512270  ...                  0.460816   33.291411\n",
              "std       3.325152   30.146975  ...                  0.321493   11.801392\n",
              "min       0.000000   44.000000  ...                  0.078000   21.000000\n",
              "25%       1.000000  100.000000  ...                  0.238000   24.000000\n",
              "50%       3.000000  117.000000  ...                  0.364500   29.000000\n",
              "75%       6.000000  141.000000  ...                  0.605000   41.000000\n",
              "max      17.000000  199.000000  ...                  2.420000   81.000000\n",
              "\n",
              "[8 rows x 8 columns]"
            ]
          },
          "metadata": {
            "tags": []
          },
          "execution_count": 44
        }
      ]
    },
    {
      "cell_type": "markdown",
      "metadata": {
        "id": "iLd-Rg8RlUtj",
        "colab_type": "text"
      },
      "source": [
        "### J) スケーラーを使ってみる。"
      ]
    },
    {
      "cell_type": "code",
      "metadata": {
        "id": "fnNi8kaXrDQP",
        "colab_type": "code",
        "colab": {
          "base_uri": "https://localhost:8080/",
          "height": 202
        },
        "outputId": "7234b2d4-d6de-4676-f97c-1b28bb8bf992"
      },
      "source": [
        "from sklearn.preprocessing import MinMaxScaler\n",
        "\n",
        "scaler = MinMaxScaler()\n",
        "scaler.fit(X_train)\n",
        "X_train_temp = X_train.copy()\n",
        "X_train_temp[X_train.columns] = scaler.transform(X_train)\n",
        "cv(skf, X_train_temp, y_train)"
      ],
      "execution_count": 45,
      "outputs": [
        {
          "output_type": "stream",
          "text": [
            "score: 0.8030\n",
            "score: 0.8030\n",
            "score: 0.7538\n",
            "score: 0.7385\n",
            "score: 0.7846\n",
            "score: 0.7692\n",
            "score: 0.7231\n",
            "score: 0.7846\n",
            "score: 0.7231\n",
            "score: 0.7385\n",
            "mean score: 0.7621 {  }\n"
          ],
          "name": "stdout"
        }
      ]
    },
    {
      "cell_type": "code",
      "metadata": {
        "id": "CxAI7gORc5td",
        "colab_type": "code",
        "colab": {
          "base_uri": "https://localhost:8080/",
          "height": 202
        },
        "outputId": "f2575cdb-aee8-4963-ce66-9e9fa3cdde12"
      },
      "source": [
        "from sklearn.preprocessing import StandardScaler\n",
        "\n",
        "scaler = StandardScaler()\n",
        "scaler.fit(X_train)\n",
        "X_train_temp = X_train.copy()\n",
        "X_train_temp[X_train.columns] = scaler.transform(X_train)\n",
        "cv(skf, X_train_temp, y_train)"
      ],
      "execution_count": 46,
      "outputs": [
        {
          "output_type": "stream",
          "text": [
            "score: 0.8182\n",
            "score: 0.8182\n",
            "score: 0.7846\n",
            "score: 0.7538\n",
            "score: 0.7846\n",
            "score: 0.7692\n",
            "score: 0.7692\n",
            "score: 0.8000\n",
            "score: 0.7077\n",
            "score: 0.7385\n",
            "mean score: 0.7744 {  }\n"
          ],
          "name": "stdout"
        }
      ]
    },
    {
      "cell_type": "markdown",
      "metadata": {
        "id": "l3W1GQ_34qhY",
        "colab_type": "text"
      },
      "source": [
        "いずれも不採用。"
      ]
    },
    {
      "cell_type": "markdown",
      "metadata": {
        "id": "0zFe16YjmHPf",
        "colab_type": "text"
      },
      "source": [
        "### K) 正則化パラメータCをチューニングする。"
      ]
    },
    {
      "cell_type": "code",
      "metadata": {
        "id": "UhjQGKFaJiGH",
        "colab_type": "code",
        "colab": {
          "base_uri": "https://localhost:8080/",
          "height": 1000
        },
        "outputId": "40e4ab74-1ca6-4acc-fc63-6196868f9d03"
      },
      "source": [
        "for C in np.power(10.0, np.arange(13) - 5):\n",
        "  cv(skf, X_train, y_train, {'C':C})"
      ],
      "execution_count": 47,
      "outputs": [
        {
          "output_type": "stream",
          "text": [
            "score: 0.7273\n",
            "score: 0.7727\n",
            "score: 0.7385\n",
            "score: 0.6923\n",
            "score: 0.7846\n",
            "score: 0.7846\n",
            "score: 0.6769\n",
            "score: 0.7385\n",
            "score: 0.7231\n",
            "score: 0.7231\n",
            "mean score: 0.7362 { \"C\":1e-05 }\n",
            "score: 0.8485\n",
            "score: 0.8182\n",
            "score: 0.7692\n",
            "score: 0.6769\n",
            "score: 0.7538\n",
            "score: 0.7538\n",
            "score: 0.6923\n",
            "score: 0.7538\n",
            "score: 0.7231\n",
            "score: 0.7538\n",
            "mean score: 0.7544 { \"C\":0.0001 }\n",
            "score: 0.8182\n",
            "score: 0.8030\n",
            "score: 0.7692\n",
            "score: 0.7385\n",
            "score: 0.7692\n",
            "score: 0.7846\n",
            "score: 0.7077\n",
            "score: 0.7846\n",
            "score: 0.7385\n",
            "score: 0.7692\n",
            "mean score: 0.7683 { \"C\":0.001 }\n",
            "score: 0.8333\n",
            "score: 0.7727\n",
            "score: 0.7692\n",
            "score: 0.7538\n",
            "score: 0.7692\n",
            "score: 0.7692\n",
            "score: 0.7538\n",
            "score: 0.8000\n",
            "score: 0.7077\n",
            "score: 0.7538\n",
            "mean score: 0.7683 { \"C\":0.01 }\n",
            "score: 0.8333\n",
            "score: 0.7879\n",
            "score: 0.7692\n",
            "score: 0.7538\n",
            "score: 0.7846\n",
            "score: 0.7538\n",
            "score: 0.7538\n",
            "score: 0.8154\n",
            "score: 0.7077\n",
            "score: 0.7538\n",
            "mean score: 0.7714 { \"C\":0.1 }\n",
            "score: 0.8333\n",
            "score: 0.8182\n",
            "score: 0.7846\n",
            "score: 0.7538\n",
            "score: 0.7846\n",
            "score: 0.7846\n",
            "score: 0.7692\n",
            "score: 0.8154\n",
            "score: 0.7077\n",
            "score: 0.7385\n",
            "mean score: 0.7790 { \"C\":1.0 }\n",
            "score: 0.8182\n",
            "score: 0.8182\n",
            "score: 0.7846\n",
            "score: 0.7538\n",
            "score: 0.7846\n",
            "score: 0.7846\n",
            "score: 0.7692\n",
            "score: 0.8000\n",
            "score: 0.7077\n",
            "score: 0.7385\n",
            "mean score: 0.7759 { \"C\":10.0 }\n",
            "score: 0.8182\n",
            "score: 0.8182\n",
            "score: 0.7846\n",
            "score: 0.7538\n",
            "score: 0.7846\n",
            "score: 0.7846\n",
            "score: 0.7692\n",
            "score: 0.8000\n",
            "score: 0.7077\n",
            "score: 0.7538\n",
            "mean score: 0.7775 { \"C\":100.0 }\n",
            "score: 0.8182\n",
            "score: 0.8182\n",
            "score: 0.7846\n",
            "score: 0.7538\n",
            "score: 0.7846\n",
            "score: 0.7846\n",
            "score: 0.7692\n",
            "score: 0.8000\n",
            "score: 0.7077\n",
            "score: 0.7538\n",
            "mean score: 0.7775 { \"C\":1000.0 }\n",
            "score: 0.8182\n",
            "score: 0.8182\n",
            "score: 0.7846\n",
            "score: 0.7538\n",
            "score: 0.7846\n",
            "score: 0.7846\n",
            "score: 0.7692\n",
            "score: 0.8000\n",
            "score: 0.7077\n",
            "score: 0.7538\n",
            "mean score: 0.7775 { \"C\":10000.0 }\n",
            "score: 0.8182\n",
            "score: 0.8182\n",
            "score: 0.7846\n",
            "score: 0.7538\n",
            "score: 0.7846\n",
            "score: 0.7846\n",
            "score: 0.7692\n",
            "score: 0.8000\n",
            "score: 0.7077\n",
            "score: 0.7538\n",
            "mean score: 0.7775 { \"C\":100000.0 }\n",
            "score: 0.8182\n",
            "score: 0.8182\n",
            "score: 0.7846\n",
            "score: 0.7538\n",
            "score: 0.7846\n",
            "score: 0.7846\n",
            "score: 0.7692\n",
            "score: 0.8000\n",
            "score: 0.7077\n",
            "score: 0.7538\n",
            "mean score: 0.7775 { \"C\":1000000.0 }\n",
            "score: 0.8182\n",
            "score: 0.8182\n",
            "score: 0.7846\n",
            "score: 0.7538\n",
            "score: 0.7846\n",
            "score: 0.7846\n",
            "score: 0.7692\n",
            "score: 0.8000\n",
            "score: 0.7077\n",
            "score: 0.7538\n",
            "mean score: 0.7775 { \"C\":10000000.0 }\n"
          ],
          "name": "stdout"
        }
      ]
    },
    {
      "cell_type": "code",
      "metadata": {
        "id": "QyhlQ1jy1Zf7",
        "colab_type": "code",
        "colab": {
          "base_uri": "https://localhost:8080/",
          "height": 1000
        },
        "outputId": "8e4ae219-b4f1-43c0-d87c-a9444c571690"
      },
      "source": [
        "for C in np.power(10.0, np.arange(13) - 5):\n",
        "  cv(skf, X_train, y_train, {'C':C, 'penalty':'l1', 'solver':'liblinear', 'max_iter':5000})"
      ],
      "execution_count": 48,
      "outputs": [
        {
          "output_type": "stream",
          "text": [
            "score: 0.6515\n",
            "score: 0.6515\n",
            "score: 0.6615\n",
            "score: 0.6615\n",
            "score: 0.6615\n",
            "score: 0.6615\n",
            "score: 0.6615\n",
            "score: 0.6615\n",
            "score: 0.6462\n",
            "score: 0.6462\n",
            "mean score: 0.6565 { \"C\":1e-05 \"penalty\":l1 \"solver\":liblinear \"max_iter\":5000 }\n",
            "score: 0.6515\n",
            "score: 0.6515\n",
            "score: 0.6615\n",
            "score: 0.6615\n",
            "score: 0.6615\n",
            "score: 0.6615\n",
            "score: 0.6615\n",
            "score: 0.6615\n",
            "score: 0.6462\n",
            "score: 0.6462\n",
            "mean score: 0.6565 { \"C\":0.0001 \"penalty\":l1 \"solver\":liblinear \"max_iter\":5000 }\n",
            "score: 0.6364\n",
            "score: 0.6515\n",
            "score: 0.6615\n",
            "score: 0.6308\n",
            "score: 0.6769\n",
            "score: 0.6769\n",
            "score: 0.6154\n",
            "score: 0.6615\n",
            "score: 0.6615\n",
            "score: 0.6308\n",
            "mean score: 0.6503 { \"C\":0.001 \"penalty\":l1 \"solver\":liblinear \"max_iter\":5000 }\n",
            "score: 0.7121\n",
            "score: 0.7273\n",
            "score: 0.7231\n",
            "score: 0.6615\n",
            "score: 0.6308\n",
            "score: 0.6769\n",
            "score: 0.6000\n",
            "score: 0.6769\n",
            "score: 0.6923\n",
            "score: 0.7231\n",
            "mean score: 0.6824 { \"C\":0.01 \"penalty\":l1 \"solver\":liblinear \"max_iter\":5000 }\n",
            "score: 0.7576\n",
            "score: 0.7424\n",
            "score: 0.7231\n",
            "score: 0.7231\n",
            "score: 0.6923\n",
            "score: 0.7077\n",
            "score: 0.6615\n",
            "score: 0.7077\n",
            "score: 0.7385\n",
            "score: 0.7385\n",
            "mean score: 0.7192 { \"C\":0.1 \"penalty\":l1 \"solver\":liblinear \"max_iter\":5000 }\n",
            "score: 0.8182\n",
            "score: 0.8030\n",
            "score: 0.7692\n",
            "score: 0.7538\n",
            "score: 0.7846\n",
            "score: 0.7692\n",
            "score: 0.7538\n",
            "score: 0.7846\n",
            "score: 0.7077\n",
            "score: 0.7385\n",
            "mean score: 0.7683 { \"C\":1.0 \"penalty\":l1 \"solver\":liblinear \"max_iter\":5000 }\n",
            "score: 0.8182\n",
            "score: 0.8182\n",
            "score: 0.7846\n",
            "score: 0.7538\n",
            "score: 0.7846\n",
            "score: 0.7846\n",
            "score: 0.7692\n",
            "score: 0.8000\n",
            "score: 0.7077\n",
            "score: 0.7385\n",
            "mean score: 0.7759 { \"C\":10.0 \"penalty\":l1 \"solver\":liblinear \"max_iter\":5000 }\n",
            "score: 0.8182\n",
            "score: 0.8182\n",
            "score: 0.7846\n",
            "score: 0.7538\n",
            "score: 0.7846\n",
            "score: 0.7846\n",
            "score: 0.7692\n",
            "score: 0.8000\n",
            "score: 0.7077\n",
            "score: 0.7538\n",
            "mean score: 0.7775 { \"C\":100.0 \"penalty\":l1 \"solver\":liblinear \"max_iter\":5000 }\n",
            "score: 0.8182\n",
            "score: 0.8182\n",
            "score: 0.7846\n",
            "score: 0.7538\n",
            "score: 0.7846\n",
            "score: 0.7846\n",
            "score: 0.7692\n",
            "score: 0.8000\n",
            "score: 0.7077\n",
            "score: 0.7538\n",
            "mean score: 0.7775 { \"C\":1000.0 \"penalty\":l1 \"solver\":liblinear \"max_iter\":5000 }\n",
            "score: 0.8182\n",
            "score: 0.8182\n",
            "score: 0.7846\n",
            "score: 0.7538\n",
            "score: 0.7846\n",
            "score: 0.7846\n",
            "score: 0.7692\n",
            "score: 0.8000\n",
            "score: 0.7077\n",
            "score: 0.7538\n",
            "mean score: 0.7775 { \"C\":10000.0 \"penalty\":l1 \"solver\":liblinear \"max_iter\":5000 }\n",
            "score: 0.8182\n",
            "score: 0.8182\n",
            "score: 0.7846\n",
            "score: 0.7538\n",
            "score: 0.7846\n",
            "score: 0.7846\n",
            "score: 0.7692\n",
            "score: 0.8000\n",
            "score: 0.7077\n",
            "score: 0.7538\n",
            "mean score: 0.7775 { \"C\":100000.0 \"penalty\":l1 \"solver\":liblinear \"max_iter\":5000 }\n",
            "score: 0.8182\n",
            "score: 0.8182\n",
            "score: 0.7846\n",
            "score: 0.7538\n",
            "score: 0.7846\n",
            "score: 0.7846\n",
            "score: 0.7692\n",
            "score: 0.8000\n",
            "score: 0.7077\n",
            "score: 0.7538\n",
            "mean score: 0.7775 { \"C\":1000000.0 \"penalty\":l1 \"solver\":liblinear \"max_iter\":5000 }\n",
            "score: 0.8182\n",
            "score: 0.8182\n",
            "score: 0.7846\n",
            "score: 0.7538\n",
            "score: 0.7846\n",
            "score: 0.7846\n",
            "score: 0.7692\n",
            "score: 0.8000\n",
            "score: 0.7077\n",
            "score: 0.7538\n",
            "mean score: 0.7775 { \"C\":10000000.0 \"penalty\":l1 \"solver\":liblinear \"max_iter\":5000 }\n"
          ],
          "name": "stdout"
        }
      ]
    },
    {
      "cell_type": "markdown",
      "metadata": {
        "id": "JRev-b-58NlQ",
        "colab_type": "text"
      },
      "source": [
        "デフォルト値を採用。"
      ]
    },
    {
      "cell_type": "code",
      "metadata": {
        "id": "_b3KW2dXRU9t",
        "colab_type": "code",
        "colab": {
          "base_uri": "https://localhost:8080/",
          "height": 202
        },
        "outputId": "eb3a9c3a-2e92-4c4d-9bc7-3830fe41d0d2"
      },
      "source": [
        "cv(skf, X_train, y_train)"
      ],
      "execution_count": 49,
      "outputs": [
        {
          "output_type": "stream",
          "text": [
            "score: 0.8333\n",
            "score: 0.8182\n",
            "score: 0.7846\n",
            "score: 0.7538\n",
            "score: 0.7846\n",
            "score: 0.7846\n",
            "score: 0.7692\n",
            "score: 0.8154\n",
            "score: 0.7077\n",
            "score: 0.7385\n",
            "mean score: 0.7790 {  }\n"
          ],
          "name": "stdout"
        }
      ]
    },
    {
      "cell_type": "markdown",
      "metadata": {
        "id": "UNavOCyN2hZr",
        "colab_type": "text"
      },
      "source": [
        "### L) テストデータで最終評価"
      ]
    },
    {
      "cell_type": "code",
      "metadata": {
        "id": "H-c0X3gCJwsq",
        "colab_type": "code",
        "colab": {
          "base_uri": "https://localhost:8080/",
          "height": 34
        },
        "outputId": "85a6ae21-8b87-431f-bf21-cf59b506394c"
      },
      "source": [
        "logreg = LogisticRegression(C=10, max_iter=1000, random_state=123)\n",
        "logreg.fit(X_train, y_train)\n",
        "print('test score: {:.4f}'.format(logreg.score(X_test, y_test)))"
      ],
      "execution_count": 50,
      "outputs": [
        {
          "output_type": "stream",
          "text": [
            "test score: 0.7759\n"
          ],
          "name": "stdout"
        }
      ]
    },
    {
      "cell_type": "code",
      "metadata": {
        "id": "KayAjOl5x_On",
        "colab_type": "code",
        "colab": {
          "base_uri": "https://localhost:8080/",
          "height": 34
        },
        "outputId": "d5cb49fa-6e35-4cd9-a8c5-b5c26b113812"
      },
      "source": [
        "# The area under ROC curveも計算してみる。\n",
        "\n",
        "from sklearn.metrics import roc_auc_score\n",
        "\n",
        "y_test_pred = logreg.predict(X_test)\n",
        "print('ROC AUC: {:.4f}'.format(roc_auc_score(y_test, y_test_pred)))"
      ],
      "execution_count": 51,
      "outputs": [
        {
          "output_type": "stream",
          "text": [
            "ROC AUC: 0.7399\n"
          ],
          "name": "stdout"
        }
      ]
    },
    {
      "cell_type": "code",
      "metadata": {
        "id": "WopC3aJ02PVO",
        "colab_type": "code",
        "colab": {}
      },
      "source": [
        ""
      ],
      "execution_count": 51,
      "outputs": []
    }
  ]
}