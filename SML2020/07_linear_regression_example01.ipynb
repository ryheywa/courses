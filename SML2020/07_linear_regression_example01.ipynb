{
  "nbformat": 4,
  "nbformat_minor": 0,
  "metadata": {
    "colab": {
      "name": "07_linear_regression_example01.ipynb",
      "provenance": [],
      "collapsed_sections": [],
      "authorship_tag": "ABX9TyNccb9/punh0kFC+/m7toNG",
      "include_colab_link": true
    },
    "kernelspec": {
      "name": "python3",
      "display_name": "Python 3"
    }
  },
  "cells": [
    {
      "cell_type": "markdown",
      "metadata": {
        "id": "view-in-github",
        "colab_type": "text"
      },
      "source": [
        "<a href=\"https://colab.research.google.com/github/tomonari-masada/courses/blob/master/SML2020/07_linear_regression_example01.ipynb\" target=\"_parent\"><img src=\"https://colab.research.google.com/assets/colab-badge.svg\" alt=\"Open In Colab\"/></a>"
      ]
    },
    {
      "cell_type": "markdown",
      "metadata": {
        "id": "gaQ8dO7PH-Ie",
        "colab_type": "text"
      },
      "source": [
        "# 重回帰による住宅価格の予測\n",
        "\n",
        "* California housing datasetという有名なデータセットを使う。\n",
        "\n",
        "* (scikit-learnからロードできるバージョンは、前処理が済んだキレイなデータなので、ここでは使わない。)\n",
        "\n",
        "* データの取得や前処理の一部は、\n",
        "[Aurélien Géron. Hands-On Machine Learning with Scikit-Learn, Keras, and TensorFlow, 2nd Edition.](https://www.oreilly.com/library/view/hands-on-machine-learning/9781492032632/) の2章と同じ。"
      ]
    },
    {
      "cell_type": "markdown",
      "metadata": {
        "id": "qq5XK_sNjhTU",
        "colab_type": "text"
      },
      "source": [
        "# 結論\n",
        "\n",
        "* 多項式特徴量を次数3で使うのが良いようだ。"
      ]
    },
    {
      "cell_type": "markdown",
      "metadata": {
        "id": "B0ueH1eZQkV0",
        "colab_type": "text"
      },
      "source": [
        "### 1) データを取得"
      ]
    },
    {
      "cell_type": "code",
      "metadata": {
        "id": "g-8ombKtQkBM",
        "colab_type": "code",
        "colab": {}
      },
      "source": [
        "import os\n",
        "import tarfile\n",
        "from six.moves import urllib\n",
        "\n",
        "DOWNLOAD_ROOT = \"https://raw.githubusercontent.com/ageron/handson-ml/master/\"\n",
        "HOUSING_PATH = os.path.join(\"datasets\", \"housing\")\n",
        "HOUSING_URL = DOWNLOAD_ROOT + \"datasets/housing/housing.tgz\"\n",
        "\n",
        "def fetch_housing_data(housing_url=HOUSING_URL, housing_path=HOUSING_PATH):\n",
        "    os.makedirs(housing_path, exist_ok=True)\n",
        "    tgz_path = os.path.join(housing_path, \"housing.tgz\")\n",
        "    urllib.request.urlretrieve(housing_url, tgz_path)\n",
        "    housing_tgz = tarfile.open(tgz_path)\n",
        "    housing_tgz.extractall(path=housing_path)\n",
        "    housing_tgz.close()"
      ],
      "execution_count": 1,
      "outputs": []
    },
    {
      "cell_type": "code",
      "metadata": {
        "id": "Ewm8TpCMQj4X",
        "colab_type": "code",
        "colab": {}
      },
      "source": [
        "fetch_housing_data()"
      ],
      "execution_count": 2,
      "outputs": []
    },
    {
      "cell_type": "code",
      "metadata": {
        "id": "qybD5v56JrtS",
        "colab_type": "code",
        "colab": {}
      },
      "source": [
        "import pandas as pd\n",
        "\n",
        "def load_housing_data(housing_path=HOUSING_PATH):\n",
        "    csv_path = os.path.join(housing_path, \"housing.csv\")\n",
        "    return pd.read_csv(csv_path)"
      ],
      "execution_count": 3,
      "outputs": []
    },
    {
      "cell_type": "markdown",
      "metadata": {
        "id": "EUzt-Kn9Ht91",
        "colab_type": "text"
      },
      "source": [
        "（ここより上の詳細はフォローしなくてもいいいです。）"
      ]
    },
    {
      "cell_type": "code",
      "metadata": {
        "id": "_L5MBp4WQjeb",
        "colab_type": "code",
        "colab": {
          "base_uri": "https://localhost:8080/",
          "height": 215
        },
        "outputId": "37280607-957e-4ba8-919d-0df2eee699f6"
      },
      "source": [
        "housing = load_housing_data()\n",
        "housing.head()"
      ],
      "execution_count": 4,
      "outputs": [
        {
          "output_type": "execute_result",
          "data": {
            "text/html": [
              "<div>\n",
              "<style scoped>\n",
              "    .dataframe tbody tr th:only-of-type {\n",
              "        vertical-align: middle;\n",
              "    }\n",
              "\n",
              "    .dataframe tbody tr th {\n",
              "        vertical-align: top;\n",
              "    }\n",
              "\n",
              "    .dataframe thead th {\n",
              "        text-align: right;\n",
              "    }\n",
              "</style>\n",
              "<table border=\"1\" class=\"dataframe\">\n",
              "  <thead>\n",
              "    <tr style=\"text-align: right;\">\n",
              "      <th></th>\n",
              "      <th>longitude</th>\n",
              "      <th>latitude</th>\n",
              "      <th>housing_median_age</th>\n",
              "      <th>total_rooms</th>\n",
              "      <th>total_bedrooms</th>\n",
              "      <th>population</th>\n",
              "      <th>households</th>\n",
              "      <th>median_income</th>\n",
              "      <th>median_house_value</th>\n",
              "      <th>ocean_proximity</th>\n",
              "    </tr>\n",
              "  </thead>\n",
              "  <tbody>\n",
              "    <tr>\n",
              "      <th>0</th>\n",
              "      <td>-122.23</td>\n",
              "      <td>37.88</td>\n",
              "      <td>41.0</td>\n",
              "      <td>880.0</td>\n",
              "      <td>129.0</td>\n",
              "      <td>322.0</td>\n",
              "      <td>126.0</td>\n",
              "      <td>8.3252</td>\n",
              "      <td>452600.0</td>\n",
              "      <td>NEAR BAY</td>\n",
              "    </tr>\n",
              "    <tr>\n",
              "      <th>1</th>\n",
              "      <td>-122.22</td>\n",
              "      <td>37.86</td>\n",
              "      <td>21.0</td>\n",
              "      <td>7099.0</td>\n",
              "      <td>1106.0</td>\n",
              "      <td>2401.0</td>\n",
              "      <td>1138.0</td>\n",
              "      <td>8.3014</td>\n",
              "      <td>358500.0</td>\n",
              "      <td>NEAR BAY</td>\n",
              "    </tr>\n",
              "    <tr>\n",
              "      <th>2</th>\n",
              "      <td>-122.24</td>\n",
              "      <td>37.85</td>\n",
              "      <td>52.0</td>\n",
              "      <td>1467.0</td>\n",
              "      <td>190.0</td>\n",
              "      <td>496.0</td>\n",
              "      <td>177.0</td>\n",
              "      <td>7.2574</td>\n",
              "      <td>352100.0</td>\n",
              "      <td>NEAR BAY</td>\n",
              "    </tr>\n",
              "    <tr>\n",
              "      <th>3</th>\n",
              "      <td>-122.25</td>\n",
              "      <td>37.85</td>\n",
              "      <td>52.0</td>\n",
              "      <td>1274.0</td>\n",
              "      <td>235.0</td>\n",
              "      <td>558.0</td>\n",
              "      <td>219.0</td>\n",
              "      <td>5.6431</td>\n",
              "      <td>341300.0</td>\n",
              "      <td>NEAR BAY</td>\n",
              "    </tr>\n",
              "    <tr>\n",
              "      <th>4</th>\n",
              "      <td>-122.25</td>\n",
              "      <td>37.85</td>\n",
              "      <td>52.0</td>\n",
              "      <td>1627.0</td>\n",
              "      <td>280.0</td>\n",
              "      <td>565.0</td>\n",
              "      <td>259.0</td>\n",
              "      <td>3.8462</td>\n",
              "      <td>342200.0</td>\n",
              "      <td>NEAR BAY</td>\n",
              "    </tr>\n",
              "  </tbody>\n",
              "</table>\n",
              "</div>"
            ],
            "text/plain": [
              "   longitude  latitude  ...  median_house_value  ocean_proximity\n",
              "0    -122.23     37.88  ...            452600.0         NEAR BAY\n",
              "1    -122.22     37.86  ...            358500.0         NEAR BAY\n",
              "2    -122.24     37.85  ...            352100.0         NEAR BAY\n",
              "3    -122.25     37.85  ...            341300.0         NEAR BAY\n",
              "4    -122.25     37.85  ...            342200.0         NEAR BAY\n",
              "\n",
              "[5 rows x 10 columns]"
            ]
          },
          "metadata": {
            "tags": []
          },
          "execution_count": 4
        }
      ]
    },
    {
      "cell_type": "markdown",
      "metadata": {
        "id": "nl9YJ6M-RFGR",
        "colab_type": "text"
      },
      "source": [
        "### 2) データを概観しつつ前処理"
      ]
    },
    {
      "cell_type": "code",
      "metadata": {
        "id": "OGJP-5qhNnoz",
        "colab_type": "code",
        "colab": {
          "base_uri": "https://localhost:8080/",
          "height": 302
        },
        "outputId": "ff80bd9b-ddc4-45b3-9eec-d930c837f2e2"
      },
      "source": [
        "housing.info()"
      ],
      "execution_count": 5,
      "outputs": [
        {
          "output_type": "stream",
          "text": [
            "<class 'pandas.core.frame.DataFrame'>\n",
            "RangeIndex: 20640 entries, 0 to 20639\n",
            "Data columns (total 10 columns):\n",
            " #   Column              Non-Null Count  Dtype  \n",
            "---  ------              --------------  -----  \n",
            " 0   longitude           20640 non-null  float64\n",
            " 1   latitude            20640 non-null  float64\n",
            " 2   housing_median_age  20640 non-null  float64\n",
            " 3   total_rooms         20640 non-null  float64\n",
            " 4   total_bedrooms      20433 non-null  float64\n",
            " 5   population          20640 non-null  float64\n",
            " 6   households          20640 non-null  float64\n",
            " 7   median_income       20640 non-null  float64\n",
            " 8   median_house_value  20640 non-null  float64\n",
            " 9   ocean_proximity     20640 non-null  object \n",
            "dtypes: float64(9), object(1)\n",
            "memory usage: 1.6+ MB\n"
          ],
          "name": "stdout"
        }
      ]
    },
    {
      "cell_type": "code",
      "metadata": {
        "id": "UUcTzYmBNp4g",
        "colab_type": "code",
        "colab": {
          "base_uri": "https://localhost:8080/",
          "height": 118
        },
        "outputId": "7f152fdf-a06c-478c-d8ee-9d6feddad6f2"
      },
      "source": [
        "# 数値データではない列が一つだけある\n",
        "\n",
        "housing['ocean_proximity'].value_counts()"
      ],
      "execution_count": 6,
      "outputs": [
        {
          "output_type": "execute_result",
          "data": {
            "text/plain": [
              "<1H OCEAN     9136\n",
              "INLAND        6551\n",
              "NEAR OCEAN    2658\n",
              "NEAR BAY      2290\n",
              "ISLAND           5\n",
              "Name: ocean_proximity, dtype: int64"
            ]
          },
          "metadata": {
            "tags": []
          },
          "execution_count": 6
        }
      ]
    },
    {
      "cell_type": "code",
      "metadata": {
        "id": "Ac-bD3EfS9U6",
        "colab_type": "code",
        "colab": {}
      },
      "source": [
        "# この数値データではない列を消してしまう\n",
        "# （ここを変更してもいいです） \n",
        "# ↑ これはおかしかったです。ここを変えると、この後のtest setの分割も変わってしまうので。\n",
        "# なので、ここは変更せずに進めます。\n",
        "\n",
        "housing_num = housing.drop('ocean_proximity', axis=1)"
      ],
      "execution_count": 7,
      "outputs": []
    },
    {
      "cell_type": "code",
      "metadata": {
        "id": "FkOo-YDuTg5l",
        "colab_type": "code",
        "colab": {
          "base_uri": "https://localhost:8080/",
          "height": 286
        },
        "outputId": "d95b8437-7cdf-4688-cca7-7e786704247c"
      },
      "source": [
        "housing_num.info()"
      ],
      "execution_count": 8,
      "outputs": [
        {
          "output_type": "stream",
          "text": [
            "<class 'pandas.core.frame.DataFrame'>\n",
            "RangeIndex: 20640 entries, 0 to 20639\n",
            "Data columns (total 9 columns):\n",
            " #   Column              Non-Null Count  Dtype  \n",
            "---  ------              --------------  -----  \n",
            " 0   longitude           20640 non-null  float64\n",
            " 1   latitude            20640 non-null  float64\n",
            " 2   housing_median_age  20640 non-null  float64\n",
            " 3   total_rooms         20640 non-null  float64\n",
            " 4   total_bedrooms      20433 non-null  float64\n",
            " 5   population          20640 non-null  float64\n",
            " 6   households          20640 non-null  float64\n",
            " 7   median_income       20640 non-null  float64\n",
            " 8   median_house_value  20640 non-null  float64\n",
            "dtypes: float64(9)\n",
            "memory usage: 1.4 MB\n"
          ],
          "name": "stdout"
        }
      ]
    },
    {
      "cell_type": "code",
      "metadata": {
        "id": "UfaKuLw0TsgQ",
        "colab_type": "code",
        "colab": {}
      },
      "source": [
        "# Non-Null Countが他より少ない列がある\n",
        "# ここでは単に削除することにする\n",
        "# （ここを変更してもいいです）\n",
        "# ↑ これはおかしかったです。ここを変えると、この後のtest setの分割も変わってしまうので。\n",
        "# なので、ここは変更せずに進めます。\n",
        "\n",
        "housing_num = housing_num.dropna(subset=['total_bedrooms'])"
      ],
      "execution_count": 9,
      "outputs": []
    },
    {
      "cell_type": "code",
      "metadata": {
        "id": "cbMVHFEyUFhw",
        "colab_type": "code",
        "colab": {
          "base_uri": "https://localhost:8080/",
          "height": 286
        },
        "outputId": "287e3497-90e0-428c-c0a4-49cdac9d6f73"
      },
      "source": [
        "housing_num.info()"
      ],
      "execution_count": 10,
      "outputs": [
        {
          "output_type": "stream",
          "text": [
            "<class 'pandas.core.frame.DataFrame'>\n",
            "Int64Index: 20433 entries, 0 to 20639\n",
            "Data columns (total 9 columns):\n",
            " #   Column              Non-Null Count  Dtype  \n",
            "---  ------              --------------  -----  \n",
            " 0   longitude           20433 non-null  float64\n",
            " 1   latitude            20433 non-null  float64\n",
            " 2   housing_median_age  20433 non-null  float64\n",
            " 3   total_rooms         20433 non-null  float64\n",
            " 4   total_bedrooms      20433 non-null  float64\n",
            " 5   population          20433 non-null  float64\n",
            " 6   households          20433 non-null  float64\n",
            " 7   median_income       20433 non-null  float64\n",
            " 8   median_house_value  20433 non-null  float64\n",
            "dtypes: float64(9)\n",
            "memory usage: 1.6 MB\n"
          ],
          "name": "stdout"
        }
      ]
    },
    {
      "cell_type": "code",
      "metadata": {
        "id": "M28tUOwREhEe",
        "colab_type": "code",
        "colab": {}
      },
      "source": [
        "# 説明変数と目的変数を分ける\n",
        "\n",
        "X = housing_num.drop('median_house_value', axis=1)\n",
        "y = housing_num[\"median_house_value\"].copy()"
      ],
      "execution_count": 11,
      "outputs": []
    },
    {
      "cell_type": "markdown",
      "metadata": {
        "id": "jJVevWKDFPI2",
        "colab_type": "text"
      },
      "source": [
        "### 3) 評価実験のための準備"
      ]
    },
    {
      "cell_type": "code",
      "metadata": {
        "id": "HPLyJcSqEu6i",
        "colab_type": "code",
        "colab": {}
      },
      "source": [
        "# test setを取り除いておく\n",
        "\n",
        "from sklearn.model_selection import train_test_split\n",
        "\n",
        "X_train, X_test, y_train, y_test = train_test_split(X, y, test_size=0.2, random_state=42)"
      ],
      "execution_count": 12,
      "outputs": []
    },
    {
      "cell_type": "markdown",
      "metadata": {
        "id": "WfsOy4znNBHv",
        "colab_type": "text"
      },
      "source": [
        "### 4) 訓練データをよくよくながめてみる"
      ]
    },
    {
      "cell_type": "code",
      "metadata": {
        "id": "jcWCkbkTNwZi",
        "colab_type": "code",
        "colab": {
          "base_uri": "https://localhost:8080/",
          "height": 782
        },
        "outputId": "d76a3e48-c478-44b3-a563-56329a4d2899"
      },
      "source": [
        "# ヒストグラムを描く\n",
        "# (cf. Aurélien Géron. Hands-On Machine Learning with Scikit-Learn, Keras, and TensorFlow, 2nd Edition. p.50)\n",
        "\n",
        "import matplotlib.pyplot as plt\n",
        "\n",
        "X_train.hist(bins=50, figsize=(20,15))\n",
        "plt.show()"
      ],
      "execution_count": 13,
      "outputs": [
        {
          "output_type": "display_data",
          "data": {
            "image/png": "[encoded data removed]",
            "text/plain": [
              "<Figure size 1440x1080 with 9 Axes>"
            ]
          },
          "metadata": {
            "tags": [],
            "needs_background": "light"
          }
        }
      ]
    },
    {
      "cell_type": "code",
      "metadata": {
        "id": "iBD2kfilVG5g",
        "colab_type": "code",
        "colab": {
          "base_uri": "https://localhost:8080/",
          "height": 304
        },
        "outputId": "a41a16ea-da5f-4fbb-a4f3-ff202865f5b3"
      },
      "source": [
        "# いくつかの属性の分布の形には注意したほうがいいかも・・・\n",
        "\n",
        "X_train.describe()"
      ],
      "execution_count": 14,
      "outputs": [
        {
          "output_type": "execute_result",
          "data": {
            "text/html": [
              "<div>\n",
              "<style scoped>\n",
              "    .dataframe tbody tr th:only-of-type {\n",
              "        vertical-align: middle;\n",
              "    }\n",
              "\n",
              "    .dataframe tbody tr th {\n",
              "        vertical-align: top;\n",
              "    }\n",
              "\n",
              "    .dataframe thead th {\n",
              "        text-align: right;\n",
              "    }\n",
              "</style>\n",
              "<table border=\"1\" class=\"dataframe\">\n",
              "  <thead>\n",
              "    <tr style=\"text-align: right;\">\n",
              "      <th></th>\n",
              "      <th>longitude</th>\n",
              "      <th>latitude</th>\n",
              "      <th>housing_median_age</th>\n",
              "      <th>total_rooms</th>\n",
              "      <th>total_bedrooms</th>\n",
              "      <th>population</th>\n",
              "      <th>households</th>\n",
              "      <th>median_income</th>\n",
              "    </tr>\n",
              "  </thead>\n",
              "  <tbody>\n",
              "    <tr>\n",
              "      <th>count</th>\n",
              "      <td>16346.000000</td>\n",
              "      <td>16346.000000</td>\n",
              "      <td>16346.000000</td>\n",
              "      <td>16346.000000</td>\n",
              "      <td>16346.000000</td>\n",
              "      <td>16346.000000</td>\n",
              "      <td>16346.000000</td>\n",
              "      <td>16346.000000</td>\n",
              "    </tr>\n",
              "    <tr>\n",
              "      <th>mean</th>\n",
              "      <td>-119.580513</td>\n",
              "      <td>35.640569</td>\n",
              "      <td>28.615013</td>\n",
              "      <td>2626.293466</td>\n",
              "      <td>536.057751</td>\n",
              "      <td>1420.589991</td>\n",
              "      <td>497.613483</td>\n",
              "      <td>3.870697</td>\n",
              "    </tr>\n",
              "    <tr>\n",
              "      <th>std</th>\n",
              "      <td>2.005898</td>\n",
              "      <td>2.136181</td>\n",
              "      <td>12.577173</td>\n",
              "      <td>2153.306818</td>\n",
              "      <td>417.470689</td>\n",
              "      <td>1129.376716</td>\n",
              "      <td>377.997450</td>\n",
              "      <td>1.897825</td>\n",
              "    </tr>\n",
              "    <tr>\n",
              "      <th>min</th>\n",
              "      <td>-124.350000</td>\n",
              "      <td>32.540000</td>\n",
              "      <td>1.000000</td>\n",
              "      <td>2.000000</td>\n",
              "      <td>1.000000</td>\n",
              "      <td>3.000000</td>\n",
              "      <td>1.000000</td>\n",
              "      <td>0.499900</td>\n",
              "    </tr>\n",
              "    <tr>\n",
              "      <th>25%</th>\n",
              "      <td>-121.810000</td>\n",
              "      <td>33.930000</td>\n",
              "      <td>18.000000</td>\n",
              "      <td>1450.000000</td>\n",
              "      <td>295.250000</td>\n",
              "      <td>787.000000</td>\n",
              "      <td>280.000000</td>\n",
              "      <td>2.564550</td>\n",
              "    </tr>\n",
              "    <tr>\n",
              "      <th>50%</th>\n",
              "      <td>-118.510000</td>\n",
              "      <td>34.260000</td>\n",
              "      <td>29.000000</td>\n",
              "      <td>2125.000000</td>\n",
              "      <td>434.000000</td>\n",
              "      <td>1165.000000</td>\n",
              "      <td>408.000000</td>\n",
              "      <td>3.536650</td>\n",
              "    </tr>\n",
              "    <tr>\n",
              "      <th>75%</th>\n",
              "      <td>-118.010000</td>\n",
              "      <td>37.720000</td>\n",
              "      <td>37.000000</td>\n",
              "      <td>3131.750000</td>\n",
              "      <td>646.000000</td>\n",
              "      <td>1720.000000</td>\n",
              "      <td>603.000000</td>\n",
              "      <td>4.750000</td>\n",
              "    </tr>\n",
              "    <tr>\n",
              "      <th>max</th>\n",
              "      <td>-114.470000</td>\n",
              "      <td>41.950000</td>\n",
              "      <td>52.000000</td>\n",
              "      <td>39320.000000</td>\n",
              "      <td>6445.000000</td>\n",
              "      <td>35682.000000</td>\n",
              "      <td>6082.000000</td>\n",
              "      <td>15.000100</td>\n",
              "    </tr>\n",
              "  </tbody>\n",
              "</table>\n",
              "</div>"
            ],
            "text/plain": [
              "          longitude      latitude  ...    households  median_income\n",
              "count  16346.000000  16346.000000  ...  16346.000000   16346.000000\n",
              "mean    -119.580513     35.640569  ...    497.613483       3.870697\n",
              "std        2.005898      2.136181  ...    377.997450       1.897825\n",
              "min     -124.350000     32.540000  ...      1.000000       0.499900\n",
              "25%     -121.810000     33.930000  ...    280.000000       2.564550\n",
              "50%     -118.510000     34.260000  ...    408.000000       3.536650\n",
              "75%     -118.010000     37.720000  ...    603.000000       4.750000\n",
              "max     -114.470000     41.950000  ...   6082.000000      15.000100\n",
              "\n",
              "[8 rows x 8 columns]"
            ]
          },
          "metadata": {
            "tags": []
          },
          "execution_count": 14
        }
      ]
    },
    {
      "cell_type": "code",
      "metadata": {
        "id": "6uA8bC7vz0da",
        "colab_type": "code",
        "colab": {
          "base_uri": "https://localhost:8080/",
          "height": 651
        },
        "outputId": "3bcfe69a-eddf-4bde-fb65-475b65f290f6"
      },
      "source": [
        "# 例えばtotal_rooms\n",
        "\n",
        "plt.hist(X_train.total_rooms, bins=50)"
      ],
      "execution_count": 15,
      "outputs": [
        {
          "output_type": "execute_result",
          "data": {
            "text/plain": [
              "(array([1.171e+03, 3.696e+03, 4.478e+03, 2.957e+03, 1.621e+03, 8.760e+02,\n",
              "        4.410e+02, 3.120e+02, 2.210e+02, 1.320e+02, 9.700e+01, 6.600e+01,\n",
              "        6.700e+01, 4.600e+01, 2.400e+01, 2.600e+01, 1.800e+01, 1.200e+01,\n",
              "        1.100e+01, 1.500e+01, 9.000e+00, 5.000e+00, 8.000e+00, 8.000e+00,\n",
              "        5.000e+00, 4.000e+00, 4.000e+00, 3.000e+00, 1.000e+00, 1.000e+00,\n",
              "        3.000e+00, 1.000e+00, 0.000e+00, 0.000e+00, 0.000e+00, 1.000e+00,\n",
              "        0.000e+00, 0.000e+00, 3.000e+00, 0.000e+00, 1.000e+00, 1.000e+00,\n",
              "        0.000e+00, 0.000e+00, 0.000e+00, 0.000e+00, 0.000e+00, 0.000e+00,\n",
              "        0.000e+00, 1.000e+00]),\n",
              " array([2.000000e+00, 7.883600e+02, 1.574720e+03, 2.361080e+03,\n",
              "        3.147440e+03, 3.933800e+03, 4.720160e+03, 5.506520e+03,\n",
              "        6.292880e+03, 7.079240e+03, 7.865600e+03, 8.651960e+03,\n",
              "        9.438320e+03, 1.022468e+04, 1.101104e+04, 1.179740e+04,\n",
              "        1.258376e+04, 1.337012e+04, 1.415648e+04, 1.494284e+04,\n",
              "        1.572920e+04, 1.651556e+04, 1.730192e+04, 1.808828e+04,\n",
              "        1.887464e+04, 1.966100e+04, 2.044736e+04, 2.123372e+04,\n",
              "        2.202008e+04, 2.280644e+04, 2.359280e+04, 2.437916e+04,\n",
              "        2.516552e+04, 2.595188e+04, 2.673824e+04, 2.752460e+04,\n",
              "        2.831096e+04, 2.909732e+04, 2.988368e+04, 3.067004e+04,\n",
              "        3.145640e+04, 3.224276e+04, 3.302912e+04, 3.381548e+04,\n",
              "        3.460184e+04, 3.538820e+04, 3.617456e+04, 3.696092e+04,\n",
              "        3.774728e+04, 3.853364e+04, 3.932000e+04]),\n",
              " <a list of 50 Patch objects>)"
            ]
          },
          "metadata": {
            "tags": []
          },
          "execution_count": 15
        },
        {
          "output_type": "display_data",
          "data": {
            "image/png": "[encoded data removed]",
            "text/plain": [
              "<Figure size 432x288 with 1 Axes>"
            ]
          },
          "metadata": {
            "tags": [],
            "needs_background": "light"
          }
        }
      ]
    },
    {
      "cell_type": "markdown",
      "metadata": {
        "id": "vkX9DntdkOEN",
        "colab_type": "text"
      },
      "source": [
        "Box-Cox変換はうまくいかないようなので、採用しなかった。"
      ]
    },
    {
      "cell_type": "markdown",
      "metadata": {
        "id": "Np16Vy-zNTva",
        "colab_type": "text"
      },
      "source": [
        "### 5) 検証データの準備"
      ]
    },
    {
      "cell_type": "code",
      "metadata": {
        "id": "2Mr1oS9LLiPb",
        "colab_type": "code",
        "colab": {}
      },
      "source": [
        "# test set以外の残りを、training setとvalidation setに分ける\n",
        "\n",
        "X_train, X_valid, y_train, y_valid = train_test_split(X_train, y_train, test_size=0.2, random_state=42)"
      ],
      "execution_count": 16,
      "outputs": []
    },
    {
      "cell_type": "code",
      "metadata": {
        "id": "UbDO7-CbViRU",
        "colab_type": "code",
        "colab": {
          "base_uri": "https://localhost:8080/",
          "height": 34
        },
        "outputId": "5797823d-41b9-4b55-a2c7-0c06bcc8fe44"
      },
      "source": [
        "print(X_train.shape, X_valid.shape, X_test.shape)"
      ],
      "execution_count": 17,
      "outputs": [
        {
          "output_type": "stream",
          "text": [
            "(13076, 8) (3270, 8) (4087, 8)\n"
          ],
          "name": "stdout"
        }
      ]
    },
    {
      "cell_type": "code",
      "metadata": {
        "id": "be12cT0KPyrg",
        "colab_type": "code",
        "colab": {}
      },
      "source": [
        "from sklearn.linear_model import LinearRegression"
      ],
      "execution_count": 18,
      "outputs": []
    },
    {
      "cell_type": "code",
      "metadata": {
        "id": "fPy58KHFXJR-",
        "colab_type": "code",
        "colab": {
          "base_uri": "https://localhost:8080/",
          "height": 34
        },
        "outputId": "9233dd9f-5b7d-477f-9290-a3b536d6fd46"
      },
      "source": [
        "# 先ほどのtraining set上でモデル・パラメータを決定する\n",
        "\n",
        "reg = LinearRegression()\n",
        "reg.fit(X_train, y_train)"
      ],
      "execution_count": 19,
      "outputs": [
        {
          "output_type": "execute_result",
          "data": {
            "text/plain": [
              "LinearRegression(copy_X=True, fit_intercept=True, n_jobs=None, normalize=False)"
            ]
          },
          "metadata": {
            "tags": []
          },
          "execution_count": 19
        }
      ]
    },
    {
      "cell_type": "code",
      "metadata": {
        "id": "EFreSbKFXMHY",
        "colab_type": "code",
        "colab": {
          "base_uri": "https://localhost:8080/",
          "height": 34
        },
        "outputId": "249f2cbb-9982-442d-f090-e90e1a86db77"
      },
      "source": [
        "# 先ほどのvalidation set上で評価する\n",
        "\n",
        "import numpy as np\n",
        "from sklearn.metrics import mean_squared_error\n",
        "\n",
        "y_valid_pred = reg.predict(X_valid)\n",
        "print('RMSE: {:f}'.format(mean_squared_error(y_valid, y_valid_pred, squared=False)))"
      ],
      "execution_count": 20,
      "outputs": [
        {
          "output_type": "stream",
          "text": [
            "RMSE: 67667.758078\n"
          ],
          "name": "stdout"
        }
      ]
    },
    {
      "cell_type": "code",
      "metadata": {
        "id": "_ywmbAn6Zc-9",
        "colab_type": "code",
        "colab": {
          "base_uri": "https://localhost:8080/",
          "height": 34
        },
        "outputId": "358a5a27-8815-426a-b8cb-4425cb4f7453"
      },
      "source": [
        "# とりあえずこのままでテストセットで評価\n",
        "\n",
        "y_test_pred = reg.predict(X_test)\n",
        "print('RMSE: {:f}'.format(mean_squared_error(y_test, y_test_pred, squared=False)))"
      ],
      "execution_count": 21,
      "outputs": [
        {
          "output_type": "stream",
          "text": [
            "RMSE: 70188.957285\n"
          ],
          "name": "stdout"
        }
      ]
    },
    {
      "cell_type": "markdown",
      "metadata": {
        "id": "GaLWv6KThGkW",
        "colab_type": "text"
      },
      "source": [
        "この 70188.96 という値を改善することを試みる。"
      ]
    },
    {
      "cell_type": "markdown",
      "metadata": {
        "id": "2PT_IGbQLCis",
        "colab_type": "text"
      },
      "source": [
        "# 課題7\n",
        "\n",
        "* RMSEによって評価される予測性能を、良くして下さい\n",
        "* test setとそれ以外の部分の分割は、変えないでください\n",
        " * test set以外の部分をどう使うかは、自由です\n",
        " * 交差検証の方法は何でもよい。\n",
        "* リッジ回帰とLASSOを使ってもいいです\n",
        "* 高次多項式特徴量を使ってもいいです（sklearn.preprocessing.PolynomialFeatures）\n",
        "* test setでのRMSEによる評価は最後に一回おこなうだけです\n"
      ]
    },
    {
      "cell_type": "code",
      "metadata": {
        "id": "FVvh4dBERzrz",
        "colab_type": "code",
        "colab": {}
      },
      "source": [
        "from sklearn.preprocessing import PolynomialFeatures\n",
        "\n",
        "poly = PolynomialFeatures(3)\n",
        "poly.fit(X_train)\n",
        "X_train_poly = poly.transform(X_train)\n",
        "X_valid_poly = poly.transform(X_valid)"
      ],
      "execution_count": 22,
      "outputs": []
    },
    {
      "cell_type": "code",
      "metadata": {
        "id": "4YjVavKza4sK",
        "colab_type": "code",
        "colab": {
          "base_uri": "https://localhost:8080/",
          "height": 34
        },
        "outputId": "4039e244-86fa-4073-cf26-e9cebbb5af51"
      },
      "source": [
        "reg = LinearRegression()\n",
        "reg.fit(X_train_poly, y_train)\n",
        "\n",
        "y_valid_pred = reg.predict(X_valid_poly)\n",
        "print('RMSE: {:f}'.format(mean_squared_error(y_valid, y_valid_pred, squared=False)))"
      ],
      "execution_count": 23,
      "outputs": [
        {
          "output_type": "stream",
          "text": [
            "RMSE: 59937.493084\n"
          ],
          "name": "stdout"
        }
      ]
    },
    {
      "cell_type": "code",
      "metadata": {
        "id": "W2uTqMWJbUUK",
        "colab_type": "code",
        "colab": {
          "base_uri": "https://localhost:8080/",
          "height": 440
        },
        "outputId": "72674c19-91a8-44e2-819c-17e05c44d697"
      },
      "source": [
        "from sklearn.linear_model import Ridge\n",
        "\n",
        "for alpha in 10. ** np.arange(-6, 2, 1):\n",
        "  ridge = Ridge(alpha=alpha, random_state=123)\n",
        "  ridge.fit(X_train_poly, y_train)\n",
        "  y_valid_pred = ridge.predict(X_valid_poly)\n",
        "  print('alpha: {:f}; RMSE: {:f}'.format(\n",
        "      alpha, mean_squared_error(y_valid, y_valid_pred, squared=False)\n",
        "      ))"
      ],
      "execution_count": 24,
      "outputs": [
        {
          "output_type": "stream",
          "text": [
            "alpha: 0.000001; RMSE: 59393.699553\n",
            "alpha: 0.000010; RMSE: 59339.357888\n",
            "alpha: 0.000100; RMSE: 59231.520900\n"
          ],
          "name": "stdout"
        },
        {
          "output_type": "stream",
          "text": [
            "/usr/local/lib/python3.6/dist-packages/sklearn/linear_model/_ridge.py:148: LinAlgWarning: Ill-conditioned matrix (rcond=3.56372e-35): result may not be accurate.\n",
            "  overwrite_a=True).T\n",
            "/usr/local/lib/python3.6/dist-packages/sklearn/linear_model/_ridge.py:148: LinAlgWarning: Ill-conditioned matrix (rcond=3.56372e-34): result may not be accurate.\n",
            "  overwrite_a=True).T\n",
            "/usr/local/lib/python3.6/dist-packages/sklearn/linear_model/_ridge.py:148: LinAlgWarning: Ill-conditioned matrix (rcond=3.53645e-33): result may not be accurate.\n",
            "  overwrite_a=True).T\n",
            "/usr/local/lib/python3.6/dist-packages/sklearn/linear_model/_ridge.py:148: LinAlgWarning: Ill-conditioned matrix (rcond=3.38534e-32): result may not be accurate.\n",
            "  overwrite_a=True).T\n",
            "/usr/local/lib/python3.6/dist-packages/sklearn/linear_model/_ridge.py:148: LinAlgWarning: Ill-conditioned matrix (rcond=3.39226e-31): result may not be accurate.\n",
            "  overwrite_a=True).T\n"
          ],
          "name": "stderr"
        },
        {
          "output_type": "stream",
          "text": [
            "alpha: 0.001000; RMSE: 59141.433063\n",
            "alpha: 0.010000; RMSE: 59158.953381\n",
            "alpha: 0.100000; RMSE: 59198.199577\n",
            "alpha: 1.000000; RMSE: 59232.687790\n",
            "alpha: 10.000000; RMSE: 59273.673489\n"
          ],
          "name": "stdout"
        },
        {
          "output_type": "stream",
          "text": [
            "/usr/local/lib/python3.6/dist-packages/sklearn/linear_model/_ridge.py:148: LinAlgWarning: Ill-conditioned matrix (rcond=3.39741e-30): result may not be accurate.\n",
            "  overwrite_a=True).T\n",
            "/usr/local/lib/python3.6/dist-packages/sklearn/linear_model/_ridge.py:148: LinAlgWarning: Ill-conditioned matrix (rcond=3.44958e-29): result may not be accurate.\n",
            "  overwrite_a=True).T\n",
            "/usr/local/lib/python3.6/dist-packages/sklearn/linear_model/_ridge.py:148: LinAlgWarning: Ill-conditioned matrix (rcond=2.86168e-28): result may not be accurate.\n",
            "  overwrite_a=True).T\n"
          ],
          "name": "stderr"
        }
      ]
    },
    {
      "cell_type": "markdown",
      "metadata": {
        "id": "v5EJeK0pj21T",
        "colab_type": "text"
      },
      "source": [
        "Lassoはうまくいかないようなので、省略します。"
      ]
    },
    {
      "cell_type": "code",
      "metadata": {
        "id": "fLF2QOySbGwl",
        "colab_type": "code",
        "colab": {
          "base_uri": "https://localhost:8080/",
          "height": 87
        },
        "outputId": "fba16fc0-305c-4dd7-f420-8ab5ce3baf3f"
      },
      "source": [
        "# 検証セットでの評価が良かった設定を使って、テストセットで評価\n",
        "\n",
        "poly = PolynomialFeatures(3)\n",
        "poly.fit(X_train)\n",
        "X_train_poly = poly.transform(X_train)\n",
        "\n",
        "ridge = Ridge(alpha=0.001, random_state=123)\n",
        "ridge.fit(X_train_poly, y_train)\n",
        "\n",
        "X_test_poly = poly.transform(X_test)\n",
        "y_test_pred = ridge.predict(X_test_poly)\n",
        "print('RMSE: {:f}'.format(mean_squared_error(y_test, y_test_pred, squared=False)))"
      ],
      "execution_count": 25,
      "outputs": [
        {
          "output_type": "stream",
          "text": [
            "/usr/local/lib/python3.6/dist-packages/sklearn/linear_model/_ridge.py:148: LinAlgWarning: Ill-conditioned matrix (rcond=3.38534e-32): result may not be accurate.\n",
            "  overwrite_a=True).T\n"
          ],
          "name": "stderr"
        },
        {
          "output_type": "stream",
          "text": [
            "RMSE: 61549.997383\n"
          ],
          "name": "stdout"
        }
      ]
    },
    {
      "cell_type": "markdown",
      "metadata": {
        "id": "fVcgzBFXi7jg",
        "colab_type": "text"
      },
      "source": [
        "Ill-conditioned matrixのwarningが気になるので、スケーリングをしてみる。"
      ]
    },
    {
      "cell_type": "code",
      "metadata": {
        "id": "ZUBoMrith60u",
        "colab_type": "code",
        "colab": {}
      },
      "source": [
        "from sklearn.preprocessing import MinMaxScaler\n",
        "\n",
        "scaler = MinMaxScaler()\n",
        "scaler.fit(X_train)\n",
        "X_train_scaled = scaler.transform(X_train)\n",
        "X_valid_scaled = scaler.transform(X_valid)\n",
        "\n",
        "poly = PolynomialFeatures(3)\n",
        "poly.fit(X_train_scaled)\n",
        "X_train_poly = poly.transform(X_train_scaled)\n",
        "X_valid_poly = poly.transform(X_valid_scaled)"
      ],
      "execution_count": 26,
      "outputs": []
    },
    {
      "cell_type": "code",
      "metadata": {
        "id": "KHRcC7jWiM0C",
        "colab_type": "code",
        "colab": {
          "base_uri": "https://localhost:8080/",
          "height": 34
        },
        "outputId": "a3ca4126-61ae-495b-db70-99ea672396f0"
      },
      "source": [
        "reg = LinearRegression()\n",
        "reg.fit(X_train_poly, y_train)\n",
        "\n",
        "y_valid_pred = reg.predict(X_valid_poly)\n",
        "print('RMSE: {:f}'.format(mean_squared_error(y_valid, y_valid_pred, squared=False)))"
      ],
      "execution_count": 27,
      "outputs": [
        {
          "output_type": "stream",
          "text": [
            "RMSE: 60832.106630\n"
          ],
          "name": "stdout"
        }
      ]
    },
    {
      "cell_type": "code",
      "metadata": {
        "id": "DP3b44s5iPlW",
        "colab_type": "code",
        "colab": {
          "base_uri": "https://localhost:8080/",
          "height": 151
        },
        "outputId": "a649cea0-2613-4087-8b9b-e148af944e7d"
      },
      "source": [
        "from sklearn.linear_model import Ridge\n",
        "\n",
        "for alpha in 10. ** np.arange(-6, 2, 1):\n",
        "  ridge = Ridge(alpha=alpha, random_state=123)\n",
        "  ridge.fit(X_train_poly, y_train)\n",
        "  y_valid_pred = ridge.predict(X_valid_poly)\n",
        "  print('alpha: {:f}; RMSE: {:f}'.format(\n",
        "      alpha, mean_squared_error(y_valid, y_valid_pred, squared=False)\n",
        "      ))"
      ],
      "execution_count": 28,
      "outputs": [
        {
          "output_type": "stream",
          "text": [
            "alpha: 0.000001; RMSE: 61102.057460\n",
            "alpha: 0.000010; RMSE: 59891.002780\n",
            "alpha: 0.000100; RMSE: 59374.467649\n",
            "alpha: 0.001000; RMSE: 59600.331012\n",
            "alpha: 0.010000; RMSE: 60553.607035\n",
            "alpha: 0.100000; RMSE: 61426.350949\n",
            "alpha: 1.000000; RMSE: 63447.345124\n",
            "alpha: 10.000000; RMSE: 68086.919542\n"
          ],
          "name": "stdout"
        }
      ]
    },
    {
      "cell_type": "code",
      "metadata": {
        "id": "ILDhC64uiWU8",
        "colab_type": "code",
        "colab": {
          "base_uri": "https://localhost:8080/",
          "height": 34
        },
        "outputId": "001a0758-4d27-4f14-db92-47cde56bfdf0"
      },
      "source": [
        "# 検証セットでの評価が良かった設定を使って、テストセットで評価\n",
        "\n",
        "scaler = MinMaxScaler()\n",
        "scaler.fit(X_train)\n",
        "X_train_scaled = scaler.transform(X_train)\n",
        "\n",
        "poly = PolynomialFeatures(3)\n",
        "poly.fit(X_train_scaled)\n",
        "X_train_poly = poly.transform(X_train_scaled)\n",
        "\n",
        "ridge = Ridge(alpha=0.0001, random_state=123)\n",
        "ridge.fit(X_train_poly, y_train)\n",
        "\n",
        "X_test_scaled = scaler.transform(X_test)\n",
        "X_test_poly = poly.transform(X_test_scaled)\n",
        "y_test_pred = ridge.predict(X_test_poly)\n",
        "print('RMSE: {:f}'.format(mean_squared_error(y_test, y_test_pred, squared=False)))"
      ],
      "execution_count": 29,
      "outputs": [
        {
          "output_type": "stream",
          "text": [
            "RMSE: 61272.783633\n"
          ],
          "name": "stdout"
        }
      ]
    },
    {
      "cell_type": "code",
      "metadata": {
        "id": "6shHFjNJjbNQ",
        "colab_type": "code",
        "colab": {}
      },
      "source": [
        ""
      ],
      "execution_count": 29,
      "outputs": []
    }
  ]
}