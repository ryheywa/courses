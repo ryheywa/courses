{
  "nbformat": 4,
  "nbformat_minor": 0,
  "metadata": {
    "colab": {
      "name": "07_linear_regression.ipynb",
      "provenance": [],
      "authorship_tag": "ABX9TyPl7B/mCwmhxjE3hEO/6fXB",
      "include_colab_link": true
    },
    "kernelspec": {
      "name": "python3",
      "display_name": "Python 3"
    }
  },
  "cells": [
    {
      "cell_type": "markdown",
      "metadata": {
        "id": "view-in-github",
        "colab_type": "text"
      },
      "source": [
        "<a href=\"https://colab.research.google.com/github/tomonari-masada/courses/blob/master/SML2020/obsolete/07_linear_regression.ipynb\" target=\"_parent\"><img src=\"https://colab.research.google.com/assets/colab-badge.svg\" alt=\"Open In Colab\"/></a>"
      ]
    },
    {
      "cell_type": "markdown",
      "metadata": {
        "id": "efKrx_rf5Xzn",
        "colab_type": "text"
      },
      "source": [
        "# Life satisfactionの予測\n",
        "\n",
        "### GDP per capitaだけでなく、他の属性も使って予測してみる。"
      ]
    },
    {
      "cell_type": "code",
      "metadata": {
        "id": "lcqvELTfzeCz",
        "colab_type": "code",
        "colab": {}
      },
      "source": [
        "import numpy as np\n",
        "import pandas as pd\n",
        "from sklearn.linear_model import LinearRegression "
      ],
      "execution_count": 0,
      "outputs": []
    },
    {
      "cell_type": "code",
      "metadata": {
        "id": "Qw-Ryh6OzuAq",
        "colab_type": "code",
        "colab": {}
      },
      "source": [
        "df = pd.read_csv('lifesat_extended.csv')"
      ],
      "execution_count": 0,
      "outputs": []
    },
    {
      "cell_type": "code",
      "metadata": {
        "id": "fdFPucsOz85V",
        "colab_type": "code",
        "colab": {
          "base_uri": "https://localhost:8080/",
          "height": 589
        },
        "outputId": "6d7a0389-65b4-4370-d1cb-8a60540a926a"
      },
      "source": [
        "df.info()"
      ],
      "execution_count": 3,
      "outputs": [
        {
          "output_type": "stream",
          "text": [
            "<class 'pandas.core.frame.DataFrame'>\n",
            "RangeIndex: 29 entries, 0 to 28\n",
            "Data columns (total 26 columns):\n",
            " #   Column                                     Non-Null Count  Dtype  \n",
            "---  ------                                     --------------  -----  \n",
            " 0   Country                                    29 non-null     object \n",
            " 1   Air pollution                              29 non-null     float64\n",
            " 2   Assault rate                               29 non-null     float64\n",
            " 3   Consultation on rule-making                29 non-null     float64\n",
            " 4   Dwellings without basic facilities         29 non-null     float64\n",
            " 5   Educational attainment                     29 non-null     float64\n",
            " 6   Employees working very long hours          29 non-null     float64\n",
            " 7   Employment rate                            29 non-null     float64\n",
            " 8   Homicide rate                              29 non-null     float64\n",
            " 9   Household net adjusted disposable income   29 non-null     float64\n",
            " 10  Household net financial wealth             29 non-null     float64\n",
            " 11  Housing expenditure                        29 non-null     float64\n",
            " 12  Job security                               29 non-null     float64\n",
            " 13  Life expectancy                            29 non-null     float64\n",
            " 14  Life satisfaction                          29 non-null     float64\n",
            " 15  Long-term unemployment rate                29 non-null     float64\n",
            " 16  Personal earnings                          29 non-null     float64\n",
            " 17  Quality of support network                 29 non-null     float64\n",
            " 18  Rooms per person                           29 non-null     float64\n",
            " 19  Self-reported health                       29 non-null     float64\n",
            " 20  Student skills                             29 non-null     float64\n",
            " 21  Time devoted to leisure and personal care  29 non-null     float64\n",
            " 22  Voter turnout                              29 non-null     float64\n",
            " 23  Water quality                              29 non-null     float64\n",
            " 24  Years in education                         29 non-null     float64\n",
            " 25  GDP per capita                             29 non-null     float64\n",
            "dtypes: float64(25), object(1)\n",
            "memory usage: 6.0+ KB\n"
          ],
          "name": "stdout"
        }
      ]
    },
    {
      "cell_type": "code",
      "metadata": {
        "id": "ZQc9HnGkz_XH",
        "colab_type": "code",
        "colab": {
          "base_uri": "https://localhost:8080/",
          "height": 343
        },
        "outputId": "42504bd4-77c9-439d-c841-35b1976384ad"
      },
      "source": [
        "df.head()"
      ],
      "execution_count": 4,
      "outputs": [
        {
          "output_type": "execute_result",
          "data": {
            "text/html": [
              "<div>\n",
              "<style scoped>\n",
              "    .dataframe tbody tr th:only-of-type {\n",
              "        vertical-align: middle;\n",
              "    }\n",
              "\n",
              "    .dataframe tbody tr th {\n",
              "        vertical-align: top;\n",
              "    }\n",
              "\n",
              "    .dataframe thead th {\n",
              "        text-align: right;\n",
              "    }\n",
              "</style>\n",
              "<table border=\"1\" class=\"dataframe\">\n",
              "  <thead>\n",
              "    <tr style=\"text-align: right;\">\n",
              "      <th></th>\n",
              "      <th>Country</th>\n",
              "      <th>Air pollution</th>\n",
              "      <th>Assault rate</th>\n",
              "      <th>Consultation on rule-making</th>\n",
              "      <th>Dwellings without basic facilities</th>\n",
              "      <th>Educational attainment</th>\n",
              "      <th>Employees working very long hours</th>\n",
              "      <th>Employment rate</th>\n",
              "      <th>Homicide rate</th>\n",
              "      <th>Household net adjusted disposable income</th>\n",
              "      <th>Household net financial wealth</th>\n",
              "      <th>Housing expenditure</th>\n",
              "      <th>Job security</th>\n",
              "      <th>Life expectancy</th>\n",
              "      <th>Life satisfaction</th>\n",
              "      <th>Long-term unemployment rate</th>\n",
              "      <th>Personal earnings</th>\n",
              "      <th>Quality of support network</th>\n",
              "      <th>Rooms per person</th>\n",
              "      <th>Self-reported health</th>\n",
              "      <th>Student skills</th>\n",
              "      <th>Time devoted to leisure and personal care</th>\n",
              "      <th>Voter turnout</th>\n",
              "      <th>Water quality</th>\n",
              "      <th>Years in education</th>\n",
              "      <th>GDP per capita</th>\n",
              "    </tr>\n",
              "  </thead>\n",
              "  <tbody>\n",
              "    <tr>\n",
              "      <th>0</th>\n",
              "      <td>Russia</td>\n",
              "      <td>15.0</td>\n",
              "      <td>3.8</td>\n",
              "      <td>2.5</td>\n",
              "      <td>15.1</td>\n",
              "      <td>94.0</td>\n",
              "      <td>0.16</td>\n",
              "      <td>69.0</td>\n",
              "      <td>12.8</td>\n",
              "      <td>19292.0</td>\n",
              "      <td>3412.0</td>\n",
              "      <td>11.0</td>\n",
              "      <td>4.0</td>\n",
              "      <td>70.2</td>\n",
              "      <td>6.0</td>\n",
              "      <td>1.70</td>\n",
              "      <td>20885.0</td>\n",
              "      <td>90.0</td>\n",
              "      <td>0.9</td>\n",
              "      <td>37.0</td>\n",
              "      <td>481.0</td>\n",
              "      <td>14.97</td>\n",
              "      <td>65.0</td>\n",
              "      <td>56.0</td>\n",
              "      <td>16.0</td>\n",
              "      <td>9054.914</td>\n",
              "    </tr>\n",
              "    <tr>\n",
              "      <th>1</th>\n",
              "      <td>Turkey</td>\n",
              "      <td>35.0</td>\n",
              "      <td>5.0</td>\n",
              "      <td>5.5</td>\n",
              "      <td>12.7</td>\n",
              "      <td>34.0</td>\n",
              "      <td>40.86</td>\n",
              "      <td>50.0</td>\n",
              "      <td>1.2</td>\n",
              "      <td>14095.0</td>\n",
              "      <td>3251.0</td>\n",
              "      <td>21.0</td>\n",
              "      <td>8.1</td>\n",
              "      <td>74.6</td>\n",
              "      <td>5.6</td>\n",
              "      <td>2.37</td>\n",
              "      <td>16919.0</td>\n",
              "      <td>86.0</td>\n",
              "      <td>1.1</td>\n",
              "      <td>68.0</td>\n",
              "      <td>462.0</td>\n",
              "      <td>13.42</td>\n",
              "      <td>88.0</td>\n",
              "      <td>62.0</td>\n",
              "      <td>16.4</td>\n",
              "      <td>9437.372</td>\n",
              "    </tr>\n",
              "    <tr>\n",
              "      <th>2</th>\n",
              "      <td>Hungary</td>\n",
              "      <td>15.0</td>\n",
              "      <td>3.6</td>\n",
              "      <td>7.9</td>\n",
              "      <td>4.8</td>\n",
              "      <td>82.0</td>\n",
              "      <td>3.19</td>\n",
              "      <td>58.0</td>\n",
              "      <td>1.3</td>\n",
              "      <td>15442.0</td>\n",
              "      <td>13277.0</td>\n",
              "      <td>20.0</td>\n",
              "      <td>5.7</td>\n",
              "      <td>75.2</td>\n",
              "      <td>4.9</td>\n",
              "      <td>5.10</td>\n",
              "      <td>20948.0</td>\n",
              "      <td>87.0</td>\n",
              "      <td>1.1</td>\n",
              "      <td>57.0</td>\n",
              "      <td>487.0</td>\n",
              "      <td>15.04</td>\n",
              "      <td>62.0</td>\n",
              "      <td>77.0</td>\n",
              "      <td>17.6</td>\n",
              "      <td>12239.894</td>\n",
              "    </tr>\n",
              "    <tr>\n",
              "      <th>3</th>\n",
              "      <td>Poland</td>\n",
              "      <td>33.0</td>\n",
              "      <td>1.4</td>\n",
              "      <td>10.8</td>\n",
              "      <td>3.2</td>\n",
              "      <td>90.0</td>\n",
              "      <td>7.41</td>\n",
              "      <td>60.0</td>\n",
              "      <td>0.9</td>\n",
              "      <td>17852.0</td>\n",
              "      <td>10919.0</td>\n",
              "      <td>21.0</td>\n",
              "      <td>7.3</td>\n",
              "      <td>76.9</td>\n",
              "      <td>5.8</td>\n",
              "      <td>3.77</td>\n",
              "      <td>22655.0</td>\n",
              "      <td>91.0</td>\n",
              "      <td>1.1</td>\n",
              "      <td>58.0</td>\n",
              "      <td>521.0</td>\n",
              "      <td>14.20</td>\n",
              "      <td>55.0</td>\n",
              "      <td>79.0</td>\n",
              "      <td>18.4</td>\n",
              "      <td>12495.334</td>\n",
              "    </tr>\n",
              "    <tr>\n",
              "      <th>4</th>\n",
              "      <td>Slovak Republic</td>\n",
              "      <td>13.0</td>\n",
              "      <td>3.0</td>\n",
              "      <td>6.6</td>\n",
              "      <td>0.6</td>\n",
              "      <td>92.0</td>\n",
              "      <td>7.02</td>\n",
              "      <td>60.0</td>\n",
              "      <td>1.2</td>\n",
              "      <td>17503.0</td>\n",
              "      <td>8663.0</td>\n",
              "      <td>26.0</td>\n",
              "      <td>5.5</td>\n",
              "      <td>76.2</td>\n",
              "      <td>6.1</td>\n",
              "      <td>9.46</td>\n",
              "      <td>20307.0</td>\n",
              "      <td>90.0</td>\n",
              "      <td>1.1</td>\n",
              "      <td>66.0</td>\n",
              "      <td>472.0</td>\n",
              "      <td>14.99</td>\n",
              "      <td>59.0</td>\n",
              "      <td>81.0</td>\n",
              "      <td>16.3</td>\n",
              "      <td>15991.736</td>\n",
              "    </tr>\n",
              "  </tbody>\n",
              "</table>\n",
              "</div>"
            ],
            "text/plain": [
              "           Country  Air pollution  ...  Years in education  GDP per capita\n",
              "0           Russia           15.0  ...                16.0        9054.914\n",
              "1           Turkey           35.0  ...                16.4        9437.372\n",
              "2          Hungary           15.0  ...                17.6       12239.894\n",
              "3           Poland           33.0  ...                18.4       12495.334\n",
              "4  Slovak Republic           13.0  ...                16.3       15991.736\n",
              "\n",
              "[5 rows x 26 columns]"
            ]
          },
          "metadata": {
            "tags": []
          },
          "execution_count": 4
        }
      ]
    },
    {
      "cell_type": "code",
      "metadata": {
        "id": "h9V5oAky0DXv",
        "colab_type": "code",
        "colab": {
          "base_uri": "https://localhost:8080/",
          "height": 225
        },
        "outputId": "a6eb49a6-4b8f-46af-f258-ad3a2fbd19df"
      },
      "source": [
        "df.columns"
      ],
      "execution_count": 5,
      "outputs": [
        {
          "output_type": "execute_result",
          "data": {
            "text/plain": [
              "Index(['Country', 'Air pollution', 'Assault rate',\n",
              "       'Consultation on rule-making', 'Dwellings without basic facilities',\n",
              "       'Educational attainment', 'Employees working very long hours',\n",
              "       'Employment rate', 'Homicide rate',\n",
              "       'Household net adjusted disposable income',\n",
              "       'Household net financial wealth', 'Housing expenditure', 'Job security',\n",
              "       'Life expectancy', 'Life satisfaction', 'Long-term unemployment rate',\n",
              "       'Personal earnings', 'Quality of support network', 'Rooms per person',\n",
              "       'Self-reported health', 'Student skills',\n",
              "       'Time devoted to leisure and personal care', 'Voter turnout',\n",
              "       'Water quality', 'Years in education', 'GDP per capita'],\n",
              "      dtype='object')"
            ]
          },
          "metadata": {
            "tags": []
          },
          "execution_count": 5
        }
      ]
    },
    {
      "cell_type": "markdown",
      "metadata": {
        "id": "c9lJ8VDR5oYL",
        "colab_type": "text"
      },
      "source": [
        "国名だけを取り除く。"
      ]
    },
    {
      "cell_type": "code",
      "metadata": {
        "id": "f_y7bReP0Opz",
        "colab_type": "code",
        "colab": {
          "base_uri": "https://localhost:8080/",
          "height": 69
        },
        "outputId": "5f61ba65-9ab2-4f0f-ab24-0f887b44206d"
      },
      "source": [
        "df.columns != 'Country'"
      ],
      "execution_count": 6,
      "outputs": [
        {
          "output_type": "execute_result",
          "data": {
            "text/plain": [
              "array([False,  True,  True,  True,  True,  True,  True,  True,  True,\n",
              "        True,  True,  True,  True,  True,  True,  True,  True,  True,\n",
              "        True,  True,  True,  True,  True,  True,  True,  True])"
            ]
          },
          "metadata": {
            "tags": []
          },
          "execution_count": 6
        }
      ]
    },
    {
      "cell_type": "code",
      "metadata": {
        "id": "9L784sJR0RBz",
        "colab_type": "code",
        "colab": {
          "base_uri": "https://localhost:8080/",
          "height": 208
        },
        "outputId": "6db3fa46-c4d0-4aab-9111-ee56d3b861d8"
      },
      "source": [
        "df.columns[df.columns != 'Country']"
      ],
      "execution_count": 7,
      "outputs": [
        {
          "output_type": "execute_result",
          "data": {
            "text/plain": [
              "Index(['Air pollution', 'Assault rate', 'Consultation on rule-making',\n",
              "       'Dwellings without basic facilities', 'Educational attainment',\n",
              "       'Employees working very long hours', 'Employment rate', 'Homicide rate',\n",
              "       'Household net adjusted disposable income',\n",
              "       'Household net financial wealth', 'Housing expenditure', 'Job security',\n",
              "       'Life expectancy', 'Life satisfaction', 'Long-term unemployment rate',\n",
              "       'Personal earnings', 'Quality of support network', 'Rooms per person',\n",
              "       'Self-reported health', 'Student skills',\n",
              "       'Time devoted to leisure and personal care', 'Voter turnout',\n",
              "       'Water quality', 'Years in education', 'GDP per capita'],\n",
              "      dtype='object')"
            ]
          },
          "metadata": {
            "tags": []
          },
          "execution_count": 7
        }
      ]
    },
    {
      "cell_type": "code",
      "metadata": {
        "id": "1h0uJpmA0X_U",
        "colab_type": "code",
        "colab": {}
      },
      "source": [
        "df_data = df[df.columns[df.columns != 'Country']]"
      ],
      "execution_count": 0,
      "outputs": []
    },
    {
      "cell_type": "code",
      "metadata": {
        "id": "SwjmfAMc0hpe",
        "colab_type": "code",
        "colab": {
          "base_uri": "https://localhost:8080/",
          "height": 572
        },
        "outputId": "62f68809-c210-41b3-bac0-781b305a03da"
      },
      "source": [
        "df_data.info()"
      ],
      "execution_count": 9,
      "outputs": [
        {
          "output_type": "stream",
          "text": [
            "<class 'pandas.core.frame.DataFrame'>\n",
            "RangeIndex: 29 entries, 0 to 28\n",
            "Data columns (total 25 columns):\n",
            " #   Column                                     Non-Null Count  Dtype  \n",
            "---  ------                                     --------------  -----  \n",
            " 0   Air pollution                              29 non-null     float64\n",
            " 1   Assault rate                               29 non-null     float64\n",
            " 2   Consultation on rule-making                29 non-null     float64\n",
            " 3   Dwellings without basic facilities         29 non-null     float64\n",
            " 4   Educational attainment                     29 non-null     float64\n",
            " 5   Employees working very long hours          29 non-null     float64\n",
            " 6   Employment rate                            29 non-null     float64\n",
            " 7   Homicide rate                              29 non-null     float64\n",
            " 8   Household net adjusted disposable income   29 non-null     float64\n",
            " 9   Household net financial wealth             29 non-null     float64\n",
            " 10  Housing expenditure                        29 non-null     float64\n",
            " 11  Job security                               29 non-null     float64\n",
            " 12  Life expectancy                            29 non-null     float64\n",
            " 13  Life satisfaction                          29 non-null     float64\n",
            " 14  Long-term unemployment rate                29 non-null     float64\n",
            " 15  Personal earnings                          29 non-null     float64\n",
            " 16  Quality of support network                 29 non-null     float64\n",
            " 17  Rooms per person                           29 non-null     float64\n",
            " 18  Self-reported health                       29 non-null     float64\n",
            " 19  Student skills                             29 non-null     float64\n",
            " 20  Time devoted to leisure and personal care  29 non-null     float64\n",
            " 21  Voter turnout                              29 non-null     float64\n",
            " 22  Water quality                              29 non-null     float64\n",
            " 23  Years in education                         29 non-null     float64\n",
            " 24  GDP per capita                             29 non-null     float64\n",
            "dtypes: float64(25)\n",
            "memory usage: 5.8 KB\n"
          ],
          "name": "stdout"
        }
      ]
    },
    {
      "cell_type": "code",
      "metadata": {
        "id": "4ab_iktG0l85",
        "colab_type": "code",
        "colab": {
          "base_uri": "https://localhost:8080/",
          "height": 383
        },
        "outputId": "cce2a960-dcfe-4e4c-ae83-094234a12af6"
      },
      "source": [
        "df_data.describe()"
      ],
      "execution_count": 10,
      "outputs": [
        {
          "output_type": "execute_result",
          "data": {
            "text/html": [
              "<div>\n",
              "<style scoped>\n",
              "    .dataframe tbody tr th:only-of-type {\n",
              "        vertical-align: middle;\n",
              "    }\n",
              "\n",
              "    .dataframe tbody tr th {\n",
              "        vertical-align: top;\n",
              "    }\n",
              "\n",
              "    .dataframe thead th {\n",
              "        text-align: right;\n",
              "    }\n",
              "</style>\n",
              "<table border=\"1\" class=\"dataframe\">\n",
              "  <thead>\n",
              "    <tr style=\"text-align: right;\">\n",
              "      <th></th>\n",
              "      <th>Air pollution</th>\n",
              "      <th>Assault rate</th>\n",
              "      <th>Consultation on rule-making</th>\n",
              "      <th>Dwellings without basic facilities</th>\n",
              "      <th>Educational attainment</th>\n",
              "      <th>Employees working very long hours</th>\n",
              "      <th>Employment rate</th>\n",
              "      <th>Homicide rate</th>\n",
              "      <th>Household net adjusted disposable income</th>\n",
              "      <th>Household net financial wealth</th>\n",
              "      <th>Housing expenditure</th>\n",
              "      <th>Job security</th>\n",
              "      <th>Life expectancy</th>\n",
              "      <th>Life satisfaction</th>\n",
              "      <th>Long-term unemployment rate</th>\n",
              "      <th>Personal earnings</th>\n",
              "      <th>Quality of support network</th>\n",
              "      <th>Rooms per person</th>\n",
              "      <th>Self-reported health</th>\n",
              "      <th>Student skills</th>\n",
              "      <th>Time devoted to leisure and personal care</th>\n",
              "      <th>Voter turnout</th>\n",
              "      <th>Water quality</th>\n",
              "      <th>Years in education</th>\n",
              "      <th>GDP per capita</th>\n",
              "    </tr>\n",
              "  </thead>\n",
              "  <tbody>\n",
              "    <tr>\n",
              "      <th>count</th>\n",
              "      <td>29.000000</td>\n",
              "      <td>29.000000</td>\n",
              "      <td>29.000000</td>\n",
              "      <td>29.000000</td>\n",
              "      <td>29.000000</td>\n",
              "      <td>29.000000</td>\n",
              "      <td>29.000000</td>\n",
              "      <td>29.000000</td>\n",
              "      <td>29.000000</td>\n",
              "      <td>29.000000</td>\n",
              "      <td>29.000000</td>\n",
              "      <td>29.000000</td>\n",
              "      <td>29.000000</td>\n",
              "      <td>29.000000</td>\n",
              "      <td>29.000000</td>\n",
              "      <td>29.000000</td>\n",
              "      <td>29.000000</td>\n",
              "      <td>29.000000</td>\n",
              "      <td>29.000000</td>\n",
              "      <td>29.000000</td>\n",
              "      <td>29.000000</td>\n",
              "      <td>29.000000</td>\n",
              "      <td>29.000000</td>\n",
              "      <td>29.000000</td>\n",
              "      <td>29.000000</td>\n",
              "    </tr>\n",
              "    <tr>\n",
              "      <th>mean</th>\n",
              "      <td>19.241379</td>\n",
              "      <td>3.572414</td>\n",
              "      <td>7.248276</td>\n",
              "      <td>2.400000</td>\n",
              "      <td>77.103448</td>\n",
              "      <td>8.791724</td>\n",
              "      <td>65.896552</td>\n",
              "      <td>1.596552</td>\n",
              "      <td>24302.137931</td>\n",
              "      <td>42052.000000</td>\n",
              "      <td>20.827586</td>\n",
              "      <td>6.062069</td>\n",
              "      <td>79.975862</td>\n",
              "      <td>6.493103</td>\n",
              "      <td>4.032069</td>\n",
              "      <td>36606.551724</td>\n",
              "      <td>90.068966</td>\n",
              "      <td>1.682759</td>\n",
              "      <td>67.655172</td>\n",
              "      <td>500.931034</td>\n",
              "      <td>14.890345</td>\n",
              "      <td>70.965517</td>\n",
              "      <td>82.896552</td>\n",
              "      <td>17.727586</td>\n",
              "      <td>33391.749138</td>\n",
              "    </tr>\n",
              "    <tr>\n",
              "      <th>std</th>\n",
              "      <td>7.224241</td>\n",
              "      <td>1.545476</td>\n",
              "      <td>2.718406</td>\n",
              "      <td>3.801034</td>\n",
              "      <td>15.062595</td>\n",
              "      <td>8.278210</td>\n",
              "      <td>7.788934</td>\n",
              "      <td>2.443867</td>\n",
              "      <td>6133.657664</td>\n",
              "      <td>31325.680935</td>\n",
              "      <td>2.879347</td>\n",
              "      <td>2.937980</td>\n",
              "      <td>2.960774</td>\n",
              "      <td>0.839613</td>\n",
              "      <td>4.166358</td>\n",
              "      <td>11696.416895</td>\n",
              "      <td>4.795318</td>\n",
              "      <td>0.445669</td>\n",
              "      <td>15.625702</td>\n",
              "      <td>21.142258</td>\n",
              "      <td>0.551333</td>\n",
              "      <td>11.216960</td>\n",
              "      <td>10.624583</td>\n",
              "      <td>1.176829</td>\n",
              "      <td>14650.076056</td>\n",
              "    </tr>\n",
              "    <tr>\n",
              "      <th>min</th>\n",
              "      <td>9.000000</td>\n",
              "      <td>1.300000</td>\n",
              "      <td>2.500000</td>\n",
              "      <td>0.000000</td>\n",
              "      <td>34.000000</td>\n",
              "      <td>0.160000</td>\n",
              "      <td>49.000000</td>\n",
              "      <td>0.300000</td>\n",
              "      <td>14095.000000</td>\n",
              "      <td>3251.000000</td>\n",
              "      <td>11.000000</td>\n",
              "      <td>2.400000</td>\n",
              "      <td>70.200000</td>\n",
              "      <td>4.800000</td>\n",
              "      <td>0.010000</td>\n",
              "      <td>16919.000000</td>\n",
              "      <td>72.000000</td>\n",
              "      <td>0.900000</td>\n",
              "      <td>30.000000</td>\n",
              "      <td>462.000000</td>\n",
              "      <td>13.420000</td>\n",
              "      <td>52.000000</td>\n",
              "      <td>56.000000</td>\n",
              "      <td>15.800000</td>\n",
              "      <td>9054.914000</td>\n",
              "    </tr>\n",
              "    <tr>\n",
              "      <th>25%</th>\n",
              "      <td>13.000000</td>\n",
              "      <td>2.200000</td>\n",
              "      <td>5.100000</td>\n",
              "      <td>0.200000</td>\n",
              "      <td>73.000000</td>\n",
              "      <td>3.660000</td>\n",
              "      <td>60.000000</td>\n",
              "      <td>0.600000</td>\n",
              "      <td>19326.000000</td>\n",
              "      <td>18465.000000</td>\n",
              "      <td>20.000000</td>\n",
              "      <td>4.800000</td>\n",
              "      <td>80.100000</td>\n",
              "      <td>5.800000</td>\n",
              "      <td>1.370000</td>\n",
              "      <td>25503.000000</td>\n",
              "      <td>89.000000</td>\n",
              "      <td>1.400000</td>\n",
              "      <td>65.000000</td>\n",
              "      <td>487.000000</td>\n",
              "      <td>14.610000</td>\n",
              "      <td>64.000000</td>\n",
              "      <td>78.000000</td>\n",
              "      <td>16.800000</td>\n",
              "      <td>19121.592000</td>\n",
              "    </tr>\n",
              "    <tr>\n",
              "      <th>50%</th>\n",
              "      <td>18.000000</td>\n",
              "      <td>3.600000</td>\n",
              "      <td>7.100000</td>\n",
              "      <td>0.700000</td>\n",
              "      <td>82.000000</td>\n",
              "      <td>6.160000</td>\n",
              "      <td>67.000000</td>\n",
              "      <td>0.900000</td>\n",
              "      <td>23965.000000</td>\n",
              "      <td>43045.000000</td>\n",
              "      <td>21.000000</td>\n",
              "      <td>5.500000</td>\n",
              "      <td>81.000000</td>\n",
              "      <td>6.800000</td>\n",
              "      <td>2.370000</td>\n",
              "      <td>36354.000000</td>\n",
              "      <td>90.000000</td>\n",
              "      <td>1.700000</td>\n",
              "      <td>69.000000</td>\n",
              "      <td>500.000000</td>\n",
              "      <td>14.910000</td>\n",
              "      <td>69.000000</td>\n",
              "      <td>85.000000</td>\n",
              "      <td>17.600000</td>\n",
              "      <td>37044.891000</td>\n",
              "    </tr>\n",
              "    <tr>\n",
              "      <th>75%</th>\n",
              "      <td>24.000000</td>\n",
              "      <td>4.900000</td>\n",
              "      <td>10.300000</td>\n",
              "      <td>3.200000</td>\n",
              "      <td>88.000000</td>\n",
              "      <td>12.250000</td>\n",
              "      <td>72.000000</td>\n",
              "      <td>1.300000</td>\n",
              "      <td>28307.000000</td>\n",
              "      <td>54987.000000</td>\n",
              "      <td>22.000000</td>\n",
              "      <td>6.500000</td>\n",
              "      <td>81.800000</td>\n",
              "      <td>7.300000</td>\n",
              "      <td>5.100000</td>\n",
              "      <td>46911.000000</td>\n",
              "      <td>94.000000</td>\n",
              "      <td>1.900000</td>\n",
              "      <td>77.000000</td>\n",
              "      <td>516.000000</td>\n",
              "      <td>15.110000</td>\n",
              "      <td>77.000000</td>\n",
              "      <td>91.000000</td>\n",
              "      <td>18.600000</td>\n",
              "      <td>43724.031000</td>\n",
              "    </tr>\n",
              "    <tr>\n",
              "      <th>max</th>\n",
              "      <td>35.000000</td>\n",
              "      <td>6.600000</td>\n",
              "      <td>11.500000</td>\n",
              "      <td>15.100000</td>\n",
              "      <td>94.000000</td>\n",
              "      <td>40.860000</td>\n",
              "      <td>82.000000</td>\n",
              "      <td>12.800000</td>\n",
              "      <td>41355.000000</td>\n",
              "      <td>145769.000000</td>\n",
              "      <td>26.000000</td>\n",
              "      <td>17.800000</td>\n",
              "      <td>83.200000</td>\n",
              "      <td>7.500000</td>\n",
              "      <td>18.390000</td>\n",
              "      <td>56340.000000</td>\n",
              "      <td>96.000000</td>\n",
              "      <td>2.500000</td>\n",
              "      <td>90.000000</td>\n",
              "      <td>542.000000</td>\n",
              "      <td>16.060000</td>\n",
              "      <td>93.000000</td>\n",
              "      <td>97.000000</td>\n",
              "      <td>19.800000</td>\n",
              "      <td>55805.204000</td>\n",
              "    </tr>\n",
              "  </tbody>\n",
              "</table>\n",
              "</div>"
            ],
            "text/plain": [
              "       Air pollution  Assault rate  ...  Years in education  GDP per capita\n",
              "count      29.000000     29.000000  ...           29.000000       29.000000\n",
              "mean       19.241379      3.572414  ...           17.727586    33391.749138\n",
              "std         7.224241      1.545476  ...            1.176829    14650.076056\n",
              "min         9.000000      1.300000  ...           15.800000     9054.914000\n",
              "25%        13.000000      2.200000  ...           16.800000    19121.592000\n",
              "50%        18.000000      3.600000  ...           17.600000    37044.891000\n",
              "75%        24.000000      4.900000  ...           18.600000    43724.031000\n",
              "max        35.000000      6.600000  ...           19.800000    55805.204000\n",
              "\n",
              "[8 rows x 25 columns]"
            ]
          },
          "metadata": {
            "tags": []
          },
          "execution_count": 10
        }
      ]
    },
    {
      "cell_type": "markdown",
      "metadata": {
        "id": "Iwefk8Ot4n7u",
        "colab_type": "text"
      },
      "source": [
        "Life satisfactionは、ターゲット（目的変数）として取り出す。"
      ]
    },
    {
      "cell_type": "code",
      "metadata": {
        "id": "ODlpS63m0o7-",
        "colab_type": "code",
        "colab": {}
      },
      "source": [
        "df_lifesat = df_data['Life satisfaction']"
      ],
      "execution_count": 0,
      "outputs": []
    },
    {
      "cell_type": "code",
      "metadata": {
        "id": "LqKLPdB90zBa",
        "colab_type": "code",
        "colab": {
          "base_uri": "https://localhost:8080/",
          "height": 173
        },
        "outputId": "2f741087-fa2e-4354-ed62-58d22cf5fb9c"
      },
      "source": [
        "df_lifesat.describe()"
      ],
      "execution_count": 12,
      "outputs": [
        {
          "output_type": "execute_result",
          "data": {
            "text/plain": [
              "count    29.000000\n",
              "mean      6.493103\n",
              "std       0.839613\n",
              "min       4.800000\n",
              "25%       5.800000\n",
              "50%       6.800000\n",
              "75%       7.300000\n",
              "max       7.500000\n",
              "Name: Life satisfaction, dtype: float64"
            ]
          },
          "metadata": {
            "tags": []
          },
          "execution_count": 12
        }
      ]
    },
    {
      "cell_type": "code",
      "metadata": {
        "id": "AjKx8G4e00qh",
        "colab_type": "code",
        "colab": {}
      },
      "source": [
        "df_covariate = df_data[df_data.columns[df_data.columns != 'Life satisfaction']]"
      ],
      "execution_count": 0,
      "outputs": []
    },
    {
      "cell_type": "markdown",
      "metadata": {
        "id": "h6dJTtrw4eqH",
        "colab_type": "text"
      },
      "source": [
        "Life satisfactionは目的変数なので、説明変数からは除去。"
      ]
    },
    {
      "cell_type": "code",
      "metadata": {
        "id": "e36JDNDa1FNK",
        "colab_type": "code",
        "colab": {
          "base_uri": "https://localhost:8080/",
          "height": 555
        },
        "outputId": "327ea0a2-064c-4a6c-e2b9-5f2b3ae39f6c"
      },
      "source": [
        "df_covariate.info()"
      ],
      "execution_count": 14,
      "outputs": [
        {
          "output_type": "stream",
          "text": [
            "<class 'pandas.core.frame.DataFrame'>\n",
            "RangeIndex: 29 entries, 0 to 28\n",
            "Data columns (total 24 columns):\n",
            " #   Column                                     Non-Null Count  Dtype  \n",
            "---  ------                                     --------------  -----  \n",
            " 0   Air pollution                              29 non-null     float64\n",
            " 1   Assault rate                               29 non-null     float64\n",
            " 2   Consultation on rule-making                29 non-null     float64\n",
            " 3   Dwellings without basic facilities         29 non-null     float64\n",
            " 4   Educational attainment                     29 non-null     float64\n",
            " 5   Employees working very long hours          29 non-null     float64\n",
            " 6   Employment rate                            29 non-null     float64\n",
            " 7   Homicide rate                              29 non-null     float64\n",
            " 8   Household net adjusted disposable income   29 non-null     float64\n",
            " 9   Household net financial wealth             29 non-null     float64\n",
            " 10  Housing expenditure                        29 non-null     float64\n",
            " 11  Job security                               29 non-null     float64\n",
            " 12  Life expectancy                            29 non-null     float64\n",
            " 13  Long-term unemployment rate                29 non-null     float64\n",
            " 14  Personal earnings                          29 non-null     float64\n",
            " 15  Quality of support network                 29 non-null     float64\n",
            " 16  Rooms per person                           29 non-null     float64\n",
            " 17  Self-reported health                       29 non-null     float64\n",
            " 18  Student skills                             29 non-null     float64\n",
            " 19  Time devoted to leisure and personal care  29 non-null     float64\n",
            " 20  Voter turnout                              29 non-null     float64\n",
            " 21  Water quality                              29 non-null     float64\n",
            " 22  Years in education                         29 non-null     float64\n",
            " 23  GDP per capita                             29 non-null     float64\n",
            "dtypes: float64(24)\n",
            "memory usage: 5.6 KB\n"
          ],
          "name": "stdout"
        }
      ]
    },
    {
      "cell_type": "markdown",
      "metadata": {
        "id": "BhNDZN3q4yfC",
        "colab_type": "text"
      },
      "source": [
        "説明変数のデータをnumpyの配列に変換。"
      ]
    },
    {
      "cell_type": "code",
      "metadata": {
        "id": "6sP5JEA91Gid",
        "colab_type": "code",
        "colab": {}
      },
      "source": [
        "X = df_covariate.to_numpy()"
      ],
      "execution_count": 0,
      "outputs": []
    },
    {
      "cell_type": "code",
      "metadata": {
        "id": "u0m4mkQ51KE4",
        "colab_type": "code",
        "colab": {
          "base_uri": "https://localhost:8080/",
          "height": 35
        },
        "outputId": "0d68d1a4-8e3a-4ba2-f33e-4ec46806bcc3"
      },
      "source": [
        "X.shape"
      ],
      "execution_count": 16,
      "outputs": [
        {
          "output_type": "execute_result",
          "data": {
            "text/plain": [
              "(29, 24)"
            ]
          },
          "metadata": {
            "tags": []
          },
          "execution_count": 16
        }
      ]
    },
    {
      "cell_type": "markdown",
      "metadata": {
        "id": "4yA6I5xm43yW",
        "colab_type": "text"
      },
      "source": [
        "目的変数のほうもnumpyの配列に変換。"
      ]
    },
    {
      "cell_type": "code",
      "metadata": {
        "id": "dYX44wst1LGd",
        "colab_type": "code",
        "colab": {}
      },
      "source": [
        "y = df_lifesat.to_numpy()"
      ],
      "execution_count": 0,
      "outputs": []
    },
    {
      "cell_type": "code",
      "metadata": {
        "id": "xP9au70T1RNF",
        "colab_type": "code",
        "colab": {
          "base_uri": "https://localhost:8080/",
          "height": 35
        },
        "outputId": "fa9726ef-2f73-4cc1-c94d-e9963b5aa187"
      },
      "source": [
        "y.shape"
      ],
      "execution_count": 18,
      "outputs": [
        {
          "output_type": "execute_result",
          "data": {
            "text/plain": [
              "(29,)"
            ]
          },
          "metadata": {
            "tags": []
          },
          "execution_count": 18
        }
      ]
    },
    {
      "cell_type": "markdown",
      "metadata": {
        "id": "EUZiAiga48Ms",
        "colab_type": "text"
      },
      "source": [
        "訓練データ、検証データ、テストデータに分割。"
      ]
    },
    {
      "cell_type": "code",
      "metadata": {
        "id": "OYtSa1G12x1M",
        "colab_type": "code",
        "colab": {}
      },
      "source": [
        "from sklearn.model_selection import train_test_split"
      ],
      "execution_count": 0,
      "outputs": []
    },
    {
      "cell_type": "code",
      "metadata": {
        "id": "0TBgEEbZ2DUf",
        "colab_type": "code",
        "colab": {}
      },
      "source": [
        "X_train, X_test, y_train, y_test = train_test_split(X, y, test_size=0.2, random_state=123)"
      ],
      "execution_count": 0,
      "outputs": []
    },
    {
      "cell_type": "code",
      "metadata": {
        "id": "AN02ASLf2rvH",
        "colab_type": "code",
        "colab": {
          "base_uri": "https://localhost:8080/",
          "height": 35
        },
        "outputId": "69206528-c7b8-46c2-8452-8c42bda2ef6d"
      },
      "source": [
        "X_test.shape"
      ],
      "execution_count": 21,
      "outputs": [
        {
          "output_type": "execute_result",
          "data": {
            "text/plain": [
              "(6, 24)"
            ]
          },
          "metadata": {
            "tags": []
          },
          "execution_count": 21
        }
      ]
    },
    {
      "cell_type": "code",
      "metadata": {
        "id": "_GfsXXor2058",
        "colab_type": "code",
        "colab": {}
      },
      "source": [
        "X_train, X_valid, y_train, y_valid = train_test_split(X_train, y_train, test_size=0.2, random_state=123)"
      ],
      "execution_count": 0,
      "outputs": []
    },
    {
      "cell_type": "code",
      "metadata": {
        "id": "mqXuIhPM2_U5",
        "colab_type": "code",
        "colab": {
          "base_uri": "https://localhost:8080/",
          "height": 35
        },
        "outputId": "f2e71c9b-9b7a-4857-ddd9-2cb531b21fdb"
      },
      "source": [
        "X_valid.shape"
      ],
      "execution_count": 23,
      "outputs": [
        {
          "output_type": "execute_result",
          "data": {
            "text/plain": [
              "(5, 24)"
            ]
          },
          "metadata": {
            "tags": []
          },
          "execution_count": 23
        }
      ]
    },
    {
      "cell_type": "code",
      "metadata": {
        "id": "E7sSvUD_3BIX",
        "colab_type": "code",
        "colab": {
          "base_uri": "https://localhost:8080/",
          "height": 35
        },
        "outputId": "8ce83dc4-2a40-4355-86b9-8202c442a12e"
      },
      "source": [
        "X_train.shape"
      ],
      "execution_count": 24,
      "outputs": [
        {
          "output_type": "execute_result",
          "data": {
            "text/plain": [
              "(18, 24)"
            ]
          },
          "metadata": {
            "tags": []
          },
          "execution_count": 24
        }
      ]
    },
    {
      "cell_type": "markdown",
      "metadata": {
        "id": "K8WIJR1r5CEu",
        "colab_type": "text"
      },
      "source": [
        "訓練データで線形モデルを学習させる。"
      ]
    },
    {
      "cell_type": "code",
      "metadata": {
        "id": "SbUufnsQ3DAU",
        "colab_type": "code",
        "colab": {
          "base_uri": "https://localhost:8080/",
          "height": 35
        },
        "outputId": "ed8b89b1-e90a-4605-ba04-859b428e249b"
      },
      "source": [
        "reg = LinearRegression()\n",
        "reg.fit(X_train, y_train)"
      ],
      "execution_count": 25,
      "outputs": [
        {
          "output_type": "execute_result",
          "data": {
            "text/plain": [
              "LinearRegression(copy_X=True, fit_intercept=True, n_jobs=None, normalize=False)"
            ]
          },
          "metadata": {
            "tags": []
          },
          "execution_count": 25
        }
      ]
    },
    {
      "cell_type": "markdown",
      "metadata": {
        "id": "L4q6BmdH5JhD",
        "colab_type": "text"
      },
      "source": [
        "検証データ上で評価。評価尺度は、MSE。"
      ]
    },
    {
      "cell_type": "code",
      "metadata": {
        "id": "DZBZEpp63Gh6",
        "colab_type": "code",
        "colab": {}
      },
      "source": [
        "from sklearn.metrics import mean_squared_error"
      ],
      "execution_count": 0,
      "outputs": []
    },
    {
      "cell_type": "code",
      "metadata": {
        "id": "zrwrqq_N3eBa",
        "colab_type": "code",
        "colab": {
          "base_uri": "https://localhost:8080/",
          "height": 35
        },
        "outputId": "781aa632-80c0-40b0-c14f-e312c726dc06"
      },
      "source": [
        "mean_squared_error(y_valid, reg.predict(X_valid))"
      ],
      "execution_count": 27,
      "outputs": [
        {
          "output_type": "execute_result",
          "data": {
            "text/plain": [
              "0.49838783702847833"
            ]
          },
          "metadata": {
            "tags": []
          },
          "execution_count": 27
        }
      ]
    },
    {
      "cell_type": "markdown",
      "metadata": {
        "id": "8R_34lJ-5R1Q",
        "colab_type": "text"
      },
      "source": [
        "実際に、真値と予測値を見比べてみる。"
      ]
    },
    {
      "cell_type": "code",
      "metadata": {
        "id": "vxJrZHjm3jjZ",
        "colab_type": "code",
        "colab": {
          "base_uri": "https://localhost:8080/",
          "height": 35
        },
        "outputId": "e6fcf7ef-8f0f-4159-b7c0-e689b54a616c"
      },
      "source": [
        "print(y_valid)"
      ],
      "execution_count": 28,
      "outputs": [
        {
          "output_type": "stream",
          "text": [
            "[6.1 4.8 7.5 7.  6. ]\n"
          ],
          "name": "stdout"
        }
      ]
    },
    {
      "cell_type": "code",
      "metadata": {
        "id": "tO6Xu0pU37Gy",
        "colab_type": "code",
        "colab": {
          "base_uri": "https://localhost:8080/",
          "height": 35
        },
        "outputId": "c13e3822-5759-4ee8-d761-ce63453ac1d5"
      },
      "source": [
        "print(reg.predict(X_valid))"
      ],
      "execution_count": 29,
      "outputs": [
        {
          "output_type": "stream",
          "text": [
            "[5.30260819 5.71847655 7.71822447 6.815023   5.03528869]\n"
          ],
          "name": "stdout"
        }
      ]
    },
    {
      "cell_type": "markdown",
      "metadata": {
        "id": "FTYGWaTW5wRC",
        "colab_type": "text"
      },
      "source": [
        "## 試してみよう！\n",
        "\n",
        "* 説明変数を全て使うのではなく、選別すると、もっと良い予測ができたりするだろうか？\n",
        "* 属性名を眺めつつ、説明変数を減らしてみて、検証データ上で評価値が良くなるか、試してみよう。\n",
        "* もし良くなったら、テストデータで評価して、説明変数を全て使った場合の評価値と比べてみよう。\n",
        "\n",
        "\n",
        "\n",
        "* 説明変数を減らす以外に、説明変数のデータに前処理をすることで、予測を改良できたりするだろうか？\n"
      ]
    },
    {
      "cell_type": "code",
      "metadata": {
        "id": "JdzCvvvN39xA",
        "colab_type": "code",
        "colab": {
          "base_uri": "https://localhost:8080/",
          "height": 72
        },
        "outputId": "0fd3f9c0-e811-4bba-fce4-c7260aef0ea2"
      },
      "source": [
        "import seaborn as sns\n",
        "sns.set(style=\"ticks\", color_codes=True)"
      ],
      "execution_count": 30,
      "outputs": [
        {
          "output_type": "stream",
          "text": [
            "/usr/local/lib/python3.6/dist-packages/statsmodels/tools/_testing.py:19: FutureWarning: pandas.util.testing is deprecated. Use the functions in the public API at pandas.testing instead.\n",
            "  import pandas.util.testing as tm\n"
          ],
          "name": "stderr"
        }
      ]
    },
    {
      "cell_type": "code",
      "metadata": {
        "id": "PBuUo9wy8VFz",
        "colab_type": "code",
        "colab": {}
      },
      "source": [
        "var_names = df_covariate.columns.to_list()"
      ],
      "execution_count": 0,
      "outputs": []
    },
    {
      "cell_type": "code",
      "metadata": {
        "id": "4K4374hc60M6",
        "colab_type": "code",
        "colab": {}
      },
      "source": [
        "df_train = pd.DataFrame(X_train, columns=var_names)"
      ],
      "execution_count": 0,
      "outputs": []
    },
    {
      "cell_type": "code",
      "metadata": {
        "id": "QJcHiTIu66aD",
        "colab_type": "code",
        "colab": {
          "base_uri": "https://localhost:8080/",
          "height": 871
        },
        "outputId": "0a277721-bff4-4e97-ecce-266e1bcf02fe"
      },
      "source": [
        "sns.pairplot(df_train[var_names[:5]])"
      ],
      "execution_count": 33,
      "outputs": [
        {
          "output_type": "execute_result",
          "data": {
            "text/plain": [
              "<seaborn.axisgrid.PairGrid at 0x7fd8d979b0f0>"
            ]
          },
          "metadata": {
            "tags": []
          },
          "execution_count": 33
        },
        {
          "output_type": "display_data",
          "data": {
            "image/png": "[encoded data removed]",
            "text/plain": [
              "<Figure size 900x900 with 30 Axes>"
            ]
          },
          "metadata": {
            "tags": []
          }
        }
      ]
    },
    {
      "cell_type": "code",
      "metadata": {
        "id": "x4eRXbtj8DNN",
        "colab_type": "code",
        "colab": {
          "base_uri": "https://localhost:8080/",
          "height": 383
        },
        "outputId": "31ce9dc0-7b3b-45f3-f209-3688a37feab4"
      },
      "source": [
        "df_train.describe()"
      ],
      "execution_count": 34,
      "outputs": [
        {
          "output_type": "execute_result",
          "data": {
            "text/html": [
              "<div>\n",
              "<style scoped>\n",
              "    .dataframe tbody tr th:only-of-type {\n",
              "        vertical-align: middle;\n",
              "    }\n",
              "\n",
              "    .dataframe tbody tr th {\n",
              "        vertical-align: top;\n",
              "    }\n",
              "\n",
              "    .dataframe thead th {\n",
              "        text-align: right;\n",
              "    }\n",
              "</style>\n",
              "<table border=\"1\" class=\"dataframe\">\n",
              "  <thead>\n",
              "    <tr style=\"text-align: right;\">\n",
              "      <th></th>\n",
              "      <th>Air pollution</th>\n",
              "      <th>Assault rate</th>\n",
              "      <th>Consultation on rule-making</th>\n",
              "      <th>Dwellings without basic facilities</th>\n",
              "      <th>Educational attainment</th>\n",
              "      <th>Employees working very long hours</th>\n",
              "      <th>Employment rate</th>\n",
              "      <th>Homicide rate</th>\n",
              "      <th>Household net adjusted disposable income</th>\n",
              "      <th>Household net financial wealth</th>\n",
              "      <th>Housing expenditure</th>\n",
              "      <th>Job security</th>\n",
              "      <th>Life expectancy</th>\n",
              "      <th>Long-term unemployment rate</th>\n",
              "      <th>Personal earnings</th>\n",
              "      <th>Quality of support network</th>\n",
              "      <th>Rooms per person</th>\n",
              "      <th>Self-reported health</th>\n",
              "      <th>Student skills</th>\n",
              "      <th>Time devoted to leisure and personal care</th>\n",
              "      <th>Voter turnout</th>\n",
              "      <th>Water quality</th>\n",
              "      <th>Years in education</th>\n",
              "      <th>GDP per capita</th>\n",
              "    </tr>\n",
              "  </thead>\n",
              "  <tbody>\n",
              "    <tr>\n",
              "      <th>count</th>\n",
              "      <td>18.000000</td>\n",
              "      <td>18.000000</td>\n",
              "      <td>18.000000</td>\n",
              "      <td>18.000000</td>\n",
              "      <td>18.000000</td>\n",
              "      <td>18.000000</td>\n",
              "      <td>18.000000</td>\n",
              "      <td>18.000000</td>\n",
              "      <td>18.000000</td>\n",
              "      <td>18.000000</td>\n",
              "      <td>18.000000</td>\n",
              "      <td>18.000000</td>\n",
              "      <td>18.000000</td>\n",
              "      <td>18.000000</td>\n",
              "      <td>18.000000</td>\n",
              "      <td>18.000000</td>\n",
              "      <td>18.000000</td>\n",
              "      <td>18.000000</td>\n",
              "      <td>18.000000</td>\n",
              "      <td>18.000000</td>\n",
              "      <td>18.00000</td>\n",
              "      <td>18.000000</td>\n",
              "      <td>18.000000</td>\n",
              "      <td>18.000000</td>\n",
              "    </tr>\n",
              "    <tr>\n",
              "      <th>mean</th>\n",
              "      <td>20.833333</td>\n",
              "      <td>3.572222</td>\n",
              "      <td>7.511111</td>\n",
              "      <td>2.294444</td>\n",
              "      <td>75.833333</td>\n",
              "      <td>10.348333</td>\n",
              "      <td>66.444444</td>\n",
              "      <td>0.933333</td>\n",
              "      <td>24456.111111</td>\n",
              "      <td>45309.777778</td>\n",
              "      <td>21.222222</td>\n",
              "      <td>6.083333</td>\n",
              "      <td>80.672222</td>\n",
              "      <td>2.987222</td>\n",
              "      <td>37327.888889</td>\n",
              "      <td>89.833333</td>\n",
              "      <td>1.694444</td>\n",
              "      <td>68.222222</td>\n",
              "      <td>503.444444</td>\n",
              "      <td>14.846667</td>\n",
              "      <td>72.50000</td>\n",
              "      <td>83.333333</td>\n",
              "      <td>17.661111</td>\n",
              "      <td>34271.063389</td>\n",
              "    </tr>\n",
              "    <tr>\n",
              "      <th>std</th>\n",
              "      <td>7.815896</td>\n",
              "      <td>1.725520</td>\n",
              "      <td>2.810880</td>\n",
              "      <td>3.246803</td>\n",
              "      <td>14.849242</td>\n",
              "      <td>9.812365</td>\n",
              "      <td>8.233520</td>\n",
              "      <td>0.517914</td>\n",
              "      <td>5004.351846</td>\n",
              "      <td>25546.134865</td>\n",
              "      <td>1.864705</td>\n",
              "      <td>3.265731</td>\n",
              "      <td>2.493711</td>\n",
              "      <td>3.050683</td>\n",
              "      <td>10146.055889</td>\n",
              "      <td>5.404247</td>\n",
              "      <td>0.431785</td>\n",
              "      <td>15.791120</td>\n",
              "      <td>22.377042</td>\n",
              "      <td>0.600676</td>\n",
              "      <td>10.54542</td>\n",
              "      <td>10.397964</td>\n",
              "      <td>1.243401</td>\n",
              "      <td>12603.502473</td>\n",
              "    </tr>\n",
              "    <tr>\n",
              "      <th>min</th>\n",
              "      <td>10.000000</td>\n",
              "      <td>1.300000</td>\n",
              "      <td>2.500000</td>\n",
              "      <td>0.000000</td>\n",
              "      <td>34.000000</td>\n",
              "      <td>0.450000</td>\n",
              "      <td>50.000000</td>\n",
              "      <td>0.300000</td>\n",
              "      <td>14095.000000</td>\n",
              "      <td>3251.000000</td>\n",
              "      <td>16.000000</td>\n",
              "      <td>2.400000</td>\n",
              "      <td>74.600000</td>\n",
              "      <td>0.010000</td>\n",
              "      <td>16919.000000</td>\n",
              "      <td>72.000000</td>\n",
              "      <td>1.100000</td>\n",
              "      <td>30.000000</td>\n",
              "      <td>462.000000</td>\n",
              "      <td>13.420000</td>\n",
              "      <td>53.00000</td>\n",
              "      <td>62.000000</td>\n",
              "      <td>15.800000</td>\n",
              "      <td>9437.372000</td>\n",
              "    </tr>\n",
              "    <tr>\n",
              "      <th>25%</th>\n",
              "      <td>15.000000</td>\n",
              "      <td>2.125000</td>\n",
              "      <td>5.200000</td>\n",
              "      <td>0.200000</td>\n",
              "      <td>72.250000</td>\n",
              "      <td>3.730000</td>\n",
              "      <td>60.500000</td>\n",
              "      <td>0.600000</td>\n",
              "      <td>22197.250000</td>\n",
              "      <td>25653.000000</td>\n",
              "      <td>21.000000</td>\n",
              "      <td>4.625000</td>\n",
              "      <td>80.775000</td>\n",
              "      <td>1.182500</td>\n",
              "      <td>34626.750000</td>\n",
              "      <td>87.500000</td>\n",
              "      <td>1.400000</td>\n",
              "      <td>65.250000</td>\n",
              "      <td>487.750000</td>\n",
              "      <td>14.512500</td>\n",
              "      <td>66.50000</td>\n",
              "      <td>77.250000</td>\n",
              "      <td>16.500000</td>\n",
              "      <td>27863.043000</td>\n",
              "    </tr>\n",
              "    <tr>\n",
              "      <th>50%</th>\n",
              "      <td>21.000000</td>\n",
              "      <td>3.500000</td>\n",
              "      <td>7.300000</td>\n",
              "      <td>0.800000</td>\n",
              "      <td>80.000000</td>\n",
              "      <td>7.510000</td>\n",
              "      <td>68.000000</td>\n",
              "      <td>0.900000</td>\n",
              "      <td>25638.500000</td>\n",
              "      <td>49314.000000</td>\n",
              "      <td>21.000000</td>\n",
              "      <td>5.450000</td>\n",
              "      <td>81.400000</td>\n",
              "      <td>2.050000</td>\n",
              "      <td>38207.000000</td>\n",
              "      <td>90.500000</td>\n",
              "      <td>1.750000</td>\n",
              "      <td>70.500000</td>\n",
              "      <td>501.000000</td>\n",
              "      <td>14.880000</td>\n",
              "      <td>75.00000</td>\n",
              "      <td>86.000000</td>\n",
              "      <td>17.550000</td>\n",
              "      <td>37359.948500</td>\n",
              "    </tr>\n",
              "    <tr>\n",
              "      <th>75%</th>\n",
              "      <td>26.250000</td>\n",
              "      <td>4.975000</td>\n",
              "      <td>10.375000</td>\n",
              "      <td>3.575000</td>\n",
              "      <td>85.000000</td>\n",
              "      <td>13.577500</td>\n",
              "      <td>72.000000</td>\n",
              "      <td>1.200000</td>\n",
              "      <td>28212.000000</td>\n",
              "      <td>60665.500000</td>\n",
              "      <td>22.000000</td>\n",
              "      <td>6.500000</td>\n",
              "      <td>82.025000</td>\n",
              "      <td>3.852500</td>\n",
              "      <td>44197.250000</td>\n",
              "      <td>93.500000</td>\n",
              "      <td>1.900000</td>\n",
              "      <td>76.750000</td>\n",
              "      <td>520.500000</td>\n",
              "      <td>15.092500</td>\n",
              "      <td>79.25000</td>\n",
              "      <td>91.750000</td>\n",
              "      <td>18.625000</td>\n",
              "      <td>43535.326500</td>\n",
              "    </tr>\n",
              "    <tr>\n",
              "      <th>max</th>\n",
              "      <td>35.000000</td>\n",
              "      <td>6.600000</td>\n",
              "      <td>11.500000</td>\n",
              "      <td>12.700000</td>\n",
              "      <td>94.000000</td>\n",
              "      <td>40.860000</td>\n",
              "      <td>82.000000</td>\n",
              "      <td>2.300000</td>\n",
              "      <td>31173.000000</td>\n",
              "      <td>86764.000000</td>\n",
              "      <td>24.000000</td>\n",
              "      <td>17.800000</td>\n",
              "      <td>83.200000</td>\n",
              "      <td>12.960000</td>\n",
              "      <td>55716.000000</td>\n",
              "      <td>96.000000</td>\n",
              "      <td>2.500000</td>\n",
              "      <td>90.000000</td>\n",
              "      <td>542.000000</td>\n",
              "      <td>16.060000</td>\n",
              "      <td>89.00000</td>\n",
              "      <td>97.000000</td>\n",
              "      <td>19.800000</td>\n",
              "      <td>50854.583000</td>\n",
              "    </tr>\n",
              "  </tbody>\n",
              "</table>\n",
              "</div>"
            ],
            "text/plain": [
              "       Air pollution  Assault rate  ...  Years in education  GDP per capita\n",
              "count      18.000000     18.000000  ...           18.000000       18.000000\n",
              "mean       20.833333      3.572222  ...           17.661111    34271.063389\n",
              "std         7.815896      1.725520  ...            1.243401    12603.502473\n",
              "min        10.000000      1.300000  ...           15.800000     9437.372000\n",
              "25%        15.000000      2.125000  ...           16.500000    27863.043000\n",
              "50%        21.000000      3.500000  ...           17.550000    37359.948500\n",
              "75%        26.250000      4.975000  ...           18.625000    43535.326500\n",
              "max        35.000000      6.600000  ...           19.800000    50854.583000\n",
              "\n",
              "[8 rows x 24 columns]"
            ]
          },
          "metadata": {
            "tags": []
          },
          "execution_count": 34
        }
      ]
    },
    {
      "cell_type": "code",
      "metadata": {
        "id": "alSJzyh9_k59",
        "colab_type": "code",
        "colab": {}
      },
      "source": [
        "df_train_new = df_train[df_train.columns[df_train.columns != 'Dwellings without basic facilities']]"
      ],
      "execution_count": 0,
      "outputs": []
    },
    {
      "cell_type": "code",
      "metadata": {
        "id": "fpLIJl1nAAG3",
        "colab_type": "code",
        "colab": {}
      },
      "source": [
        "X_train_new = df_train_new.to_numpy()"
      ],
      "execution_count": 0,
      "outputs": []
    },
    {
      "cell_type": "code",
      "metadata": {
        "id": "otlChCCjAGU3",
        "colab_type": "code",
        "colab": {
          "base_uri": "https://localhost:8080/",
          "height": 35
        },
        "outputId": "c6a7b635-ccf5-4d88-91c4-8bb02af4ae57"
      },
      "source": [
        "reg = LinearRegression()\n",
        "reg.fit(X_train_new, y_train)"
      ],
      "execution_count": 37,
      "outputs": [
        {
          "output_type": "execute_result",
          "data": {
            "text/plain": [
              "LinearRegression(copy_X=True, fit_intercept=True, n_jobs=None, normalize=False)"
            ]
          },
          "metadata": {
            "tags": []
          },
          "execution_count": 37
        }
      ]
    },
    {
      "cell_type": "code",
      "metadata": {
        "id": "jdUnfmdBAY78",
        "colab_type": "code",
        "colab": {}
      },
      "source": [
        "df_valid = pd.DataFrame(X_valid, columns=var_names)\n",
        "df_valid_new = df_valid[df_valid.columns[df_valid.columns != 'Dwellings without basic facilities']]\n",
        "X_valid_new = df_valid_new.to_numpy()"
      ],
      "execution_count": 0,
      "outputs": []
    },
    {
      "cell_type": "code",
      "metadata": {
        "id": "VPb3llJmAOEE",
        "colab_type": "code",
        "colab": {
          "base_uri": "https://localhost:8080/",
          "height": 35
        },
        "outputId": "830abc5d-2351-45e5-d260-ebb5dfcddf67"
      },
      "source": [
        "mean_squared_error(y_valid, reg.predict(X_valid_new))"
      ],
      "execution_count": 39,
      "outputs": [
        {
          "output_type": "execute_result",
          "data": {
            "text/plain": [
              "0.47316285564692667"
            ]
          },
          "metadata": {
            "tags": []
          },
          "execution_count": 39
        }
      ]
    },
    {
      "cell_type": "code",
      "metadata": {
        "id": "_36JUG-zARet",
        "colab_type": "code",
        "colab": {
          "base_uri": "https://localhost:8080/",
          "height": 35
        },
        "outputId": "2997f27a-9717-4881-d2c5-49ebb28c5f05"
      },
      "source": [
        "print(y_valid, reg.predict(X_valid_new))"
      ],
      "execution_count": 40,
      "outputs": [
        {
          "output_type": "stream",
          "text": [
            "[6.1 4.8 7.5 7.  6. ] [5.28006672 5.67163713 7.65611678 6.82717597 5.06216643]\n"
          ],
          "name": "stdout"
        }
      ]
    },
    {
      "cell_type": "code",
      "metadata": {
        "id": "lkxVD3uFAvxU",
        "colab_type": "code",
        "colab": {}
      },
      "source": [
        ""
      ],
      "execution_count": 0,
      "outputs": []
    }
  ]
}
