{
  "nbformat": 4,
  "nbformat_minor": 0,
  "metadata": {
    "colab": {
      "name": "10_document_classification.ipynb",
      "provenance": [],
      "collapsed_sections": [],
      "mount_file_id": "1uq_7ar9puJJG8cKR8fRE2iwFCEpAq7DQ",
      "authorship_tag": "ABX9TyMtWgDUBgMC7dQOeOPJVHtl",
      "include_colab_link": true
    },
    "kernelspec": {
      "name": "python3",
      "display_name": "Python 3"
    }
  },
  "cells": [
    {
      "cell_type": "markdown",
      "metadata": {
        "id": "view-in-github",
        "colab_type": "text"
      },
      "source": [
        "<a href=\"https://colab.research.google.com/github/tomonari-masada/courses/blob/master/10_document_classification.ipynb\" target=\"_parent\"><img src=\"https://colab.research.google.com/assets/colab-badge.svg\" alt=\"Open In Colab\"/></a>"
      ]
    },
    {
      "cell_type": "markdown",
      "metadata": {
        "id": "77taeHZLUaTm",
        "colab_type": "text"
      },
      "source": [
        "# 機械学習で文書分類を試みる\n",
        "\n",
        "* WikipediaからUSの男性俳優と女性俳優のページをクローリングして簡単な前処理を済ませてあるデータを使う。\n",
        "\n",
        "* 分析の目的1: 検証データでできるかぎりチューニングを行い、最後にテストデータでの分類性能を明らかにする。\n",
        "\n",
        "* 分析の目的2： 男性俳優と女性俳優のページを分類する際に、どのような単語が特に効いているかを調べる。\n",
        "\n",
        " * この調査によって、俳優に関する記述におけるジェンダー・ステレオタイプを明らかにできるか？"
      ]
    },
    {
      "cell_type": "code",
      "metadata": {
        "id": "Qos6P0RsSsqg",
        "colab_type": "code",
        "colab": {}
      },
      "source": [
        "import numpy as np\n",
        "from sklearn.feature_extraction.text import TfidfVectorizer\n",
        "from sklearn.model_selection import train_test_split\n",
        "from sklearn.linear_model import LogisticRegression\n",
        "from sklearn.svm import LinearSVC"
      ],
      "execution_count": 1,
      "outputs": []
    },
    {
      "cell_type": "markdown",
      "metadata": {
        "id": "oEMUit1zVZma",
        "colab_type": "text"
      },
      "source": [
        "### 1) データファイルを読み込む\n",
        "\n",
        "* データファイルは、あらかじめ自分のGoogle Driveの適当なフォルダに置いておく。\n",
        "\n",
        "* データファイルの各行には、女性俳優(1)か男性俳優(0)かを表すフラグ、俳優の名前、Wikipediaのページの本文が、この順に格納されている。\n",
        "\n",
        "* データファイルの各行に対してeval組み込み関数を適用すると、Pythonのリストに変換できるようなフォーマットで、ファイルに記録されている。"
      ]
    },
    {
      "cell_type": "code",
      "metadata": {
        "id": "ngsjTPa8TqgP",
        "colab_type": "code",
        "colab": {}
      },
      "source": [
        "y = list()\n",
        "names = list()\n",
        "corpus = list()\n",
        "with open('drive/My Drive/data/us_actors_and_actresses.txt', 'r') as f:\n",
        "    for line in f:\n",
        "        flag, name, text = eval(line.strip())\n",
        "        y.append(int(flag))\n",
        "        names.append(name)\n",
        "        corpus.append(text)"
      ],
      "execution_count": 2,
      "outputs": []
    },
    {
      "cell_type": "code",
      "metadata": {
        "id": "48lbVvkseCqk",
        "colab_type": "code",
        "colab": {
          "base_uri": "https://localhost:8080/",
          "height": 205
        },
        "outputId": "655a6fbb-7f25-4cb8-da2b-9905f3d0853b"
      },
      "source": [
        "# corpusは、本文の文字列がたくさん入っているリスト。\n",
        "corpus[:10]"
      ],
      "execution_count": 3,
      "outputs": [
        {
          "output_type": "execute_result",
          "data": {
            "text/plain": [
              "['De Aundre Bonds born March 19 1976 is an American actor Bonds has mostly appeared as a guest actor on television shows however he was also featured in the Spike Lee film Get on the Bus Tales from the Hood and the Rick Famuyiwa film The Wood He has a production company called Take Off Productions with fellow actor Francis Capra 1 Bonds was born in Los Angeles California In 2001 he was convicted of manslaughter in the death of his aunt s boyfriend and in 2011 he finished serving a 10 year sentence at California Rehabilitation Center Norco California 2',\n",
              " 'James McLaughlin also James W MacLaughlin an J W McLaughlin was an American film actor and director',\n",
              " 'Dudley Dickerson November 27 1906 September 23 1968 was an American film actor Born in Chickasha Oklahoma he appeared in nearly 160 films between 1932 and 1952 and is best remembered for his roles in several Three Stooges films Given the era in which Dickerson performed he was usually cast in stereotypical roles that were common in films of the time His boundless energy can be seen in what are rather restrictive roles and was a master at what has become known as scared reaction comedy 1 Dickerson also appeared in Soundies musical films with Dorothy Dandridge and Meade Lux Lewis Modern viewers will remember Dickerson for his portrayals of startled cooks quizzical orderlies frightened porters and apprehensive watchmen in such Three Stooges films as They Stooge to Conga A Gem of a Jam and Hold That Lion In Hold that Lion he played a lovable train conductor who memorably bugged out his eyes and shrieked He p he p ah m losin mah mahnd when a lion attacked him and ripped the seat of his pants while he was shining a pair of shoes This gag had been used by Moe in a previous short but Dickerson s portrayal of the scene was so funny that the crew and Dickerson himself could hardly contain their laughter as one can hear in the final release Probably Dickerson s most memorable role was that of the hapless chef in the Stooges A Plumbing We Will Go in which he uttered in bewilderment This house has sho gone crazy He was also able to show the range of his acting talent in this role able to raise a laugh from the audience by just giving a suspicious sideways look to a kitchen appliance that had previously acted up The footage would be recycled twice more in future Stooge comedies 1949 s Vagabond Loafers and 1956 s Scheming Schemers Vagabond Loafers included newly filmed scenes of a raincoat clad Dickerson informing guests that dinner was postponed on account of rain a turn of phrase usually used to describe the cancelling of a baseball game due to inclement weather 1 Dickerson also made his mark in the Our Gang series in 1936 s Spooky Hooky Dickerson received featured billing in several Hugh Herbert comedies produced by Columbia Pictures in which as Herbert s valet he is always in scary situations and reacts with comic terror In the early 1950s Dickerson appeared in several episodes of TV s The Amos n Andy Show usually as a lodge member or Joe the Barber Dickerson retired from acting in 1959 Dickerson died of a brain tumor in 1968 at age 61 He is buried at Lincoln Memorial Park in Los Angeles California 2 He had lived to see the renewed interest during the 1960s in his work with the Three Stooges',\n",
              " 'Charles P Thompson January 2 1891 October 26 1979 was an American stage film and television actor Born in Pennsylvania Thompson began his career on Broadway in the 1920s At age 57 he made his feature film debut as a ticket taker in The Naked City 1948 During his television career Thompson played an old man on Gomer Pyle U S M C in the episode Love Letter to the Sarge 1965 He also appeared in two episodes of Gunsmoke seven episodes of The Andy Griffith Show and four episodes of Bonanza one of which 1972 was his last appearance on screen He played Asa Bascom on the Andy Griffith Show Thompson died in 1979 at the age of 88 in Los Angeles California',\n",
              " 'Gus Saville born Augustus C Tate 1857 March 25 1934 1 was an American silent film actor 2 He mostly appeared in action films and western films Saville was born in 1857 in Peekskill New York the son of U S Marshall A C Tate Against his father s wishes he performed in theatre as a young child and through his adolescence 3 In 1890 Saville was arrested for infidelity in Spokane Washington upon complaint of his wife 4 It is unknown when Saville entered the film industry as only his feature films could be researched During his career Saville appeared in 17 feature films He was best known for his roles in Tess of the Storm Country 1922 The Brand 1919 Almost a Husband 1919 and The Girl from Outside 1919 5 Saville was married to Jessie Tate He died on March 25 1934 in Hollywood California at the age of 77',\n",
              " 'Paris Themmen born June 25 1959 is an American former child actor real estate broker commercial casting director and entrepreneur who is best known for his role as Mike Teevee in Willy Wonka the Chocolate Factory Themmen was born in Boston to Ivana Marburger born 1936 and Harold B Themmen both classical musician parents 1 Themmen s mother was a renowned composer for orchestras in the late 20th century 2 3 A guitar concerto of hers was in final contention for the 1982 Kennedy Center Friedheim Award 4 Themmen s father a graduate of the New England Conservatory was a clarinetist and librarian for the American Ballet Theatre and also played for the Boston Pops 5 Themmen appeared in radio and TV commercials voice overs and theater before playing the role of Mike Teevee in the 1971 film Willy Wonka the Chocolate Factory when he was 11 years old He performed on Broadway in Mame with Ann Miller in 1967 and in The Rothschilds in 1970 Declaring a hiatus from acting at age 14 to just be a kid Themmen went on to receive a B F A in theatre from New York University Smitten with the urge to travel he founded Access International a travel service that arranged Europe bound charter flights for backpackers Themmen s passion for travel has taken him to over 60 countries Following brief stints in real estate film production commercial casting business representation at Walt Disney Imagineering and a few other ventures he now signs autographs at movie conventions runs a photography business and makes sporadic appearances in commercials plays and TV shows 6 Themmen s adult acting appearances include Virtuoso a 2000 sixth season episode of the TV series Star Trek Voyager 7 as a fawning fan He also played a contestant billed as a former child star in two 2008 episodes of the American game show Duel 8 9 On May 4 2011 Themmen appeared on the British television morning show Daybreak alongside the other child actors from Willy Wonka the Chocolate Factory Peter Ostrum Charlie Bucket Julie Dawn Cole Veruca Salt Denise Nickerson Violet Beauregarde and Michael Bollner Augustus Gloop They made an additional 40th Anniversary reunion appearance on NBC s Today Show eleven days later 10 Paris also appeared on the TV version of Trivial Pursuit in Summer 1993 and won and was on Win Ben Stein s Money and lost On January 23 2015 Themmen appeared on Ken Reid s TV Guidance Counselor Podcast The episode was recorded live in Wilmington Massachusetts during North East ComicCon On October 28 30 2015 his wife appeared on Jeopardy as a contestant returning twice as a champion before being defeated on her third appearance 11 Themmen himself was a Jeopardy contestant on March 13 2018 finishing in second place 12 Themmen has been married to Nikki Grillos since 2014 Together the couple currently resides in Los Angeles California 13 14 Themmen s sister Allegra Themmen Pigott 1967 2019 was a coloratura soprano opera singer and music therapist 15 His sister Tania is married to voice actress and voice director Susan Blu 16',\n",
              " 'Peter Abraham Haskell October 15 1934 April 12 2010 1 was an American actor who worked primarily in television 2 Haskell was born in Boston Massachusetts the son of Rose Veronica née Golden and geophysicist Norman Haskell 1 He attended Browne Nichols and later earned a Bachelor of Arts degree at Harvard University following a two year stint in the United States Army where he rose to the rank of Private First Class 3 Haskell s plan to study at Columbia Law School was derailed when he was cast in the off Broadway play The Love Nest with James Earl Jones and Sally Kirkland 4 The play closed after only 13 performances but led to his being cast in an episode of Death Valley Days citation needed Guest appearances on The Outer Limits Twelve O Clock High Dr Kildare Combat The Man from U N C L E Ben Casey The Fugitive The F B I The Mary Tyler Moore Show The Big Valley Mannix Medical Center The Streets of San Francisco Barnaby Jones Cannon Vega B J and the Bear Charlie s Angels The A Team Hunter Matlock Cold Case World s End and Booker followed He was later a regular on the soap operas Search for Tomorrow and Ryan s Hope and the primetime series Bracken s World He had recurring roles in Garrison s Gorillas and Rich Man Poor Man Book II and was featured in TV movies such as The Eyes of Charles Sand 1972 The Phantom of Hollywood 1974 The Night They Took Miss Beautiful 1977 Superdome 1978 Mandrake 1979 and The Cracker Factory 1979 5 His film appearances include the title role in The Legend of Earl Durand 1974 Riding the Edge 1989 and Robot Wars 1993 though he will be best remembered for playing Mr Sullivan the CEO of Playpals Toys in David Kirschner s Child s Play 2 1990 and Child s Play 3 1991 5 His other TV roles in the 1990s included Matlock Frasier Columbo Caution Murder Can Be Hazardous to Your Health JAG The Closer MacGyver and Cold Case Haskell was married to Annie Compton from 1960 until their 1974 divorce In 1974 he married Dianne Tolmich 6 His daughter Audra announced his death the day it occurred but did not specify the cause 6 Haskell reportedly died of a heart attack 7 8',\n",
              " 'Robert Keith born Rolland Keith Richey February 10 1898 December 22 1966 was an American stage and film actor who appeared in several dozen films mostly in the 1950s as a character actor Keith was born in Fowler Indiana the son of Mary Della née Snyder and James Haughey Richey 1 His first wife was Laura Anne Corinne Jackson the daughter of a prominent Cedar Rapids Iowa family citation needed He is noted for the variety of his performances both as weak willed and strong characters such as the father in Fourteen Hours 1951 and a psychopathic killer in The Lineup 1958 His best known performances are as the ineffectual police chief and father of biker Marlon Brando s love interest in the 1953 film The Wild One and as tougher no nonsense cop this time Brando s antagonist in the film musical Guys And Dolls Keith had a starring role in Douglas Sirk s Written on the Wind He had roles on television including a role as Richard Kimble s father in The Fugitive and lead roles on episodes of Alfred Hitchcock Presents Ten O Clock Tiger Final Escape and The Twilight Zone The Masks which was his last screen effort in the role of Jason Foster the rich New Orleans patriarch to a self centered greed riddled family waiting for their benefactor to die Keith s second wife was stage actress Helena Shipman with whom he had a son actor Brian Keith On April 18 1927 Keith married Peg Entwistle an actress who was a decade his junior They were divorced in 1929 with Entwistle citing abuse and domestic cruelty in her divorce filing 2 Entwistle a well known Broadway actress committed suicide by jumping from the H of the famous Hollywoodland Sign in 1932 He remained married to his fourth wife Dorothy Tierney until his death on December 22 1966 citation needed',\n",
              " 'Thomas Lapuppet Carroll 7 February 1938 20 March 1999 was a pioneer African American martial artist 1 and also a member of USA Karate Hall of Fame 2 and the Black Belt Hall of Fame 3 of Brooklyn NY He was also a member of the US Ju Jitsu Federation 4 but focussed on Shotokan karate Carrol died from cancer in March 1999 3 Thomas Carroll LaPuppet born in South Carolina in 1938 and died on March 23 1999 3 He was raised in Brooklyn NY graduating from Franklin K Lane High School He then went on to attend the State University of New York in Westbury NY but did not graduate from there due to his belief that The University of the street provided a more dynamic education Thomas Carrol worked as a firefighter for the FDNY and was also in the United States Marine Corps achieving the rank of First Sergeant 2 5 Carrol was a former jiujitsu practitioner before learning Karate under George Cofield 6 Carroll was a member of the USA Karate Hall of Fame 2 chairman of USA Karate New York as Treasurer and holding positions as head coach He was key in getting karate recognized by the International Olympic Committee Considered by some to be an American martial arts pioneer he defeated many famous martial artists including Bill Superfoot Wallace in tournaments 3 He also trained actors Gregory Hines and Ralph Macchio of Karate Kid 3 He is considered to be a contemporary of the Chuck Norris and Joe Lewis 7 An 8th degree blackbelt 3 he was inducted into the Black Belt Hall of Fame in 1969 Thomas was also featured in various magazines including Black Belt Magazine and Official Karate Magazine 8 He acted in the 1976 9 movie The Super Weapon 10 which also starred Ron van Clief 11 He was also in the movie Angel With a Kick He is also featured training youth in the 1976 documentary The Warrior Within 12',\n",
              " 'Matthew Dickens October 19 1961 January 8 2013 was a writer producer and director 1 Matthew Dickens was born in an ambulance on a highway on the outskirts of Nancy France Matthew s early training as an actor began at the Duke Ellington School of the Arts in DC mentored by the late founder director choreographer educator Mike Malone who he later joined as a company member of the Equity Theater Company at Karamu House in Cleveland Ohio 2 Other notable teachers were Kenneth Daugherty acting Glenda Dickerson acting Donal Leace theater history Tony Booker voice and Quay Barnes Truitt costumes and make up Matthew s early training as a dancer included classes at The School of the Cleveland Ballet In New York he had a short stay at The Ailey School and studied with David Howard Finis Jhung and Frank Hatchett While performing in New York he met Debbie Allen The two went on to work together on numerous projects including A Different World Fame Polly Carrie and The Academy Awards TV appearances include Fame guest starring roles on A Different World Quantum Leap and several commercials 4 In 1991 Matthew performed in the ABC special American Dance Honors which received an American Emmy Award nomination for the choreography 5 Matthew appeared on The Debbie Allen Special in 1989 which was nominated for 2 Primetime Emmys and co starred in the opening number of the 63rd Academy Awards with Jasmine Guy and Steve LaChance 6 Matthew was in the original Broadway cast of Sunset Boulevard starring Glenn Close and later with Betty Buckley and Elaine Paige having initially appeared in the original Los Angeles production Matthew returned to the Broadway company of Miss Saigon directly from the Netherlands production where he played the role of John entirely in Dutch 7 Other Broadway credits include playing both Chris and John at different times in Miss Saigon C C White in Dreamgirls and Stephen King s Carrie He also co starred in the original Australian cast of Smokey Joe s Cafe 4 Matthew died of prostate cancer on January 8 2013 11']"
            ]
          },
          "metadata": {
            "tags": []
          },
          "execution_count": 3
        }
      ]
    },
    {
      "cell_type": "code",
      "metadata": {
        "id": "mB1KVAZ6YB3E",
        "colab_type": "code",
        "colab": {
          "base_uri": "https://localhost:8080/",
          "height": 134
        },
        "outputId": "71532111-646b-4c18-9b3b-df2b5cd240e0"
      },
      "source": [
        "# yは男性俳優か女性俳優かを表す0/1のresponse。\n",
        "# namesは俳優の名前。\n",
        "y = np.array(y)\n",
        "names = np.array(names)\n",
        "print(names[:20])"
      ],
      "execution_count": 4,
      "outputs": [
        {
          "output_type": "stream",
          "text": [
            "['De%27Aundre_Bonds' 'James_McLaughlin_(actor)' 'Dudley_Dickerson'\n",
            " 'Charles_P._Thompson' 'Gus_Saville' 'Paris_Themmen' 'Peter_Haskell'\n",
            " 'Robert_Keith_(actor)' 'Thomas_Carroll_(martial_artist)'\n",
            " 'Matthew_Dickens' 'Nat_Benchley' 'Richard_Hunt_(puppeteer)'\n",
            " 'Thomas_McDonell' 'Paul_Smith_(American_actor,_born_1929)' 'Jim_Zulevic'\n",
            " 'Rob_Moran' 'Harry_Bannister' 'Shaun_Weiss' 'Peter_Sarsgaard'\n",
            " 'Palmer_Williams_Jr.']\n"
          ],
          "name": "stdout"
        }
      ]
    },
    {
      "cell_type": "code",
      "metadata": {
        "id": "VR0Ew63dY-1I",
        "colab_type": "code",
        "colab": {
          "base_uri": "https://localhost:8080/",
          "height": 34
        },
        "outputId": "bc14096f-b406-439d-bbd8-fb944ce8978e"
      },
      "source": [
        "# Nは全文書数。\n",
        "N = len(y)\n",
        "print('We have {:d} documents.'.format(N))"
      ],
      "execution_count": 5,
      "outputs": [
        {
          "output_type": "stream",
          "text": [
            "We have 19645 documents.\n"
          ],
          "name": "stdout"
        }
      ]
    },
    {
      "cell_type": "code",
      "metadata": {
        "id": "xqhGQYYQbDx-",
        "colab_type": "code",
        "colab": {
          "base_uri": "https://localhost:8080/",
          "height": 34
        },
        "outputId": "9e13b552-b4f0-4315-8083-9dfb5b40792c"
      },
      "source": [
        "# 訓練データとテストデータを分割するために、インデックスをランダムにシャッフルする。\n",
        "indices = np.arange(N)\n",
        "np.random.seed(123) # 乱数のシードを固定して再現性を持たせている。\n",
        "np.random.shuffle(indices)\n",
        "print(indices)"
      ],
      "execution_count": 6,
      "outputs": [
        {
          "output_type": "stream",
          "text": [
            "[12617 18144 17561 ... 15377 17730 15725]\n"
          ],
          "name": "stdout"
        }
      ]
    },
    {
      "cell_type": "code",
      "metadata": {
        "id": "kuNIHWRbbMC6",
        "colab_type": "code",
        "colab": {
          "base_uri": "https://localhost:8080/",
          "height": 34
        },
        "outputId": "03bdc54b-3fd7-4dc8-888f-6b2957c8db46"
      },
      "source": [
        "# 手動で訓練データ8割、テストデータ2割に分割する。\n",
        "border = N * 8 // 10\n",
        "print('We have {:d} test documents.'.format(N - border))\n",
        "train_indices = indices[:border]\n",
        "test_indices = indices[border:]\n",
        "y_train = y[train_indices]\n",
        "y_test = y[test_indices]\n",
        "names_train = names[train_indices]\n",
        "names_test = names[test_indices]"
      ],
      "execution_count": 7,
      "outputs": [
        {
          "output_type": "stream",
          "text": [
            "We have 3929 test documents.\n"
          ],
          "name": "stdout"
        }
      ]
    },
    {
      "cell_type": "code",
      "metadata": {
        "id": "MPZeCpZlesne",
        "colab_type": "code",
        "colab": {}
      },
      "source": [
        "# 本文のほうも、インデックスの同じ分割を使って、訓練データとテストデータに分割する。\n",
        "corpus_train = list()\n",
        "for i in train_indices:\n",
        "  corpus_train.append(corpus[i])\n",
        "corpus_test = list()\n",
        "for i in test_indices:\n",
        "  corpus_test.append(corpus[i])"
      ],
      "execution_count": 8,
      "outputs": []
    },
    {
      "cell_type": "markdown",
      "metadata": {
        "id": "CZFZGWwte8fu",
        "colab_type": "text"
      },
      "source": [
        "（ここまでのtraining setとtest setへの分割は、変えないようにしてください。）"
      ]
    },
    {
      "cell_type": "markdown",
      "metadata": {
        "id": "KKg-InjbVh7r",
        "colab_type": "text"
      },
      "source": [
        "### 2) TF-IDFで各文書をベクトル化する\n",
        "\n",
        "* TF-IDFは単語列をベクトル化する方法のひとつ。\n",
        "\n",
        "* ベクトルの次元は語彙数となる。各Wikipediaのページがひとつのベクトルへ変換される。\n",
        "\n",
        "* TfidfVectorizerのパラメータをチューニングしても構わない\n",
        "\n",
        " * ここでTF-IDFの計算をするときにテストデータは使っていないので、ズルはしていない。\n",
        "\n",
        " * min_dfは、その数より少ない文書にしか出現しない単語を削除する、という意味のパラメータ。希少な単語を削除するために使う。\n",
        "\n",
        " * max_dfは、0から1の間の実数で指定すると、その割合より多い文書に出現する単語を削除する、という意味のパラメータ。ありふれた単語を削除するために使う。"
      ]
    },
    {
      "cell_type": "code",
      "metadata": {
        "id": "WHsek-uzTxi0",
        "colab_type": "code",
        "colab": {
          "base_uri": "https://localhost:8080/",
          "height": 34
        },
        "outputId": "f3a948aa-0540-4aad-b651-2bd8be090f78"
      },
      "source": [
        "vectorizer = TfidfVectorizer(stop_words='english', max_df=0.5, min_df=100)\n",
        "X_train = vectorizer.fit_transform(corpus_train)\n",
        "print('# X_train shape', X_train.shape)"
      ],
      "execution_count": 9,
      "outputs": [
        {
          "output_type": "stream",
          "text": [
            "# X_train shape (15716, 6033)\n"
          ],
          "name": "stdout"
        }
      ]
    },
    {
      "cell_type": "code",
      "metadata": {
        "id": "xUcTnazzT5Qm",
        "colab_type": "code",
        "colab": {}
      },
      "source": [
        "# 語彙を取得する。\n",
        "vocab = np.array(vectorizer.get_feature_names())"
      ],
      "execution_count": 10,
      "outputs": []
    },
    {
      "cell_type": "code",
      "metadata": {
        "id": "_e2QrURgT_gr",
        "colab_type": "code",
        "colab": {
          "base_uri": "https://localhost:8080/",
          "height": 50
        },
        "outputId": "4f88ba0c-e4eb-4e1f-fd8b-22576c9c7766"
      },
      "source": [
        "# 語彙の一部を見てみる（アルファベット順に並んでいるようだ）。\n",
        "print(vocab[1000:1010])"
      ],
      "execution_count": 11,
      "outputs": [
        {
          "output_type": "stream",
          "text": [
            "['bringing' 'brings' 'britain' 'british' 'broad' 'broadcast'\n",
            " 'broadcasting' 'broadcasts' 'broadway' 'broderick']\n"
          ],
          "name": "stdout"
        }
      ]
    },
    {
      "cell_type": "markdown",
      "metadata": {
        "id": "WCHxuAIwWUQc",
        "colab_type": "text"
      },
      "source": [
        "### 3) 検証データの準備\n",
        "\n",
        "* k-fold交差検証に書き換えても良い。"
      ]
    },
    {
      "cell_type": "code",
      "metadata": {
        "id": "LHPN9nvfUCwJ",
        "colab_type": "code",
        "colab": {}
      },
      "source": [
        "X_train, X_valid, y_train, y_valid = train_test_split(\n",
        "    X_train, y_train, test_size=0.10, random_state=42)"
      ],
      "execution_count": 12,
      "outputs": []
    },
    {
      "cell_type": "markdown",
      "metadata": {
        "id": "HmRAzGE1W4af",
        "colab_type": "text"
      },
      "source": [
        "### 4) ロジスティック回帰の学習\n",
        "\n",
        "* ロジスティック回帰のハイパーパラメータは、検証データでの分類性能ができるだけよくなるように、変更する。"
      ]
    },
    {
      "cell_type": "code",
      "metadata": {
        "id": "982vmj3KUH-5",
        "colab_type": "code",
        "colab": {
          "base_uri": "https://localhost:8080/",
          "height": 34
        },
        "outputId": "f17b61ed-a084-423b-b8dd-9db3f1a27ded"
      },
      "source": [
        "# これは単純な実行例にすぎません。正則化も含めてチューニングしてください。\n",
        "# TfidfVectorizerのパラメータも併せてチューニングしていいです。\n",
        "\n",
        "clf = LogisticRegression(max_iter=1000, solver='liblinear', random_state=123)\n",
        "clf.fit(X_train, y_train)\n",
        "print('validation mean accuracy: {}'.format(clf.score(X_valid, y_valid)))"
      ],
      "execution_count": 13,
      "outputs": [
        {
          "output_type": "stream",
          "text": [
            "validation mean accuracy: 0.8829516539440203\n"
          ],
          "name": "stdout"
        }
      ]
    },
    {
      "cell_type": "markdown",
      "metadata": {
        "id": "hnWcZHyJXFzR",
        "colab_type": "text"
      },
      "source": [
        "### 5) 学習済みのロジスティック回帰モデルについて、テストデータで最終的な評価をおこなう"
      ]
    },
    {
      "cell_type": "code",
      "metadata": {
        "id": "VQE3CxUdfZ7V",
        "colab_type": "code",
        "colab": {
          "base_uri": "https://localhost:8080/",
          "height": 34
        },
        "outputId": "56dba106-668b-411f-b21c-72cb7a2f2542"
      },
      "source": [
        "X_test = vectorizer.transform(corpus_test)\n",
        "print('test mean accuracy: {}'.format(clf.score(X_test, y_test)))"
      ],
      "execution_count": 14,
      "outputs": [
        {
          "output_type": "stream",
          "text": [
            "test mean accuracy: 0.8788495800458132\n"
          ],
          "name": "stdout"
        }
      ]
    },
    {
      "cell_type": "markdown",
      "metadata": {
        "id": "EdLcpwSwf3s3",
        "colab_type": "text"
      },
      "source": [
        "### 6) SVMの学習"
      ]
    },
    {
      "cell_type": "code",
      "metadata": {
        "id": "1RoCT-f-f3Ow",
        "colab_type": "code",
        "colab": {
          "base_uri": "https://localhost:8080/",
          "height": 34
        },
        "outputId": "7d138975-f5e4-4926-9baa-219a7170f191"
      },
      "source": [
        "# これは単純な実行例にすぎません。ハイパーパラメータのチューニングもしてください。\n",
        "\n",
        "svm = LinearSVC(C=0.3, random_state=123)\n",
        "svm.fit(X_train, y_train)\n",
        "print('validation mean accuracy: {}'.format(svm.score(X_valid, y_valid)))"
      ],
      "execution_count": 15,
      "outputs": [
        {
          "output_type": "stream",
          "text": [
            "validation mean accuracy: 0.8924936386768448\n"
          ],
          "name": "stdout"
        }
      ]
    },
    {
      "cell_type": "markdown",
      "metadata": {
        "id": "7CtVT3KEXM7f",
        "colab_type": "text"
      },
      "source": [
        "### 分類に効いている単語を調べる\n",
        "\n",
        "* 訓練データが最も数が多いので、訓練データの分類に最も効いている単語100語を調べる。\n",
        "\n",
        "* 下に示すのは、あくまで一つの方法にすぎない。他にどんな方法があるか調べて、その方法を実践する。\n",
        "\n",
        " * 下の手法の欠点は、男性俳優の文書に特徴的な単語と、女性俳優の文書に特徴的な単語とを、区別できない点である。\n",
        "\n",
        " * ヒント： 「svm important features」 あたりでググってみる。"
      ]
    },
    {
      "cell_type": "code",
      "metadata": {
        "id": "y7An3q7JUK8G",
        "colab_type": "code",
        "colab": {
          "base_uri": "https://localhost:8080/",
          "height": 437
        },
        "outputId": "3f835bf5-1d58-47c5-d3f9-a5749ca1d3d3"
      },
      "source": [
        "# sklearnにあるrecursive feature eliminationという特徴量選択の手法を使ってみる。\n",
        "# https://scikit-learn.org/stable/modules/generated/sklearn.feature_selection.RFE.html\n",
        "\n",
        "from sklearn.feature_selection import RFE\n",
        "\n",
        "rfe = RFE(estimator=clf, n_features_to_select=200, step=100)\n",
        "rfe.fit(X_train, y_train)\n",
        "ranking = rfe.ranking_\n",
        "print(vocab[ranking == 1])"
      ],
      "execution_count": 16,
      "outputs": [
        {
          "output_type": "stream",
          "text": [
            "['actresses' 'adam' 'age' 'alice' 'amanda' 'amy' 'andrew' 'angela' 'anime'\n",
            " 'ann' 'anna' 'anne' 'annie' 'announcer' 'anthony' 'army' 'attack' 'aunt'\n",
            " 'baby' 'band' 'baseball' 'beauty' 'ben' 'billy' 'birth' 'blonde' 'bobby'\n",
            " 'boy' 'boys' 'breast' 'brother' 'brothers' 'captain' 'catherine'\n",
            " 'character' 'charles' 'cheerleader' 'chris' 'christopher' 'cindy'\n",
            " 'claire' 'contract' 'corps' 'dance' 'dancer' 'daniel' 'daughter' 'dave'\n",
            " 'david' 'debut' 'detective' 'died' 'directed' 'directing' 'director'\n",
            " 'divorced' 'dorothy' 'eddie' 'edward' 'elizabeth' 'emily' 'eric' 'eve'\n",
            " 'fashion' 'father' 'female' 'florence' 'football' 'frances' 'frank'\n",
            " 'fraternity' 'game' 'gang' 'gay' 'george' 'gina' 'girl' 'girlfriend'\n",
            " 'girls' 'grace' 'grandmother' 'guitar' 'guy' 'heather' 'helen' 'hero'\n",
            " 'heroine' 'husband' 'ii' 'irene' 'jack' 'james' 'jane' 'jason' 'jay'\n",
            " 'jean' 'jeff' 'jennifer' 'jenny' 'jessica' 'jim' 'jimmy' 'joe' 'john'\n",
            " 'johnny' 'jonathan' 'joseph' 'joy' 'jr' 'julie' 'katie' 'kevin' 'lady'\n",
            " 'larry' 'laura' 'lesbian' 'lifetime' 'linda' 'lisa' 'louise' 'love'\n",
            " 'lynn' 'magazine' 'maggie' 'maid' 'male' 'man' 'margaret' 'maria' 'marie'\n",
            " 'marriage' 'married' 'martial' 'mary' 'men' 'michael' 'michelle' 'mike'\n",
            " 'military' 'miss' 'model' 'modeling' 'molly' 'mother' 'mr' 'mrs' 'ms'\n",
            " 'nancy' 'navy' 'nicole' 'niece' 'nurse' 'officer' 'opposite' 'paul'\n",
            " 'penny' 'performance' 'peter' 'playboy' 'police' 'pregnant' 'princess'\n",
            " 'queen' 'rapper' 'rebecca' 'retired' 'richard' 'robert' 'rose' 'ruth'\n",
            " 'sally' 'sam' 'samantha' 'sandra' 'sarah' 'sean' 'served' 'sheriff'\n",
            " 'singer' 'singing' 'sister' 'sisters' 'son' 'sorority' 'stand' 'stuntman'\n",
            " 'sue' 'susan' 'team' 'tommy' 'victoria' 'villain' 'waitress' 'war'\n",
            " 'wendy' 'wife' 'william' 'woman' 'women' 'wrote']\n"
          ],
          "name": "stdout"
        }
      ]
    },
    {
      "cell_type": "code",
      "metadata": {
        "id": "LXuJHw6ZfTRO",
        "colab_type": "code",
        "colab": {
          "base_uri": "https://localhost:8080/",
          "height": 437
        },
        "outputId": "e036559c-cfbe-4aa3-d1de-34304093be82"
      },
      "source": [
        "rfe = RFE(estimator=svm, n_features_to_select=200, step=100)\n",
        "rfe.fit(X_train, y_train)\n",
        "ranking = rfe.ranking_\n",
        "print(vocab[ranking == 1])"
      ],
      "execution_count": 17,
      "outputs": [
        {
          "output_type": "stream",
          "text": [
            "['abby' 'actresses' 'alice' 'amanda' 'amy' 'andrew' 'angela' 'anime' 'ann'\n",
            " 'anna' 'anne' 'announcer' 'anthony' 'army' 'attack' 'aunt' 'baby'\n",
            " 'baseball' 'ben' 'beth' 'betsy' 'birth' 'blonde' 'bobby' 'boy' 'boys'\n",
            " 'breast' 'brother' 'brothers' 'captain' 'catherine' 'charles'\n",
            " 'cheerleader' 'christopher' 'cindy' 'claire' 'contract' 'corps' 'dancer'\n",
            " 'daniel' 'daughter' 'dave' 'david' 'debut' 'died' 'directing' 'director'\n",
            " 'disease' 'divorced' 'dorothy' 'driver' 'eddie' 'edward' 'eleanor'\n",
            " 'elizabeth' 'emily' 'enlisted' 'eric' 'eve' 'father' 'female' 'florence'\n",
            " 'football' 'frank' 'fraternity' 'gay' 'gertrude' 'gina' 'girl'\n",
            " 'girlfriend' 'girls' 'grace' 'grandmother' 'guitar' 'guy' 'hamlet'\n",
            " 'heather' 'helen' 'hero' 'heroine' 'husband' 'ii' 'irene' 'jack' 'jake'\n",
            " 'james' 'jane' 'jay' 'jeff' 'jennifer' 'jenny' 'jessica' 'jim' 'joe'\n",
            " 'john' 'johnny' 'jonathan' 'joseph' 'joy' 'jr' 'julie' 'justin' 'karate'\n",
            " 'kathleen' 'kathy' 'katie' 'kevin' 'kimberly' 'lady' 'laura' 'lesbian'\n",
            " 'lily' 'linda' 'lisa' 'liz' 'louise' 'magazine' 'maggie' 'maid' 'male'\n",
            " 'man' 'margaret' 'maria' 'marie' 'marilyn' 'marriage' 'married' 'mary'\n",
            " 'maxim' 'michael' 'michelle' 'mike' 'military' 'miriam' 'miss' 'model'\n",
            " 'modeling' 'molly' 'mother' 'mr' 'mrs' 'ms' 'nancy' 'natalie' 'navy'\n",
            " 'nicole' 'niece' 'nina' 'nurse' 'officer' 'opposite' 'paul' 'penny'\n",
            " 'performance' 'pete' 'peter' 'playboy' 'pregnant' 'princess' 'prostitute'\n",
            " 'queen' 'rapper' 'rebecca' 'retired' 'richard' 'robert' 'rose' 'ruby'\n",
            " 'ruth' 'sally' 'sam' 'samantha' 'sandra' 'sarah' 'sean' 'served'\n",
            " 'sheriff' 'singer' 'sister' 'sisters' 'son' 'sorority' 'stand' 'stuntman'\n",
            " 'sue' 'susan' 'team' 'tiffany' 'tommy' 'victoria' 'villain' 'villains'\n",
            " 'waitress' 'war' 'wendy' 'wife' 'william' 'woman' 'women' 'wrote']\n"
          ],
          "name": "stdout"
        }
      ]
    },
    {
      "cell_type": "code",
      "metadata": {
        "id": "poCHDuUEhyXs",
        "colab_type": "code",
        "colab": {}
      },
      "source": [
        ""
      ],
      "execution_count": 17,
      "outputs": []
    }
  ]
}