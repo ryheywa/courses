{
  "nbformat": 4,
  "nbformat_minor": 0,
  "metadata": {
    "accelerator": "GPU",
    "anaconda-cloud": {},
    "colab": {
      "name": "01 preprocessing.ipynb",
      "provenance": [],
      "collapsed_sections": [],
      "include_colab_link": true
    },
    "kernelspec": {
      "display_name": "Python 3",
      "language": "python",
      "name": "python3"
    },
    "language_info": {
      "codemirror_mode": {
        "name": "ipython",
        "version": 3
      },
      "file_extension": ".py",
      "mimetype": "text/x-python",
      "name": "python",
      "nbconvert_exporter": "python",
      "pygments_lexer": "ipython3",
      "version": "3.7.6"
    }
  },
  "cells": [
    {
      "cell_type": "markdown",
      "metadata": {
        "id": "view-in-github",
        "colab_type": "text"
      },
      "source": [
        "<a href=\"https://colab.research.google.com/github/tomonari-masada/courses/blob/master/NLP2020/01_preprocessing.ipynb\" target=\"_parent\"><img src=\"https://colab.research.google.com/assets/colab-badge.svg\" alt=\"Open In Colab\"/></a>"
      ]
    },
    {
      "cell_type": "markdown",
      "metadata": {
        "id": "LIVXAmw_tMRv",
        "colab_type": "text"
      },
      "source": [
        "# 01 テキストデータの扱い方：基本中の基本編\n",
        "\n",
        "* テキストデータは、長い長い文字列。\n",
        "* 長い長い文字列のままでは、普通は分析できない。\n",
        "* まず短く分割してから、分析する。\n",
        "* 短く分割するとはどういうことか？\n",
        "\n",
        "* 下記のリポジトリを参考にしました。\n",
        "\n",
        " * https://github.com/dipanjanS/nlp_essentials"
      ]
    },
    {
      "cell_type": "markdown",
      "metadata": {
        "colab_type": "text",
        "id": "AgeSwPsGJFWj"
      },
      "source": [
        "## 大文字小文字間の変換\n",
        "\n",
        "* Pythonの文字列型のメソッドを使う。\n",
        "\n",
        "* 問：元のテキストにあった大文字と小文字の区別を無くしてしまうことのメリットとデメリットは何か？"
      ]
    },
    {
      "cell_type": "code",
      "metadata": {
        "colab_type": "code",
        "id": "OQp382lJJFWp",
        "colab": {
          "base_uri": "https://localhost:8080/",
          "height": 35
        },
        "outputId": "b60f5cac-fd05-488a-baf3-a59d773d00f2"
      },
      "source": [
        "text = 'The quick brown fox jumped over The Big Dog'\n",
        "text"
      ],
      "execution_count": 1,
      "outputs": [
        {
          "output_type": "execute_result",
          "data": {
            "application/vnd.google.colaboratory.intrinsic+json": {
              "type": "string"
            },
            "text/plain": [
              "'The quick brown fox jumped over The Big Dog'"
            ]
          },
          "metadata": {
            "tags": []
          },
          "execution_count": 1
        }
      ]
    },
    {
      "cell_type": "code",
      "metadata": {
        "colab_type": "code",
        "id": "FaAwb7HZJFWz",
        "colab": {
          "base_uri": "https://localhost:8080/",
          "height": 35
        },
        "outputId": "5f01522d-64ec-40c6-b3a2-5f29c5db1ecd"
      },
      "source": [
        "text.lower()"
      ],
      "execution_count": 2,
      "outputs": [
        {
          "output_type": "execute_result",
          "data": {
            "application/vnd.google.colaboratory.intrinsic+json": {
              "type": "string"
            },
            "text/plain": [
              "'the quick brown fox jumped over the big dog'"
            ]
          },
          "metadata": {
            "tags": []
          },
          "execution_count": 2
        }
      ]
    },
    {
      "cell_type": "code",
      "metadata": {
        "colab_type": "code",
        "id": "ihX9LwVuJFW4",
        "colab": {
          "base_uri": "https://localhost:8080/",
          "height": 35
        },
        "outputId": "0d23ac13-7d16-46fd-8372-45a7ffcea44b"
      },
      "source": [
        "text.upper()"
      ],
      "execution_count": 3,
      "outputs": [
        {
          "output_type": "execute_result",
          "data": {
            "application/vnd.google.colaboratory.intrinsic+json": {
              "type": "string"
            },
            "text/plain": [
              "'THE QUICK BROWN FOX JUMPED OVER THE BIG DOG'"
            ]
          },
          "metadata": {
            "tags": []
          },
          "execution_count": 3
        }
      ]
    },
    {
      "cell_type": "code",
      "metadata": {
        "colab_type": "code",
        "id": "U24TBZ82JFW8",
        "colab": {
          "base_uri": "https://localhost:8080/",
          "height": 35
        },
        "outputId": "2cc612a0-6b33-41f1-b750-5924f8d8184b"
      },
      "source": [
        "text.title()"
      ],
      "execution_count": 4,
      "outputs": [
        {
          "output_type": "execute_result",
          "data": {
            "application/vnd.google.colaboratory.intrinsic+json": {
              "type": "string"
            },
            "text/plain": [
              "'The Quick Brown Fox Jumped Over The Big Dog'"
            ]
          },
          "metadata": {
            "tags": []
          },
          "execution_count": 4
        }
      ]
    },
    {
      "cell_type": "markdown",
      "metadata": {
        "colab_type": "text",
        "id": "NtCf5TIaJpEr"
      },
      "source": [
        "## NLTKを使ってみる\n",
        "\n",
        "* Pythonの有名な自然言語処理ライブラリ。2001年スタートらしい。\n",
        "\n",
        "* https://www.nltk.org/"
      ]
    },
    {
      "cell_type": "code",
      "metadata": {
        "colab_type": "code",
        "id": "ceSG71XiJoka",
        "colab": {
          "base_uri": "https://localhost:8080/",
          "height": 202
        },
        "outputId": "0bb73589-eaeb-4186-aa17-eb100a37f00e"
      },
      "source": [
        "import nltk\n",
        "nltk.download('punkt')\n",
        "nltk.download('wordnet')\n",
        "nltk.download('stopwords')\n",
        "nltk.download('averaged_perceptron_tagger')"
      ],
      "execution_count": 5,
      "outputs": [
        {
          "output_type": "stream",
          "text": [
            "[nltk_data] Downloading package punkt to /root/nltk_data...\n",
            "[nltk_data]   Package punkt is already up-to-date!\n",
            "[nltk_data] Downloading package wordnet to /root/nltk_data...\n",
            "[nltk_data]   Package wordnet is already up-to-date!\n",
            "[nltk_data] Downloading package stopwords to /root/nltk_data...\n",
            "[nltk_data]   Package stopwords is already up-to-date!\n",
            "[nltk_data] Downloading package averaged_perceptron_tagger to\n",
            "[nltk_data]     /root/nltk_data...\n",
            "[nltk_data]   Package averaged_perceptron_tagger is already up-to-\n",
            "[nltk_data]       date!\n"
          ],
          "name": "stdout"
        },
        {
          "output_type": "execute_result",
          "data": {
            "text/plain": [
              "True"
            ]
          },
          "metadata": {
            "tags": []
          },
          "execution_count": 5
        }
      ]
    },
    {
      "cell_type": "markdown",
      "metadata": {
        "colab_type": "text",
        "id": "V3GzHq46JFW_"
      },
      "source": [
        "### Tokenization\n",
        "\n",
        "* 文に分ける、単語に分ける、など。\n",
        "* 問：下に示すword tokenizationのメリットとデメリットは何か？"
      ]
    },
    {
      "cell_type": "code",
      "metadata": {
        "colab_type": "code",
        "id": "zIiPr5JBJFXA",
        "colab": {
          "base_uri": "https://localhost:8080/",
          "height": 86
        },
        "outputId": "3c448325-56c2-46b7-d002-2c7de814565b"
      },
      "source": [
        "# Pythonの文字列は、複数行にわたっていても、丸括弧でくくれば一つの長い文字列になる。\n",
        "\n",
        "sample_text = (\"US unveils world's most powerful supercomputer, beats China. \" \n",
        "               \"The US has unveiled the world's most powerful supercomputer called 'Summit', \" \n",
        "               \"beating the previous record-holder China's Sunway TaihuLight. With a peak performance \"\n",
        "               \"of 200,000 trillion calculations per second, it is over twice as fast as Sunway TaihuLight, \"\n",
        "               \"which is capable of 93,000 trillion calculations per second. Summit has 4,608 servers, \"\n",
        "               \"which reportedly take up the size of two tennis courts.\")\n",
        "sample_text"
      ],
      "execution_count": 6,
      "outputs": [
        {
          "output_type": "execute_result",
          "data": {
            "application/vnd.google.colaboratory.intrinsic+json": {
              "type": "string"
            },
            "text/plain": [
              "\"US unveils world's most powerful supercomputer, beats China. The US has unveiled the world's most powerful supercomputer called 'Summit', beating the previous record-holder China's Sunway TaihuLight. With a peak performance of 200,000 trillion calculations per second, it is over twice as fast as Sunway TaihuLight, which is capable of 93,000 trillion calculations per second. Summit has 4,608 servers, which reportedly take up the size of two tennis courts.\""
            ]
          },
          "metadata": {
            "tags": []
          },
          "execution_count": 6
        }
      ]
    },
    {
      "cell_type": "code",
      "metadata": {
        "colab_type": "code",
        "id": "i2m8nEPmJFXD",
        "colab": {
          "base_uri": "https://localhost:8080/",
          "height": 104
        },
        "outputId": "5ad8fd5d-520e-45c4-e4f5-76db261ea270"
      },
      "source": [
        "nltk.sent_tokenize(sample_text)"
      ],
      "execution_count": 7,
      "outputs": [
        {
          "output_type": "execute_result",
          "data": {
            "text/plain": [
              "[\"US unveils world's most powerful supercomputer, beats China.\",\n",
              " \"The US has unveiled the world's most powerful supercomputer called 'Summit', beating the previous record-holder China's Sunway TaihuLight.\",\n",
              " 'With a peak performance of 200,000 trillion calculations per second, it is over twice as fast as Sunway TaihuLight, which is capable of 93,000 trillion calculations per second.',\n",
              " 'Summit has 4,608 servers, which reportedly take up the size of two tennis courts.']"
            ]
          },
          "metadata": {
            "tags": []
          },
          "execution_count": 7
        }
      ]
    },
    {
      "cell_type": "code",
      "metadata": {
        "colab_type": "code",
        "id": "KjVNIwLoJFXG",
        "colab": {
          "base_uri": "https://localhost:8080/",
          "height": 54
        },
        "outputId": "474bff3a-b548-46f3-b293-7336a8741022"
      },
      "source": [
        "print(nltk.word_tokenize(sample_text))"
      ],
      "execution_count": 8,
      "outputs": [
        {
          "output_type": "stream",
          "text": [
            "['US', 'unveils', 'world', \"'s\", 'most', 'powerful', 'supercomputer', ',', 'beats', 'China', '.', 'The', 'US', 'has', 'unveiled', 'the', 'world', \"'s\", 'most', 'powerful', 'supercomputer', 'called', \"'Summit\", \"'\", ',', 'beating', 'the', 'previous', 'record-holder', 'China', \"'s\", 'Sunway', 'TaihuLight', '.', 'With', 'a', 'peak', 'performance', 'of', '200,000', 'trillion', 'calculations', 'per', 'second', ',', 'it', 'is', 'over', 'twice', 'as', 'fast', 'as', 'Sunway', 'TaihuLight', ',', 'which', 'is', 'capable', 'of', '93,000', 'trillion', 'calculations', 'per', 'second', '.', 'Summit', 'has', '4,608', 'servers', ',', 'which', 'reportedly', 'take', 'up', 'the', 'size', 'of', 'two', 'tennis', 'courts', '.']\n"
          ],
          "name": "stdout"
        }
      ]
    },
    {
      "cell_type": "markdown",
      "metadata": {
        "colab_type": "text",
        "id": "D25190-Ft9Ls"
      },
      "source": [
        "## spaCyを使ってみる\n",
        "\n",
        "* これもPythonの有名な自然言語処理ライブラリ。2015年スタートらしい。\n",
        "\n",
        "* https://spacy.io/"
      ]
    },
    {
      "cell_type": "markdown",
      "metadata": {
        "id": "nS5twUUnuIPf",
        "colab_type": "text"
      },
      "source": [
        "### Tokenization"
      ]
    },
    {
      "cell_type": "code",
      "metadata": {
        "colab_type": "code",
        "id": "ZjhORAuPJFXL",
        "colab": {}
      },
      "source": [
        "import spacy\n",
        "nlp = spacy.load('en')"
      ],
      "execution_count": 9,
      "outputs": []
    },
    {
      "cell_type": "code",
      "metadata": {
        "colab_type": "code",
        "id": "DR6LA_YHJFXN",
        "colab": {}
      },
      "source": [
        "text_spacy = nlp(sample_text)"
      ],
      "execution_count": 10,
      "outputs": []
    },
    {
      "cell_type": "code",
      "metadata": {
        "id": "QI_nN_l3zQwa",
        "colab_type": "code",
        "colab": {
          "base_uri": "https://localhost:8080/",
          "height": 104
        },
        "outputId": "288090c2-2883-4612-c9b9-a33ad3643118"
      },
      "source": [
        "[obj.text for obj in text_spacy.sents]"
      ],
      "execution_count": 11,
      "outputs": [
        {
          "output_type": "execute_result",
          "data": {
            "text/plain": [
              "[\"US unveils world's most powerful supercomputer, beats China.\",\n",
              " \"The US has unveiled the world's most powerful supercomputer called 'Summit', beating the previous record-holder China's Sunway TaihuLight.\",\n",
              " 'With a peak performance of 200,000 trillion calculations per second, it is over twice as fast as Sunway TaihuLight, which is capable of 93,000 trillion calculations per second.',\n",
              " 'Summit has 4,608 servers, which reportedly take up the size of two tennis courts.']"
            ]
          },
          "metadata": {
            "tags": []
          },
          "execution_count": 11
        }
      ]
    },
    {
      "cell_type": "code",
      "metadata": {
        "colab_type": "code",
        "id": "DBuAHdR8JFXQ",
        "colab": {
          "base_uri": "https://localhost:8080/",
          "height": 54
        },
        "outputId": "51292376-89cd-4218-c413-6872244b442d"
      },
      "source": [
        "print([obj.text for obj in text_spacy])"
      ],
      "execution_count": 12,
      "outputs": [
        {
          "output_type": "stream",
          "text": [
            "['US', 'unveils', 'world', \"'s\", 'most', 'powerful', 'supercomputer', ',', 'beats', 'China', '.', 'The', 'US', 'has', 'unveiled', 'the', 'world', \"'s\", 'most', 'powerful', 'supercomputer', 'called', \"'\", 'Summit', \"'\", ',', 'beating', 'the', 'previous', 'record', '-', 'holder', 'China', \"'s\", 'Sunway', 'TaihuLight', '.', 'With', 'a', 'peak', 'performance', 'of', '200,000', 'trillion', 'calculations', 'per', 'second', ',', 'it', 'is', 'over', 'twice', 'as', 'fast', 'as', 'Sunway', 'TaihuLight', ',', 'which', 'is', 'capable', 'of', '93,000', 'trillion', 'calculations', 'per', 'second', '.', 'Summit', 'has', '4,608', 'servers', ',', 'which', 'reportedly', 'take', 'up', 'the', 'size', 'of', 'two', 'tennis', 'courts', '.']\n"
          ],
          "name": "stdout"
        }
      ]
    },
    {
      "cell_type": "markdown",
      "metadata": {
        "colab_type": "text",
        "id": "fhxnJkIsJFXS"
      },
      "source": [
        "## HTML文書の前処理\n",
        "\n",
        "* __`<p>`__や__`<a>`__や__`<div>`__など、良く使うHTMLタグは頭に入れておいてください。\n",
        "\n",
        "* なぜなら、ある程度HTMLタグが読めてはじめて、スクレイピングのコードを書くための下調べができるからです。\n",
        "\n",
        "* 問：誰かによって整備されたデータセットではなく、自前でHTML文書をスクレイピングすることのメリットとデメリットは何か？"
      ]
    },
    {
      "cell_type": "code",
      "metadata": {
        "colab_type": "code",
        "id": "E3qV1WOpJFXT",
        "colab": {
          "base_uri": "https://localhost:8080/",
          "height": 470
        },
        "outputId": "7355568d-5e07-4a73-d122-ef301894e59d"
      },
      "source": [
        "import requests\n",
        "\n",
        "data = requests.get('http://www.gutenberg.org/cache/epub/8001/pg8001.html')\n",
        "content = data.text\n",
        "print(content[2745:3948])"
      ],
      "execution_count": 13,
      "outputs": [
        {
          "output_type": "stream",
          "text": [
            "<p id=\"id00011\" style=\"margin-top: 2em\">*** START OF THE PROJECT GUTENBERG EBOOK, THE BIBLE, KING JAMES, BOOK 1***</p>\r\n",
            "\r\n",
            "<p id=\"id00012\" style=\"margin-top: 4em\">This eBook was produced by David Widger\r\n",
            "with the help of Derek Andrew's text from January 1992\r\n",
            "and the work of Bryan Taylor in November 2002.</p>\r\n",
            "\r\n",
            "<h1 id=\"id00013\" style=\"margin-top: 5em\">Book 01        Genesis</h1>\r\n",
            "\r\n",
            "<p id=\"id00014\">01:001:001 In the beginning God created the heaven and the earth.</p>\r\n",
            "\r\n",
            "<p id=\"id00015\" style=\"margin-left: 0%; margin-right: 0%\">01:001:002 And the earth was without form, and void; and darkness was\r\n",
            "           upon the face of the deep. And the Spirit of God moved upon\r\n",
            "           the face of the waters.</p>\r\n",
            "\r\n",
            "<p id=\"id00016\">01:001:003 And God said, Let there be light: and there was light.</p>\r\n",
            "\r\n",
            "<p id=\"id00017\">01:001:004 And God saw the light, that it was good: and God divided the<br/>\r\n",
            "\r\n",
            "           light from the darkness.<br/>\r\n",
            "</p>\r\n",
            "\r\n",
            "<p id=\"id00018\">01:001:005 And God called the light Day, and the darkness he called<br/>\r\n",
            "\r\n",
            "           Night. And the evening and the morning were the first day.<br/>\r\n",
            "</p>\r\n",
            "\r\n",
            "<p id=\"id00019\">01:001:006 And God said, Let there be a firmament in the mi\n"
          ],
          "name": "stdout"
        }
      ]
    },
    {
      "cell_type": "markdown",
      "metadata": {
        "id": "6Vte11lpuXV_",
        "colab_type": "text"
      },
      "source": [
        "### BeautifulSoupの利用\n",
        "\n",
        "* HTML文書の構造を解析するためによく使われるライブラリ。\n",
        "\n",
        "* 「Beautiful Soup 4によるスクレイピングの基礎」\n",
        "\n",
        " * https://www.atmarkit.co.jp/ait/articles/1910/18/news015.html"
      ]
    },
    {
      "cell_type": "code",
      "metadata": {
        "colab_type": "code",
        "id": "E6UAz3mjJFXY",
        "colab": {
          "base_uri": "https://localhost:8080/",
          "height": 269
        },
        "outputId": "9bcdea04-c6a8-422c-af03-fd3810b8e760"
      },
      "source": [
        "import re\n",
        "from bs4 import BeautifulSoup\n",
        "\n",
        "def strip_html_tags(text):\n",
        "    soup = BeautifulSoup(text, \"html.parser\")\n",
        "    stripped_text = soup.get_text()\n",
        "    # 下の正規表現の意味を説明してみよう。\n",
        "    stripped_text = re.sub(r'[\\r|\\n|\\r\\n]+', '\\n', stripped_text)\n",
        "    return stripped_text\n",
        "\n",
        "clean_content = strip_html_tags(content)\n",
        "print(clean_content[1163:1957])"
      ],
      "execution_count": 14,
      "outputs": [
        {
          "output_type": "stream",
          "text": [
            "*** START OF THE PROJECT GUTENBERG EBOOK, THE BIBLE, KING JAMES, BOOK 1***\n",
            "This eBook was produced by David Widger\n",
            "with the help of Derek Andrew's text from January 1992\n",
            "and the work of Bryan Taylor in November 2002.\n",
            "Book 01        Genesis\n",
            "01:001:001 In the beginning God created the heaven and the earth.\n",
            "01:001:002 And the earth was without form, and void; and darkness was\n",
            "           upon the face of the deep. And the Spirit of God moved upon\n",
            "           the face of the waters.\n",
            "01:001:003 And God said, Let there be light: and there was light.\n",
            "01:001:004 And God saw the light, that it was good: and God divided the\n",
            "           light from the darkness.\n",
            "01:001:005 And God called the light Day, and the darkness he called\n",
            "           Night. And the evening and the morning were the first day.\n",
            "\n"
          ],
          "name": "stdout"
        }
      ]
    },
    {
      "cell_type": "markdown",
      "metadata": {
        "id": "au1nuTllwX07",
        "colab_type": "text"
      },
      "source": [
        "# 演習1-1\n",
        "* clean_contentを単語に分割し、各単語の出現頻度を求め、出現頻度の高い順に上位100の単語を、出現頻度とともに表示しよう。\n",
        "* clean_contentの内容をすべて小文字に変換した後で同じことをしてみよう。"
      ]
    },
    {
      "cell_type": "code",
      "metadata": {
        "id": "KdGJ9gYO_j1o",
        "colab_type": "code",
        "colab": {}
      },
      "source": [
        "# 演習1-1の答案\n",
        "\n",
        "\n"
      ],
      "execution_count": 15,
      "outputs": []
    },
    {
      "cell_type": "markdown",
      "metadata": {
        "colab_type": "text",
        "id": "9fJi5YyKJFXc"
      },
      "source": [
        "## アクセント記号の除去\n",
        "\n",
        "* unicodedataというライブラリを使う。\n",
        "\n",
        " * https://docs.python.org/3/library/unicodedata.html\n",
        "\n",
        "* 'NFKD'は何を意味するか？ （Wikipedia「Unicode正規化」）\n",
        "\n",
        " * https://ja.wikipedia.org/wiki/Unicode%E6%AD%A3%E8%A6%8F%E5%8C%96\n",
        "\n",
        "* PythonにおけるUnicode HOWTO\n",
        "\n",
        " * https://docs.python.org/ja/3/howto/unicode.html\n",
        "\n",
        "* テキストデータの前処理においてアクセント記号を除去することのメリットとデメリットは何か？"
      ]
    },
    {
      "cell_type": "code",
      "metadata": {
        "colab_type": "code",
        "id": "Ps9wmhv9JFXd",
        "colab": {}
      },
      "source": [
        "import unicodedata\n",
        "\n",
        "def remove_accented_chars(text):\n",
        "    text = unicodedata.normalize('NFKD', text).encode('ascii', 'ignore').decode('utf-8', 'ignore')\n",
        "    return text"
      ],
      "execution_count": 16,
      "outputs": []
    },
    {
      "cell_type": "code",
      "metadata": {
        "colab_type": "code",
        "id": "Mc7JR8CQJFXh",
        "colab": {
          "base_uri": "https://localhost:8080/",
          "height": 52
        },
        "outputId": "a1e62cc6-602d-4d30-fed7-a5340f41d832"
      },
      "source": [
        "s = (\"Le bon sens est la chose du monde la mieux partagée; car chacun pense\"\n",
        "  \"en être si bien pourvu, que ceux même qui sont les plus difficiles à\"\n",
        "  \"contenter en toute autre chose n'ont point coutume d'en désirer plus\"\n",
        "  \"qu'ils en ont.\")\n",
        "s"
      ],
      "execution_count": 17,
      "outputs": [
        {
          "output_type": "execute_result",
          "data": {
            "application/vnd.google.colaboratory.intrinsic+json": {
              "type": "string"
            },
            "text/plain": [
              "\"Le bon sens est la chose du monde la mieux partagée; car chacun penseen être si bien pourvu, que ceux même qui sont les plus difficiles àcontenter en toute autre chose n'ont point coutume d'en désirer plusqu'ils en ont.\""
            ]
          },
          "metadata": {
            "tags": []
          },
          "execution_count": 17
        }
      ]
    },
    {
      "cell_type": "code",
      "metadata": {
        "colab_type": "code",
        "id": "I6a-e-mVJFXm",
        "colab": {
          "base_uri": "https://localhost:8080/",
          "height": 52
        },
        "outputId": "f6a59f44-12da-4688-9756-3f0ebee9ff83"
      },
      "source": [
        "remove_accented_chars(s)"
      ],
      "execution_count": 18,
      "outputs": [
        {
          "output_type": "execute_result",
          "data": {
            "application/vnd.google.colaboratory.intrinsic+json": {
              "type": "string"
            },
            "text/plain": [
              "\"Le bon sens est la chose du monde la mieux partagee; car chacun penseen etre si bien pourvu, que ceux meme qui sont les plus difficiles acontenter en toute autre chose n'ont point coutume d'en desirer plusqu'ils en ont.\""
            ]
          },
          "metadata": {
            "tags": []
          },
          "execution_count": 18
        }
      ]
    },
    {
      "cell_type": "markdown",
      "metadata": {
        "colab_type": "text",
        "id": "gj8CyGmPJFXr"
      },
      "source": [
        "### 特殊文字、数字、記号の除去\n",
        "\n",
        "* reモジュールを使う。reはregular expression(正規表現)のこと。\n",
        "\n",
        "* 問：テキストデータの前処理において特殊文字、数字、記号などを除去することのメリットとデメリットは何か？"
      ]
    },
    {
      "cell_type": "code",
      "metadata": {
        "colab_type": "code",
        "id": "1dkc4ESDJFXs",
        "colab": {}
      },
      "source": [
        "# 問：下で使われている２つの正規表現はそれぞれどういう意味か？\n",
        "\n",
        "import re\n",
        "\n",
        "def remove_special_characters(text, remove_digits=False):\n",
        "    pattern = r'[^a-zA-Z0-9\\s]' if not remove_digits else r'[^a-zA-Z\\s]'\n",
        "    text = re.sub(pattern, '', text)\n",
        "    return text\n"
      ],
      "execution_count": 19,
      "outputs": []
    },
    {
      "cell_type": "code",
      "metadata": {
        "colab_type": "code",
        "id": "XUwKvQ-1JFXx",
        "colab": {
          "base_uri": "https://localhost:8080/",
          "height": 35
        },
        "outputId": "a27960d2-55d7-4ed8-a57e-f1acf1123321"
      },
      "source": [
        "s = \"Well this was fun! See you at 7:30, What do you think!!? #$@@9318@ 🙂🙂🙂\"\n",
        "s"
      ],
      "execution_count": 20,
      "outputs": [
        {
          "output_type": "execute_result",
          "data": {
            "application/vnd.google.colaboratory.intrinsic+json": {
              "type": "string"
            },
            "text/plain": [
              "'Well this was fun! See you at 7:30, What do you think!!? #$@@9318@ 🙂🙂🙂'"
            ]
          },
          "metadata": {
            "tags": []
          },
          "execution_count": 20
        }
      ]
    },
    {
      "cell_type": "code",
      "metadata": {
        "colab_type": "code",
        "id": "Sy9x4XFyJFYL",
        "colab": {
          "base_uri": "https://localhost:8080/",
          "height": 35
        },
        "outputId": "e22797a2-e85b-40f4-a652-49c9f222e199"
      },
      "source": [
        "remove_special_characters(s, remove_digits=True)"
      ],
      "execution_count": 21,
      "outputs": [
        {
          "output_type": "execute_result",
          "data": {
            "application/vnd.google.colaboratory.intrinsic+json": {
              "type": "string"
            },
            "text/plain": [
              "'Well this was fun See you at  What do you think  '"
            ]
          },
          "metadata": {
            "tags": []
          },
          "execution_count": 21
        }
      ]
    },
    {
      "cell_type": "code",
      "metadata": {
        "colab_type": "code",
        "id": "s2vT0GK5JFYQ",
        "colab": {
          "base_uri": "https://localhost:8080/",
          "height": 35
        },
        "outputId": "1b574c8e-8c6f-42a1-cbcd-de0dee7ad2f1"
      },
      "source": [
        "remove_special_characters(s)"
      ],
      "execution_count": 22,
      "outputs": [
        {
          "output_type": "execute_result",
          "data": {
            "application/vnd.google.colaboratory.intrinsic+json": {
              "type": "string"
            },
            "text/plain": [
              "'Well this was fun See you at 730 What do you think 9318 '"
            ]
          },
          "metadata": {
            "tags": []
          },
          "execution_count": 22
        }
      ]
    },
    {
      "cell_type": "markdown",
      "metadata": {
        "colab_type": "text",
        "id": "ho6h68QbJFYX"
      },
      "source": [
        "## contraction\n",
        "\n",
        "* 英語には様々な省略表現がある。これを元に戻す。"
      ]
    },
    {
      "cell_type": "code",
      "metadata": {
        "colab_type": "code",
        "id": "mgGTT1URJFYY",
        "colab": {
          "base_uri": "https://localhost:8080/",
          "height": 134
        },
        "outputId": "b9572dd9-6097-4a9e-9e97-97c4591f28d2"
      },
      "source": [
        "!pip install contractions\n",
        "!pip install textsearch"
      ],
      "execution_count": 23,
      "outputs": [
        {
          "output_type": "stream",
          "text": [
            "Requirement already satisfied: contractions in /usr/local/lib/python3.6/dist-packages (0.0.25)\n",
            "Requirement already satisfied: textsearch in /usr/local/lib/python3.6/dist-packages (from contractions) (0.0.17)\n",
            "Requirement already satisfied: Unidecode in /usr/local/lib/python3.6/dist-packages (from textsearch->contractions) (1.1.1)\n",
            "Requirement already satisfied: pyahocorasick in /usr/local/lib/python3.6/dist-packages (from textsearch->contractions) (1.4.0)\n",
            "Requirement already satisfied: textsearch in /usr/local/lib/python3.6/dist-packages (0.0.17)\n",
            "Requirement already satisfied: Unidecode in /usr/local/lib/python3.6/dist-packages (from textsearch) (1.1.1)\n",
            "Requirement already satisfied: pyahocorasick in /usr/local/lib/python3.6/dist-packages (from textsearch) (1.4.0)\n"
          ],
          "name": "stdout"
        }
      ]
    },
    {
      "cell_type": "code",
      "metadata": {
        "colab_type": "code",
        "id": "5xWsgO-jJFYc",
        "colab": {
          "base_uri": "https://localhost:8080/",
          "height": 35
        },
        "outputId": "6500edf9-edc1-4975-a8b9-7bdb6b1e9f6b"
      },
      "source": [
        "s = \"Y'all can't expand contractions I'd think! You wouldn't be able to. How'd you do it?\"\n",
        "s"
      ],
      "execution_count": 24,
      "outputs": [
        {
          "output_type": "execute_result",
          "data": {
            "application/vnd.google.colaboratory.intrinsic+json": {
              "type": "string"
            },
            "text/plain": [
              "\"Y'all can't expand contractions I'd think! You wouldn't be able to. How'd you do it?\""
            ]
          },
          "metadata": {
            "tags": []
          },
          "execution_count": 24
        }
      ]
    },
    {
      "cell_type": "code",
      "metadata": {
        "colab_type": "code",
        "id": "S2QTF2HFJFYi",
        "colab": {
          "base_uri": "https://localhost:8080/",
          "height": 34
        },
        "outputId": "7a41fd42-6601-497d-8596-4d40d978dd4a"
      },
      "source": [
        "import contractions\n",
        "\n",
        "contractions_list = list(contractions.contractions_dict.items())\n",
        "print(len(contractions_list))"
      ],
      "execution_count": 25,
      "outputs": [
        {
          "output_type": "stream",
          "text": [
            "247\n"
          ],
          "name": "stdout"
        }
      ]
    },
    {
      "cell_type": "code",
      "metadata": {
        "id": "Lm2e0y-Vymmg",
        "colab_type": "code",
        "colab": {
          "base_uri": "https://localhost:8080/",
          "height": 54
        },
        "outputId": "6c2ed586-0a4b-4218-b6f9-d7526d737491"
      },
      "source": [
        "print(contractions_list)"
      ],
      "execution_count": 26,
      "outputs": [
        {
          "output_type": "stream",
          "text": [
            "[(\"ain't\", 'are not'), (\"aren't\", 'are not'), (\"can't\", 'can not'), (\"can't've\", 'can not have'), (\"'cause\", 'because'), (\"could've\", 'could have'), (\"couldn't\", 'could not'), (\"couldn't've\", 'could not have'), (\"didn't\", 'did not'), (\"doesn't\", 'does not'), (\"don't\", 'do not'), (\"hadn't\", 'had not'), (\"hadn't've\", 'had not have'), (\"hasn't\", 'has not'), (\"haven't\", 'have not'), (\"he'd\", 'he would'), (\"he'd've\", 'he would have'), (\"he'll\", 'he will'), (\"he'll've\", 'he will have'), (\"he's\", 'he is'), (\"how'd\", 'how did'), (\"how're\", 'how are'), (\"how'd'y\", 'how do you'), (\"how'll\", 'how will'), (\"how's\", 'how is'), (\"I'd\", 'I would'), (\"I'd've\", 'I would have'), (\"I'll\", 'I will'), (\"I'll've\", 'I will have'), (\"I'm\", 'I am'), (\"I've\", 'I have'), (\"isn't\", 'is not'), (\"it'd\", 'it would'), (\"it'd've\", 'it would have'), (\"it'll\", 'it will'), (\"it'll've\", 'it will have'), (\"it's\", 'it is'), (\"let's\", 'let us'), (\"ma'am\", 'madam'), (\"mayn't\", 'may not'), (\"might've\", 'might have'), (\"mightn't\", 'might not'), (\"mightn't've\", 'might not have'), (\"must've\", 'must have'), (\"mustn't\", 'must not'), (\"mustn't've\", 'must not have'), (\"needn't\", 'need not'), (\"needn't've\", 'need not have'), (\"o'clock\", 'of the clock'), (\"oughtn't\", 'ought not'), (\"oughtn't've\", 'ought not have'), (\"shan't\", 'shall not'), (\"sha'n't\", 'shall not'), (\"shan't've\", 'shall not have'), (\"she'd\", 'she would'), (\"she'd've\", 'she would have'), (\"she'll\", 'she will'), (\"she'll've\", 'she will have'), (\"she's\", 'she is'), (\"should've\", 'should have'), (\"shouldn't\", 'should not'), (\"shouldn't've\", 'should not have'), (\"so've\", 'so have'), (\"so's\", 'so is'), (\"that'd\", 'that would'), (\"that'd've\", 'that would have'), (\"that's\", 'that is'), (\"there'd\", 'there would'), (\"there'd've\", 'there would have'), (\"there's\", 'there is'), (\"they'd\", 'they would'), (\"they'd've\", 'they would have'), (\"they'll\", 'they will'), (\"they'll've\", 'they will have'), (\"they're\", 'they are'), (\"they've\", 'they have'), (\"to've\", 'to have'), (\"wasn't\", 'was not'), (\"we'd\", 'we would'), (\"we'd've\", 'we would have'), (\"we'll\", 'we will'), (\"we'll've\", 'we will have'), (\"we're\", 'we are'), (\"we've\", 'we have'), (\"weren't\", 'were not'), (\"what'll\", 'what will'), (\"what'll've\", 'what will have'), (\"what're\", 'what are'), (\"what's\", 'what is'), (\"what've\", 'what have'), (\"when's\", 'when is'), (\"when've\", 'when have'), (\"where'd\", 'where did'), (\"where's\", 'where is'), (\"where've\", 'where have'), (\"who'll\", 'who will'), (\"who'll've\", 'who will have'), (\"who's\", 'who is'), (\"who've\", 'who have'), (\"why's\", 'why is'), (\"why've\", 'why have'), (\"will've\", 'will have'), (\"won't\", 'will not'), (\"won't've\", 'will not have'), (\"would've\", 'would have'), (\"wouldn't\", 'would not'), (\"wouldn't've\", 'would not have'), (\"y'all\", 'you all'), (\"y'all'd\", 'you all would'), (\"y'all'd've\", 'you all would have'), (\"y'all're\", 'you all are'), (\"y'all've\", 'you all have'), (\"you'd\", 'you would'), (\"you'd've\", 'you would have'), (\"you'll\", 'you will'), (\"you'll've\", 'you shall have'), (\"you're\", 'you are'), (\"you've\", 'you have'), ('jan.', 'january'), ('feb.', 'february'), ('mar.', 'march'), ('apr.', 'april'), ('jun.', 'june'), ('jul.', 'july'), ('aug.', 'august'), ('sep.', 'september'), ('oct.', 'october'), ('nov.', 'november'), ('dec.', 'december'), ('ain’t', 'are not'), ('aren’t', 'are not'), ('can’t', 'can not'), ('can’t’ve', 'can not have'), ('’cause', 'because'), ('could’ve', 'could have'), ('couldn’t', 'could not'), ('couldn’t’ve', 'could not have'), ('didn’t', 'did not'), ('doesn’t', 'does not'), ('don’t', 'do not'), ('hadn’t', 'had not'), ('hadn’t’ve', 'had not have'), ('hasn’t', 'has not'), ('haven’t', 'have not'), ('he’d', 'he would'), ('he’d’ve', 'he would have'), ('he’ll', 'he will'), ('he’ll’ve', 'he will have'), ('he’s', 'he is'), ('how’d', 'how did'), ('how’re', 'how are'), ('how’d’y', 'how do you'), ('how’ll', 'how will'), ('how’s', 'how is'), ('I’d', 'I would'), ('I’d’ve', 'I would have'), ('I’ll', 'I will'), ('I’ll’ve', 'I will have'), ('I’m', 'I am'), ('I’ve', 'I have'), ('isn’t', 'is not'), ('it’d', 'it would'), ('it’d’ve', 'it would have'), ('it’ll', 'it will'), ('it’ll’ve', 'it will have'), ('it’s', 'it is'), ('let’s', 'let us'), ('ma’am', 'madam'), ('mayn’t', 'may not'), ('might’ve', 'might have'), ('mightn’t', 'might not'), ('mightn’t’ve', 'might not have'), ('must’ve', 'must have'), ('mustn’t', 'must not'), ('mustn’t’ve', 'must not have'), ('needn’t', 'need not'), ('needn’t’ve', 'need not have'), ('o’clock', 'of the clock'), ('oughtn’t', 'ought not'), ('oughtn’t’ve', 'ought not have'), ('shan’t', 'shall not'), ('sha’n’t', 'shall not'), ('shan’t’ve', 'shall not have'), ('she’d', 'she would'), ('she’d’ve', 'she would have'), ('she’ll', 'she will'), ('she’ll’ve', 'she will have'), ('she’s', 'she is'), ('should’ve', 'should have'), ('shouldn’t', 'should not'), ('shouldn’t’ve', 'should not have'), ('so’ve', 'so have'), ('so’s', 'so is'), ('that’d', 'that would'), ('that’d’ve', 'that would have'), ('that’s', 'that is'), ('there’d', 'there would'), ('there’d’ve', 'there would have'), ('there’s', 'there is'), ('they’d', 'they would'), ('they’d’ve', 'they would have'), ('they’ll', 'they will'), ('they’ll’ve', 'they will have'), ('they’re', 'they are'), ('they’ve', 'they have'), ('to’ve', 'to have'), ('wasn’t', 'was not'), ('we’d', 'we would'), ('we’d’ve', 'we would have'), ('we’ll', 'we will'), ('we’ll’ve', 'we will have'), ('we’re', 'we are'), ('we’ve', 'we have'), ('weren’t', 'were not'), ('what’ll', 'what will'), ('what’ll’ve', 'what will have'), ('what’re', 'what are'), ('what’s', 'what is'), ('what’ve', 'what have'), ('when’s', 'when is'), ('when’ve', 'when have'), ('where’d', 'where did'), ('where’s', 'where is'), ('where’ve', 'where have'), ('who’ll', 'who will'), ('who’ll’ve', 'who will have'), ('who’s', 'who is'), ('who’ve', 'who have'), ('why’s', 'why is'), ('why’ve', 'why have'), ('will’ve', 'will have'), ('won’t', 'will not'), ('won’t’ve', 'will not have'), ('would’ve', 'would have'), ('wouldn’t', 'would not'), ('wouldn’t’ve', 'would not have'), ('y’all', 'you all'), ('y’all’d', 'you all would'), ('y’all’d’ve', 'you all would have'), ('y’all’re', 'you all are'), ('y’all’ve', 'you all have'), ('you’d', 'you would'), ('you’d’ve', 'you would have'), ('you’ll', 'you will'), ('you’ll’ve', 'you shall have'), ('you’re', 'you are'), ('you’ve', 'you have')]\n"
          ],
          "name": "stdout"
        }
      ]
    },
    {
      "cell_type": "code",
      "metadata": {
        "colab_type": "code",
        "id": "KoIGJXqCJFYo",
        "colab": {
          "base_uri": "https://localhost:8080/",
          "height": 35
        },
        "outputId": "813b6f7a-2c68-417f-831b-ddd6c9eea8df"
      },
      "source": [
        "contractions.fix(s)"
      ],
      "execution_count": 27,
      "outputs": [
        {
          "output_type": "execute_result",
          "data": {
            "application/vnd.google.colaboratory.intrinsic+json": {
              "type": "string"
            },
            "text/plain": [
              "'you all can not expand contractions I would think! You would not be able to. how did you do it?'"
            ]
          },
          "metadata": {
            "tags": []
          },
          "execution_count": 27
        }
      ]
    },
    {
      "cell_type": "code",
      "metadata": {
        "id": "bC54E8pjzGMu",
        "colab_type": "code",
        "colab": {
          "base_uri": "https://localhost:8080/",
          "height": 35
        },
        "outputId": "618e5c32-10f7-445b-8382-e3c7df349152"
      },
      "source": [
        "s = \"It's pool-season from this week, isn't it? Oh yes. I've gotta go and buy a swimming suit, then.\"\n",
        "contractions.fix(s)"
      ],
      "execution_count": 28,
      "outputs": [
        {
          "output_type": "execute_result",
          "data": {
            "application/vnd.google.colaboratory.intrinsic+json": {
              "type": "string"
            },
            "text/plain": [
              "'it is pool-season from this week, is not it? Oh yes. I have got to go and buy a swimming suit, then.'"
            ]
          },
          "metadata": {
            "tags": []
          },
          "execution_count": 28
        }
      ]
    },
    {
      "cell_type": "markdown",
      "metadata": {
        "colab_type": "text",
        "id": "EeUHPmhDJFZC"
      },
      "source": [
        "## NLTKでstemming\n",
        "\n",
        "* 語尾が変化する単語の、その変化を無くして、語幹を得る。\n",
        "* 得られる語幹は、英単語として通用しない文字列になることが多い。\n",
        "* Stemming and Lemmatization in Python\n",
        " * https://www.datacamp.com/community/tutorials/stemming-lemmatization-python\n",
        "\n",
        "\n",
        "* 問：テキストデータの前処理としてstemmingをすることのメリットとデメリットは何か？\n",
        "* 問：様々な種類のstemmerがあるのはなぜか？"
      ]
    },
    {
      "cell_type": "code",
      "metadata": {
        "colab_type": "code",
        "id": "8ndJ4XOKJFZD",
        "colab": {
          "base_uri": "https://localhost:8080/",
          "height": 34
        },
        "outputId": "37b90a50-7055-4df8-b2f6-c3c43af64030"
      },
      "source": [
        "# Porter Stemmerを使ってみる （stemmerと言えばこれ、というぐらい良く知られている。）\n",
        "from nltk.stem import PorterStemmer\n",
        "ps = PorterStemmer()\n",
        "\n",
        "ps.stem('jumping'), ps.stem('jumps'), ps.stem('jumped')"
      ],
      "execution_count": 29,
      "outputs": [
        {
          "output_type": "execute_result",
          "data": {
            "text/plain": [
              "('jump', 'jump', 'jump')"
            ]
          },
          "metadata": {
            "tags": []
          },
          "execution_count": 29
        }
      ]
    },
    {
      "cell_type": "code",
      "metadata": {
        "colab_type": "code",
        "id": "CmWLISH-JFZG",
        "colab": {
          "base_uri": "https://localhost:8080/",
          "height": 35
        },
        "outputId": "3ce1d85f-6f5b-4fb6-d33a-7aa721f7f11d"
      },
      "source": [
        "ps.stem('lying')"
      ],
      "execution_count": 30,
      "outputs": [
        {
          "output_type": "execute_result",
          "data": {
            "application/vnd.google.colaboratory.intrinsic+json": {
              "type": "string"
            },
            "text/plain": [
              "'lie'"
            ]
          },
          "metadata": {
            "tags": []
          },
          "execution_count": 30
        }
      ]
    },
    {
      "cell_type": "code",
      "metadata": {
        "colab_type": "code",
        "id": "Q7KRj1jtJFZJ",
        "colab": {
          "base_uri": "https://localhost:8080/",
          "height": 35
        },
        "outputId": "c0e11121-abe4-42f6-f481-78920ddd4bc9"
      },
      "source": [
        "ps.stem('strange')"
      ],
      "execution_count": 31,
      "outputs": [
        {
          "output_type": "execute_result",
          "data": {
            "application/vnd.google.colaboratory.intrinsic+json": {
              "type": "string"
            },
            "text/plain": [
              "'strang'"
            ]
          },
          "metadata": {
            "tags": []
          },
          "execution_count": 31
        }
      ]
    },
    {
      "cell_type": "markdown",
      "metadata": {
        "colab_type": "text",
        "id": "cQNUmpfLJFZu"
      },
      "source": [
        "## NLTKでlemmatization（不完全版）\n",
        "\n",
        "* 語形が変わる単語を原型に戻す。\n",
        "* 原型は、英語の単語として通用する。\n",
        "\n",
        "* 問：テキストデータの前処理としてlemmatizationをすることのメリットとデメリットは何か？"
      ]
    },
    {
      "cell_type": "code",
      "metadata": {
        "colab_type": "code",
        "id": "16ygP7t1JFZv",
        "colab": {}
      },
      "source": [
        "# WordNetを辞書として使うlemmatizer\n",
        "\n",
        "from nltk.stem import WordNetLemmatizer\n",
        "wnl = WordNetLemmatizer()"
      ],
      "execution_count": 32,
      "outputs": []
    },
    {
      "cell_type": "code",
      "metadata": {
        "colab_type": "code",
        "id": "AieUIjYaJFZ3",
        "colab": {
          "base_uri": "https://localhost:8080/",
          "height": 84
        },
        "outputId": "539550d0-26ae-4963-9099-68c51a19c172"
      },
      "source": [
        "help(wnl.lemmatize)"
      ],
      "execution_count": 33,
      "outputs": [
        {
          "output_type": "stream",
          "text": [
            "Help on method lemmatize in module nltk.stem.wordnet:\n",
            "\n",
            "lemmatize(word, pos='n') method of nltk.stem.wordnet.WordNetLemmatizer instance\n",
            "\n"
          ],
          "name": "stdout"
        }
      ]
    },
    {
      "cell_type": "code",
      "metadata": {
        "colab_type": "code",
        "id": "_ZPcwz44JFZ7",
        "colab": {
          "base_uri": "https://localhost:8080/",
          "height": 50
        },
        "outputId": "a97e72f2-7e03-4559-f7a6-9621c403fa4b"
      },
      "source": [
        "# 名詞\n",
        "print(wnl.lemmatize('cars', 'n'))\n",
        "print(wnl.lemmatize('boxes', 'n'))"
      ],
      "execution_count": 34,
      "outputs": [
        {
          "output_type": "stream",
          "text": [
            "car\n",
            "box\n"
          ],
          "name": "stdout"
        }
      ]
    },
    {
      "cell_type": "code",
      "metadata": {
        "colab_type": "code",
        "id": "KJN-uQ28JFZ_",
        "colab": {
          "base_uri": "https://localhost:8080/",
          "height": 50
        },
        "outputId": "fe61056a-8395-4186-b0da-4da1e3e7f9a6"
      },
      "source": [
        "# 動詞\n",
        "print(wnl.lemmatize('running', 'v'))\n",
        "print(wnl.lemmatize('ate', 'v'))"
      ],
      "execution_count": 35,
      "outputs": [
        {
          "output_type": "stream",
          "text": [
            "run\n",
            "eat\n"
          ],
          "name": "stdout"
        }
      ]
    },
    {
      "cell_type": "code",
      "metadata": {
        "colab_type": "code",
        "id": "L0u5uZeoJFaF",
        "colab": {
          "base_uri": "https://localhost:8080/",
          "height": 50
        },
        "outputId": "7473bc82-d73c-4983-d901-d6e1af38a97e"
      },
      "source": [
        "# 形容詞\n",
        "print(wnl.lemmatize('saddest', 'a'))\n",
        "print(wnl.lemmatize('fancier', 'a'))"
      ],
      "execution_count": 36,
      "outputs": [
        {
          "output_type": "stream",
          "text": [
            "sad\n",
            "fancy\n"
          ],
          "name": "stdout"
        }
      ]
    },
    {
      "cell_type": "code",
      "metadata": {
        "colab_type": "code",
        "id": "NhKXkdckJFaN",
        "colab": {
          "base_uri": "https://localhost:8080/",
          "height": 67
        },
        "outputId": "4da07812-2fcc-4b70-e21f-8cfa89544b23"
      },
      "source": [
        "# 指定した品詞が間違っていると、うまくいかない。\n",
        "# （品詞を取得する方法は、すぐ後で解説する。）\n",
        "print(wnl.lemmatize('ate', 'n'))\n",
        "print(wnl.lemmatize('fancier', 'v'))\n",
        "print(wnl.lemmatize('fancier'))"
      ],
      "execution_count": 37,
      "outputs": [
        {
          "output_type": "stream",
          "text": [
            "ate\n",
            "fancier\n",
            "fancier\n"
          ],
          "name": "stdout"
        }
      ]
    },
    {
      "cell_type": "markdown",
      "metadata": {
        "id": "NQ1S2ngz7B84",
        "colab_type": "text"
      },
      "source": [
        "## tokenizationとlemmatizationの組み合わせ"
      ]
    },
    {
      "cell_type": "code",
      "metadata": {
        "colab_type": "code",
        "id": "0l372SiEJFaU",
        "colab": {
          "base_uri": "https://localhost:8080/",
          "height": 34
        },
        "outputId": "9b2714db-8b8c-4d63-9683-3c8764a0a124"
      },
      "source": [
        "s = 'The brown foxes are quick and they are jumping over the sleeping lazy dogs!'\n",
        "\n",
        "tokens = nltk.word_tokenize(s)\n",
        "print(tokens)"
      ],
      "execution_count": 38,
      "outputs": [
        {
          "output_type": "stream",
          "text": [
            "['The', 'brown', 'foxes', 'are', 'quick', 'and', 'they', 'are', 'jumping', 'over', 'the', 'sleeping', 'lazy', 'dogs', '!']\n"
          ],
          "name": "stdout"
        }
      ]
    },
    {
      "cell_type": "code",
      "metadata": {
        "colab_type": "code",
        "id": "s1FHAghFJFaX",
        "colab": {
          "base_uri": "https://localhost:8080/",
          "height": 35
        },
        "outputId": "19089c53-a105-41be-de1e-4992cc4214ab"
      },
      "source": [
        "# ここでのlemmatizationは、品詞情報を使っていないので、不完全。下でこれを改良する。\n",
        "\n",
        "lemmatized_text = ' '.join(wnl.lemmatize(token) for token in tokens)\n",
        "lemmatized_text"
      ],
      "execution_count": 39,
      "outputs": [
        {
          "output_type": "execute_result",
          "data": {
            "application/vnd.google.colaboratory.intrinsic+json": {
              "type": "string"
            },
            "text/plain": [
              "'The brown fox are quick and they are jumping over the sleeping lazy dog !'"
            ]
          },
          "metadata": {
            "tags": []
          },
          "execution_count": 39
        }
      ]
    },
    {
      "cell_type": "markdown",
      "metadata": {
        "id": "d0-fgmbi7E5_",
        "colab_type": "text"
      },
      "source": [
        "## POS Tagging\n",
        "\n",
        "* 問：品詞の情報が必要になるのはどういう状況か？"
      ]
    },
    {
      "cell_type": "code",
      "metadata": {
        "colab_type": "code",
        "id": "UDffFU3gJFaZ",
        "colab": {
          "base_uri": "https://localhost:8080/",
          "height": 54
        },
        "outputId": "e39c1e7d-8cf3-43f7-e62d-be95981e2e3e"
      },
      "source": [
        "tagged_tokens = nltk.pos_tag(tokens)\n",
        "print(tagged_tokens)"
      ],
      "execution_count": 40,
      "outputs": [
        {
          "output_type": "stream",
          "text": [
            "[('The', 'DT'), ('brown', 'JJ'), ('foxes', 'NNS'), ('are', 'VBP'), ('quick', 'JJ'), ('and', 'CC'), ('they', 'PRP'), ('are', 'VBP'), ('jumping', 'VBG'), ('over', 'IN'), ('the', 'DT'), ('sleeping', 'VBG'), ('lazy', 'JJ'), ('dogs', 'NNS'), ('!', '.')]\n"
          ],
          "name": "stdout"
        }
      ]
    },
    {
      "cell_type": "markdown",
      "metadata": {
        "id": "9STnRHVt7HRG",
        "colab_type": "text"
      },
      "source": [
        "### NLTKが与えるPOSタグを、WordNetのPOSタグに変換する"
      ]
    },
    {
      "cell_type": "code",
      "metadata": {
        "colab_type": "code",
        "id": "2S9kS_xPJFaf",
        "colab": {}
      },
      "source": [
        "from nltk.corpus import wordnet\n",
        "\n",
        "def pos_tag_wordnet(tagged_tokens):\n",
        "    tag_map = {'j': wordnet.ADJ, 'v': wordnet.VERB, 'n': wordnet.NOUN, 'r': wordnet.ADV}\n",
        "    new_tagged_tokens = [(word, tag_map.get(tag[0].lower(), wordnet.NOUN))\n",
        "                            for word, tag in tagged_tokens]\n",
        "    return new_tagged_tokens"
      ],
      "execution_count": 41,
      "outputs": []
    },
    {
      "cell_type": "code",
      "metadata": {
        "colab_type": "code",
        "id": "TbijTK6YJFaj",
        "colab": {
          "base_uri": "https://localhost:8080/",
          "height": 54
        },
        "outputId": "7362da6a-77db-433a-fa74-946c08921a48"
      },
      "source": [
        "wordnet_tokens = pos_tag_wordnet(tagged_tokens)\n",
        "print(wordnet_tokens)"
      ],
      "execution_count": 42,
      "outputs": [
        {
          "output_type": "stream",
          "text": [
            "[('The', 'n'), ('brown', 'a'), ('foxes', 'n'), ('are', 'v'), ('quick', 'a'), ('and', 'n'), ('they', 'n'), ('are', 'v'), ('jumping', 'v'), ('over', 'n'), ('the', 'n'), ('sleeping', 'v'), ('lazy', 'a'), ('dogs', 'n'), ('!', 'n')]\n"
          ],
          "name": "stdout"
        }
      ]
    },
    {
      "cell_type": "markdown",
      "metadata": {
        "id": "qKia_-ov7KLH",
        "colab_type": "text"
      },
      "source": [
        "## NLTKでlemmatization（完全版）"
      ]
    },
    {
      "cell_type": "code",
      "metadata": {
        "colab_type": "code",
        "id": "tNOpTLDTJFal",
        "colab": {
          "base_uri": "https://localhost:8080/",
          "height": 35
        },
        "outputId": "f57bb467-2b46-4735-b252-0ab16a9f10b7"
      },
      "source": [
        "lemmatized_text = ' '.join(wnl.lemmatize(word, tag) for word, tag in wordnet_tokens)\n",
        "lemmatized_text"
      ],
      "execution_count": 43,
      "outputs": [
        {
          "output_type": "execute_result",
          "data": {
            "application/vnd.google.colaboratory.intrinsic+json": {
              "type": "string"
            },
            "text/plain": [
              "'The brown fox be quick and they be jump over the sleep lazy dog !'"
            ]
          },
          "metadata": {
            "tags": []
          },
          "execution_count": 43
        }
      ]
    },
    {
      "cell_type": "markdown",
      "metadata": {
        "colab_type": "text",
        "id": "9zisZIs1JFan"
      },
      "source": [
        "# 演習1-2\n",
        "\n",
        "* 上の3つのセルでおこなった処理をまとめて一つの関数として定義しよう。\n",
        " - 関数 __`wordnet_lemmatize_text()`__ を定義する。\n",
        " - 入力は変数 __`text`__ とし、これは文字列とする。\n",
        " - この関数のなかで、さきほど定義した関数__`pos_tag_wordnet()`__を使う。\n",
        " - そして、lemmatizeされたテキストを文字列型の出力として返すようにする。"
      ]
    },
    {
      "cell_type": "code",
      "metadata": {
        "id": "iPovRPZb5PVG",
        "colab_type": "code",
        "colab": {}
      },
      "source": [
        "# 演習1-2の答案\n",
        "# def wordnet_lemmatize_text(text):\n",
        "#   ..........\n",
        "\n",
        "\n",
        "\n",
        "#s = 'The brown foxes are quick and they are jumping over the sleeping lazy dogs!'\n",
        "#wordnet_lemmatize_text(s)"
      ],
      "execution_count": 44,
      "outputs": []
    },
    {
      "cell_type": "markdown",
      "metadata": {
        "id": "KgQJp2SH7OC_",
        "colab_type": "text"
      },
      "source": [
        "## spaCyでlemmatization\n",
        "\n",
        "* 上のように、別途品詞を調べる必要はない。"
      ]
    },
    {
      "cell_type": "code",
      "metadata": {
        "colab_type": "code",
        "id": "3N2ExlFqJFaw",
        "colab": {}
      },
      "source": [
        "import spacy\n",
        "\n",
        "nlp = spacy.load('en', parse=False, tag=False, entity=False)\n",
        "\n",
        "def spacy_lemmatize_text(text):\n",
        "    text = nlp(text)\n",
        "    text = ' '.join([word.lemma_ if word.lemma_ != '-PRON-' else word.text for word in text])\n",
        "    return text"
      ],
      "execution_count": 45,
      "outputs": []
    },
    {
      "cell_type": "code",
      "metadata": {
        "colab_type": "code",
        "id": "ga-E47JKJFaz",
        "colab": {
          "base_uri": "https://localhost:8080/",
          "height": 35
        },
        "outputId": "8059d47a-0d27-4ab8-98f7-246fa6d87f12"
      },
      "source": [
        "s = 'The brown foxes are quick and they are jumping over the sleeping lazy dogs!'\n",
        "s"
      ],
      "execution_count": 46,
      "outputs": [
        {
          "output_type": "execute_result",
          "data": {
            "application/vnd.google.colaboratory.intrinsic+json": {
              "type": "string"
            },
            "text/plain": [
              "'The brown foxes are quick and they are jumping over the sleeping lazy dogs!'"
            ]
          },
          "metadata": {
            "tags": []
          },
          "execution_count": 46
        }
      ]
    },
    {
      "cell_type": "code",
      "metadata": {
        "colab_type": "code",
        "id": "Bb-PrIeqJFa5",
        "colab": {
          "base_uri": "https://localhost:8080/",
          "height": 35
        },
        "outputId": "23fc57b3-7913-47b7-80e2-2bf04a578090"
      },
      "source": [
        "spacy_lemmatize_text(s)"
      ],
      "execution_count": 47,
      "outputs": [
        {
          "output_type": "execute_result",
          "data": {
            "application/vnd.google.colaboratory.intrinsic+json": {
              "type": "string"
            },
            "text/plain": [
              "'the brown fox be quick and they be jump over the sleep lazy dog !'"
            ]
          },
          "metadata": {
            "tags": []
          },
          "execution_count": 47
        }
      ]
    },
    {
      "cell_type": "markdown",
      "metadata": {
        "colab_type": "text",
        "id": "aQsKAXlvJFa7"
      },
      "source": [
        "# ストップワードの除去\n",
        "\n",
        "* ストップワードとは、言語データを分析するにあたって、非常に頻繁に使われるため内容の分析にあまり役に立たない単語のことを言う。\n",
        "\n",
        "* これこそが英語のストップワードだ！と言えるような決定的なストップワードのリストがあるわけではない。\n",
        "\n",
        " * 主要なNLPライブラリでは、あらかじめ用意されたストップワードのリストを使うことができる。\n",
        "\n",
        " * しかし、分析したいテキストデータに合わせて、ストップワードのリストをカスタマイズすることも、よくある。"
      ]
    },
    {
      "cell_type": "code",
      "metadata": {
        "id": "9TaYuRW2AxvE",
        "colab_type": "code",
        "colab": {
          "base_uri": "https://localhost:8080/",
          "height": 70
        },
        "outputId": "ba65a2bf-300d-4242-a9f6-d425b1a434eb"
      },
      "source": [
        "from spacy.lang.en.stop_words import STOP_WORDS\n",
        "\n",
        "print(STOP_WORDS)\n",
        "print(len(STOP_WORDS))"
      ],
      "execution_count": 48,
      "outputs": [
        {
          "output_type": "stream",
          "text": [
            "{'nowhere', 'now', 'among', 'something', 'call', 'herein', 'sometime', 'please', 'perhaps', 'twelve', 'upon', 'whither', 'whole', 'became', 'go', 'own', 'or', 'us', 'another', 'might', 'also', 'moreover', 'i', 'next', 'seems', 'since', 'whom', 'ca', 'latter', 'from', 'it', 'toward', 'doing', 'been', 'due', 'be', 'give', 'the', 'during', 'all', 'afterwards', 'becomes', 'five', 'herself', 'either', 'fifty', 'sixty', 'ourselves', 'thru', 'someone', 'still', 'out', 'until', '‘ll', \"n't\", 'front', 'ours', 'sometimes', 'both', 'twenty', 'much', 'may', 'who', 'were', 'anyway', 'to', 'yours', 'indeed', '‘d', 'least', 'noone', 'nobody', 'no', 'last', 'about', 'done', 'name', 'over', 'towards', 'how', \"'re\", 'with', 'therefore', '’ll', 'almost', 'whose', 'eleven', 'hundred', 'keep', 'at', 'otherwise', 're', '‘ve', 'less', 'former', 'other', 'put', 'does', \"'d\", 'and', 'her', 'ever', \"'ve\", 'off', 'whoever', 'formerly', 'further', 'always', 'into', 'mine', 'whereupon', 'besides', 'as', 'cannot', 'anyone', 'am', 'mostly', 'beyond', 'not', 'could', 'do', 'except', 'somewhere', 'nothing', 'what', '’d', 'whenever', 'becoming', 'full', 'against', 'top', 'via', 'while', 'on', 'can', 'then', 'thence', 'none', 'up', 'neither', 'unless', 'quite', 'there', 'thereafter', 'forty', 'such', 'yourself', 'move', 'hers', 'hereby', 'these', 'bottom', 'his', 'however', 'down', 'never', 'one', 'part', 'too', 'when', 'which', 'n‘t', 'nevertheless', 'seemed', 'in', 'its', '’s', 'regarding', 'most', 'even', 'around', 'anywhere', 'by', 'must', 'nor', 'onto', 'our', 'once', 'we', 'again', 'well', '’re', 'have', 'everywhere', '’m', 'had', 'else', 'each', 'beforehand', 'few', 'somehow', 'them', 'therein', 'fifteen', 'this', 'three', 'same', 'thereby', 'above', 'your', 'anyhow', 'hereupon', 'seem', 'did', 'hence', 'me', 'nine', 'so', 'various', 'very', 'whereby', \"'m\", 'but', 'beside', 'rather', 'latterly', 'first', 'others', 'hereafter', 'per', 'six', 'although', 'myself', 'several', 'really', 'below', 'become', 'made', 'more', 'third', 'those', 'before', 'already', 'enough', 'ten', 'would', 'yet', 'between', 'show', 'only', 'used', 'though', 'see', 'along', 'say', 'everyone', '’ve', 'themselves', 'why', \"'ll\", 'anything', 'namely', 'whereas', 'that', 'many', 'you', 'after', '‘re', 'itself', 'should', 'for', 'using', 'eight', 'just', 'if', 'without', 'any', '‘m', 'whatever', 'a', 'elsewhere', 'two', 'meanwhile', 'seeming', 'of', 'under', \"'s\", 'together', 'thereupon', 'n’t', 'yourselves', 'throughout', '‘s', 'than', 'are', 'my', 'behind', 'side', 'was', 'whether', 'their', 'everything', 'through', 'empty', 'amongst', 'whereafter', 'him', 'thus', 'has', 'because', 'he', 'is', 'often', 'within', 'four', 'back', 'serious', 'wherever', 'himself', 'will', 'across', 'they', 'wherein', 'alone', 'being', 'every', 'here', 'she', 'an', 'get', 'some', 'take', 'whence', 'where', 'make', 'amount'}\n",
            "326\n"
          ],
          "name": "stdout"
        }
      ]
    },
    {
      "cell_type": "code",
      "metadata": {
        "colab_type": "code",
        "id": "VkJLKKxrJFa7",
        "colab": {}
      },
      "source": [
        "import spacy\n",
        "\n",
        "nlp = spacy.load('en')\n",
        "\n",
        "def remove_stopwords(text, stopwords=None):\n",
        "    if not stopwords:\n",
        "        stopwords = spacy.lang.en.stop_words.STOP_WORDS\n",
        "    tokens = [obj.text for obj in nlp(text)]\n",
        "    filtered_tokens = [token for token in tokens if token not in stopwords]\n",
        "    filtered_text = ' '.join(filtered_tokens)    \n",
        "    return filtered_text"
      ],
      "execution_count": 49,
      "outputs": []
    },
    {
      "cell_type": "code",
      "metadata": {
        "colab_type": "code",
        "id": "ycusSsPBJFbA",
        "colab": {
          "base_uri": "https://localhost:8080/",
          "height": 35
        },
        "outputId": "a02506b1-77b4-443f-abc1-676068bdc577"
      },
      "source": [
        "s = 'The brown foxes are quick and they are jumping over the sleeping lazy dogs!'\n",
        "s"
      ],
      "execution_count": 50,
      "outputs": [
        {
          "output_type": "execute_result",
          "data": {
            "application/vnd.google.colaboratory.intrinsic+json": {
              "type": "string"
            },
            "text/plain": [
              "'The brown foxes are quick and they are jumping over the sleeping lazy dogs!'"
            ]
          },
          "metadata": {
            "tags": []
          },
          "execution_count": 50
        }
      ]
    },
    {
      "cell_type": "code",
      "metadata": {
        "colab_type": "code",
        "id": "oWKjTPnzJFbD",
        "colab": {
          "base_uri": "https://localhost:8080/",
          "height": 35
        },
        "outputId": "cb048474-bb65-4695-dad9-5b98495bac17"
      },
      "source": [
        "remove_stopwords(s)"
      ],
      "execution_count": 51,
      "outputs": [
        {
          "output_type": "execute_result",
          "data": {
            "application/vnd.google.colaboratory.intrinsic+json": {
              "type": "string"
            },
            "text/plain": [
              "'The brown foxes quick jumping sleeping lazy dogs !'"
            ]
          },
          "metadata": {
            "tags": []
          },
          "execution_count": 51
        }
      ]
    },
    {
      "cell_type": "markdown",
      "metadata": {
        "id": "Wj8RJ6EoCwgp",
        "colab_type": "text"
      },
      "source": [
        "# 課題1\n",
        "\n",
        "* Wikipediaの適当な英語のエントリをダウンロードする。\n",
        "\n",
        " * 選ぶのが面倒という方はAIのエントリでもどうぞ。\n",
        "   * https://en.wikipedia.org/wiki/Artificial_intelligence\n",
        "\n",
        "* BeautifulSoupで本文のテキストだけを取得する。\n",
        "\n",
        " * HTMLのソースを見て、どこが本文かを確認する。\n",
        " * あるいは、ネット検索をして、Wikipediaのエントリから本文だけを取得する方法を調べる。\n",
        "\n",
        "* 以下の前処理をする。\n",
        "\n",
        " * 大文字は小文字にする。ただし固有名詞を除く。\n",
        "\n",
        " * ストップワードを除去する。\n",
        "\n",
        " * lemmatizationする。\n",
        "\n",
        "* 各単語の出現回数を求め、表示する。\n",
        "\n",
        "* lemmatizationした後の単語を、元の出現順序どおりに、半角スペースで区切ってつなぎ、長い一つの文字列にする。"
      ]
    }
  ]
}