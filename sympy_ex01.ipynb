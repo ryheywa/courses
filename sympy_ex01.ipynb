{
  "nbformat": 4,
  "nbformat_minor": 0,
  "metadata": {
    "colab": {
      "name": "sympy_ex01.ipynb",
      "provenance": [],
      "authorship_tag": "ABX9TyPJfkuTc+DHHZbaMV7ro7Kh",
      "include_colab_link": true
    },
    "kernelspec": {
      "name": "python3",
      "display_name": "Python 3"
    }
  },
  "cells": [
    {
      "cell_type": "markdown",
      "metadata": {
        "id": "view-in-github",
        "colab_type": "text"
      },
      "source": [
        "<a href=\"https://colab.research.google.com/github/tomonari-masada/courses/blob/master/sympy_ex01.ipynb\" target=\"_parent\"><img src=\"https://colab.research.google.com/assets/colab-badge.svg\" alt=\"Open In Colab\"/></a>"
      ]
    },
    {
      "cell_type": "code",
      "metadata": {
        "id": "Bi6QhTGnLNj4",
        "colab_type": "code",
        "colab": {}
      },
      "source": [
        "import sympy"
      ],
      "execution_count": 0,
      "outputs": []
    },
    {
      "cell_type": "code",
      "metadata": {
        "id": "uhOWdkDsLRCg",
        "colab_type": "code",
        "colab": {}
      },
      "source": [
        "a = sympy.Symbol('a')\n",
        "b = sympy.Symbol('b')"
      ],
      "execution_count": 0,
      "outputs": []
    },
    {
      "cell_type": "code",
      "metadata": {
        "id": "fHWD0fnWLdiY",
        "colab_type": "code",
        "colab": {}
      },
      "source": [
        "res = (2*a+b+4)**2 + (1.2*a+b+2)**2 + (-3*a+b-5.5)**2"
      ],
      "execution_count": 0,
      "outputs": []
    },
    {
      "cell_type": "code",
      "metadata": {
        "id": "17uFLS9GLtYV",
        "colab_type": "code",
        "colab": {
          "base_uri": "https://localhost:8080/",
          "height": 34
        },
        "outputId": "706d5f7f-d4b2-4352-f78c-899ec926f170"
      },
      "source": [
        "print(res)"
      ],
      "execution_count": 4,
      "outputs": [
        {
          "output_type": "stream",
          "text": [
            "(-3*a + b - 5.5)**2 + (1.2*a + b + 2)**2 + (2*a + b + 4)**2\n"
          ],
          "name": "stdout"
        }
      ]
    },
    {
      "cell_type": "code",
      "metadata": {
        "id": "Fvlz2NM8Lvzv",
        "colab_type": "code",
        "colab": {
          "base_uri": "https://localhost:8080/",
          "height": 34
        },
        "outputId": "ffb0fe0d-2041-4042-c542-c515c8c2026d"
      },
      "source": [
        "sympy.expand(res)"
      ],
      "execution_count": 5,
      "outputs": [
        {
          "output_type": "execute_result",
          "data": {
            "text/plain": [
              "14.44*a**2 + 0.4*a*b + 53.8*a + 3*b**2 + 1.0*b + 50.25"
            ]
          },
          "metadata": {
            "tags": []
          },
          "execution_count": 5
        }
      ]
    },
    {
      "cell_type": "code",
      "metadata": {
        "id": "qEcKFiaZL1Gw",
        "colab_type": "code",
        "colab": {}
      },
      "source": [
        "diff_res_a = sympy.diff(res, a)\n",
        "diff_res_b = sympy.diff(res, b)"
      ],
      "execution_count": 0,
      "outputs": []
    },
    {
      "cell_type": "code",
      "metadata": {
        "id": "qg7IP_8TL9Ls",
        "colab_type": "code",
        "colab": {
          "base_uri": "https://localhost:8080/",
          "height": 51
        },
        "outputId": "6b1bf522-f41c-4fa4-b660-f83e48ffee6d"
      },
      "source": [
        "print(diff_res_a)\n",
        "print(diff_res_b)"
      ],
      "execution_count": 7,
      "outputs": [
        {
          "output_type": "stream",
          "text": [
            "28.88*a + 0.4*b + 53.8\n",
            "0.4*a + 6*b + 1.0\n"
          ],
          "name": "stdout"
        }
      ]
    },
    {
      "cell_type": "code",
      "metadata": {
        "id": "HlaHta-TNfKb",
        "colab_type": "code",
        "colab": {
          "base_uri": "https://localhost:8080/",
          "height": 34
        },
        "outputId": "ae7897b0-39ca-4df1-93ad-07ab29389999"
      },
      "source": [
        "print(diff_res_a - diff_res_b / 0.4 * 28.88)"
      ],
      "execution_count": 8,
      "outputs": [
        {
          "output_type": "stream",
          "text": [
            "-2.48689957516035e-14*a - 432.8*b - 18.4\n"
          ],
          "name": "stdout"
        }
      ]
    },
    {
      "cell_type": "code",
      "metadata": {
        "id": "POag8jqrNnCg",
        "colab_type": "code",
        "colab": {
          "base_uri": "https://localhost:8080/",
          "height": 34
        },
        "outputId": "fac37f56-ab33-40fa-9666-5dcd72be2511"
      },
      "source": [
        "print(- 18.4 / 432.8)"
      ],
      "execution_count": 9,
      "outputs": [
        {
          "output_type": "stream",
          "text": [
            "-0.04251386321626617\n"
          ],
          "name": "stdout"
        }
      ]
    },
    {
      "cell_type": "code",
      "metadata": {
        "id": "_GqGQqsGMLiH",
        "colab_type": "code",
        "colab": {
          "base_uri": "https://localhost:8080/",
          "height": 34
        },
        "outputId": "9daa7dfb-087b-4327-dda0-bcdf1ce90b2b"
      },
      "source": [
        "sympy.solve([diff_res_a, diff_res_b])"
      ],
      "execution_count": 10,
      "outputs": [
        {
          "output_type": "execute_result",
          "data": {
            "text/plain": [
              "{a: -1.86229205175601, b: -0.0425138632162662}"
            ]
          },
          "metadata": {
            "tags": []
          },
          "execution_count": 10
        }
      ]
    },
    {
      "cell_type": "code",
      "metadata": {
        "id": "efAfQ9XyMWbV",
        "colab_type": "code",
        "colab": {}
      },
      "source": [
        ""
      ],
      "execution_count": 0,
      "outputs": []
    }
  ]
}